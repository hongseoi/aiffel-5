{
 "cells": [
  {
   "cell_type": "code",
   "execution_count": 1,
   "id": "af4ac1c8",
   "metadata": {},
   "outputs": [],
   "source": [
    "import matplotlib.pyplot as plt\n",
    "from sklearn.model_selection import train_test_split\n",
    "\n",
    "from tensorflow.keras import models, layers\n",
    "from tensorflow.keras.datasets import cifar10"
   ]
  },
  {
   "cell_type": "code",
   "execution_count": 2,
   "id": "688a5537",
   "metadata": {},
   "outputs": [
    {
     "name": "stdout",
     "output_type": "stream",
     "text": [
      "35000 35000\n",
      "15000 15000\n"
     ]
    }
   ],
   "source": [
    "# keras.datasets 안에 boston_housing 데이터셋을 로드합니다.\n",
    "from keras.datasets import boston_housing\n",
    "\n",
    "(train_data, train_labels), (x_test, y_test) = cifar10.load_data()\n",
    "x_train, x_val, y_train, y_val = train_test_split(train_data, train_labels, test_size=0.3, random_state=42)\n",
    "\n",
    "print(len(x_train), len(y_train))\n",
    "print(len(x_val), len(y_val))\n"
   ]
  },
  {
   "cell_type": "code",
   "execution_count": 3,
   "id": "ae22e9c8",
   "metadata": {},
   "outputs": [],
   "source": [
    "# cifar10의 분류에 해당하는 'airplane', 'automobile', 'bird', 'cat', 'deer', \n",
    "# 'dog', 'frog', 'horse', 'ship', 'truck'를 class_name으로 정의합니다.\n",
    "class_names = ['airplane', 'automobile', 'bird', 'cat', 'deer',\n",
    "               'dog', 'frog', 'horse', 'ship', 'truck']"
   ]
  },
  {
   "cell_type": "code",
   "execution_count": 4,
   "id": "f554546b",
   "metadata": {},
   "outputs": [
    {
     "data": {
      "image/png": "[encoded data removed]",
      "text/plain": [
       "<Figure size 432x288 with 2 Axes>"
      ]
     },
     "metadata": {},
     "output_type": "display_data"
    }
   ],
   "source": [
    "# 훈련 데이터의 0번째인 x_train[0]를 이미지로 시각화합니다.\n",
    "plt.style.use('seaborn-white')\n",
    "\n",
    "plt.figure()\n",
    "plt.imshow(x_train[0])\n",
    "plt.colorbar()\n",
    "plt.show()"
   ]
  },
  {
   "cell_type": "code",
   "execution_count": 5,
   "id": "3874f3f8",
   "metadata": {},
   "outputs": [
    {
     "name": "stdout",
     "output_type": "stream",
     "text": [
      "(35000, 32, 32, 3)\n",
      "(15000, 32, 32, 3)\n",
      "(10000, 32, 32, 3)\n"
     ]
    }
   ],
   "source": [
    "# 훈련, 검증, 테스트 데이터의 형태(shape)을 출력합니다.\n",
    "print(x_train.shape)\n",
    "print(x_val.shape)\n",
    "print(x_test.shape)"
   ]
  },
  {
   "cell_type": "code",
   "execution_count": 6,
   "id": "4103267d",
   "metadata": {},
   "outputs": [],
   "source": [
    "# 데이터 형태(shape) 변형\n",
    "x_train = x_train.reshape(-1, 32 * 32 * 3)\n",
    "x_val = x_val.reshape(-1, 32 * 32 * 3)\n",
    "x_test = x_test.reshape(-1, 32 * 32 * 3)\n"
   ]
  },
  {
   "cell_type": "code",
   "execution_count": 7,
   "id": "f5f1c839",
   "metadata": {},
   "outputs": [
    {
     "name": "stdout",
     "output_type": "stream",
     "text": [
      "(35000, 3072)\n",
      "(15000, 3072)\n",
      "(10000, 3072)\n"
     ]
    }
   ],
   "source": [
    "print(x_train.shape)\n",
    "print(x_val.shape)\n",
    "print(x_test.shape)"
   ]
  },
  {
   "cell_type": "code",
   "execution_count": 8,
   "id": "8c2269ff",
   "metadata": {},
   "outputs": [],
   "source": [
    "x_train = x_train / 255.\n",
    "x_val = x_val / 255.\n",
    "x_test = x_test / 255."
   ]
  },
  {
   "cell_type": "code",
   "execution_count": 10,
   "id": "416abcf1",
   "metadata": {},
   "outputs": [
    {
     "name": "stdout",
     "output_type": "stream",
     "text": [
      "Model: \"sequential\"\n",
      "_________________________________________________________________\n",
      "Layer (type)                 Output Shape              Param #   \n",
      "=================================================================\n",
      "dense_91 (Dense)             (None, 2048)              6293504   \n",
      "_________________________________________________________________\n",
      "batch_normalization_66 (Batc (None, 2048)              8192      \n",
      "_________________________________________________________________\n",
      "activation_66 (Activation)   (None, 2048)              0         \n",
      "_________________________________________________________________\n",
      "dropout (Dropout)            (None, 2048)              0         \n",
      "_________________________________________________________________\n",
      "dense_92 (Dense)             (None, 1024)              2098176   \n",
      "_________________________________________________________________\n",
      "batch_normalization_67 (Batc (None, 1024)              4096      \n",
      "_________________________________________________________________\n",
      "activation_67 (Activation)   (None, 1024)              0         \n",
      "_________________________________________________________________\n",
      "dropout_1 (Dropout)          (None, 1024)              0         \n",
      "_________________________________________________________________\n",
      "dense_93 (Dense)             (None, 512)               524800    \n",
      "_________________________________________________________________\n",
      "batch_normalization_68 (Batc (None, 512)               2048      \n",
      "_________________________________________________________________\n",
      "activation_68 (Activation)   (None, 512)               0         \n",
      "_________________________________________________________________\n",
      "dropout_2 (Dropout)          (None, 512)               0         \n",
      "_________________________________________________________________\n",
      "dense_94 (Dense)             (None, 1)                 513       \n",
      "=================================================================\n",
      "Total params: 8,931,329\n",
      "Trainable params: 8,924,161\n",
      "Non-trainable params: 7,168\n",
      "_________________________________________________________________\n"
     ]
    }
   ],
   "source": [
    "model = models.Sequential()\n",
    "model.add(layers.Input(shape=(3072), name='input_15'))\n",
    "model.add(layers.Dense(2048, activation='relu', name='dense_91'))\n",
    "model.add(layers.BatchNormalization(name='batch_normalization_66'))\n",
    "model.add(layers.Activation('relu', name='activation_66'))\n",
    "model.add(layers.Dropout(0.5))\n",
    "model.add(layers.Dense(1024, name='dense_92'))\n",
    "model.add(layers.BatchNormalization(name='batch_normalization_67'))\n",
    "model.add(layers.Activation('relu', name='activation_67'))\n",
    "model.add(layers.Dropout(0.5))\n",
    "model.add(layers.Dense(512, activation='relu', name='dense_93'))\n",
    "model.add(layers.BatchNormalization(name='batch_normalization_68'))\n",
    "model.add(layers.Activation('softmax', name='activation_68'))\n",
    "model.add(layers.Dropout(0.5))\n",
    "model.add(layers.Dense(1, activation='softmax', name='dense_94'))\n",
    "\n",
    "model.summary()\n"
   ]
  },
  {
   "cell_type": "code",
   "execution_count": 12,
   "id": "f0919055",
   "metadata": {},
   "outputs": [],
   "source": [
    "model.compile(optimizer='adam', loss='binary_crossentropy', metrics=['accuracy'])\n"
   ]
  },
  {
   "cell_type": "code",
   "execution_count": 13,
   "id": "2fc5bd21",
   "metadata": {},
   "outputs": [
    {
     "name": "stdout",
     "output_type": "stream",
     "text": [
      "Epoch 1/10\n",
      "274/274 [==============================] - 5s 10ms/step - loss: -0.4334 - accuracy: 0.1007 - val_loss: -1.2615 - val_accuracy: 0.0985\n",
      "\n",
      "Epoch 00001: val_loss improved from inf to -1.26150, saving model to best_model.h5\n",
      "Epoch 2/10\n",
      "274/274 [==============================] - 2s 7ms/step - loss: -2.3635 - accuracy: 0.1007 - val_loss: -3.2660 - val_accuracy: 0.0985\n",
      "\n",
      "Epoch 00002: val_loss improved from -1.26150 to -3.26599, saving model to best_model.h5\n",
      "Epoch 3/10\n",
      "274/274 [==============================] - 2s 7ms/step - loss: -4.4696 - accuracy: 0.1007 - val_loss: -5.3656 - val_accuracy: 0.0985\n",
      "\n",
      "Epoch 00003: val_loss improved from -3.26599 to -5.36563, saving model to best_model.h5\n",
      "Epoch 4/10\n",
      "274/274 [==============================] - 2s 8ms/step - loss: -6.8225 - accuracy: 0.1007 - val_loss: -7.5804 - val_accuracy: 0.0985\n",
      "\n",
      "Epoch 00004: val_loss improved from -5.36563 to -7.58038, saving model to best_model.h5\n",
      "Epoch 5/10\n",
      "274/274 [==============================] - 3s 10ms/step - loss: -9.1911 - accuracy: 0.1007 - val_loss: -10.1082 - val_accuracy: 0.0985\n",
      "\n",
      "Epoch 00005: val_loss improved from -7.58038 to -10.10821, saving model to best_model.h5\n",
      "Epoch 6/10\n",
      "274/274 [==============================] - 3s 10ms/step - loss: -11.5282 - accuracy: 0.1007 - val_loss: -12.7269 - val_accuracy: 0.0985\n",
      "\n",
      "Epoch 00006: val_loss improved from -10.10821 to -12.72691, saving model to best_model.h5\n",
      "Epoch 7/10\n",
      "274/274 [==============================] - 3s 10ms/step - loss: -13.9023 - accuracy: 0.1007 - val_loss: -15.1240 - val_accuracy: 0.0985\n",
      "\n",
      "Epoch 00007: val_loss improved from -12.72691 to -15.12398, saving model to best_model.h5\n",
      "Epoch 8/10\n",
      "274/274 [==============================] - 3s 10ms/step - loss: -16.2471 - accuracy: 0.1007 - val_loss: -17.7320 - val_accuracy: 0.0985\n",
      "\n",
      "Epoch 00008: val_loss improved from -15.12398 to -17.73196, saving model to best_model.h5\n",
      "Epoch 9/10\n",
      "274/274 [==============================] - 3s 10ms/step - loss: -18.9246 - accuracy: 0.1007 - val_loss: -20.5081 - val_accuracy: 0.0985\n",
      "\n",
      "Epoch 00009: val_loss improved from -17.73196 to -20.50810, saving model to best_model.h5\n",
      "Epoch 10/10\n",
      "274/274 [==============================] - 2s 9ms/step - loss: -21.3469 - accuracy: 0.1007 - val_loss: -23.1232 - val_accuracy: 0.0985\n",
      "\n",
      "Epoch 00010: val_loss improved from -20.50810 to -23.12324, saving model to best_model.h5\n"
     ]
    }
   ],
   "source": [
    "from keras.callbacks import ModelCheckpoint, EarlyStopping\n",
    "\n",
    "# ModelCheckpoint 콜백 정의\n",
    "checkpoint = ModelCheckpoint('best_model.h5', monitor='val_loss', save_best_only=True, verbose=1)\n",
    "\n",
    "# EarlyStopping 콜백 정의\n",
    "early_stopping = EarlyStopping(monitor='val_loss', patience=3, verbose=1)\n",
    "\n",
    "# 모델 학습\n",
    "history = model.fit(x_train, y_train, epochs=10, batch_size=128, validation_data=(x_val, y_val), callbacks=[checkpoint, early_stopping])\n"
   ]
  },
  {
   "cell_type": "code",
   "execution_count": 18,
   "id": "284ee7a9",
   "metadata": {},
   "outputs": [
    {
     "data": {
      "text/plain": [
       "dict_keys(['loss', 'accuracy', 'val_loss', 'val_accuracy'])"
      ]
     },
     "execution_count": 18,
     "metadata": {},
     "output_type": "execute_result"
    }
   ],
   "source": [
    "history_dict = history.history\n",
    "history_dict.keys()"
   ]
  },
  {
   "cell_type": "code",
   "execution_count": 20,
   "id": "8fe3f5fa",
   "metadata": {},
   "outputs": [
    {
     "data": {
      "image/png": "[encoded data removed]",
      "text/plain": [
       "<Figure size 864x360 with 2 Axes>"
      ]
     },
     "metadata": {},
     "output_type": "display_data"
    }
   ],
   "source": [
    "# 모델 학습 히스토리에서 loss, val_loss, mae, val_mae를 차트로 보여줍니다.\n",
    "plt.style.use('seaborn-white')\n",
    "\n",
    "history_dict = history.history\n",
    "\n",
    "loss = history_dict['loss']\n",
    "val_loss = history_dict['val_loss']\n",
    "\n",
    "epochs = range(1, len(loss) + 1)\n",
    "fig = plt.figure(figsize=(12, 5))\n",
    "\n",
    "ax1 = fig.add_subplot(1, 2, 1)\n",
    "ax1.plot(epochs, loss, 'b-', label='train_loss')\n",
    "ax1.plot(epochs, val_loss, 'r-', label='val_loss')\n",
    "ax1.set_title('Train and Validation Loss')\n",
    "ax1.set_xlabel('Epochs')\n",
    "ax1.set_ylabel('Loss')\n",
    "ax1.grid()\n",
    "ax1.legend()\n",
    "\n",
    "accuracy = history_dict['accuracy']\n",
    "val_accuracy = history_dict['val_accuracy']\n",
    "\n",
    "ax2 = fig.add_subplot(1, 2, 2)\n",
    "ax2.plot(epochs, accuracy, 'b-', label='train_acc')\n",
    "ax2.plot(epochs, val_accuracy, 'r-', label='val_acc')\n",
    "ax2.set_title('Train and Validation acc')\n",
    "ax2.set_xlabel('Epochs')\n",
    "ax2.set_ylabel('Accuracy')\n",
    "ax2.grid()\n",
    "ax2.legend()\n",
    "\n",
    "plt.show()"
   ]
  },
  {
   "cell_type": "code",
   "execution_count": 21,
   "id": "59724ebc",
   "metadata": {},
   "outputs": [
    {
     "name": "stdout",
     "output_type": "stream",
     "text": [
      "313/313 [==============================] - 1s 2ms/step - loss: -22.9470 - accuracy: 0.1000\n"
     ]
    },
    {
     "data": {
      "text/plain": [
       "[-22.946990966796875, 0.10000000149011612]"
      ]
     },
     "execution_count": 21,
     "metadata": {},
     "output_type": "execute_result"
    }
   ],
   "source": [
    "model.evaluate(x_test, y_test)"
   ]
  },
  {
   "cell_type": "code",
   "execution_count": null,
   "id": "bc014e82",
   "metadata": {},
   "outputs": [],
   "source": []
  }
 ],
 "metadata": {
  "kernelspec": {
   "display_name": "Python 3 (ipykernel)",
   "language": "python",
   "name": "python3"
  },
  "language_info": {
   "codemirror_mode": {
    "name": "ipython",
    "version": 3
   },
   "file_extension": ".py",
   "mimetype": "text/x-python",
   "name": "python",
   "nbconvert_exporter": "python",
   "pygments_lexer": "ipython3",
   "version": "3.9.7"
  }
 },
 "nbformat": 4,
 "nbformat_minor": 5
}
