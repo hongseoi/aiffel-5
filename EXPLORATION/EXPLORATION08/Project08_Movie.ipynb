{
 "cells": [
  {
   "cell_type": "markdown",
   "id": "bbc16487",
   "metadata": {},
   "source": [
    "# Movie review sentiment analysis\n",
    "\n",
    "## 네이버 영화 리뷰 댓글 데이터인 NSMC를 이용한 감성분석\n",
    "\n",
    "- [NSMC](https://github.com/e9t/nsmc)\n",
    "\n",
    "\n",
    "### Import libraries"
   ]
  },
  {
   "cell_type": "code",
   "execution_count": 1,
   "id": "be0cceec",
   "metadata": {},
   "outputs": [
    {
     "name": "stdout",
     "output_type": "stream",
     "text": [
      "1.3.3\n",
      "0.5.2\n",
      "4.1.2\n"
     ]
    }
   ],
   "source": [
    "import pandas\n",
    "import konlpy\n",
    "import gensim\n",
    "import tensorflow as tf\n",
    "\n",
    "print(pandas.__version__)\n",
    "print(konlpy.__version__)\n",
    "print(gensim.__version__)"
   ]
  },
  {
   "cell_type": "markdown",
   "id": "e6c1efc1",
   "metadata": {},
   "source": [
    "### 1. 데이터 준비와 확인"
   ]
  },
  {
   "cell_type": "code",
   "execution_count": 2,
   "id": "bf637f3a",
   "metadata": {},
   "outputs": [
    {
     "name": "stdout",
     "output_type": "stream",
     "text": [
      "id          0\n",
      "document    5\n",
      "label       0\n",
      "dtype: int64\n"
     ]
    },
    {
     "data": {
      "text/html": [
       "<div>\n",
       "<style scoped>\n",
       "    .dataframe tbody tr th:only-of-type {\n",
       "        vertical-align: middle;\n",
       "    }\n",
       "\n",
       "    .dataframe tbody tr th {\n",
       "        vertical-align: top;\n",
       "    }\n",
       "\n",
       "    .dataframe thead th {\n",
       "        text-align: right;\n",
       "    }\n",
       "</style>\n",
       "<table border=\"1\" class=\"dataframe\">\n",
       "  <thead>\n",
       "    <tr style=\"text-align: right;\">\n",
       "      <th></th>\n",
       "      <th>id</th>\n",
       "      <th>document</th>\n",
       "      <th>label</th>\n",
       "    </tr>\n",
       "  </thead>\n",
       "  <tbody>\n",
       "    <tr>\n",
       "      <th>0</th>\n",
       "      <td>9976970</td>\n",
       "      <td>아 더빙.. 진짜 짜증나네요 목소리</td>\n",
       "      <td>0</td>\n",
       "    </tr>\n",
       "    <tr>\n",
       "      <th>1</th>\n",
       "      <td>3819312</td>\n",
       "      <td>흠...포스터보고 초딩영화줄....오버연기조차 가볍지 않구나</td>\n",
       "      <td>1</td>\n",
       "    </tr>\n",
       "    <tr>\n",
       "      <th>2</th>\n",
       "      <td>10265843</td>\n",
       "      <td>너무재밓었다그래서보는것을추천한다</td>\n",
       "      <td>0</td>\n",
       "    </tr>\n",
       "    <tr>\n",
       "      <th>3</th>\n",
       "      <td>9045019</td>\n",
       "      <td>교도소 이야기구먼 ..솔직히 재미는 없다..평점 조정</td>\n",
       "      <td>0</td>\n",
       "    </tr>\n",
       "    <tr>\n",
       "      <th>4</th>\n",
       "      <td>6483659</td>\n",
       "      <td>사이몬페그의 익살스런 연기가 돋보였던 영화!스파이더맨에서 늙어보이기만 했던 커스틴 ...</td>\n",
       "      <td>1</td>\n",
       "    </tr>\n",
       "  </tbody>\n",
       "</table>\n",
       "</div>"
      ],
      "text/plain": [
       "         id                                           document  label\n",
       "0   9976970                                아 더빙.. 진짜 짜증나네요 목소리      0\n",
       "1   3819312                  흠...포스터보고 초딩영화줄....오버연기조차 가볍지 않구나      1\n",
       "2  10265843                                  너무재밓었다그래서보는것을추천한다      0\n",
       "3   9045019                      교도소 이야기구먼 ..솔직히 재미는 없다..평점 조정      0\n",
       "4   6483659  사이몬페그의 익살스런 연기가 돋보였던 영화!스파이더맨에서 늙어보이기만 했던 커스틴 ...      1"
      ]
     },
     "execution_count": 2,
     "metadata": {},
     "output_type": "execute_result"
    }
   ],
   "source": [
    "import pandas as pd\n",
    "\n",
    "# 데이터를 읽어봅시다. \n",
    "train_data = pd.read_table('~/aiffel/sentiment_classification/data/ratings_train.txt')\n",
    "test_data = pd.read_table('~/aiffel/sentiment_classification/data/ratings_test.txt')\n",
    "\n",
    "print(train_data.isnull().sum()) #결측치 확인\n",
    "\n",
    "train_data.head()"
   ]
  },
  {
   "cell_type": "markdown",
   "id": "9a50f06d",
   "metadata": {},
   "source": [
    "### 2. 데이터로더 구성\n"
   ]
  },
  {
   "cell_type": "code",
   "execution_count": 3,
   "id": "0b868a44",
   "metadata": {},
   "outputs": [],
   "source": [
    "from konlpy.tag import Mecab\n",
    "import numpy as np\n",
    "from collections import Counter\n",
    "\n",
    "tokenizer = Mecab()\n",
    "stopwords = ['의','가','이','은','들','는','좀','잘','걍','과','도','를','으로','자','에','와','한','하다']\n",
    "\n",
    "def load_data(train_data, test_data, num_words=10000):\n",
    "    \n",
    "    # 데이터 중복 제거(중복된 데이터가 과적합 유발, 불필요한 계산 증가)\n",
    "    train_data.drop_duplicates(subset=['document'], inplace=True)\n",
    "    test_data.drop_duplicates(subset=['document'], inplace=True)\n",
    "\n",
    "    # 결측치 제거\n",
    "    train_data.dropna(how='any', inplace=True)\n",
    "    test_data.dropna(how='any', inplace=True)\n",
    "\n",
    "    # 한국어 토크나이저로 토큰화 및 불용어(stopwords)처리\n",
    "    X_train, X_test = [], []\n",
    "\n",
    "    for sentence in train_data['document']:\n",
    "        temp_X = tokenizer.morphs(sentence) # 토큰화\n",
    "        temp_X = [word for word in temp_X if not word in stopwords] #불용어처리\n",
    "        X_train.append(temp_X)\n",
    "\n",
    "    for sentence in test_data['document']:\n",
    "        temp_X = tokenizer.morphs(sentence) # 토큰화\n",
    "        temp_X = [word for word in temp_X if not word in stopwords] # 불용어처리\n",
    "        X_test.append(temp_X)\n",
    "\n",
    "\n",
    "    # 사전 word_to_index 구성\n",
    "\n",
    "    ## 단어 빈도 계산\n",
    "    words = np.concatenate(X_train).tolist() # X_train의 배열들을 합치고 리스트로 변환\n",
    "    counter = Counter(words) # words 의 단어들의 빈도 계산\n",
    "    counter = counter.most_common(10000-4) # 가장 빈도높은 9996개의 (단어, 빈도)를 저장\n",
    "    vocab = ['', '', '', ''] + [key for key, _ in counter] #counter의 값 중 value는 무시하고 key만 vocab에 저장\n",
    "    word_to_index = {word:index for index, word in enumerate(vocab)} #어휘 목록(vocab)을 기반으로 단어를 인덱스로 매핑하는 딕셔너리인 word_to_index을 생성\n",
    "\n",
    "    ## 사전 구성\n",
    "    def wordlist_to_indexlist(wordlist):\n",
    "        # wordlist의 단어들을 word_to_index 딕셔너리를 활용해 정수 인덱스로 변환\n",
    "        return [word_to_index[word] if word in word_to_index else word_to_index[''] for word in wordlist]\n",
    "\n",
    "    X_train = list(map(wordlist_to_indexlist, X_train))\n",
    "    X_test = list(map(wordlist_to_indexlist, X_test))\n",
    "\n",
    "\n",
    "    return X_train, np.array(list(train_data['label'])), X_test, np.array(test_data['label']), word_to_index\n",
    "    "
   ]
  },
  {
   "cell_type": "code",
   "execution_count": 4,
   "id": "2ecbfed7",
   "metadata": {},
   "outputs": [],
   "source": [
    "X_train, y_train, X_test, y_test, word_to_index = load_data(train_data, test_data)"
   ]
  },
  {
   "cell_type": "code",
   "execution_count": 5,
   "id": "1608648b",
   "metadata": {
    "scrolled": false
   },
   "outputs": [],
   "source": [
    "index_to_word = {index:word for word, index in word_to_index.items()}\n"
   ]
  },
  {
   "cell_type": "code",
   "execution_count": 6,
   "id": "13ada8d7",
   "metadata": {},
   "outputs": [],
   "source": [
    "# 문장 1개를 단어 인덱스 리스트 벡터로 변환해주는 함수\n",
    "def get_encoded_sentence(sentence, word_to_index):\n",
    "    return [word_to_index['<BOS>']]+[word_to_index[word] if word in word_to_index else word_to_index['<UNK>'] for word in sentence.split()]\n",
    "\n",
    "# 문장 여러개를 단어 인덱스 리스트 벡터로 변환해주는 함수\n",
    "def get_encoded_sentences(sentences, word_to_index):\n",
    "    return [get_encoded_sentence(sentence, word_to_index) for sentence in sentences]\n",
    "\n",
    "# 숫자벡터로 encoding된 문장 하나를 원래대로 decode하는 함수\n",
    "def get_decoded_sentence(encoded_sentence, index_to_word):\n",
    "    return ' '.join(index_to_word[index] if index in index_to_word else '<UNK>' for index in encoded_sentence[1:])  #[1:]를 통해 <BOS>를 제외\n",
    "\n",
    "# 여러개의 숫자 벡터로 encoding된 문장을 한꺼번여 decode하는 함수\n",
    "def get_decoded_sentences(encoded_sentences, index_to_word):\n",
    "    return [get_decoded_sentence(encoded_sentence, index_to_word) for encoded_sentence in encoded_sentences]\n"
   ]
  },
  {
   "cell_type": "markdown",
   "id": "cb4dc5a3",
   "metadata": {},
   "source": [
    "### 3. 모델 구성을 위한 데이터 분석 및 가공"
   ]
  },
  {
   "cell_type": "code",
   "execution_count": 7,
   "id": "c1bb61a7",
   "metadata": {
    "scrolled": true
   },
   "outputs": [
    {
     "name": "stdout",
     "output_type": "stream",
     "text": [
      "문장길이 평균 :  15.96940191154864\n",
      "문장길이 최대 :  116\n",
      "문장길이 표준편차 :  12.843571191092\n"
     ]
    },
    {
     "data": {
      "image/png": "[encoded data removed]",
      "text/plain": [
       "<Figure size 432x288 with 1 Axes>"
      ]
     },
     "metadata": {
      "needs_background": "light"
     },
     "output_type": "display_data"
    }
   ],
   "source": [
    "import matplotlib.pyplot as plt\n",
    "\n",
    "# 전체 데이터 통합\n",
    "total_data_text = list(X_train) + list(X_test)\n",
    "sentence_lengths = [len(sentence) for sentence in total_data_text]\n",
    "\n",
    "# 문장길이의 평균값, 최대값, 표준편차를 계산\n",
    "print('문장길이 평균 : ', np.mean(sentence_lengths))\n",
    "print('문장길이 최대 : ', np.max(sentence_lengths))\n",
    "print('문장길이 표준편차 : ', np.std(sentence_lengths))\n",
    "\n",
    "# 그래프\n",
    "plt.hist(sentence_lengths, bins=30)\n",
    "plt.xlabel('length of sentence')\n",
    "plt.ylabel('frequence')\n",
    "plt.title('distribution of sentence length')\n",
    "plt.show()"
   ]
  },
  {
   "cell_type": "markdown",
   "id": "bb3f0b02",
   "metadata": {},
   "source": [
    "- 데이터셋 내 문장길이 분포는 10~20 사이가 가장 빈도가 높다.\n",
    "- 데이터셋 내 문장길이의 평균은 약 16이다.\n",
    "- 따라서 최대 문장 길이는 (평균 + 2*표준편차)인 16 + 24 = 40으로 설정할 것이다.\n"
   ]
  },
  {
   "cell_type": "code",
   "execution_count": 8,
   "id": "b558dff9",
   "metadata": {},
   "outputs": [
    {
     "name": "stdout",
     "output_type": "stream",
     "text": [
      "(146182, 40)\n"
     ]
    }
   ],
   "source": [
    "maxlen = 40\n",
    "\n",
    "X_train = tf.keras.preprocessing.sequence.pad_sequences(X_train,\n",
    "                                                        value=word_to_index[\"\"],\n",
    "                                                        padding='pre',\n",
    "                                                        maxlen=maxlen)\n",
    "\n",
    "X_test = tf.keras.preprocessing.sequence.pad_sequences(X_test,\n",
    "                                                       value=word_to_index[\"\"],\n",
    "                                                       padding='pre',\n",
    "                                                       maxlen=maxlen)\n",
    "\n",
    "print(X_train.shape)\n"
   ]
  },
  {
   "cell_type": "markdown",
   "id": "ce7cfab9",
   "metadata": {},
   "source": [
    "### 4. 모델 구성 및 validation set 구성\n",
    "\n",
    "#### validation set 구성"
   ]
  },
  {
   "cell_type": "code",
   "execution_count": 9,
   "id": "d6ad10b3",
   "metadata": {},
   "outputs": [
    {
     "name": "stdout",
     "output_type": "stream",
     "text": [
      "(136182, 40)\n",
      "(136182,)\n"
     ]
    }
   ],
   "source": [
    "# validation set 10000건 분리\n",
    "x_val = X_train[:10000]   \n",
    "y_val = y_train[:10000]\n",
    "\n",
    "# validation set을 제외한 나머지 15000건\n",
    "partial_x_train = X_train[10000:]  \n",
    "partial_y_train = y_train[10000:]\n",
    "\n",
    "print(partial_x_train.shape)\n",
    "print(partial_y_train.shape)"
   ]
  },
  {
   "cell_type": "code",
   "execution_count": 10,
   "id": "ab570db4",
   "metadata": {
    "scrolled": true
   },
   "outputs": [
    {
     "name": "stdout",
     "output_type": "stream",
     "text": [
      "Model: \"sequential\"\n",
      "_________________________________________________________________\n",
      "Layer (type)                 Output Shape              Param #   \n",
      "=================================================================\n",
      "embedding (Embedding)        (None, None, 16)          160000    \n",
      "_________________________________________________________________\n",
      "lstm (LSTM)                  (None, 8)                 800       \n",
      "_________________________________________________________________\n",
      "dense (Dense)                (None, 8)                 72        \n",
      "_________________________________________________________________\n",
      "dense_1 (Dense)              (None, 1)                 9         \n",
      "=================================================================\n",
      "Total params: 160,881\n",
      "Trainable params: 160,881\n",
      "Non-trainable params: 0\n",
      "_________________________________________________________________\n"
     ]
    }
   ],
   "source": [
    "# RNN\n",
    "\n",
    "vocab_size = 10000    # 어휘 사전의 크기입니다(10,000개의 단어)\n",
    "word_vector_dim = 16  # 워드 벡터의 차원 수 (변경 가능한 하이퍼파라미터)\n",
    "\n",
    "# model 설계 - 딥러닝 모델 코드를 직접 작성해 주세요.\n",
    "rnn_model = tf.keras.Sequential()\n",
    "# [[YOUR CODE]]\n",
    "rnn_model.add(tf.keras.layers.Embedding(vocab_size, word_vector_dim, input_shape=(None, )))\n",
    "rnn_model.add(tf.keras.layers.LSTM(8))\n",
    "rnn_model.add(tf.keras.layers.Dense(8, activation='relu'))\n",
    "rnn_model.add(tf.keras.layers.Dense(1, activation='sigmoid'))\n",
    "\n",
    "rnn_model.summary()"
   ]
  },
  {
   "cell_type": "code",
   "execution_count": null,
   "id": "732b7e95",
   "metadata": {},
   "outputs": [],
   "source": []
  },
  {
   "cell_type": "markdown",
   "id": "ab36fb60",
   "metadata": {},
   "source": [
    "### 5. 모델 훈련 개시"
   ]
  },
  {
   "cell_type": "code",
   "execution_count": 14,
   "id": "77f398b7",
   "metadata": {},
   "outputs": [
    {
     "name": "stdout",
     "output_type": "stream",
     "text": [
      "Epoch 1/20\n",
      "266/266 [==============================] - 5s 7ms/step - loss: 0.4896 - accuracy: 0.7877 - val_loss: 0.3587 - val_accuracy: 0.8466\n",
      "Epoch 2/20\n",
      "266/266 [==============================] - 1s 5ms/step - loss: 0.3424 - accuracy: 0.8561 - val_loss: 0.3442 - val_accuracy: 0.8511\n",
      "Epoch 3/20\n",
      "266/266 [==============================] - 1s 6ms/step - loss: 0.3223 - accuracy: 0.8665 - val_loss: 0.3432 - val_accuracy: 0.8488\n",
      "Epoch 4/20\n",
      "266/266 [==============================] - 1s 5ms/step - loss: 0.3132 - accuracy: 0.8700 - val_loss: 0.3434 - val_accuracy: 0.8506\n",
      "Epoch 5/20\n",
      "266/266 [==============================] - 1s 5ms/step - loss: 0.3059 - accuracy: 0.8737 - val_loss: 0.3480 - val_accuracy: 0.8471\n",
      "Epoch 6/20\n",
      "266/266 [==============================] - 1s 5ms/step - loss: 0.2987 - accuracy: 0.8757 - val_loss: 0.3452 - val_accuracy: 0.8514\n",
      "Epoch 7/20\n",
      "266/266 [==============================] - 1s 5ms/step - loss: 0.2912 - accuracy: 0.8791 - val_loss: 0.3424 - val_accuracy: 0.8528\n",
      "Epoch 8/20\n",
      "266/266 [==============================] - 1s 5ms/step - loss: 0.2832 - accuracy: 0.8820 - val_loss: 0.3433 - val_accuracy: 0.8551\n",
      "Epoch 9/20\n",
      "266/266 [==============================] - 1s 5ms/step - loss: 0.2743 - accuracy: 0.8856 - val_loss: 0.3460 - val_accuracy: 0.8535\n",
      "Epoch 10/20\n",
      "266/266 [==============================] - 1s 6ms/step - loss: 0.2639 - accuracy: 0.8901 - val_loss: 0.3536 - val_accuracy: 0.8538\n",
      "Epoch 11/20\n",
      "266/266 [==============================] - 1s 5ms/step - loss: 0.2534 - accuracy: 0.8945 - val_loss: 0.3609 - val_accuracy: 0.8532\n",
      "Epoch 12/20\n",
      "266/266 [==============================] - 1s 5ms/step - loss: 0.2439 - accuracy: 0.8989 - val_loss: 0.3680 - val_accuracy: 0.8536\n",
      "Epoch 13/20\n",
      "266/266 [==============================] - 1s 5ms/step - loss: 0.2323 - accuracy: 0.9037 - val_loss: 0.3815 - val_accuracy: 0.8535\n",
      "Epoch 14/20\n",
      "266/266 [==============================] - 1s 5ms/step - loss: 0.2237 - accuracy: 0.9073 - val_loss: 0.3828 - val_accuracy: 0.8520\n",
      "Epoch 15/20\n",
      "266/266 [==============================] - 1s 5ms/step - loss: 0.2165 - accuracy: 0.9113 - val_loss: 0.4005 - val_accuracy: 0.8528\n",
      "Epoch 16/20\n",
      "266/266 [==============================] - 1s 5ms/step - loss: 0.2076 - accuracy: 0.9149 - val_loss: 0.4134 - val_accuracy: 0.8504\n",
      "Epoch 17/20\n",
      "266/266 [==============================] - 1s 6ms/step - loss: 0.2018 - accuracy: 0.9173 - val_loss: 0.4272 - val_accuracy: 0.8490\n",
      "Epoch 18/20\n",
      "266/266 [==============================] - 1s 5ms/step - loss: 0.1937 - accuracy: 0.9217 - val_loss: 0.4466 - val_accuracy: 0.8479\n",
      "Epoch 19/20\n",
      "266/266 [==============================] - 1s 5ms/step - loss: 0.1876 - accuracy: 0.9248 - val_loss: 0.4568 - val_accuracy: 0.8474\n",
      "Epoch 20/20\n",
      "266/266 [==============================] - 1s 5ms/step - loss: 0.1813 - accuracy: 0.9277 - val_loss: 0.4684 - val_accuracy: 0.8448\n"
     ]
    }
   ],
   "source": [
    "# rnn\n",
    "rnn_model.compile(optimizer='adam',\n",
    "              loss='binary_crossentropy',\n",
    "              metrics=['accuracy'])\n",
    "              \n",
    "epochs=20  # 몇 epoch를 훈련하면 좋을지 결과를 보면서 바꾸어 봅시다. \n",
    "\n",
    "history = rnn_model.fit(partial_x_train,\n",
    "                    partial_y_train,\n",
    "                    epochs=epochs,\n",
    "                    batch_size=512,\n",
    "                    validation_data=(x_val, y_val),\n",
    "                    verbose=1)"
   ]
  },
  {
   "cell_type": "code",
   "execution_count": 16,
   "id": "eb4fa185",
   "metadata": {},
   "outputs": [
    {
     "name": "stdout",
     "output_type": "stream",
     "text": [
      "1537/1537 - 3s - loss: 0.4806 - accuracy: 0.8409\n",
      "[0.4806264042854309, 0.8409178853034973]\n"
     ]
    }
   ],
   "source": [
    "results = rnn_model.evaluate(X_test,  y_test, verbose=2)\n",
    "\n",
    "print(results)"
   ]
  },
  {
   "cell_type": "markdown",
   "id": "4e13d4f7",
   "metadata": {},
   "source": [
    "### 6. loss, accuracy 그래프 시각화"
   ]
  },
  {
   "cell_type": "code",
   "execution_count": 17,
   "id": "6f0204a0",
   "metadata": {},
   "outputs": [
    {
     "name": "stdout",
     "output_type": "stream",
     "text": [
      "dict_keys(['loss', 'accuracy', 'val_loss', 'val_accuracy'])\n"
     ]
    }
   ],
   "source": [
    "history_dict = history.history\n",
    "print(history_dict.keys()) # epoch에 따른 그래프를 그려볼 수 있는 항목들"
   ]
  },
  {
   "cell_type": "code",
   "execution_count": 18,
   "id": "9459f61d",
   "metadata": {},
   "outputs": [
    {
     "data": {
      "image/png": "[encoded data removed]",
      "text/plain": [
       "<Figure size 432x288 with 1 Axes>"
      ]
     },
     "metadata": {
      "needs_background": "light"
     },
     "output_type": "display_data"
    }
   ],
   "source": [
    "import matplotlib.pyplot as plt\n",
    "\n",
    "acc = history_dict['accuracy']\n",
    "val_acc = history_dict['val_accuracy']\n",
    "loss = history_dict['loss']\n",
    "val_loss = history_dict['val_loss']\n",
    "\n",
    "epochs = range(1, len(acc) + 1)\n",
    "\n",
    "# \"bo\"는 \"파란색 점\"입니다\n",
    "plt.plot(epochs, loss, 'bo', label='Training loss')\n",
    "# b는 \"파란 실선\"입니다\n",
    "plt.plot(epochs, val_loss, 'b', label='Validation loss')\n",
    "plt.title('Training and validation loss')\n",
    "plt.xlabel('Epochs')\n",
    "plt.ylabel('Loss')\n",
    "plt.legend()\n",
    "\n",
    "plt.show()"
   ]
  },
  {
   "cell_type": "code",
   "execution_count": 19,
   "id": "18f4a41e",
   "metadata": {},
   "outputs": [
    {
     "data": {
      "image/png": "[encoded data removed]",
      "text/plain": [
       "<Figure size 432x288 with 1 Axes>"
      ]
     },
     "metadata": {
      "needs_background": "light"
     },
     "output_type": "display_data"
    }
   ],
   "source": [
    "plt.clf()   # 그림을 초기화합니다\n",
    "\n",
    "plt.plot(epochs, acc, 'bo', label='Training acc')\n",
    "plt.plot(epochs, val_acc, 'b', label='Validation acc')\n",
    "plt.title('Training and validation accuracy')\n",
    "plt.xlabel('Epochs')\n",
    "plt.ylabel('Accuracy')\n",
    "plt.legend()\n",
    "\n",
    "plt.show()"
   ]
  },
  {
   "cell_type": "markdown",
   "id": "4c90bde8",
   "metadata": {},
   "source": [
    "epoch이 2일때가 좋다??"
   ]
  },
  {
   "cell_type": "markdown",
   "id": "38dfb7f8",
   "metadata": {},
   "source": [
    "### 7. 학습된 embedding layer 분석"
   ]
  },
  {
   "cell_type": "code",
   "execution_count": 21,
   "id": "fc38fc27",
   "metadata": {},
   "outputs": [
    {
     "name": "stdout",
     "output_type": "stream",
     "text": [
      "단어 '사랑'와 '행복'의 유사도: 0.9270002245903015\n"
     ]
    }
   ],
   "source": [
    "import numpy as np\n",
    "from sklearn.metrics.pairwise import cosine_similarity\n",
    "\n",
    "# 학습된 임베딩 레이어에서 단어 벡터 추출\n",
    "word_vectors = rnn_model.get_layer('embedding').get_weights()[0]\n",
    "\n",
    "# 단어 간 코사인 유사도 계산\n",
    "def get_word_similarity(word1, word2):\n",
    "    idx1 = word_to_index[word1]\n",
    "    idx2 = word_to_index[word2]\n",
    "    vec1 = word_vectors[idx1]\n",
    "    vec2 = word_vectors[idx2]\n",
    "    vec1 = vec1.reshape(1, -1)\n",
    "    vec2 = vec2.reshape(1, -1)\n",
    "    similarity = cosine_similarity(vec1, vec2)[0][0]\n",
    "    return similarity\n",
    "\n",
    "# 두 단어의 유사도 계산 예시\n",
    "word1 = '사랑'\n",
    "word2 = '행복'\n",
    "similarity = get_word_similarity(word1, word2)\n",
    "print(f\"단어 '{word1}'와 '{word2}'의 유사도: {similarity}\")\n"
   ]
  },
  {
   "cell_type": "code",
   "execution_count": 23,
   "id": "61f25756",
   "metadata": {},
   "outputs": [
    {
     "name": "stdout",
     "output_type": "stream",
     "text": [
      "(10000, 16)\n"
     ]
    }
   ],
   "source": [
    "embedding_layer = rnn_model.layers[0]\n",
    "weights = embedding_layer.get_weights()[0]\n",
    "print(weights.shape)    # shape: (vocab_size, embedding_dim)"
   ]
  },
  {
   "cell_type": "code",
   "execution_count": 26,
   "id": "d9c74385",
   "metadata": {},
   "outputs": [],
   "source": [
    "import os\n",
    "# 학습한 Embedding 파라미터를 파일에 써서 저장합니다. \n",
    "word2vec_file_path = os.getenv('HOME')+'/aiffel/sentiment_classification/data/word2vec.txt'\n",
    "f = open(word2vec_file_path, 'w')\n",
    "f.write('{} {}\\n'.format(vocab_size-4, word_vector_dim))  # 몇개의 벡터를 얼마 사이즈로 기재할지 타이틀을 씁니다.\n",
    "\n",
    "# 단어 개수(에서 특수문자 4개는 제외하고)만큼의 워드 벡터를 파일에 기록합니다. \n",
    "vectors = rnn_model.get_weights()[0]\n",
    "for i in range(4,vocab_size):\n",
    "    f.write('{} {}\\n'.format(index_to_word[i], ' '.join(map(str, list(vectors[i, :])))))\n",
    "f.close()"
   ]
  },
  {
   "cell_type": "code",
   "execution_count": 28,
   "id": "3e362c6b",
   "metadata": {},
   "outputs": [
    {
     "data": {
      "text/plain": [
       "array([-0.11100206,  0.08263732, -0.05293398, -0.02562785,  0.08096495,\n",
       "        0.02026113,  0.10851345,  0.1054933 , -0.12687898,  0.07849126,\n",
       "       -0.08916201,  0.21566883,  0.04391343,  0.03127477, -0.02409972,\n",
       "       -0.1754617 ], dtype=float32)"
      ]
     },
     "execution_count": 28,
     "metadata": {},
     "output_type": "execute_result"
    }
   ],
   "source": [
    "from gensim.models.keyedvectors import Word2VecKeyedVectors\n",
    "\n",
    "word_vectors = Word2VecKeyedVectors.load_word2vec_format(word2vec_file_path, binary=False)\n",
    "vector = word_vectors['재미']\n",
    "vector"
   ]
  },
  {
   "cell_type": "code",
   "execution_count": 29,
   "id": "9146e867",
   "metadata": {},
   "outputs": [
    {
     "data": {
      "text/plain": [
       "[('풀어낸', 0.9677829146385193),\n",
       " ('브라이언', 0.9542179107666016),\n",
       " ('프랭크', 0.9521015882492065),\n",
       " ('눈깔', 0.9516242146492004),\n",
       " ('젊은이', 0.9488844871520996),\n",
       " ('이동욱', 0.9463967680931091),\n",
       " ('퍼센트', 0.9459674954414368),\n",
       " ('일어날', 0.944931149482727),\n",
       " ('best', 0.9441491365432739),\n",
       " ('와우', 0.9433453679084778)]"
      ]
     },
     "execution_count": 29,
     "metadata": {},
     "output_type": "execute_result"
    }
   ],
   "source": [
    "word_vectors.similar_by_word(\"감동\")"
   ]
  },
  {
   "cell_type": "markdown",
   "id": "249a2cd4",
   "metadata": {},
   "source": [
    "### 8. 한국어 Word2Vec embedding을 활용해 성능 개선"
   ]
  },
  {
   "cell_type": "code",
   "execution_count": 40,
   "id": "1fbd695f",
   "metadata": {},
   "outputs": [],
   "source": [
    "from gensim.models.keyedvectors import Word2VecKeyedVectors\n",
    "\n",
    "word2vec_file_path = os.getenv('HOME') + '/data/word2vec_ko.model'\n",
    "word_vectors = Word2VecKeyedVectors.load(word2vec_file_path)\n",
    "vector = word_vectors.wv['감동']\n"
   ]
  },
  {
   "cell_type": "code",
   "execution_count": 50,
   "id": "9e80df4f",
   "metadata": {},
   "outputs": [
    {
     "data": {
      "text/plain": [
       "array([ 2.0615332 , -1.8058181 , -3.8560703 ,  0.19584662,  3.0254989 ,\n",
       "       -2.5406559 ,  1.4497426 , -0.8907619 , -0.5350154 , -0.28915498,\n",
       "       -0.04039751, -1.5070994 , -1.5159569 , -1.4451234 ,  1.2730805 ,\n",
       "        1.219924  ,  1.1764907 , -1.1386696 ,  1.4214209 ,  0.03967131,\n",
       "       -2.1550455 ,  2.365588  ,  2.5686727 , -2.298423  , -0.11259492,\n",
       "        0.26295963, -1.3272469 , -0.933552  ,  4.1928024 , -4.142401  ,\n",
       "       -3.6939445 ,  0.7796591 , -0.9809508 ,  0.3209224 ,  0.69489354,\n",
       "        0.35386428, -2.5914404 ,  0.9266287 , -1.8625584 ,  0.7818586 ,\n",
       "       -0.9435029 , -0.50120497,  1.4713919 ,  4.4542685 , -1.2020006 ,\n",
       "        0.41612652,  2.3063416 , -0.41137695,  4.462475  , -1.5086855 ,\n",
       "        2.0054195 ,  0.8322103 ,  3.0386746 , -1.1280597 , -0.819387  ,\n",
       "       -3.6409898 ,  1.4442042 , -0.6339732 ,  0.25369656, -0.39272726,\n",
       "        1.6376917 , -2.6886675 ,  0.41585886, -2.772139  ,  0.59364617,\n",
       "        0.98523784,  2.0588415 ,  0.22607008, -1.26653   , -1.0126909 ,\n",
       "        1.2909939 , -0.27713838,  0.37311432,  3.2259405 , -2.9793024 ,\n",
       "        2.4269462 , -0.93244123, -2.4193695 , -0.1922748 , -0.37244758,\n",
       "        0.9153436 ,  0.9330037 ,  4.2057676 , -0.03453053,  0.89558065,\n",
       "       -1.984923  ,  1.8707234 ,  1.7541846 ,  0.01348311, -4.1738377 ,\n",
       "       -1.8321006 , -4.029648  ,  2.4146917 ,  1.5663863 , -0.42723644,\n",
       "       -0.1553121 ,  0.77239794, -0.33735982,  0.64257836, -2.146783  ],\n",
       "      dtype=float32)"
      ]
     },
     "execution_count": 50,
     "metadata": {},
     "output_type": "execute_result"
    }
   ],
   "source": [
    "vector"
   ]
  },
  {
   "cell_type": "code",
   "execution_count": null,
   "id": "e9b75dfc",
   "metadata": {},
   "outputs": [],
   "source": []
  }
 ],
 "metadata": {
  "kernelspec": {
   "display_name": "Python 3 (ipykernel)",
   "language": "python",
   "name": "python3"
  },
  "language_info": {
   "codemirror_mode": {
    "name": "ipython",
    "version": 3
   },
   "file_extension": ".py",
   "mimetype": "text/x-python",
   "name": "python",
   "nbconvert_exporter": "python",
   "pygments_lexer": "ipython3",
   "version": "3.9.7"
  }
 },
 "nbformat": 4,
 "nbformat_minor": 5
}
