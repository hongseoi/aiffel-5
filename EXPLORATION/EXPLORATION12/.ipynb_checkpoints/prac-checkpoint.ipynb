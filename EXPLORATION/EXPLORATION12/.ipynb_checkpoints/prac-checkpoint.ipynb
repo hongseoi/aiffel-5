{
 "cells": [
  {
   "cell_type": "markdown",
   "id": "f23d25d3",
   "metadata": {},
   "source": [
    "# 뉴스기사 요약하기\n",
    "\n",
    "## 1. 데이터 수집\n",
    "## 2. 추상적 요약\n",
    "### 2.1. 데이터 전처리\n",
    "### 2.2. 어텐션 메커니즘 사용한 모델 설계\n",
    "### 2.3. 실제 결과와 요약문 비교하기\n",
    "## 3. Summa를 이용한 추출적 요약"
   ]
  },
  {
   "cell_type": "code",
   "execution_count": 30,
   "id": "47b7e6e7",
   "metadata": {},
   "outputs": [
    {
     "name": "stdout",
     "output_type": "stream",
     "text": [
      "라이브러리 준비 완료!\n"
     ]
    },
    {
     "name": "stderr",
     "output_type": "stream",
     "text": [
      "[nltk_data] Downloading package stopwords to /aiffel/nltk_data...\n",
      "[nltk_data]   Package stopwords is already up-to-date!\n"
     ]
    }
   ],
   "source": [
    "import nltk\n",
    "nltk.download('stopwords')\n",
    "\n",
    "import numpy as np\n",
    "import pandas as pd\n",
    "import os\n",
    "import re\n",
    "import matplotlib.pyplot as plt\n",
    "from nltk.corpus import stopwords\n",
    "from bs4 import BeautifulSoup \n",
    "from tensorflow.keras.preprocessing.text import Tokenizer \n",
    "from tensorflow.keras.preprocessing.sequence import pad_sequences\n",
    "import urllib.request\n",
    "import warnings\n",
    "warnings.filterwarnings(\"ignore\", category=UserWarning, module='bs4')\n",
    "\n",
    "print('라이브러리 준비 완료!')"
   ]
  },
  {
   "cell_type": "markdown",
   "id": "be853631",
   "metadata": {},
   "source": [
    "## 1. 데이터 수집"
   ]
  },
  {
   "cell_type": "code",
   "execution_count": 31,
   "id": "1c24e7a4",
   "metadata": {},
   "outputs": [
    {
     "name": "stdout",
     "output_type": "stream",
     "text": [
      "전체 샘플수 : 98401\n"
     ]
    },
    {
     "data": {
      "text/html": [
       "<div>\n",
       "<style scoped>\n",
       "    .dataframe tbody tr th:only-of-type {\n",
       "        vertical-align: middle;\n",
       "    }\n",
       "\n",
       "    .dataframe tbody tr th {\n",
       "        vertical-align: top;\n",
       "    }\n",
       "\n",
       "    .dataframe thead th {\n",
       "        text-align: right;\n",
       "    }\n",
       "</style>\n",
       "<table border=\"1\" class=\"dataframe\">\n",
       "  <thead>\n",
       "    <tr style=\"text-align: right;\">\n",
       "      <th></th>\n",
       "      <th>headlines</th>\n",
       "      <th>text</th>\n",
       "    </tr>\n",
       "  </thead>\n",
       "  <tbody>\n",
       "    <tr>\n",
       "      <th>35621</th>\n",
       "      <td>Man behind FB data leak also had users' messag...</td>\n",
       "      <td>Aleksandr Kogan, who gave Facebook users' data...</td>\n",
       "    </tr>\n",
       "    <tr>\n",
       "      <th>26644</th>\n",
       "      <td>Over 200 people questioned over Delhi mass sui...</td>\n",
       "      <td>More than 200 people have been questioned in c...</td>\n",
       "    </tr>\n",
       "    <tr>\n",
       "      <th>92566</th>\n",
       "      <td>North Korea warns US of 'super-mighty pre-empt...</td>\n",
       "      <td>North Korean state media has warned the US to ...</td>\n",
       "    </tr>\n",
       "    <tr>\n",
       "      <th>68868</th>\n",
       "      <td>PM Modi releases postage stamp on Lord Ram in ...</td>\n",
       "      <td>Prime Minister Narendra Modi has released a po...</td>\n",
       "    </tr>\n",
       "    <tr>\n",
       "      <th>84393</th>\n",
       "      <td>SpiceJet to buy 40 planes from Boeing in $4.7 ...</td>\n",
       "      <td>Low-cost carrier SpiceJet on Monday signed an ...</td>\n",
       "    </tr>\n",
       "    <tr>\n",
       "      <th>8279</th>\n",
       "      <td>Telecom body asks censor board to stop release...</td>\n",
       "      <td>The Cellular Operators Association of India ha...</td>\n",
       "    </tr>\n",
       "    <tr>\n",
       "      <th>53402</th>\n",
       "      <td>Two men arrested for taking pictures of women ...</td>\n",
       "      <td>The Bengaluru Police arrested two men for alle...</td>\n",
       "    </tr>\n",
       "    <tr>\n",
       "      <th>63971</th>\n",
       "      <td>2 US women and their dogs rescued after 5 mont...</td>\n",
       "      <td>The US Navy on Wednesday rescued two women and...</td>\n",
       "    </tr>\n",
       "    <tr>\n",
       "      <th>51286</th>\n",
       "      <td>AAP asks President to hear its view in office ...</td>\n",
       "      <td>AAP leader and Delhi's Deputy CM Manish Sisodi...</td>\n",
       "    </tr>\n",
       "    <tr>\n",
       "      <th>76710</th>\n",
       "      <td>'The Karate Kid' actors to return for web seri...</td>\n",
       "      <td>Actors Ralph Macchio and William Zabka are set...</td>\n",
       "    </tr>\n",
       "  </tbody>\n",
       "</table>\n",
       "</div>"
      ],
      "text/plain": [
       "                                               headlines  \\\n",
       "35621  Man behind FB data leak also had users' messag...   \n",
       "26644  Over 200 people questioned over Delhi mass sui...   \n",
       "92566  North Korea warns US of 'super-mighty pre-empt...   \n",
       "68868  PM Modi releases postage stamp on Lord Ram in ...   \n",
       "84393  SpiceJet to buy 40 planes from Boeing in $4.7 ...   \n",
       "8279   Telecom body asks censor board to stop release...   \n",
       "53402  Two men arrested for taking pictures of women ...   \n",
       "63971  2 US women and their dogs rescued after 5 mont...   \n",
       "51286  AAP asks President to hear its view in office ...   \n",
       "76710  'The Karate Kid' actors to return for web seri...   \n",
       "\n",
       "                                                    text  \n",
       "35621  Aleksandr Kogan, who gave Facebook users' data...  \n",
       "26644  More than 200 people have been questioned in c...  \n",
       "92566  North Korean state media has warned the US to ...  \n",
       "68868  Prime Minister Narendra Modi has released a po...  \n",
       "84393  Low-cost carrier SpiceJet on Monday signed an ...  \n",
       "8279   The Cellular Operators Association of India ha...  \n",
       "53402  The Bengaluru Police arrested two men for alle...  \n",
       "63971  The US Navy on Wednesday rescued two women and...  \n",
       "51286  AAP leader and Delhi's Deputy CM Manish Sisodi...  \n",
       "76710  Actors Ralph Macchio and William Zabka are set...  "
      ]
     },
     "execution_count": 31,
     "metadata": {},
     "output_type": "execute_result"
    }
   ],
   "source": [
    "import urllib.request\n",
    "urllib.request.urlretrieve(\"https://raw.githubusercontent.com/sunnysai12345/News_Summary/master/news_summary_more.csv\", filename=\"news_summary_more.csv\")\n",
    "data = pd.read_csv('news_summary_more.csv', encoding='iso-8859-1')\n",
    "\n",
    "print('전체 샘플수 :', (len(data)))\n",
    "data.sample(10)\n"
   ]
  },
  {
   "cell_type": "markdown",
   "id": "c090a59a",
   "metadata": {},
   "source": [
    "## 2. 추상적 요약\n",
    "### 2.1. 데이터 전처리\n",
    "\n",
    "- 결측치, 중복 값 제거\n",
    "- 텍스트 정규화\n",
    "- 불용어 제거 \n",
    "- 샘플의 최대 길이 정하기\n",
    "- 시작토큰, 종료 토큰 추가\n",
    "- 훈련 데이터와 테스트 데이터 분리\n",
    "- 훈련 데이터로 단어집합(vocabulary) 만들기\n",
    "- 정수 인코딩\n",
    "- 패딩\n",
    "\n",
    "\n",
    "#### 결측치, 중복값 제거"
   ]
  },
  {
   "cell_type": "code",
   "execution_count": 32,
   "id": "a4252a9a",
   "metadata": {},
   "outputs": [
    {
     "name": "stdout",
     "output_type": "stream",
     "text": [
      "headlines 열에서 중복을 배제한 유일한 샘플의 수 : 98280\n",
      "text 열에서 중복을 배제한 유일한 샘플의 수 : 98360\n"
     ]
    }
   ],
   "source": [
    "# 컬럼별 중복치 확인\n",
    "print('headlines 열에서 중복을 배제한 유일한 샘플의 수 :', data['headlines'].nunique())\n",
    "print('text 열에서 중복을 배제한 유일한 샘플의 수 :', data['text'].nunique())"
   ]
  },
  {
   "cell_type": "code",
   "execution_count": 33,
   "id": "e142763d",
   "metadata": {},
   "outputs": [
    {
     "name": "stdout",
     "output_type": "stream",
     "text": [
      "전체 샘플수 : 98360\n"
     ]
    }
   ],
   "source": [
    "# 중복값 제거\n",
    "data.drop_duplicates(subset='text', inplace=True)\n",
    "print('전체 샘플수 :', (len(data)))"
   ]
  },
  {
   "cell_type": "code",
   "execution_count": 34,
   "id": "b8436b98",
   "metadata": {},
   "outputs": [
    {
     "data": {
      "text/plain": [
       "headlines    0\n",
       "text         0\n",
       "dtype: int64"
      ]
     },
     "execution_count": 34,
     "metadata": {},
     "output_type": "execute_result"
    }
   ],
   "source": [
    "# 결측치 확인\n",
    "data.isnull().sum()\n"
   ]
  },
  {
   "cell_type": "markdown",
   "id": "d6e09f73",
   "metadata": {},
   "source": [
    "#### 텍스트 정규화 및 불용어 처리"
   ]
  },
  {
   "cell_type": "code",
   "execution_count": 35,
   "id": "8218dbdb",
   "metadata": {},
   "outputs": [
    {
     "name": "stdout",
     "output_type": "stream",
     "text": [
      "정규화 사전의 수:  120\n"
     ]
    }
   ],
   "source": [
    "# 정규화 사전 구성\n",
    "contractions = {\"ain't\": \"is not\", \"aren't\": \"are not\",\"can't\": \"cannot\", \"'cause\": \"because\", \"could've\": \"could have\", \"couldn't\": \"could not\",\n",
    "                           \"didn't\": \"did not\",  \"doesn't\": \"does not\", \"don't\": \"do not\", \"hadn't\": \"had not\", \"hasn't\": \"has not\", \"haven't\": \"have not\",\n",
    "                           \"he'd\": \"he would\",\"he'll\": \"he will\", \"he's\": \"he is\", \"how'd\": \"how did\", \"how'd'y\": \"how do you\", \"how'll\": \"how will\", \"how's\": \"how is\",\n",
    "                           \"I'd\": \"I would\", \"I'd've\": \"I would have\", \"I'll\": \"I will\", \"I'll've\": \"I will have\",\"I'm\": \"I am\", \"I've\": \"I have\", \"i'd\": \"i would\",\n",
    "                           \"i'd've\": \"i would have\", \"i'll\": \"i will\",  \"i'll've\": \"i will have\",\"i'm\": \"i am\", \"i've\": \"i have\", \"isn't\": \"is not\", \"it'd\": \"it would\",\n",
    "                           \"it'd've\": \"it would have\", \"it'll\": \"it will\", \"it'll've\": \"it will have\",\"it's\": \"it is\", \"let's\": \"let us\", \"ma'am\": \"madam\",\n",
    "                           \"mayn't\": \"may not\", \"might've\": \"might have\",\"mightn't\": \"might not\",\"mightn't've\": \"might not have\", \"must've\": \"must have\",\n",
    "                           \"mustn't\": \"must not\", \"mustn't've\": \"must not have\", \"needn't\": \"need not\", \"needn't've\": \"need not have\",\"o'clock\": \"of the clock\",\n",
    "                           \"oughtn't\": \"ought not\", \"oughtn't've\": \"ought not have\", \"shan't\": \"shall not\", \"sha'n't\": \"shall not\", \"shan't've\": \"shall not have\",\n",
    "                           \"she'd\": \"she would\", \"she'd've\": \"she would have\", \"she'll\": \"she will\", \"she'll've\": \"she will have\", \"she's\": \"she is\",\n",
    "                           \"should've\": \"should have\", \"shouldn't\": \"should not\", \"shouldn't've\": \"should not have\", \"so've\": \"so have\",\"so's\": \"so as\",\n",
    "                           \"this's\": \"this is\",\"that'd\": \"that would\", \"that'd've\": \"that would have\", \"that's\": \"that is\", \"there'd\": \"there would\",\n",
    "                           \"there'd've\": \"there would have\", \"there's\": \"there is\", \"here's\": \"here is\",\"they'd\": \"they would\", \"they'd've\": \"they would have\",\n",
    "                           \"they'll\": \"they will\", \"they'll've\": \"they will have\", \"they're\": \"they are\", \"they've\": \"they have\", \"to've\": \"to have\",\n",
    "                           \"wasn't\": \"was not\", \"we'd\": \"we would\", \"we'd've\": \"we would have\", \"we'll\": \"we will\", \"we'll've\": \"we will have\", \"we're\": \"we are\",\n",
    "                           \"we've\": \"we have\", \"weren't\": \"were not\", \"what'll\": \"what will\", \"what'll've\": \"what will have\", \"what're\": \"what are\",\n",
    "                           \"what's\": \"what is\", \"what've\": \"what have\", \"when's\": \"when is\", \"when've\": \"when have\", \"where'd\": \"where did\", \"where's\": \"where is\",\n",
    "                           \"where've\": \"where have\", \"who'll\": \"who will\", \"who'll've\": \"who will have\", \"who's\": \"who is\", \"who've\": \"who have\",\n",
    "                           \"why's\": \"why is\", \"why've\": \"why have\", \"will've\": \"will have\", \"won't\": \"will not\", \"won't've\": \"will not have\",\n",
    "                           \"would've\": \"would have\", \"wouldn't\": \"would not\", \"wouldn't've\": \"would not have\", \"y'all\": \"you all\",\n",
    "                           \"y'all'd\": \"you all would\",\"y'all'd've\": \"you all would have\",\"y'all're\": \"you all are\",\"y'all've\": \"you all have\",\n",
    "                           \"you'd\": \"you would\", \"you'd've\": \"you would have\", \"you'll\": \"you will\", \"you'll've\": \"you will have\",\n",
    "                           \"you're\": \"you are\", \"you've\": \"you have\"}\n",
    "\n",
    "print(\"정규화 사전의 수: \", len(contractions))"
   ]
  },
  {
   "cell_type": "code",
   "execution_count": 36,
   "id": "cdab7d49",
   "metadata": {},
   "outputs": [
    {
     "name": "stdout",
     "output_type": "stream",
     "text": [
      "불용어 개수 : 179\n",
      "['i', 'me', 'my', 'myself', 'we', 'our', 'ours', 'ourselves', 'you', \"you're\", \"you've\", \"you'll\", \"you'd\", 'your', 'yours', 'yourself', 'yourselves', 'he', 'him', 'his', 'himself', 'she', \"she's\", 'her', 'hers', 'herself', 'it', \"it's\", 'its', 'itself', 'they', 'them', 'their', 'theirs', 'themselves', 'what', 'which', 'who', 'whom', 'this', 'that', \"that'll\", 'these', 'those', 'am', 'is', 'are', 'was', 'were', 'be', 'been', 'being', 'have', 'has', 'had', 'having', 'do', 'does', 'did', 'doing', 'a', 'an', 'the', 'and', 'but', 'if', 'or', 'because', 'as', 'until', 'while', 'of', 'at', 'by', 'for', 'with', 'about', 'against', 'between', 'into', 'through', 'during', 'before', 'after', 'above', 'below', 'to', 'from', 'up', 'down', 'in', 'out', 'on', 'off', 'over', 'under', 'again', 'further', 'then', 'once', 'here', 'there', 'when', 'where', 'why', 'how', 'all', 'any', 'both', 'each', 'few', 'more', 'most', 'other', 'some', 'such', 'no', 'nor', 'not', 'only', 'own', 'same', 'so', 'than', 'too', 'very', 's', 't', 'can', 'will', 'just', 'don', \"don't\", 'should', \"should've\", 'now', 'd', 'll', 'm', 'o', 're', 've', 'y', 'ain', 'aren', \"aren't\", 'couldn', \"couldn't\", 'didn', \"didn't\", 'doesn', \"doesn't\", 'hadn', \"hadn't\", 'hasn', \"hasn't\", 'haven', \"haven't\", 'isn', \"isn't\", 'ma', 'mightn', \"mightn't\", 'mustn', \"mustn't\", 'needn', \"needn't\", 'shan', \"shan't\", 'shouldn', \"shouldn't\", 'wasn', \"wasn't\", 'weren', \"weren't\", 'won', \"won't\", 'wouldn', \"wouldn't\"]\n"
     ]
    }
   ],
   "source": [
    "print('불용어 개수 :', len(stopwords.words('english') ))\n",
    "print(stopwords.words('english'))"
   ]
  },
  {
   "cell_type": "code",
   "execution_count": 40,
   "id": "57a06af6",
   "metadata": {},
   "outputs": [
    {
     "name": "stdout",
     "output_type": "stream",
     "text": [
      "=3\n"
     ]
    }
   ],
   "source": [
    "# 데이터 전처리, 불용어 제거\n",
    "\n",
    "# 데이터 전처리 함수\n",
    "def preprocess_sentence(sentence, remove_stopwords=True):\n",
    "    sentence = sentence.lower() # 텍스트 소문자화\n",
    "    sentence = BeautifulSoup(sentence, \"lxml\").text # <br />, <a href = ...> 등의 html 태그 제거\n",
    "    sentence = re.sub(r'\\([^)]*\\)', '', sentence) # 괄호로 닫힌 문자열 (...) 제거 Ex) my husband (and myself!) for => my husband for\n",
    "    sentence = re.sub('\"','', sentence) # 쌍따옴표 \" 제거\n",
    "    sentence = ' '.join([contractions[t] if t in contractions else t for t in sentence.split(\" \")]) # 약어 정규화\n",
    "    sentence = re.sub(r\"'s\\b\",\"\", sentence) # 소유격 제거. Ex) roland's -> roland\n",
    "    sentence = re.sub(\"[^a-zA-Z]\", \" \", sentence) # 영어 외 문자(숫자, 특수문자 등) 공백으로 변환\n",
    "    sentence = re.sub('[m]{2,}', 'mm', sentence) # m이 3개 이상이면 2개로 변경. Ex) ummmmmmm yeah -> umm yeah\n",
    "    \n",
    "    # 불용어 제거 (Text)\n",
    "    if remove_stopwords:\n",
    "        tokens = ' '.join(word for word in sentence.split() if not word in stopwords.words('english') if len(word) > 1)\n",
    "    # 불용어 미제거 (Summary)\n",
    "    else:\n",
    "        tokens = ' '.join(word for word in sentence.split() if len(word) > 1)\n",
    "    return tokens\n",
    "print('=3')\n",
    "\n",
    "# clean 데이터 임시 저장\n",
    "clean_data_path = os.getenv(\"HOME\")+\"/aiffel/news_summarization/data/ex12_clean1.csv\"\n",
    "data.to_csv(clean_data_path, mode='w')"
   ]
  },
  {
   "cell_type": "code",
   "execution_count": 38,
   "id": "fe474233",
   "metadata": {},
   "outputs": [],
   "source": [
    "# data['text'] 전처리\n",
    "clean_text = []\n",
    "\n",
    "# [your code]\n",
    "for c in data['text']:\n",
    "    clean_text.append(preprocess_sentence(c, remove_stopwords=True))\n",
    "    \n",
    "\n",
    "\n"
   ]
  },
  {
   "cell_type": "code",
   "execution_count": 10,
   "id": "cb087573",
   "metadata": {},
   "outputs": [],
   "source": [
    "# data['headlines'] 전처리\n",
    "clean_summary = []\n",
    "\n",
    "for c in data['headlines']:\n",
    "    clean_summary.append(preprocess_sentence(c, remove_stopwords=False))\n",
    "\n"
   ]
  },
  {
   "cell_type": "code",
   "execution_count": 39,
   "id": "8e0e041b",
   "metadata": {},
   "outputs": [],
   "source": [
    "# 데이터프레임에 반영\n",
    "# [your code]\n",
    "data['text'] = clean_text\n",
    "data['headlines'] = clean_summary\n",
    "\n",
    "# 빈 값을 Null 값으로 변환\n",
    "# [your code]\n",
    "data.replace('', np.nan, inplace=True)\n",
    "\n",
    "# clean 데이터 임시 저장\n",
    "clean_data_path = os.getenv(\"HOME\")+\"/aiffel/news_summarization/data/ex12_clean2.csv\"\n",
    "data.to_csv(clean_data_path, mode='w')\n"
   ]
  },
  {
   "cell_type": "code",
   "execution_count": 41,
   "id": "1b686176",
   "metadata": {},
   "outputs": [
    {
     "name": "stdout",
     "output_type": "stream",
     "text": [
      "Text 전처리 후 결과:  ['saurav kant alumnus upgrad iiit pg program machine learning artificial intelligence sr systems engineer infosys almost years work experience program upgrad degree career support helped transition data scientist tech mahindra salary hike upgrad online power learning powered lakh careers', 'kunal shah credit card bill payment platform cred gave users chance win free food swiggy one year pranav kaushik delhi techie bagged reward spending cred coins users get one cred coin per rupee bill paid used avail rewards brands like ixigo bookmyshow ubereats cult fit', 'new zealand defeated india wickets fourth odi hamilton thursday win first match five match odi series india lost international match rohit sharma captaincy consecutive victories dating back march match witnessed india getting seventh lowest total odi cricket history', 'aegon life iterm insurance plan customers enjoy tax benefits premiums paid save taxes plan provides life cover age years also customers options insure critical illnesses disability accidental death benefit rider life cover age years', 'speaking sexual harassment allegations rajkumar hirani sonam kapoor said known hirani many years true metoo movement get derailed metoo movement always believe woman case need reserve judgment added hirani accused assistant worked sanju']\n",
      "Summary 전처리 후 결과:  ['upgrad learner switches to career in ml al with salary hike', 'delhi techie wins free food from swiggy for one year on cred', 'new zealand end rohit sharma led india match winning streak', 'aegon life iterm insurance plan helps customers save tax', 'have known hirani for yrs what if metoo claims are not true sonam']\n",
      "결측치 확인: headlines    0\n",
      "text         0\n",
      "dtype: int64\n"
     ]
    }
   ],
   "source": [
    "# 전처리 결과 출력\n",
    "print(\"Text 전처리 후 결과: \", clean_text[:5])\n",
    "print(\"Summary 전처리 후 결과: \", clean_summary[:5])\n",
    "print(\"결측치 확인:\", data.isnull().sum())"
   ]
  },
  {
   "cell_type": "code",
   "execution_count": 42,
   "id": "de57ffc6",
   "metadata": {},
   "outputs": [
    {
     "name": "stdout",
     "output_type": "stream",
     "text": [
      "전체 샘플수 : 98360\n"
     ]
    }
   ],
   "source": [
    "data.dropna(axis=0, inplace=True)\n",
    "print('전체 샘플수 :', (len(data)))"
   ]
  },
  {
   "cell_type": "markdown",
   "id": "761232e5",
   "metadata": {},
   "source": [
    "#### 샘플의 최대 길이 정하기\n"
   ]
  },
  {
   "cell_type": "code",
   "execution_count": 43,
   "id": "84564e3b",
   "metadata": {},
   "outputs": [
    {
     "name": "stdout",
     "output_type": "stream",
     "text": [
      "텍스트의 최소 길이 : 1\n",
      "텍스트의 최대 길이 : 60\n",
      "텍스트의 평균 길이 : 35.09968483123221\n",
      "요약의 최소 길이 : 1\n",
      "요약의 최대 길이 : 16\n",
      "요약의 평균 길이 : 9.299532330215534\n"
     ]
    },
    {
     "data": {
      "image/png": "[encoded data removed]",
      "text/plain": [
       "<Figure size 432x288 with 2 Axes>"
      ]
     },
     "metadata": {
      "needs_background": "light"
     },
     "output_type": "display_data"
    },
    {
     "data": {
      "image/png": "[encoded data removed]",
      "text/plain": [
       "<Figure size 432x288 with 1 Axes>"
      ]
     },
     "metadata": {
      "needs_background": "light"
     },
     "output_type": "display_data"
    },
    {
     "data": {
      "image/png": "[encoded data removed]",
      "text/plain": [
       "<Figure size 432x288 with 1 Axes>"
      ]
     },
     "metadata": {
      "needs_background": "light"
     },
     "output_type": "display_data"
    }
   ],
   "source": [
    "# 길이 분포 시각화\n",
    "import matplotlib.pyplot as plt\n",
    "\n",
    "text_len = [len(s.split()) for s in data['text']]\n",
    "summary_len = [len(s.split()) for s in data['headlines']]\n",
    "\n",
    "print('텍스트의 최소 길이 : {}'.format(np.min(text_len)))\n",
    "print('텍스트의 최대 길이 : {}'.format(np.max(text_len)))\n",
    "print('텍스트의 평균 길이 : {}'.format(np.mean(text_len)))\n",
    "print('요약의 최소 길이 : {}'.format(np.min(summary_len)))\n",
    "print('요약의 최대 길이 : {}'.format(np.max(summary_len)))\n",
    "print('요약의 평균 길이 : {}'.format(np.mean(summary_len)))\n",
    "\n",
    "plt.subplot(1,2,1)\n",
    "plt.boxplot(text_len)\n",
    "plt.title('Text')\n",
    "plt.subplot(1,2,2)\n",
    "plt.boxplot(summary_len)\n",
    "plt.title('Summary')\n",
    "plt.tight_layout()\n",
    "plt.show()\n",
    "\n",
    "plt.title('Text')\n",
    "plt.hist(text_len, bins = 40)\n",
    "plt.xlabel('length of samples')\n",
    "plt.ylabel('number of samples')\n",
    "plt.show()\n",
    "\n",
    "plt.title('Summary')\n",
    "plt.hist(summary_len, bins = 40)\n",
    "plt.xlabel('length of samples')\n",
    "plt.ylabel('number of samples')\n",
    "plt.show()"
   ]
  },
  {
   "cell_type": "code",
   "execution_count": 44,
   "id": "d9394e88",
   "metadata": {},
   "outputs": [],
   "source": [
    "# text, summary의 적절한 최대길이 임의 설정\n",
    "text_max_len = 50\n",
    "summary_max_len = 10"
   ]
  },
  {
   "cell_type": "code",
   "execution_count": 45,
   "id": "778e056d",
   "metadata": {},
   "outputs": [],
   "source": [
    "def below_threshold_len(max_len, nested_list):\n",
    "    # [your code]\n",
    "    cnt = 0    \n",
    "    for i in nested_list:\n",
    "        if len(i.split()) <= max_len:\n",
    "            cnt += 1\n",
    "    print('전체 샘플 중 길이가 %s 이하인 샘플의 비율: %s'%(max_len, (cnt / len(nested_list))))\n",
    "\n"
   ]
  },
  {
   "cell_type": "code",
   "execution_count": 46,
   "id": "aa3af9a1",
   "metadata": {},
   "outputs": [
    {
     "name": "stdout",
     "output_type": "stream",
     "text": [
      "전체 샘플 중 길이가 50 이하인 샘플의 비율: 0.9998576657177715\n",
      "전체 샘플 중 길이가 10 이하인 샘플의 비율: 0.8162972753151687\n"
     ]
    }
   ],
   "source": [
    "below_threshold_len(text_max_len, data['text'])\n",
    "below_threshold_len(summary_max_len,  data['headlines'])"
   ]
  },
  {
   "cell_type": "code",
   "execution_count": 47,
   "id": "67cf1b37",
   "metadata": {},
   "outputs": [],
   "source": [
    "# 임의의 길이보다 큰 샘플 제외\n",
    "data = data[(data['text'].apply(lambda x: len(x.split())) <= text_max_len) &\n",
    "(data['headlines'].apply(lambda x: len(x.split())) <= summary_max_len)]"
   ]
  },
  {
   "cell_type": "code",
   "execution_count": 48,
   "id": "461d10f4",
   "metadata": {},
   "outputs": [
    {
     "data": {
      "text/html": [
       "<div>\n",
       "<style scoped>\n",
       "    .dataframe tbody tr th:only-of-type {\n",
       "        vertical-align: middle;\n",
       "    }\n",
       "\n",
       "    .dataframe tbody tr th {\n",
       "        vertical-align: top;\n",
       "    }\n",
       "\n",
       "    .dataframe thead th {\n",
       "        text-align: right;\n",
       "    }\n",
       "</style>\n",
       "<table border=\"1\" class=\"dataframe\">\n",
       "  <thead>\n",
       "    <tr style=\"text-align: right;\">\n",
       "      <th></th>\n",
       "      <th>headlines</th>\n",
       "      <th>text</th>\n",
       "    </tr>\n",
       "  </thead>\n",
       "  <tbody>\n",
       "    <tr>\n",
       "      <th>2</th>\n",
       "      <td>new zealand end rohit sharma led india match w...</td>\n",
       "      <td>new zealand defeated india wickets fourth odi ...</td>\n",
       "    </tr>\n",
       "    <tr>\n",
       "      <th>3</th>\n",
       "      <td>aegon life iterm insurance plan helps customer...</td>\n",
       "      <td>aegon life iterm insurance plan customers enjo...</td>\n",
       "    </tr>\n",
       "    <tr>\n",
       "      <th>5</th>\n",
       "      <td>rahat fateh ali khan denies getting notice for...</td>\n",
       "      <td>pakistani singer rahat fateh ali khan denied r...</td>\n",
       "    </tr>\n",
       "    <tr>\n",
       "      <th>9</th>\n",
       "      <td>cong wins ramgarh bypoll in rajasthan takes to...</td>\n",
       "      <td>congress candidate shafia zubair ramgarh assem...</td>\n",
       "    </tr>\n",
       "    <tr>\n",
       "      <th>10</th>\n",
       "      <td>up cousins fed human excreta for friendship wi...</td>\n",
       "      <td>two minor cousins uttar pradesh gorakhpur alle...</td>\n",
       "    </tr>\n",
       "  </tbody>\n",
       "</table>\n",
       "</div>"
      ],
      "text/plain": [
       "                                            headlines  \\\n",
       "2   new zealand end rohit sharma led india match w...   \n",
       "3   aegon life iterm insurance plan helps customer...   \n",
       "5   rahat fateh ali khan denies getting notice for...   \n",
       "9   cong wins ramgarh bypoll in rajasthan takes to...   \n",
       "10  up cousins fed human excreta for friendship wi...   \n",
       "\n",
       "                                                 text  \n",
       "2   new zealand defeated india wickets fourth odi ...  \n",
       "3   aegon life iterm insurance plan customers enjo...  \n",
       "5   pakistani singer rahat fateh ali khan denied r...  \n",
       "9   congress candidate shafia zubair ramgarh assem...  \n",
       "10  two minor cousins uttar pradesh gorakhpur alle...  "
      ]
     },
     "execution_count": 48,
     "metadata": {},
     "output_type": "execute_result"
    }
   ],
   "source": [
    "data.head()"
   ]
  },
  {
   "cell_type": "code",
   "execution_count": 49,
   "id": "21c4cbbf",
   "metadata": {},
   "outputs": [
    {
     "name": "stdout",
     "output_type": "stream",
     "text": [
      "전체 샘플수 : 80280\n"
     ]
    }
   ],
   "source": [
    "print('전체 샘플수 :', (len(data)))"
   ]
  },
  {
   "cell_type": "markdown",
   "id": "28e9c436",
   "metadata": {},
   "source": [
    "#### 시작토큰, 종료 토큰 추가\n"
   ]
  },
  {
   "cell_type": "code",
   "execution_count": 51,
   "id": "99c475db",
   "metadata": {},
   "outputs": [
    {
     "data": {
      "text/html": [
       "<div>\n",
       "<style scoped>\n",
       "    .dataframe tbody tr th:only-of-type {\n",
       "        vertical-align: middle;\n",
       "    }\n",
       "\n",
       "    .dataframe tbody tr th {\n",
       "        vertical-align: top;\n",
       "    }\n",
       "\n",
       "    .dataframe thead th {\n",
       "        text-align: right;\n",
       "    }\n",
       "</style>\n",
       "<table border=\"1\" class=\"dataframe\">\n",
       "  <thead>\n",
       "    <tr style=\"text-align: right;\">\n",
       "      <th></th>\n",
       "      <th>headlines</th>\n",
       "      <th>text</th>\n",
       "      <th>decoder_input</th>\n",
       "      <th>decoder_target</th>\n",
       "    </tr>\n",
       "  </thead>\n",
       "  <tbody>\n",
       "    <tr>\n",
       "      <th>2</th>\n",
       "      <td>new zealand end rohit sharma led india match w...</td>\n",
       "      <td>new zealand defeated india wickets fourth odi ...</td>\n",
       "      <td>sostoken new zealand end rohit sharma led indi...</td>\n",
       "      <td>new zealand end rohit sharma led india match w...</td>\n",
       "    </tr>\n",
       "    <tr>\n",
       "      <th>3</th>\n",
       "      <td>aegon life iterm insurance plan helps customer...</td>\n",
       "      <td>aegon life iterm insurance plan customers enjo...</td>\n",
       "      <td>sostoken aegon life iterm insurance plan helps...</td>\n",
       "      <td>aegon life iterm insurance plan helps customer...</td>\n",
       "    </tr>\n",
       "    <tr>\n",
       "      <th>5</th>\n",
       "      <td>rahat fateh ali khan denies getting notice for...</td>\n",
       "      <td>pakistani singer rahat fateh ali khan denied r...</td>\n",
       "      <td>sostoken rahat fateh ali khan denies getting n...</td>\n",
       "      <td>rahat fateh ali khan denies getting notice for...</td>\n",
       "    </tr>\n",
       "    <tr>\n",
       "      <th>9</th>\n",
       "      <td>cong wins ramgarh bypoll in rajasthan takes to...</td>\n",
       "      <td>congress candidate shafia zubair ramgarh assem...</td>\n",
       "      <td>sostoken cong wins ramgarh bypoll in rajasthan...</td>\n",
       "      <td>cong wins ramgarh bypoll in rajasthan takes to...</td>\n",
       "    </tr>\n",
       "    <tr>\n",
       "      <th>10</th>\n",
       "      <td>up cousins fed human excreta for friendship wi...</td>\n",
       "      <td>two minor cousins uttar pradesh gorakhpur alle...</td>\n",
       "      <td>sostoken up cousins fed human excreta for frie...</td>\n",
       "      <td>up cousins fed human excreta for friendship wi...</td>\n",
       "    </tr>\n",
       "  </tbody>\n",
       "</table>\n",
       "</div>"
      ],
      "text/plain": [
       "                                            headlines  \\\n",
       "2   new zealand end rohit sharma led india match w...   \n",
       "3   aegon life iterm insurance plan helps customer...   \n",
       "5   rahat fateh ali khan denies getting notice for...   \n",
       "9   cong wins ramgarh bypoll in rajasthan takes to...   \n",
       "10  up cousins fed human excreta for friendship wi...   \n",
       "\n",
       "                                                 text  \\\n",
       "2   new zealand defeated india wickets fourth odi ...   \n",
       "3   aegon life iterm insurance plan customers enjo...   \n",
       "5   pakistani singer rahat fateh ali khan denied r...   \n",
       "9   congress candidate shafia zubair ramgarh assem...   \n",
       "10  two minor cousins uttar pradesh gorakhpur alle...   \n",
       "\n",
       "                                        decoder_input  \\\n",
       "2   sostoken new zealand end rohit sharma led indi...   \n",
       "3   sostoken aegon life iterm insurance plan helps...   \n",
       "5   sostoken rahat fateh ali khan denies getting n...   \n",
       "9   sostoken cong wins ramgarh bypoll in rajasthan...   \n",
       "10  sostoken up cousins fed human excreta for frie...   \n",
       "\n",
       "                                       decoder_target  \n",
       "2   new zealand end rohit sharma led india match w...  \n",
       "3   aegon life iterm insurance plan helps customer...  \n",
       "5   rahat fateh ali khan denies getting notice for...  \n",
       "9   cong wins ramgarh bypoll in rajasthan takes to...  \n",
       "10  up cousins fed human excreta for friendship wi...  "
      ]
     },
     "execution_count": 51,
     "metadata": {},
     "output_type": "execute_result"
    }
   ],
   "source": [
    "data['decoder_input'] = data['headlines'].apply(lambda x: \"sostoken \" + x)\n",
    "\n",
    "data['decoder_target'] = data['headlines'].apply(lambda x: x + ' eostoken')\n",
    "\n",
    "data.head()"
   ]
  },
  {
   "cell_type": "code",
   "execution_count": 52,
   "id": "80cae12e",
   "metadata": {},
   "outputs": [
    {
     "name": "stdout",
     "output_type": "stream",
     "text": [
      "=3\n"
     ]
    }
   ],
   "source": [
    "# 인코더 디코더 입력을 numpy 타입으로 변경\n",
    "encoder_input = np.array(data['text']) # 인코더의 입력\n",
    "decoder_input = np.array(data['decoder_input']) # 디코더의 입력\n",
    "decoder_target = np.array(data['decoder_target']) # 디코더의 레이블\n",
    "print('=3')"
   ]
  },
  {
   "cell_type": "code",
   "execution_count": 53,
   "id": "d4c62c64",
   "metadata": {},
   "outputs": [],
   "source": [
    "data.to_csv('complete_preprocessing.csv', index=False)"
   ]
  },
  {
   "cell_type": "markdown",
   "id": "b5689edb",
   "metadata": {},
   "source": [
    "#### 훈련 데이터와 테스트 데이터 분리\n"
   ]
  },
  {
   "cell_type": "code",
   "execution_count": 68,
   "id": "a5a9ae4e",
   "metadata": {},
   "outputs": [
    {
     "name": "stdout",
     "output_type": "stream",
     "text": [
      "[31572 50928 51402 ... 59281 12467 67520]\n"
     ]
    }
   ],
   "source": [
    "# 데이터 분리\n",
    "## 1. input과 크기 같은 정수 시퀸스 생성\n",
    "indices = np.arange(encoder_input.shape[0]) #input과 크기 같은 정수 시퀸스\n",
    "np.random.shuffle(indices) # 시퀸스 랜덤화\n",
    "print(indices)"
   ]
  },
  {
   "cell_type": "code",
   "execution_count": 69,
   "id": "12585b82",
   "metadata": {},
   "outputs": [
    {
     "name": "stdout",
     "output_type": "stream",
     "text": [
      "=3\n"
     ]
    }
   ],
   "source": [
    "## 데이터 샘플 순서 정의\n",
    "encoder_input = encoder_input[indices]\n",
    "decoder_input = decoder_input[indices]\n",
    "decoder_target = decoder_target[indices]\n",
    "print('=3')"
   ]
  },
  {
   "cell_type": "code",
   "execution_count": 70,
   "id": "02ece5aa",
   "metadata": {},
   "outputs": [
    {
     "name": "stdout",
     "output_type": "stream",
     "text": [
      "테스트 데이터의 수 : 16056\n"
     ]
    }
   ],
   "source": [
    "# 훈련 데이터와 테스트 데이터 분리 크기 설정\n",
    "n_of_val = int(len(encoder_input)*0.2)\n",
    "print('테스트 데이터의 수 :', n_of_val)"
   ]
  },
  {
   "cell_type": "code",
   "execution_count": 71,
   "id": "a540d06a",
   "metadata": {},
   "outputs": [
    {
     "name": "stdout",
     "output_type": "stream",
     "text": [
      "훈련 데이터의 개수 : 64224\n",
      "훈련 레이블의 개수 : 64224\n",
      "테스트 데이터의 개수 : 16056\n",
      "테스트 레이블의 개수 : 16056\n"
     ]
    }
   ],
   "source": [
    "# 데이터 분할\n",
    "encoder_input_train = encoder_input[:-n_of_val]\n",
    "decoder_input_train = decoder_input[:-n_of_val]\n",
    "decoder_target_train = decoder_target[:-n_of_val]\n",
    "\n",
    "encoder_input_test = encoder_input[-n_of_val:]\n",
    "decoder_input_test = decoder_input[-n_of_val:]\n",
    "decoder_target_test = decoder_target[-n_of_val:]\n",
    "\n",
    "print('훈련 데이터의 개수 :', len(encoder_input_train))\n",
    "print('훈련 레이블의 개수 :', len(decoder_input_train))\n",
    "print('테스트 데이터의 개수 :', len(encoder_input_test))\n",
    "print('테스트 레이블의 개수 :', len(decoder_input_test))"
   ]
  },
  {
   "cell_type": "markdown",
   "id": "4eba6f55",
   "metadata": {},
   "source": [
    "#### 훈련 데이터로 단어집합(vocabulary) 만들기\n",
    "\n",
    "- 모델 훈련을 위해 텍스트 데이터를 정수형태로 바꾸는 작업 필요\n",
    "- 각각의 단어에 고유한 정수를 맵핑해서 단어 집합 생성"
   ]
  },
  {
   "cell_type": "markdown",
   "id": "e58917b9",
   "metadata": {},
   "source": [
    "#### text"
   ]
  },
  {
   "cell_type": "code",
   "execution_count": 72,
   "id": "6bc4ef7e",
   "metadata": {},
   "outputs": [
    {
     "name": "stdout",
     "output_type": "stream",
     "text": [
      "=3\n"
     ]
    }
   ],
   "source": [
    "# 토크나이저: 텍스트 데이터를 토큰으로 분리\n",
    "src_tokenizer = Tokenizer() # 토크나이저 정의\n",
    "src_tokenizer.fit_on_texts(encoder_input_train) # 입력된 데이터로부터 단어 집합 생성\n",
    "print('=3')"
   ]
  },
  {
   "cell_type": "code",
   "execution_count": 73,
   "id": "97581ade",
   "metadata": {},
   "outputs": [
    {
     "name": "stdout",
     "output_type": "stream",
     "text": [
      "단어 집합(vocabulary)의 크기 : 64961\n",
      "등장 빈도가 6번 이하인 희귀 단어의 수: 44613\n",
      "단어 집합에서 희귀 단어를 제외시킬 경우의 단어 집합의 크기 20348\n",
      "단어 집합에서 희귀 단어의 비율 즉 빈도가 threshold 이하인 단어의 비율: 68.67659056972644\n",
      "전체 등장 빈도에서 희귀 단어 등장 빈도 비율: 4.005926637054146\n"
     ]
    }
   ],
   "source": [
    "threshold = 7\n",
    "total_cnt = len(src_tokenizer.word_index) # src_tokenizer.word_index: 단어와 인덱스 쌍의 매핑 개수 출력\n",
    "rare_cnt = 0 # 등장 빈도수가 threshold보다 작은 단어의 개수를 카운트\n",
    "total_freq = 0 # 훈련 데이터의 전체 단어 빈도수 총 합\n",
    "rare_freq = 0 # 등장 빈도수가 threshold보다 작은 단어의 등장 빈도수의 총 합\n",
    "\n",
    "# 단어와 빈도수의 쌍(pair)을 key와 value로 받는다.\n",
    "# [your code]\n",
    "for key, value in src_tokenizer.word_counts.items():\n",
    "    total_freq = total_freq + value\n",
    "    \n",
    "    # 단어의 등장 빈도수가 threshold보다 작으면\n",
    "    # [your code]\n",
    "    if value < threshold:\n",
    "        rare_cnt += 1\n",
    "        rare_freq += value\n",
    "\n",
    "\n",
    "print('단어 집합(vocabulary)의 크기 :', total_cnt)\n",
    "print('등장 빈도가 %s번 이하인 희귀 단어의 수: %s'%(threshold - 1, rare_cnt))\n",
    "print('단어 집합에서 희귀 단어를 제외시킬 경우의 단어 집합의 크기 %s'%(total_cnt - rare_cnt))\n",
    "print(\"단어 집합에서 희귀 단어의 비율 즉 빈도가 threshold 이하인 단어의 비율:\", (rare_cnt / total_cnt)*100)\n",
    "print(\"전체 등장 빈도에서 희귀 단어 등장 빈도 비율:\", (rare_freq / total_freq)*100)"
   ]
  },
  {
   "cell_type": "markdown",
   "id": "13582197",
   "metadata": {},
   "source": [
    "전체 단어 집합에서 빈도가 threshold 이하인 단어들은 68% 그러나 이러한 단어들이 실제 훈련 데이터에서 등장 빈도로 차지하는 비중은 3.5%이다.\n",
    "따라서 등장 빈도가 threshold회 이하인 단어들은 정수 인코딩 과정에서 빼고 훈련 데이터에서 제거한다."
   ]
  },
  {
   "cell_type": "code",
   "execution_count": 74,
   "id": "4f85be55",
   "metadata": {},
   "outputs": [],
   "source": [
    "src_vocab = 20300\n",
    "src_tokenizer = Tokenizer(num_words=src_vocab) # 단어 집합의 크기를 20,000으로 제한\n",
    "src_tokenizer.fit_on_texts(encoder_input_train) # 단어 집합 재생성"
   ]
  },
  {
   "cell_type": "code",
   "execution_count": 75,
   "id": "1fd2b891",
   "metadata": {},
   "outputs": [
    {
     "name": "stdout",
     "output_type": "stream",
     "text": [
      "[[8610, 16838, 77, 125, 1404, 14, 1113, 576, 1962, 1486, 145, 9170, 1658, 2, 210, 231, 4397, 2833, 372, 205, 403, 8610, 993, 1486, 2160, 473, 1658, 2, 4, 2833, 10640, 163, 12008, 200, 58], [2, 255, 180, 1479, 6037, 5566, 84, 1093, 2150, 13452, 6376, 17810, 6037, 5566, 615, 2863, 1859, 8431, 2863, 2151, 1546, 6038, 8431, 4182, 13452, 1487, 1350, 6121, 1546, 6038, 166, 679, 36, 13453, 909, 12925, 4441, 14591, 644, 512], [74, 1315, 543, 16, 4799, 2755, 473, 3742, 1109, 44, 3844, 7, 437, 245, 60, 26, 1715, 44, 47, 14, 520, 433, 25, 11631, 8113, 4016, 1005, 100, 7308, 15979, 655, 529, 76, 31, 95]]\n"
     ]
    }
   ],
   "source": [
    "# 텍스트 시퀀스를 정수 시퀀스로 변환\n",
    "# [your code]\n",
    "encoder_input_train = src_tokenizer.texts_to_sequences(encoder_input_train)\n",
    "encoder_input_test = src_tokenizer.texts_to_sequences(encoder_input_test)\n",
    "\n",
    "# 잘 진행되었는지 샘플 출력\n",
    "print(encoder_input_train[:3])"
   ]
  },
  {
   "cell_type": "markdown",
   "id": "15846122",
   "metadata": {},
   "source": [
    "#### headlines"
   ]
  },
  {
   "cell_type": "code",
   "execution_count": 76,
   "id": "434a38fe",
   "metadata": {},
   "outputs": [
    {
     "name": "stdout",
     "output_type": "stream",
     "text": [
      "=3\n"
     ]
    }
   ],
   "source": [
    "# headlines 에 대해서도 동일한 작업 수행\n",
    "tar_tokenizer = Tokenizer()\n",
    "tar_tokenizer.fit_on_texts(decoder_input_train)\n",
    "print('=3')"
   ]
  },
  {
   "cell_type": "code",
   "execution_count": 77,
   "id": "81ef70d8",
   "metadata": {},
   "outputs": [
    {
     "name": "stdout",
     "output_type": "stream",
     "text": [
      "단어 집합(vocabulary)의 크기 : 28363\n",
      "등장 빈도가 4번 이하인 희귀 단어의 수: 17795\n",
      "단어 집합에서 희귀 단어를 제외시킬 경우의 단어 집합의 크기 10568\n",
      "단어 집합에서 희귀 단어의 비율: 62.74018968374291\n",
      "전체 등장 빈도에서 희귀 단어 등장 빈도 비율: 4.845872890671279\n"
     ]
    }
   ],
   "source": [
    "threshold = 5\n",
    "total_cnt = len(tar_tokenizer.word_index) # 단어의 수\n",
    "rare_cnt = 0 # 등장 빈도수가 threshold보다 작은 단어의 개수를 카운트\n",
    "total_freq = 0 # 훈련 데이터의 전체 단어 빈도수 총 합\n",
    "rare_freq = 0 # 등장 빈도수가 threshold보다 작은 단어의 등장 빈도수의 총 합\n",
    "\n",
    "# 단어와 빈도수의 쌍(pair)을 key와 value로 받는다.\n",
    "for key, value in tar_tokenizer.word_counts.items():\n",
    "    total_freq = total_freq + value\n",
    "\n",
    "    # 단어의 등장 빈도수가 threshold보다 작으면\n",
    "    if(value < threshold):\n",
    "        rare_cnt = rare_cnt + 1\n",
    "        rare_freq = rare_freq + value\n",
    "\n",
    "print('단어 집합(vocabulary)의 크기 :', total_cnt)\n",
    "print('등장 빈도가 %s번 이하인 희귀 단어의 수: %s'%(threshold - 1, rare_cnt))\n",
    "print('단어 집합에서 희귀 단어를 제외시킬 경우의 단어 집합의 크기 %s'%(total_cnt - rare_cnt))\n",
    "print(\"단어 집합에서 희귀 단어의 비율:\", (rare_cnt / total_cnt)*100)\n",
    "print(\"전체 등장 빈도에서 희귀 단어 등장 빈도 비율:\", (rare_freq / total_freq)*100)"
   ]
  },
  {
   "cell_type": "code",
   "execution_count": 78,
   "id": "bb407dc5",
   "metadata": {},
   "outputs": [
    {
     "name": "stdout",
     "output_type": "stream",
     "text": [
      "input\n",
      "input  [[1, 4380, 3791, 805, 3, 257, 3048, 3792, 196, 75, 981], [1, 3239, 3930, 14301, 3, 27, 621, 10570, 4, 10571], [1, 172, 387, 3240, 2680, 7, 2460, 35, 40, 4], [1, 6444, 4942, 145, 2041, 7, 186, 66, 647, 1287], [1, 935, 39, 36, 388, 57, 3, 4076, 1384, 936]]\n",
      "target\n",
      "decoder  [[4380, 3791, 805, 3, 257, 3048, 3792, 196, 75, 981, 2], [3239, 3930, 14301, 3, 27, 621, 10570, 4, 10571, 2], [172, 387, 3240, 2680, 7, 2460, 35, 40, 4, 2], [6444, 4942, 145, 2041, 7, 186, 66, 647, 1287, 2], [935, 39, 36, 388, 57, 3, 4076, 1384, 936, 2]]\n"
     ]
    }
   ],
   "source": [
    "tar_vocab = 15000\n",
    "tar_tokenizer = Tokenizer(num_words=tar_vocab) \n",
    "tar_tokenizer.fit_on_texts(decoder_input_train)\n",
    "tar_tokenizer.fit_on_texts(decoder_target_train)\n",
    "\n",
    "# 텍스트 시퀀스를 정수 시퀀스로 변환\n",
    "decoder_input_train = tar_tokenizer.texts_to_sequences(decoder_input_train) \n",
    "decoder_target_train = tar_tokenizer.texts_to_sequences(decoder_target_train)\n",
    "decoder_input_test = tar_tokenizer.texts_to_sequences(decoder_input_test)\n",
    "decoder_target_test = tar_tokenizer.texts_to_sequences(decoder_target_test)\n",
    "\n",
    "# 잘 변환되었는지 확인\n",
    "print('input')\n",
    "print('input ',decoder_input_train[:5])\n",
    "print('target')\n",
    "print('decoder ',decoder_target_train[:5])"
   ]
  },
  {
   "cell_type": "markdown",
   "id": "e3fee675",
   "metadata": {},
   "source": [
    "빈도수가 낮은 단어들을 제외하였으므로, 빈도수가 낮은 단어들만으로 구성되었던 샘플들이 빈 샌플이 되었을 수도 있다. 특히 healines가 더더욱 그렇다\n",
    "\n",
    "따라서 훈련 데이터와 테스트 데이터에 대해서 요약문의 길이가 1인 경우의 인덱스를 각각 drop_train과 drop_test에 라는 변수에 저장"
   ]
  },
  {
   "cell_type": "code",
   "execution_count": 79,
   "id": "a8ef1d55",
   "metadata": {},
   "outputs": [
    {
     "name": "stdout",
     "output_type": "stream",
     "text": [
      "삭제할 훈련 데이터의 개수 : 0\n",
      "삭제할 테스트 데이터의 개수 : 0\n",
      "훈련 데이터의 개수 : 64224\n",
      "훈련 레이블의 개수 : 64224\n",
      "테스트 데이터의 개수 : 16056\n",
      "테스트 레이블의 개수 : 16056\n"
     ]
    }
   ],
   "source": [
    "# 훈련 데이터와 테스트 데이터에 대해서 요약문의 길이가 1인 경우의 인덱스를 각각 drop_train과 drop_test에 라는 변수에 저장\n",
    "drop_train = [index for index, sentence in enumerate(decoder_input_train) if len(sentence) == 1]\n",
    "drop_test = [index for index, sentence in enumerate(decoder_input_test) if len(sentence) == 1]\n",
    "\n",
    "print('삭제할 훈련 데이터의 개수 :', len(drop_train))\n",
    "print('삭제할 테스트 데이터의 개수 :', len(drop_test))\n",
    "\n",
    "encoder_input_train = [sentence for index, sentence in enumerate(encoder_input_train) if index not in drop_train]\n",
    "decoder_input_train = [sentence for index, sentence in enumerate(decoder_input_train) if index not in drop_train]\n",
    "decoder_target_train = [sentence for index, sentence in enumerate(decoder_target_train) if index not in drop_train]\n",
    "\n",
    "encoder_input_test = [sentence for index, sentence in enumerate(encoder_input_test) if index not in drop_test]\n",
    "decoder_input_test = [sentence for index, sentence in enumerate(decoder_input_test) if index not in drop_test]\n",
    "decoder_target_test = [sentence for index, sentence in enumerate(decoder_target_test) if index not in drop_test]\n",
    "\n",
    "print('훈련 데이터의 개수 :', len(encoder_input_train))\n",
    "print('훈련 레이블의 개수 :', len(decoder_input_train))\n",
    "print('테스트 데이터의 개수 :', len(encoder_input_test))\n",
    "print('테스트 레이블의 개수 :', len(decoder_input_test))"
   ]
  },
  {
   "cell_type": "markdown",
   "id": "59b47279",
   "metadata": {},
   "source": [
    "#### 패딩"
   ]
  },
  {
   "cell_type": "code",
   "execution_count": 85,
   "id": "3d180bde",
   "metadata": {},
   "outputs": [
    {
     "name": "stdout",
     "output_type": "stream",
     "text": [
      "=3\n"
     ]
    }
   ],
   "source": [
    "# 서로 다른 길이의 샘플들을 병렬 처리하기 위해 같은 길이로 맞춰주는 패딩작업 수행\n",
    "## 아까 정해주었던 최대 길이로 패딩\n",
    "encoder_input_train = pad_sequences(encoder_input_train, maxlen=text_max_len, padding='post')\n",
    "encoder_input_test = pad_sequences(encoder_input_test, maxlen=text_max_len, padding='post')\n",
    "decoder_input_train = pad_sequences(decoder_input_train, maxlen=summary_max_len, padding='post')\n",
    "decoder_target_train = pad_sequences(decoder_target_train, maxlen=summary_max_len, padding='post')\n",
    "decoder_input_test = pad_sequences(decoder_input_test, maxlen=summary_max_len, padding='post')\n",
    "decoder_target_test = pad_sequences(decoder_target_test, maxlen=summary_max_len, padding='post')\n",
    "print('=3')"
   ]
  },
  {
   "cell_type": "markdown",
   "id": "8baf3453",
   "metadata": {},
   "source": [
    "### 2.2. 어텐션 메커니즘 사용한 모델 설계"
   ]
  },
  {
   "cell_type": "code",
   "execution_count": 91,
   "id": "21b446f6",
   "metadata": {},
   "outputs": [],
   "source": [
    "from tensorflow.keras.layers import Input, LSTM, Embedding, Dense, Concatenate, TimeDistributed\n",
    "from tensorflow.keras.models import Model\n",
    "from tensorflow.keras.callbacks import EarlyStopping, ModelCheckpoint\n",
    "\n",
    "# 인코더 설계 시작\n",
    "embedding_dim = 128\n",
    "hidden_size = 256\n",
    "\n",
    "# 인코더\n",
    "encoder_inputs = Input(shape=(text_max_len,))\n",
    "\n",
    "# 인코더의 임베딩 층\n",
    "enc_emb = Embedding(src_vocab, embedding_dim)(encoder_inputs)\n",
    "\n",
    "# 인코더의 LSTM 1\n",
    "encoder_lstm1 = LSTM(hidden_size, return_sequences=True, return_state=True, dropout=0.4)\n",
    "encoder_output1, state_h1, state_c1 = encoder_lstm1(enc_emb)\n",
    "\n",
    "# 인코더의 LSTM 2\n",
    "encoder_lstm2 = LSTM(hidden_size, return_sequences=True, return_state=True, dropout=0.4)\n",
    "encoder_output2, state_h2, state_c2 = encoder_lstm2(encoder_output1)\n",
    "\n",
    "# 인코더의 LSTM 3\n",
    "encoder_lstm3 = LSTM(hidden_size, return_sequences=True, return_state=True, dropout=0.4)\n",
    "encoder_outputs, state_h, state_c = encoder_lstm3(encoder_output2)\n",
    "\n"
   ]
  },
  {
   "cell_type": "code",
   "execution_count": 92,
   "id": "02a1c057",
   "metadata": {},
   "outputs": [],
   "source": [
    "# 디코더 설계\n",
    "decoder_inputs = Input(shape=(None,))\n",
    "\n",
    "# 디코더의 임베딩 층\n",
    "dec_emb_layer = Embedding(tar_vocab, embedding_dim)\n",
    "dec_emb = dec_emb_layer(decoder_inputs)\n",
    "\n",
    "# 디코더의 LSTM\n",
    "# decoder_lstm = LSTM(hidden_size, return_sequences=True, return_state=True, dropout=0.4, recurrent_dropout=0.2)\n",
    "decoder_lstm = LSTM(hidden_size, return_sequences=True, return_state=True, dropout=0.4)\n",
    "decoder_outputs, _, _ = decoder_lstm(dec_emb, initial_state=[state_h, state_c])"
   ]
  },
  {
   "cell_type": "code",
   "execution_count": 93,
   "id": "aabd5b3a",
   "metadata": {},
   "outputs": [],
   "source": [
    "# 디코더의 출력층\n",
    "decoder_softmax_layer = Dense(tar_vocab, activation='softmax')\n",
    "decoder_softmax_outputs = decoder_softmax_layer(decoder_outputs) \n"
   ]
  },
  {
   "cell_type": "code",
   "execution_count": 94,
   "id": "a9a0bca0",
   "metadata": {},
   "outputs": [
    {
     "name": "stdout",
     "output_type": "stream",
     "text": [
      "Model: \"model_1\"\n",
      "__________________________________________________________________________________________________\n",
      "Layer (type)                    Output Shape         Param #     Connected to                     \n",
      "==================================================================================================\n",
      "input_3 (InputLayer)            [(None, 50)]         0                                            \n",
      "__________________________________________________________________________________________________\n",
      "embedding_2 (Embedding)         (None, 50, 128)      2598400     input_3[0][0]                    \n",
      "__________________________________________________________________________________________________\n",
      "lstm_4 (LSTM)                   [(None, 50, 256), (N 394240      embedding_2[0][0]                \n",
      "__________________________________________________________________________________________________\n",
      "input_4 (InputLayer)            [(None, None)]       0                                            \n",
      "__________________________________________________________________________________________________\n",
      "lstm_5 (LSTM)                   [(None, 50, 256), (N 525312      lstm_4[0][0]                     \n",
      "__________________________________________________________________________________________________\n",
      "embedding_3 (Embedding)         (None, None, 128)    1920000     input_4[0][0]                    \n",
      "__________________________________________________________________________________________________\n",
      "lstm_6 (LSTM)                   [(None, 50, 256), (N 525312      lstm_5[0][0]                     \n",
      "__________________________________________________________________________________________________\n",
      "lstm_7 (LSTM)                   [(None, None, 256),  394240      embedding_3[0][0]                \n",
      "                                                                 lstm_6[0][1]                     \n",
      "                                                                 lstm_6[0][2]                     \n",
      "__________________________________________________________________________________________________\n",
      "attention_layer (AdditiveAttent (None, None, 256)    256         lstm_7[0][0]                     \n",
      "                                                                 lstm_6[0][0]                     \n",
      "__________________________________________________________________________________________________\n",
      "concat_layer (Concatenate)      (None, None, 512)    0           lstm_7[0][0]                     \n",
      "                                                                 attention_layer[0][0]            \n",
      "__________________________________________________________________________________________________\n",
      "dense_3 (Dense)                 (None, None, 15000)  7695000     concat_layer[0][0]               \n",
      "==================================================================================================\n",
      "Total params: 14,052,760\n",
      "Trainable params: 14,052,760\n",
      "Non-trainable params: 0\n",
      "__________________________________________________________________________________________________\n"
     ]
    }
   ],
   "source": [
    "from tensorflow.keras.layers import AdditiveAttention\n",
    "\n",
    "# 어텐션 층(어텐션 함수)\n",
    "attn_layer = AdditiveAttention(name='attention_layer')\n",
    "\n",
    "# 인코더와 디코더의 모든 time step의 hidden state를 어텐션 층에 전달하고 결과를 리턴\n",
    "attn_out = attn_layer([decoder_outputs, encoder_outputs])\n",
    "\n",
    "\n",
    "# 어텐션의 결과와 디코더의 hidden state들을 연결\n",
    "decoder_concat_input = Concatenate(axis=-1, name='concat_layer')([decoder_outputs, attn_out])\n",
    "\n",
    "# 디코더의 출력층\n",
    "decoder_softmax_layer = Dense(tar_vocab, activation='softmax')\n",
    "decoder_softmax_outputs = decoder_softmax_layer(decoder_concat_input)\n",
    "\n",
    "# 모델 정의\n",
    "model = Model([encoder_inputs, decoder_inputs], decoder_softmax_outputs)\n",
    "model.summary()"
   ]
  },
  {
   "cell_type": "code",
   "execution_count": 96,
   "id": "c638d25c",
   "metadata": {},
   "outputs": [
    {
     "name": "stdout",
     "output_type": "stream",
     "text": [
      "Epoch 1/50\n",
      "251/251 [==============================] - 68s 113ms/step - loss: 6.6684 - val_loss: 6.1837\n",
      "Epoch 2/50\n",
      "251/251 [==============================] - 28s 112ms/step - loss: 6.0778 - val_loss: 5.8184\n",
      "Epoch 3/50\n",
      "251/251 [==============================] - 28s 112ms/step - loss: 5.7295 - val_loss: 5.5297\n",
      "Epoch 4/50\n",
      "251/251 [==============================] - 28s 112ms/step - loss: 5.4326 - val_loss: 5.3068\n",
      "Epoch 5/50\n",
      "251/251 [==============================] - 28s 112ms/step - loss: 5.1929 - val_loss: 5.1797\n",
      "Epoch 6/50\n",
      "251/251 [==============================] - 28s 112ms/step - loss: 4.9955 - val_loss: 5.0321\n",
      "Epoch 7/50\n",
      "251/251 [==============================] - 28s 112ms/step - loss: 4.8208 - val_loss: 4.9387\n",
      "Epoch 8/50\n",
      "251/251 [==============================] - 28s 112ms/step - loss: 4.6628 - val_loss: 4.8637\n",
      "Epoch 9/50\n",
      "251/251 [==============================] - 28s 112ms/step - loss: 4.5175 - val_loss: 4.7808\n",
      "Epoch 10/50\n",
      "251/251 [==============================] - 28s 112ms/step - loss: 4.3933 - val_loss: 4.7247\n",
      "Epoch 11/50\n",
      "251/251 [==============================] - 28s 112ms/step - loss: 4.2803 - val_loss: 4.6832\n",
      "Epoch 12/50\n",
      "251/251 [==============================] - 28s 112ms/step - loss: 4.1741 - val_loss: 4.6401\n",
      "Epoch 13/50\n",
      "251/251 [==============================] - 28s 112ms/step - loss: 4.0745 - val_loss: 4.6090\n",
      "Epoch 14/50\n",
      "251/251 [==============================] - 28s 112ms/step - loss: 3.9802 - val_loss: 4.5825\n",
      "Epoch 15/50\n",
      "251/251 [==============================] - 28s 112ms/step - loss: 3.8936 - val_loss: 4.5580\n",
      "Epoch 16/50\n",
      "251/251 [==============================] - 28s 112ms/step - loss: 3.8142 - val_loss: 4.5453\n",
      "Epoch 17/50\n",
      "251/251 [==============================] - 28s 112ms/step - loss: 3.7400 - val_loss: 4.5313\n",
      "Epoch 18/50\n",
      "251/251 [==============================] - 28s 112ms/step - loss: 3.6674 - val_loss: 4.5187\n",
      "Epoch 19/50\n",
      "251/251 [==============================] - 28s 112ms/step - loss: 3.5992 - val_loss: 4.5107\n",
      "Epoch 20/50\n",
      "251/251 [==============================] - 28s 112ms/step - loss: 3.5357 - val_loss: 4.5048\n",
      "Epoch 21/50\n",
      "251/251 [==============================] - 28s 112ms/step - loss: 3.4778 - val_loss: 4.5009\n",
      "Epoch 22/50\n",
      "251/251 [==============================] - 28s 112ms/step - loss: 3.4172 - val_loss: 4.5007\n",
      "Epoch 23/50\n",
      "251/251 [==============================] - 28s 112ms/step - loss: 3.3640 - val_loss: 4.5001\n",
      "Epoch 24/50\n",
      "251/251 [==============================] - 28s 112ms/step - loss: 3.3141 - val_loss: 4.4996\n",
      "Epoch 25/50\n",
      "251/251 [==============================] - 28s 112ms/step - loss: 3.2558 - val_loss: 4.5022\n",
      "Epoch 26/50\n",
      "251/251 [==============================] - 28s 112ms/step - loss: 3.2097 - val_loss: 4.5047\n",
      "Epoch 00026: early stopping\n"
     ]
    }
   ],
   "source": [
    "# 모델 훈련\n",
    "model.compile(optimizer='rmsprop', loss='sparse_categorical_crossentropy')\n",
    "es = EarlyStopping(monitor='val_loss', patience=2, verbose=1)\n",
    "\n",
    "history = model.fit(x=[encoder_input_train, decoder_input_train], y=decoder_target_train, \\\n",
    "          validation_data=([encoder_input_test, decoder_input_test], decoder_target_test), \\\n",
    "          batch_size=256, callbacks=[es], epochs=50)"
   ]
  },
  {
   "cell_type": "code",
   "execution_count": 98,
   "id": "85994d61",
   "metadata": {},
   "outputs": [
    {
     "data": {
      "image/png": "[encoded data removed]",
      "text/plain": [
       "<Figure size 432x288 with 1 Axes>"
      ]
     },
     "metadata": {
      "needs_background": "light"
     },
     "output_type": "display_data"
    }
   ],
   "source": [
    "# 시각화\n",
    "plt.plot(history.history['loss'], label='train')\n",
    "plt.plot(history.history['val_loss'], label='test')\n",
    "plt.legend()\n",
    "plt.show()"
   ]
  },
  {
   "cell_type": "markdown",
   "id": "73e35d73",
   "metadata": {},
   "source": [
    "## 모델 테스트\n",
    "seq2seq 모델은 훈련할 때와 실제 동작할 때(인퍼런스 단계)의 방식이 다르므로 모델 설계를 별개로 진행해야 함\n"
   ]
  },
  {
   "cell_type": "code",
   "execution_count": 99,
   "id": "9ebd7f77",
   "metadata": {},
   "outputs": [
    {
     "name": "stdout",
     "output_type": "stream",
     "text": [
      "=3\n"
     ]
    }
   ],
   "source": [
    "# 3개 사전 미리 준비\n",
    "src_index_to_word = src_tokenizer.index_word # 원문 단어 집합에서 정수 -> 단어를 얻음\n",
    "tar_word_to_index = tar_tokenizer.word_index # 요약 단어 집합에서 단어 -> 정수를 얻음\n",
    "tar_index_to_word = tar_tokenizer.index_word # 요약 단어 집합에서 정수 -> 단어를 얻음\n",
    "\n",
    "print('=3')\n"
   ]
  },
  {
   "cell_type": "code",
   "execution_count": 100,
   "id": "e72d4ed5",
   "metadata": {},
   "outputs": [
    {
     "name": "stdout",
     "output_type": "stream",
     "text": [
      "=3\n"
     ]
    }
   ],
   "source": [
    "# 인코더 설계\n",
    "encoder_model = Model(inputs=encoder_inputs, outputs=[encoder_outputs, state_h, state_c])\n",
    "\n",
    "# 이전 시점의 상태들을 저장하는 텐서\n",
    "decoder_state_input_h = Input(shape=(hidden_size,))\n",
    "decoder_state_input_c = Input(shape=(hidden_size,))\n",
    "\n",
    "dec_emb2 = dec_emb_layer(decoder_inputs)\n",
    "\n",
    "# 문장의 다음 단어를 예측하기 위해서 초기 상태(initial_state)를 이전 시점의 상태로 사용. 이는 뒤의 함수 decode_sequence()에 구현\n",
    "# 훈련 과정에서와 달리 LSTM의 리턴하는 은닉 상태와 셀 상태인 state_h와 state_c를 버리지 않음.\n",
    "decoder_outputs2, state_h2, state_c2 = decoder_lstm(dec_emb2, initial_state=[decoder_state_input_h, decoder_state_input_c])\n",
    "\n",
    "print('=3')"
   ]
  },
  {
   "cell_type": "code",
   "execution_count": 101,
   "id": "668a8210",
   "metadata": {},
   "outputs": [
    {
     "name": "stdout",
     "output_type": "stream",
     "text": [
      "=3\n"
     ]
    }
   ],
   "source": [
    "# 어텐션 메커니즘 사용하는 출력층 설계\n",
    "# 어텐션 함수\n",
    "decoder_hidden_state_input = Input(shape=(text_max_len, hidden_size))\n",
    "attn_out_inf = attn_layer([decoder_outputs2, decoder_hidden_state_input])\n",
    "decoder_inf_concat = Concatenate(axis=-1, name='concat')([decoder_outputs2, attn_out_inf])\n",
    "\n",
    "# 디코더의 출력층\n",
    "decoder_outputs2 = decoder_softmax_layer(decoder_inf_concat) \n",
    "\n",
    "# 최종 디코더 모델\n",
    "decoder_model = Model(\n",
    "    [decoder_inputs] + [decoder_hidden_state_input,decoder_state_input_h, decoder_state_input_c],\n",
    "    [decoder_outputs2] + [state_h2, state_c2])\n",
    "\n",
    "print('=3')"
   ]
  },
  {
   "cell_type": "code",
   "execution_count": 102,
   "id": "01f9fb8f",
   "metadata": {},
   "outputs": [
    {
     "name": "stdout",
     "output_type": "stream",
     "text": [
      "=3\n"
     ]
    }
   ],
   "source": [
    "# 인퍼런스 단계에서 단어 시퀸스 완성하는 함수\n",
    "def decode_sequence(input_seq):\n",
    "    # 입력으로부터 인코더의 상태를 얻음\n",
    "    # [your code]\n",
    "    e_out, e_h, e_c = encoder_model.predict(input_seq)\n",
    "     # <SOS>에 해당하는 토큰 생성\n",
    "    target_seq = np.zeros((1,1))\n",
    "    target_seq[0, 0] = tar_word_to_index['sostoken']\n",
    "\n",
    "    stop_condition = False\n",
    "    decoded_sentence = ''\n",
    "    while not stop_condition: # stop_condition이 True가 될 때까지 루프 반복\n",
    "\n",
    "        output_tokens, h, c = decoder_model.predict([target_seq] + [e_out, e_h, e_c])\n",
    "        sampled_token_index = np.argmax(output_tokens[0, -1, :])\n",
    "        sampled_token = tar_index_to_word[sampled_token_index]\n",
    "\n",
    "        if (sampled_token!='eostoken'):\n",
    "            decoded_sentence += ' '+sampled_token\n",
    "\n",
    "        #  <eos>에 도달하거나 최대 길이를 넘으면 중단.\n",
    "        if (sampled_token == 'eostoken'  or len(decoded_sentence.split()) >= (summary_max_len-1)):\n",
    "            stop_condition = True\n",
    "\n",
    "        # 길이가 1인 타겟 시퀀스를 업데이트\n",
    "        target_seq = np.zeros((1,1))\n",
    "        target_seq[0, 0] = sampled_token_index\n",
    "\n",
    "        # 상태를 업데이트 합니다.\n",
    "        e_h, e_c = h, c\n",
    "\n",
    "    return decoded_sentence\n",
    "print('=3')"
   ]
  },
  {
   "cell_type": "code",
   "execution_count": 103,
   "id": "d9e6278a",
   "metadata": {},
   "outputs": [],
   "source": [
    "# 원문의 정수 시퀀스를 텍스트 시퀀스로 변환\n",
    "def seq2text(input_seq):\n",
    "    temp=''\n",
    "    for i in input_seq:\n",
    "        if (i!=0):\n",
    "            temp = temp + src_index_to_word[i]+' '\n",
    "    return temp\n",
    "\n",
    "# 요약문의 정수 시퀀스를 텍스트 시퀀스로 변환\n",
    "def seq2summary(input_seq):\n",
    "    temp=''\n",
    "    for i in input_seq:\n",
    "        if ((i!=0 and i!=tar_word_to_index['sostoken']) and i!=tar_word_to_index['eostoken']):\n",
    "            temp = temp + tar_index_to_word[i] + ' '\n",
    "    return temp"
   ]
  },
  {
   "cell_type": "code",
   "execution_count": 104,
   "id": "6dd7c34e",
   "metadata": {},
   "outputs": [
    {
     "name": "stdout",
     "output_type": "stream",
     "text": [
      "원문 : apple monday announced company completed acquisition music recognition app shazam soon become advertisement free users shazam one first apps available launched app store apple vp apple music oliver said deal first announced last year reported amount million \n",
      "실제 요약 : apple completes shazam acquisition app to become ad free \n",
      "예측 요약 :  apple launches app for store in bengaluru\n",
      "\n",
      "\n",
      "원문 : american rapper snoop dogg took instagram share photoshopped image white new kanye west taking apparent jibe recent controversial comments social media kanye suggested african americans centuries may choice also tweeted support us president donald trump \n",
      "실제 요약 : snoop dogg shares picture of white kanye \n",
      "예측 요약 :  ed sheeran calls for his british songs in twitter\n",
      "\n",
      "\n",
      "원문 : incoming us national security advisor john bolton sunday said north korea offering negotiate country order buy time develop nuclear weapons bolton past advocated pre strike north korea added reclusive nation consistently last years \n",
      "실제 요약 : korea buying time for developing nuclear weapons us nsa \n",
      "예측 요약 :  korea slams korea for missile\n",
      "\n",
      "\n",
      "원문 : us banking giant morgan stanley ceo james received million total compensation increase year earlier biggest package received since became ceo earlier week morgan stanley market value surpassed rival goldman sachs first time years \n",
      "실제 요약 : morgan stanley ceo pay rose to million for \n",
      "예측 요약 :  ceo ceo earned mn in ceo\n",
      "\n",
      "\n",
      "원문 : saif ali khan launched new production house named black knight films also announced film titled banner directed nitin kakkar made feature filmmaking debut saif reportedly also star film said comedy centred father daughter relationship \n",
      "실제 요약 : saif announces film under his new banner \n",
      "예측 요약 :  first look of tiger shroff upcoming film out\n",
      "\n",
      "\n",
      "원문 : saudi arabia saturday suspended dialogue qatar first publicly reported call two nations since beginning diplomatic crisis accusing distorting facts qatar claimed called saudi us president donald trump request however saudi arabia dismissed claim misleading demanded clarification talks \n",
      "실제 요약 : saudi suspends talks with qatar after st call since crisis \n",
      "예측 요약 :  saudi arabia suspends ties with qatar for qatar\n",
      "\n",
      "\n",
      "원문 : android version microsoft video calling platform skype bypassed phone lock code provided access several apps per report photos messages contacts found accessible smartphone browser window could also launched issue reportedly fixed however microsoft responded issue \n",
      "실제 요약 : android lock code can be through skype call report \n",
      "예측 요약 :  microsoft launches phone for phone phone at\n",
      "\n",
      "\n",
      "원문 : flipkart chief operating officer nitin seth quit homegrown commerce startup citing personal reasons reports said seth joined flipkart last year charge flipkart logistics unit corporate functioning taken ceo kalyan krishnamurthy seth exit comes amid reports flipkart talks buy smaller rival snapdeal \n",
      "실제 요약 : flipkart chief operating officer nitin seth quits \n",
      "예측 요약 :  flipkart coo quits after years of flipkart\n",
      "\n",
      "\n",
      "원문 : centre wednesday criticised former uttar pradesh chief minister akhilesh yadav saying martyrs several indian states none prime minister narendra modi home state gujarat union minister state pandey termed akhilesh yadav statement also demanded apology \n",
      "실제 요약 : govt criticises akhilesh yadav for his statement on martyrs \n",
      "예측 요약 :  pm modi to visit up cm after yrs\n",
      "\n",
      "\n",
      "원문 : government schools chhattisgarh complained tablets distributed government show obscene pictures every time devices switched tablets distributed enable state run schools keep online track attendance teachers students schools facing issues asked work offline \n",
      "실제 요약 : tablets given by govt to chhattisgarh schools show obscene pics \n",
      "예측 요약 :  uttarakhand to get school school for kids\n",
      "\n",
      "\n",
      "원문 : babri masjid demolished december political rally organised vhp bjp turned violent rally aimed gathering support building temple dedicated lord ram ram janmabhoomi crowd one lakh kar overwhelmed security forces tore mosque reports said \n",
      "실제 요약 : babri masjid was demolished years ago on this day \n",
      "예측 요약 :  babri masjid leaders babri masjid party party head\n",
      "\n",
      "\n",
      "원문 : dubai set get five star venice inspired floating hotel feature underwater cabins imported italian city venice kilometres coast popular traditions festivals like di di celebrated hotel dubbed floating venice feature restaurants underwater spa \n",
      "실제 요약 : dubai to get venice inspired floating hotel \n",
      "예측 요약 :  hotel to be made to guests in\n",
      "\n",
      "\n",
      "원문 : former facebook employee accused company black people problem internal memo facebook black people platform mirrors black employees mark former manager partnerships facebook said buildings black lives matter posters actual black people added \n",
      "실제 요약 : facebook has black people problem former fb employee \n",
      "예측 요약 :  facebook suspends facebook over lakh\n",
      "\n",
      "\n",
      "원문 : finance minister arun jaitley friday launched bharat exchange traded fund government assets state run private firms fund portfolio companies six sectors cap sector cap stock icici manage fund added \n",
      "실제 요약 : fm jaitley launches new exchange traded fund bharat \n",
      "예측 요약 :  govt to pay lakh for lakh to\n",
      "\n",
      "\n",
      "원문 : tata steel monday posted rise net profit continuing operations crore june quarter crore period last year revenue increased crore tata steel said one time provision crore mining related litigation resulted less expected profit \n",
      "실제 요약 : tata steel posts rise in profit at crore \n",
      "예측 요약 :  tata steel profit rises to crore in march quarter\n",
      "\n",
      "\n",
      "원문 : assets management india mutual fund industry crossed lakh crore mark first time touch lakh crore august industry witnessed high inflow lakh crore last month total asset base fund houses put together lakh crore august last year \n",
      "실제 요약 : mutual fund asset base crosses lakh crore for first time \n",
      "예측 요약 :  sbi posts first ever quarterly loss of cr\n",
      "\n",
      "\n",
      "원문 : two bikers arrested wednesday performing stunts inspired bollywood movie dhoom mumbai marine drive police said got information four bikers performing stunts managed catch two accused reportedly said inspired movie perform stunts impress girls \n",
      "실제 요약 : bikers arrested for inspired stunts in mumbai \n",
      "예측 요약 :  mumbai police arrest for blue whale challenge\n",
      "\n",
      "\n",
      "원문 : photo sharing app snapchat went least four hours monday affecting users worldwide users said unable sign app displayed message read could connect snapchat said aware issue recommended users stay logged accounts \n",
      "실제 요약 : snapchat faces four hours of global outage \n",
      "예측 요약 :  instagram faces video outage over users\n",
      "\n",
      "\n",
      "원문 : supreme court friday restrained promoters real estate major amrapali group leaving country without permission amrapali group liabilities crore towards authorities owes crore banks amrapali launched flats noida delivered pending \n",
      "실제 요약 : sc bars amrapali group promoters from leaving india \n",
      "예측 요약 :  sc asks to pay crore to refund crore\n",
      "\n",
      "\n",
      "원문 : pm narendra modi saturday took twitter wish nation eid ul saying eid mubarak may day deepen bonds unity harmony society may happy occasion bring joy families foster fraternity understanding mutual goodwill shared society president ram nath kovind tweeted \n",
      "실제 요약 : pm modi prez kovind extend greetings on eid ul \n",
      "예측 요약 :  pm modi wishes greetings on day on day\n",
      "\n",
      "\n",
      "원문 : actor gulshan grover said watching ss rajamouli baahubali felt would played role kattappa better added certain expression required roles gulshan said actor sathyaraj played role done decent job \n",
      "실제 요약 : would have played kattappa role better in baahubali \n",
      "예측 요약 :  am not work with baahubali actor on baahubali actor\n",
      "\n",
      "\n",
      "원문 : researchers identified star made partner star twin star system explode supernova million light years away hydrogen rich debris shed star explosion revealed either red giant similar star supernova material hit debris speed light \n",
      "실제 요약 : star that caused partner star to explode identified \n",
      "예측 요약 :  star in star star in star in star\n",
      "\n",
      "\n",
      "원문 : saif ali khan open letter said called kangana ranaut apologised personally taking dig nepotism rocks act iifa owe anybody else explanation issue added talking nepotism saif wrote audience makes film hit family members \n",
      "실제 요약 : called kangana and apologised saif on nepotism act at iifa \n",
      "예측 요약 :  it is like kangana on social media\n",
      "\n",
      "\n",
      "원문 : protesters pakistan burned effigy us president donald trump anti us protest monday protest comes trump accused pakistan providing safe havens terrorist organisations announcing us strategy fighting taliban militants afghanistan however pakistan rejected trump claims asserted taken action militant groups \n",
      "실제 요약 : protesters in pakistan burn effigy of donald trump \n"
     ]
    },
    {
     "name": "stdout",
     "output_type": "stream",
     "text": [
      "예측 요약 :  trump threatens to us envoy to saudi arabia\n",
      "\n",
      "\n",
      "원문 : us based augmented reality startup magic leap announced raised million series funding round led singapore based venture fund temasek holdings investors alibaba fidelity management others also participated round magic leap last financing round led alibaba valued company billion \n",
      "실제 요약 : ar startup magic leap raises million in series \n",
      "예측 요약 :  startup raises million in series\n",
      "\n",
      "\n",
      "원문 : actor director nandita das tuesday said continue add voice metoo movement despite disturbing sexual harassment allegations levelled father jatin das important sure allegations dilute movement added father categorically denied sexual harassment allegations levelled \n",
      "실제 요약 : will support metoo despite allegations against my dad nandita \n",
      "예측 요약 :  sexual harassment case against me for me lipstick twinkle\n",
      "\n",
      "\n",
      "원문 : virat kohli described australia adelaide best test century saying confidence team got match laid foundation current number one status kohli captaining first test match absence injured ms dhoni india dismissed chasing target \n",
      "실제 요약 : against australia in most special century kohli \n",
      "예측 요약 :  kohli should be batting in test innings rohit kohli\n",
      "\n",
      "\n",
      "원문 : reacting ms dhoni stumping tharanga third sri lanka odi sunday user tweeted ms dhoni faster thunder god stumpings others reacted tweets like dhoni enforce two stumping kind stumping dhoni wickets column front name \n",
      "실제 요약 : dhoni is faster than thunder tweets user on his stumping \n",
      "예측 요약 :  dhoni posts video of dhoni in mumbai cricket final\n",
      "\n",
      "\n",
      "원문 : football world cup trophy exhibited central hall westminster london stolen march next day anonymous caller football association chairman demanding approximately lakh returning trophy trophy later found dog named march \n",
      "실제 요약 : football world cup trophy was stolen on march \n",
      "예측 요약 :  fifa world cup winners get fifa cash prize\n",
      "\n",
      "\n",
      "원문 : police uttar pradesh directed store ganga water police stations well replace get damaged way directive issued state dgp principal secretary bring ganga water haridwar travel foot \n",
      "실제 요약 : up police stations to store ganga water for \n",
      "예측 요약 :  up to get electricity in uttar pradesh\n",
      "\n",
      "\n",
      "원문 : ministry external affairs spokesperson raveesh kumar said unprovoked ceasefire violations pakistan used cover infiltrate terrorists territory always taken strongly matter unprovoked ceasefire violation pakistani side involves loss life property added \n",
      "실제 요약 : over ceasefire violations by pak in so far mea \n",
      "예측 요약 :  pakistan denies it of indian soldiers\n",
      "\n",
      "\n",
      "원문 : watching pre release screening film padmaavat author tripathi known novels like tweeted honours rani padmavati says positive things culture calling padmaavat one sanjay leela bhansali finest films added film celebrates rajput bravery film scheduled release january \n",
      "실제 요약 : watched padmaavat it honours rani padmavati author \n",
      "예측 요약 :  sanjay dutt to release in jail for padmaavat\n",
      "\n",
      "\n",
      "원문 : google monday announced new update maps allows users virtually visit celestial bodies including planets moon access imagery users zoom terrestrial google maps view start seeing outer space update also allows users look international space station \n",
      "실제 요약 : google maps update lets users visit planets moon \n",
      "예측 요약 :  google launches new app for user maps\n",
      "\n",
      "\n",
      "원문 : asked interview stop ruling kingdom saudi arabia crown prince mohammed bin salman responded saying death year old named saudi crown prince last year elder cousin mohammed bin ousted position crown prince first line throne \n",
      "실제 요약 : only death can stop me from ruling saudi crown prince \n",
      "예측 요약 :  saudi prince murdered by saudi prince over prince murdered\n",
      "\n",
      "\n",
      "원문 : startup zomato announced expand indian cities including puducherry jamshedpur ambala meerut next week also looking hire nearly delivery partners cities surprised demand tier tier cities mohit gupta food delivery ceo zomato said \n",
      "실제 요약 : zomato to expand to more indian cities \n",
      "예측 요약 :  uber opens its own city in years\n",
      "\n",
      "\n",
      "원문 : japan defence minister said country satisfied north korea pledge halt nuclear intercontinental ballistic missile tests added north korea mention short medium range missiles asserted japan continue pressurising north korea ultimate weapons mass destruction \n",
      "실제 요약 : not satisfied with korea nuclear test suspension japan \n",
      "예측 요약 :  korea threatens to stop missile threat from korea\n",
      "\n",
      "\n",
      "원문 : australia based researchers discovered living specimens within world heritage area among oldest life earth first appeared billion years ago life forms usually found waters however found freshwater spring first time said researchers \n",
      "실제 요약 : live samples of one of world oldest life forms discovered \n",
      "예측 요약 :  oldest ever discovered in years\n",
      "\n",
      "\n",
      "원문 : rajput organisation karni sena member sukhdev singh said committee formed review sanjay leela bhansali padmavati opposed film central board film certification decided certify pressure underworld people outside cinema halls hall shows film vandalised organisation member added \n",
      "실제 요약 : karni sena blames for cbfc padmavati decision \n",
      "예측 요약 :  karni sena calls padmavati karni sena\n",
      "\n",
      "\n",
      "원문 : union minister harsh vardhan said green crackers available diwali technology crackers shared industry soon factories begin manufacturing granted licenses petroleum explosives safety organisation supreme court allowed firecracker bursting pm pm permitted use green crackers delhi ncr \n",
      "실제 요약 : green crackers will not be available this diwali minister \n",
      "예측 요약 :  no plan to regulate drones to track government\n",
      "\n",
      "\n",
      "원문 : us based automaker tesla model become country best selling electric car according bloomberg company delivered model vehicles first quarter compared deliveries toyota prime plug hybrid general motors bolt comes despite reports suggesting production model cars \n",
      "실제 요약 : tesla model becomes america best selling electric car \n",
      "예측 요약 :  tesla co founder becomes world most expensive car\n",
      "\n",
      "\n",
      "원문 : retired justice chandrashekhar shankar passed away aged thursday nagpur following brief illness padma bhushan recipient delivered landmark judgment held right life natural human right citizen approach court even emergency accordingly released evidence \n",
      "실제 요약 : former judge who gave landmark emergency verdict passes away \n",
      "예측 요약 :  padma bhushan passes away at\n",
      "\n",
      "\n",
      "원문 : actress alia bhatt said performing sonam kapoor sangeet added really preparing sonam wedding attending prepared wearing go fun sonam marrying businessman anand ahuja may mumbai \n",
      "실제 요약 : am not performing at sonam kapoor sangeet alia bhatt \n",
      "예측 요약 :  sonam kapoor shares video of her wedding dancing\n",
      "\n",
      "\n",
      "원문 : guinness world record largest tin caviar recently broken party luxury resort dubai weighing kilograms nearly three foot wide tin caviar valued caviar consumed guests used custom mother pearl made specifically record attempt \n",
      "실제 요약 : party guests finish world largest of worth \n",
      "예측 요약 :  world largest of expensive bike worth over crore\n",
      "\n",
      "\n",
      "원문 : convoy congress mp ranjan wife pappu yadav crushed three people death main road bihar monday per reports block chief yadav also present site took injured hospital least two injured said critical condition \n",
      "실제 요약 : congress mp convoy crushes three to death in bihar \n",
      "예측 요약 :  bjp mla son attacked in bihar\n",
      "\n",
      "\n",
      "원문 : swedish vehicle manufacturer volvo subsidiary volvo unveiled self system would allow yacht park dock video ft yacht seen fairly tight space without help system sensors onboard computers react changing sea conditions company president bj rn said \n",
      "실제 요약 : volvo unveils technology that allows yacht to park itself \n",
      "예측 요약 :  startup makes self driving cars car in cars\n",
      "\n",
      "\n",
      "원문 : cbi filed petition supreme court challenging delhi high court order quashing charges accused crore bofors pay case petition comes days attorney general kk venugopal advised appeal scam pertains allegations swedish firm bofors ab bribed indian politicians defence personnel crore deal \n",
      "실제 요약 : cbi moves sc challenging delhi hc verdict on bofors case \n",
      "예측 요약 :  sc dismisses plea to sc seeking hearing on unitech\n",
      "\n",
      "\n",
      "원문 : makers julie presented former censor board chief pahlaj nihalani copyright infringement case filed producer film julie use title julie release november julie producer nr claimed despite undertakings given julie promoted sequel \n",
      "실제 요약 : julie makers win copyright case over use of title row \n"
     ]
    },
    {
     "name": "stdout",
     "output_type": "stream",
     "text": [
      "예측 요약 :  pahlaj sends notice to pahlaj over his film\n",
      "\n",
      "\n",
      "원문 : actor pulkit samrat ex wife shweta speaking said pulkit samrat knew died long ago one complete stranger cannot really comment added shweta said wonderful person many fond memories still cherish \n",
      "실제 요약 : the pulkit knew died long ago ex wife shweta \n",
      "예측 요약 :  never thought would never been called me wife\n",
      "\n",
      "\n",
      "원문 : foxconn investment subsidiary fih mobile written million million investment snapdeal comes company announced undertaken impairment loss million investment snapdeal parent firm jasper infotech furthermore fih estimated investment amount million citing failed flipkart snapdeal merger cause \n",
      "실제 요약 : foxconn writes off mn of its mn snapdeal investment \n",
      "예측 요약 :  snapdeal acquires mn management startup\n",
      "\n",
      "\n",
      "원문 : commenting reported cia finding saudi crown prince mohammed bin salman ordered killing journalist jamal khashoggi senior saudi prince al faisal said agency could counted reach credible conclusion added cia conclusion iraq possessed chemical weapons us invasion showed could unreliable \n",
      "실제 요약 : cia on journo killing cannot be trusted saudi prince \n",
      "예측 요약 :  saudi crown prince murdered journalist murdered in saudi\n",
      "\n",
      "\n"
     ]
    }
   ],
   "source": [
    "for i in range(50, 100):\n",
    "    print(\"원문 :\", seq2text(encoder_input_test[i]))\n",
    "    print(\"실제 요약 :\", seq2summary(decoder_input_test[i]))\n",
    "    print(\"예측 요약 :\", decode_sequence(encoder_input_test[i].reshape(1, text_max_len)))\n",
    "    print(\"\\n\")"
   ]
  },
  {
   "cell_type": "markdown",
   "id": "0b9a1831",
   "metadata": {},
   "source": [
    "## 3. Summa를 이용한 추출적 요약"
   ]
  },
  {
   "cell_type": "code",
   "execution_count": 106,
   "id": "42fac70c",
   "metadata": {},
   "outputs": [],
   "source": [
    "import requests\n",
    "from summa.summarizer import summarize"
   ]
  },
  {
   "cell_type": "code",
   "execution_count": 108,
   "id": "3bfb5c31",
   "metadata": {},
   "outputs": [
    {
     "name": "stdout",
     "output_type": "stream",
     "text": [
      "전체 샘플수 : 98401\n"
     ]
    },
    {
     "data": {
      "text/html": [
       "<div>\n",
       "<style scoped>\n",
       "    .dataframe tbody tr th:only-of-type {\n",
       "        vertical-align: middle;\n",
       "    }\n",
       "\n",
       "    .dataframe tbody tr th {\n",
       "        vertical-align: top;\n",
       "    }\n",
       "\n",
       "    .dataframe thead th {\n",
       "        text-align: right;\n",
       "    }\n",
       "</style>\n",
       "<table border=\"1\" class=\"dataframe\">\n",
       "  <thead>\n",
       "    <tr style=\"text-align: right;\">\n",
       "      <th></th>\n",
       "      <th>headlines</th>\n",
       "      <th>text</th>\n",
       "    </tr>\n",
       "  </thead>\n",
       "  <tbody>\n",
       "    <tr>\n",
       "      <th>25688</th>\n",
       "      <td>Sanju beats Padmaavat to become 5th highest B'...</td>\n",
       "      <td>The Ranbir Kapoor starrer 'Sanju' has beaten '...</td>\n",
       "    </tr>\n",
       "    <tr>\n",
       "      <th>97486</th>\n",
       "      <td>Why do passports have four primary colours?</td>\n",
       "      <td>Passport colours are derived from four primary...</td>\n",
       "    </tr>\n",
       "    <tr>\n",
       "      <th>31673</th>\n",
       "      <td>No free treatment for non-residents in hospita...</td>\n",
       "      <td>West Bengal government hospitals will not offe...</td>\n",
       "    </tr>\n",
       "    <tr>\n",
       "      <th>14695</th>\n",
       "      <td>Tanushree is paving the way, we need to suppor...</td>\n",
       "      <td>Twinkle Khanna, while praising Tanushree Dutta...</td>\n",
       "    </tr>\n",
       "    <tr>\n",
       "      <th>27169</th>\n",
       "      <td>Bodies of 3 boys who went for swim in Mumbai s...</td>\n",
       "      <td>The bodies of three 17-year-old boys, who drow...</td>\n",
       "    </tr>\n",
       "    <tr>\n",
       "      <th>7115</th>\n",
       "      <td>We want 'something done' about 26/11 attackers...</td>\n",
       "      <td>Calling the 26/11 Mumbai attacks an \"act of te...</td>\n",
       "    </tr>\n",
       "    <tr>\n",
       "      <th>76798</th>\n",
       "      <td>Twitter users react to achaari flavoured condo...</td>\n",
       "      <td>Reacting to Manforce introducing achaari flavo...</td>\n",
       "    </tr>\n",
       "    <tr>\n",
       "      <th>2330</th>\n",
       "      <td>Shubman Gill, Vijay Shankar to replace suspend...</td>\n",
       "      <td>Punjab's 19-year-old batsman Shubman Gill and ...</td>\n",
       "    </tr>\n",
       "    <tr>\n",
       "      <th>34856</th>\n",
       "      <td>Telugu actress arrested for protesting against...</td>\n",
       "      <td>Telugu actress Madhavi Latha was arrested by t...</td>\n",
       "    </tr>\n",
       "    <tr>\n",
       "      <th>83902</th>\n",
       "      <td>If you donÃ¢ÂÂt like my govt, donÃ¢ÂÂt use...</td>\n",
       "      <td>Andhra Pradesh CM N Chandrababu Naidu on Thurs...</td>\n",
       "    </tr>\n",
       "  </tbody>\n",
       "</table>\n",
       "</div>"
      ],
      "text/plain": [
       "                                               headlines  \\\n",
       "25688  Sanju beats Padmaavat to become 5th highest B'...   \n",
       "97486        Why do passports have four primary colours?   \n",
       "31673  No free treatment for non-residents in hospita...   \n",
       "14695  Tanushree is paving the way, we need to suppor...   \n",
       "27169  Bodies of 3 boys who went for swim in Mumbai s...   \n",
       "7115   We want 'something done' about 26/11 attackers...   \n",
       "76798  Twitter users react to achaari flavoured condo...   \n",
       "2330   Shubman Gill, Vijay Shankar to replace suspend...   \n",
       "34856  Telugu actress arrested for protesting against...   \n",
       "83902  If you donÃ¢ÂÂt like my govt, donÃ¢ÂÂt use...   \n",
       "\n",
       "                                                    text  \n",
       "25688  The Ranbir Kapoor starrer 'Sanju' has beaten '...  \n",
       "97486  Passport colours are derived from four primary...  \n",
       "31673  West Bengal government hospitals will not offe...  \n",
       "14695  Twinkle Khanna, while praising Tanushree Dutta...  \n",
       "27169  The bodies of three 17-year-old boys, who drow...  \n",
       "7115   Calling the 26/11 Mumbai attacks an \"act of te...  \n",
       "76798  Reacting to Manforce introducing achaari flavo...  \n",
       "2330   Punjab's 19-year-old batsman Shubman Gill and ...  \n",
       "34856  Telugu actress Madhavi Latha was arrested by t...  \n",
       "83902  Andhra Pradesh CM N Chandrababu Naidu on Thurs...  "
      ]
     },
     "execution_count": 108,
     "metadata": {},
     "output_type": "execute_result"
    }
   ],
   "source": [
    "import urllib.request\n",
    "urllib.request.urlretrieve(\"https://raw.githubusercontent.com/sunnysai12345/News_Summary/master/news_summary_more.csv\", filename=\"news_summary_more.csv\")\n",
    "data = pd.read_csv('news_summary_more.csv', encoding='iso-8859-1')\n",
    "\n",
    "print('전체 샘플수 :', (len(data)))\n",
    "data.sample(10)\n"
   ]
  },
  {
   "cell_type": "code",
   "execution_count": 129,
   "id": "d88ef574",
   "metadata": {},
   "outputs": [
    {
     "data": {
      "text/plain": [
       "0        Saurav Kant, an alumnus of upGrad and IIIT-B's...\n",
       "1        Kunal Shah's credit card bill payment platform...\n",
       "2        New Zealand defeated India by 8 wickets in the...\n",
       "3        With Aegon Life iTerm Insurance plan, customer...\n",
       "4        Speaking about the sexual harassment allegatio...\n",
       "                               ...                        \n",
       "98396    A CRPF jawan was on Tuesday axed to death with...\n",
       "98397    'Uff Yeh', the first song from the Sonakshi Si...\n",
       "98398    According to reports, a new version of the 199...\n",
       "98399    A new music video shows rapper Snoop Dogg aimi...\n",
       "98400    Madhesi Morcha, an alliance of seven political...\n",
       "Name: text, Length: 98401, dtype: object"
      ]
     },
     "execution_count": 129,
     "metadata": {},
     "output_type": "execute_result"
    }
   ],
   "source": [
    "text = data['text']\n",
    "text"
   ]
  },
  {
   "cell_type": "code",
   "execution_count": 131,
   "id": "33d0f57a",
   "metadata": {},
   "outputs": [
    {
     "name": "stdout",
     "output_type": "stream",
     "text": [
      "\n",
      "\n",
      "\n",
      "\n",
      "\n"
     ]
    }
   ],
   "source": [
    "from summa.summarizer import summarize\n",
    "\n",
    "# 추출적 요약을 저장할 리스트\n",
    "summaries = []\n",
    "cnt = 0\n",
    "\n",
    "# 각 텍스트에 대해 추출적 요약 수행\n",
    "for text in data['text']:\n",
    "    summary = summarize(text)\n",
    "    summaries.append(summary)\n",
    "    cnt += 1\n",
    "    \n",
    "    if cnt == 5:\n",
    "        break\n",
    "\n",
    "# 결과 출력\n",
    "for summary in summaries:\n",
    "    print(summary)\n"
   ]
  },
  {
   "cell_type": "code",
   "execution_count": 132,
   "id": "c51ca708",
   "metadata": {},
   "outputs": [
    {
     "name": "stdout",
     "output_type": "stream",
     "text": [
      "Saurav Kant, an alumnus of upGrad and IIIT-B's PG Program in Machine learning and Artificial Intelligence, was a Sr Systems Engineer at Infosys with almost 5 years of work experience. The program and upGrad's 360-degree career support helped him transition to a Data Scientist at Tech Mahindra with 90% salary hike. upGrad's Online Power Learning has powered 3 lakh+ careers.\n"
     ]
    }
   ],
   "source": [
    "urllib.request.urlretrieve(\"https://raw.githubusercontent.com/sunnysai12345/News_Summary/master/news_summary_more.csv\", filename=\"news_summary_more.csv\")\n",
    "text_list = pd.read_csv('news_summary_more.csv', encoding='iso-8859-1')\n",
    "\n",
    "text = text_list['text'][0]\n",
    "print(text[:1500])"
   ]
  },
  {
   "cell_type": "code",
   "execution_count": 134,
   "id": "313bad92",
   "metadata": {
    "scrolled": true
   },
   "outputs": [
    {
     "name": "stdout",
     "output_type": "stream",
     "text": [
      "Summary:\n",
      "upGrad's Online Power Learning has powered 3 lakh+ careers.\n"
     ]
    }
   ],
   "source": [
    "print('Summary:')\n",
    "print(summarize(text, ratio=0.5))"
   ]
  },
  {
   "cell_type": "code",
   "execution_count": 135,
   "id": "a226f084",
   "metadata": {
    "scrolled": true
   },
   "outputs": [
    {
     "name": "stdout",
     "output_type": "stream",
     "text": [
      "Summary:\n",
      "[\"upGrad's Online Power Learning has powered 3 lakh+ careers.\"]\n"
     ]
    }
   ],
   "source": [
    "print('Summary:')\n",
    "print(summarize(text, ratio=0.5, split=True))"
   ]
  },
  {
   "cell_type": "code",
   "execution_count": 136,
   "id": "022de496",
   "metadata": {},
   "outputs": [
    {
     "name": "stdout",
     "output_type": "stream",
     "text": [
      "Summary:\n",
      "upGrad's Online Power Learning has powered 3 lakh+ careers.\n"
     ]
    }
   ],
   "source": [
    "print('Summary:')\n",
    "# 50 단어로 요약하는 코드\n",
    "print(summarize(text, words=5))"
   ]
  },
  {
   "cell_type": "code",
   "execution_count": null,
   "id": "6e792321",
   "metadata": {},
   "outputs": [],
   "source": []
  }
 ],
 "metadata": {
  "kernelspec": {
   "display_name": "Python 3 (ipykernel)",
   "language": "python",
   "name": "python3"
  },
  "language_info": {
   "codemirror_mode": {
    "name": "ipython",
    "version": 3
   },
   "file_extension": ".py",
   "mimetype": "text/x-python",
   "name": "python",
   "nbconvert_exporter": "python",
   "pygments_lexer": "ipython3",
   "version": "3.9.7"
  }
 },
 "nbformat": 4,
 "nbformat_minor": 5
}
