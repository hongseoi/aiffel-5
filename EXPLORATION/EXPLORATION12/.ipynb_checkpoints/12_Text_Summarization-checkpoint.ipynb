{
 "cells": [
  {
   "cell_type": "markdown",
   "id": "6411e244",
   "metadata": {},
   "source": [
    "# 뉴스기사 요약하기\n",
    "\n",
    "## 1. 데이터 수집\n",
    "## 2. 추상적 요약\n",
    "### 2.1. 데이터 전처리\n",
    "### 2.2. 어텐션 메커니즘 사용한 모델 설계\n",
    "### 2.3. 실제 결과와 요약문 비교하기\n",
    "## 3. Summa를 이용한 추출적 요약"
   ]
  },
  {
   "cell_type": "code",
   "execution_count": 1,
   "id": "5e943bde",
   "metadata": {},
   "outputs": [
    {
     "name": "stderr",
     "output_type": "stream",
     "text": [
      "[nltk_data] Downloading package stopwords to /aiffel/nltk_data...\n",
      "[nltk_data]   Package stopwords is already up-to-date!\n"
     ]
    },
    {
     "name": "stdout",
     "output_type": "stream",
     "text": [
      "라이브러리 준비 완료!\n"
     ]
    }
   ],
   "source": [
    "import nltk\n",
    "nltk.download('stopwords')\n",
    "\n",
    "import numpy as np\n",
    "import pandas as pd\n",
    "import os\n",
    "import re\n",
    "import matplotlib.pyplot as plt\n",
    "from nltk.corpus import stopwords\n",
    "from bs4 import BeautifulSoup \n",
    "from tensorflow.keras.preprocessing.text import Tokenizer \n",
    "from tensorflow.keras.preprocessing.sequence import pad_sequences\n",
    "import urllib.request\n",
    "import warnings\n",
    "warnings.filterwarnings(\"ignore\", category=UserWarning, module='bs4')\n",
    "\n",
    "print('라이브러리 준비 완료!')"
   ]
  },
  {
   "cell_type": "markdown",
   "id": "9f614aa8",
   "metadata": {},
   "source": [
    "## 1. 데이터 수집"
   ]
  },
  {
   "cell_type": "code",
   "execution_count": 2,
   "id": "b9533ff3",
   "metadata": {},
   "outputs": [
    {
     "name": "stdout",
     "output_type": "stream",
     "text": [
      "전체 샘플수 : 98401\n"
     ]
    },
    {
     "data": {
      "text/html": [
       "<div>\n",
       "<style scoped>\n",
       "    .dataframe tbody tr th:only-of-type {\n",
       "        vertical-align: middle;\n",
       "    }\n",
       "\n",
       "    .dataframe tbody tr th {\n",
       "        vertical-align: top;\n",
       "    }\n",
       "\n",
       "    .dataframe thead th {\n",
       "        text-align: right;\n",
       "    }\n",
       "</style>\n",
       "<table border=\"1\" class=\"dataframe\">\n",
       "  <thead>\n",
       "    <tr style=\"text-align: right;\">\n",
       "      <th></th>\n",
       "      <th>headlines</th>\n",
       "      <th>text</th>\n",
       "    </tr>\n",
       "  </thead>\n",
       "  <tbody>\n",
       "    <tr>\n",
       "      <th>13039</th>\n",
       "      <td>Aus spinner has not overstepped for over 20,00...</td>\n",
       "      <td>Australian spinner Nathan Lyon has not overste...</td>\n",
       "    </tr>\n",
       "    <tr>\n",
       "      <th>2838</th>\n",
       "      <td>South Korean startup makes Ã¢ÂÂ¹1.2L smart tr...</td>\n",
       "      <td>South Korean startup The Little Cat showed its...</td>\n",
       "    </tr>\n",
       "    <tr>\n",
       "      <th>9946</th>\n",
       "      <td>Isha Ambani, Anand to live in Ã¢ÂÂ¹450 cr sea...</td>\n",
       "      <td>Mukesh Ambani's daughter Isha Ambani and her h...</td>\n",
       "    </tr>\n",
       "    <tr>\n",
       "      <th>50726</th>\n",
       "      <td>Uber CEO Dara Khosrowshahi to visit India next...</td>\n",
       "      <td>Uber's Chief Executive Officer Dara Khosrowsha...</td>\n",
       "    </tr>\n",
       "    <tr>\n",
       "      <th>78255</th>\n",
       "      <td>Taapsee, Rishi to be seen together in upcoming...</td>\n",
       "      <td>Actors Taapsee Pannu and Rishi Kapoor will be ...</td>\n",
       "    </tr>\n",
       "    <tr>\n",
       "      <th>55385</th>\n",
       "      <td>Tesla rival Faraday Future raises $1 billion: ...</td>\n",
       "      <td>Electric carmaker and Tesla rival Faraday Futu...</td>\n",
       "    </tr>\n",
       "    <tr>\n",
       "      <th>74736</th>\n",
       "      <td>A 'dead star' may be a leftover of stellar exp...</td>\n",
       "      <td>Astronomers have identified a white dwarf, fue...</td>\n",
       "    </tr>\n",
       "    <tr>\n",
       "      <th>59839</th>\n",
       "      <td>Pak court orders release of 26/11 mastermind H...</td>\n",
       "      <td>A Pakistani court on Wednesday ordered the rel...</td>\n",
       "    </tr>\n",
       "    <tr>\n",
       "      <th>93126</th>\n",
       "      <td>Facebook shuts man's account for uploading liv...</td>\n",
       "      <td>Social media platform Facebook has shut down a...</td>\n",
       "    </tr>\n",
       "    <tr>\n",
       "      <th>7075</th>\n",
       "      <td>Surrendered militant among 3 held with heroin ...</td>\n",
       "      <td>Three suspected drug smugglers, including a su...</td>\n",
       "    </tr>\n",
       "  </tbody>\n",
       "</table>\n",
       "</div>"
      ],
      "text/plain": [
       "                                               headlines  \\\n",
       "13039  Aus spinner has not overstepped for over 20,00...   \n",
       "2838   South Korean startup makes Ã¢ÂÂ¹1.2L smart tr...   \n",
       "9946   Isha Ambani, Anand to live in Ã¢ÂÂ¹450 cr sea...   \n",
       "50726  Uber CEO Dara Khosrowshahi to visit India next...   \n",
       "78255  Taapsee, Rishi to be seen together in upcoming...   \n",
       "55385  Tesla rival Faraday Future raises $1 billion: ...   \n",
       "74736  A 'dead star' may be a leftover of stellar exp...   \n",
       "59839  Pak court orders release of 26/11 mastermind H...   \n",
       "93126  Facebook shuts man's account for uploading liv...   \n",
       "7075   Surrendered militant among 3 held with heroin ...   \n",
       "\n",
       "                                                    text  \n",
       "13039  Australian spinner Nathan Lyon has not overste...  \n",
       "2838   South Korean startup The Little Cat showed its...  \n",
       "9946   Mukesh Ambani's daughter Isha Ambani and her h...  \n",
       "50726  Uber's Chief Executive Officer Dara Khosrowsha...  \n",
       "78255  Actors Taapsee Pannu and Rishi Kapoor will be ...  \n",
       "55385  Electric carmaker and Tesla rival Faraday Futu...  \n",
       "74736  Astronomers have identified a white dwarf, fue...  \n",
       "59839  A Pakistani court on Wednesday ordered the rel...  \n",
       "93126  Social media platform Facebook has shut down a...  \n",
       "7075   Three suspected drug smugglers, including a su...  "
      ]
     },
     "execution_count": 2,
     "metadata": {},
     "output_type": "execute_result"
    }
   ],
   "source": [
    "import urllib.request\n",
    "urllib.request.urlretrieve(\"https://raw.githubusercontent.com/sunnysai12345/News_Summary/master/news_summary_more.csv\", filename=\"news_summary_more.csv\")\n",
    "data = pd.read_csv('news_summary_more.csv', encoding='iso-8859-1')\n",
    "\n",
    "print('전체 샘플수 :', (len(data)))\n",
    "data.sample(10)\n"
   ]
  },
  {
   "cell_type": "markdown",
   "id": "63966d0a",
   "metadata": {},
   "source": [
    "## 2. 추상적 요약\n",
    "### 2.1. 데이터 전처리\n",
    "\n",
    "- 결측치, 중복 값 제거\n",
    "- 텍스트 정규화\n",
    "- 불용어 제거 \n",
    "- 샘플의 최대 길이 정하기\n",
    "- 시작토큰, 종료 토큰 추가\n",
    "- 훈련 데이터와 테스트 데이터 분리\n",
    "- 훈련 데이터로 단어집합(vocabulary) 만들기\n",
    "- 정수 인코딩\n",
    "- 패딩\n",
    "\n",
    "\n",
    "#### 결측치, 중복값 제거"
   ]
  },
  {
   "cell_type": "code",
   "execution_count": 3,
   "id": "616935e8",
   "metadata": {},
   "outputs": [
    {
     "name": "stdout",
     "output_type": "stream",
     "text": [
      "headlines 열에서 중복을 배제한 유일한 샘플의 수 : 98280\n",
      "text 열에서 중복을 배제한 유일한 샘플의 수 : 98360\n"
     ]
    }
   ],
   "source": [
    "# 컬럼별 중복치 확인\n",
    "print('headlines 열에서 중복을 배제한 유일한 샘플의 수 :', data['headlines'].nunique())\n",
    "print('text 열에서 중복을 배제한 유일한 샘플의 수 :', data['text'].nunique())"
   ]
  },
  {
   "cell_type": "code",
   "execution_count": 4,
   "id": "a3232a5e",
   "metadata": {},
   "outputs": [
    {
     "name": "stdout",
     "output_type": "stream",
     "text": [
      "전체 샘플수 : 98360\n"
     ]
    }
   ],
   "source": [
    "# 중복값 제거\n",
    "data.drop_duplicates(subset = ['text'], inplace=True)\n",
    "print('전체 샘플수 :', (len(data)))"
   ]
  },
  {
   "cell_type": "code",
   "execution_count": 5,
   "id": "85b40f4e",
   "metadata": {},
   "outputs": [
    {
     "name": "stdout",
     "output_type": "stream",
     "text": [
      "headlines    0\n",
      "text         0\n",
      "dtype: int64\n"
     ]
    }
   ],
   "source": [
    "# 결측치 확인\n",
    "print(data.isnull().sum())\n"
   ]
  },
  {
   "cell_type": "markdown",
   "id": "7c49a39c",
   "metadata": {},
   "source": [
    "#### 텍스트 정규화 및 불용어 처리"
   ]
  },
  {
   "cell_type": "code",
   "execution_count": 6,
   "id": "c70e5613",
   "metadata": {},
   "outputs": [
    {
     "name": "stdout",
     "output_type": "stream",
     "text": [
      "정규화 사전의 수:  120\n"
     ]
    }
   ],
   "source": [
    "# 정규화 사전 구성\n",
    "contractions = {\"ain't\": \"is not\", \"aren't\": \"are not\",\"can't\": \"cannot\", \"'cause\": \"because\", \"could've\": \"could have\", \"couldn't\": \"could not\",\n",
    "                           \"didn't\": \"did not\",  \"doesn't\": \"does not\", \"don't\": \"do not\", \"hadn't\": \"had not\", \"hasn't\": \"has not\", \"haven't\": \"have not\",\n",
    "                           \"he'd\": \"he would\",\"he'll\": \"he will\", \"he's\": \"he is\", \"how'd\": \"how did\", \"how'd'y\": \"how do you\", \"how'll\": \"how will\", \"how's\": \"how is\",\n",
    "                           \"I'd\": \"I would\", \"I'd've\": \"I would have\", \"I'll\": \"I will\", \"I'll've\": \"I will have\",\"I'm\": \"I am\", \"I've\": \"I have\", \"i'd\": \"i would\",\n",
    "                           \"i'd've\": \"i would have\", \"i'll\": \"i will\",  \"i'll've\": \"i will have\",\"i'm\": \"i am\", \"i've\": \"i have\", \"isn't\": \"is not\", \"it'd\": \"it would\",\n",
    "                           \"it'd've\": \"it would have\", \"it'll\": \"it will\", \"it'll've\": \"it will have\",\"it's\": \"it is\", \"let's\": \"let us\", \"ma'am\": \"madam\",\n",
    "                           \"mayn't\": \"may not\", \"might've\": \"might have\",\"mightn't\": \"might not\",\"mightn't've\": \"might not have\", \"must've\": \"must have\",\n",
    "                           \"mustn't\": \"must not\", \"mustn't've\": \"must not have\", \"needn't\": \"need not\", \"needn't've\": \"need not have\",\"o'clock\": \"of the clock\",\n",
    "                           \"oughtn't\": \"ought not\", \"oughtn't've\": \"ought not have\", \"shan't\": \"shall not\", \"sha'n't\": \"shall not\", \"shan't've\": \"shall not have\",\n",
    "                           \"she'd\": \"she would\", \"she'd've\": \"she would have\", \"she'll\": \"she will\", \"she'll've\": \"she will have\", \"she's\": \"she is\",\n",
    "                           \"should've\": \"should have\", \"shouldn't\": \"should not\", \"shouldn't've\": \"should not have\", \"so've\": \"so have\",\"so's\": \"so as\",\n",
    "                           \"this's\": \"this is\",\"that'd\": \"that would\", \"that'd've\": \"that would have\", \"that's\": \"that is\", \"there'd\": \"there would\",\n",
    "                           \"there'd've\": \"there would have\", \"there's\": \"there is\", \"here's\": \"here is\",\"they'd\": \"they would\", \"they'd've\": \"they would have\",\n",
    "                           \"they'll\": \"they will\", \"they'll've\": \"they will have\", \"they're\": \"they are\", \"they've\": \"they have\", \"to've\": \"to have\",\n",
    "                           \"wasn't\": \"was not\", \"we'd\": \"we would\", \"we'd've\": \"we would have\", \"we'll\": \"we will\", \"we'll've\": \"we will have\", \"we're\": \"we are\",\n",
    "                           \"we've\": \"we have\", \"weren't\": \"were not\", \"what'll\": \"what will\", \"what'll've\": \"what will have\", \"what're\": \"what are\",\n",
    "                           \"what's\": \"what is\", \"what've\": \"what have\", \"when's\": \"when is\", \"when've\": \"when have\", \"where'd\": \"where did\", \"where's\": \"where is\",\n",
    "                           \"where've\": \"where have\", \"who'll\": \"who will\", \"who'll've\": \"who will have\", \"who's\": \"who is\", \"who've\": \"who have\",\n",
    "                           \"why's\": \"why is\", \"why've\": \"why have\", \"will've\": \"will have\", \"won't\": \"will not\", \"won't've\": \"will not have\",\n",
    "                           \"would've\": \"would have\", \"wouldn't\": \"would not\", \"wouldn't've\": \"would not have\", \"y'all\": \"you all\",\n",
    "                           \"y'all'd\": \"you all would\",\"y'all'd've\": \"you all would have\",\"y'all're\": \"you all are\",\"y'all've\": \"you all have\",\n",
    "                           \"you'd\": \"you would\", \"you'd've\": \"you would have\", \"you'll\": \"you will\", \"you'll've\": \"you will have\",\n",
    "                           \"you're\": \"you are\", \"you've\": \"you have\"}\n",
    "\n",
    "print(\"정규화 사전의 수: \", len(contractions))"
   ]
  },
  {
   "cell_type": "code",
   "execution_count": 7,
   "id": "1f1865ce",
   "metadata": {},
   "outputs": [
    {
     "name": "stdout",
     "output_type": "stream",
     "text": [
      "불용어 개수 : 179\n",
      "['i', 'me', 'my', 'myself', 'we', 'our', 'ours', 'ourselves', 'you', \"you're\", \"you've\", \"you'll\", \"you'd\", 'your', 'yours', 'yourself', 'yourselves', 'he', 'him', 'his', 'himself', 'she', \"she's\", 'her', 'hers', 'herself', 'it', \"it's\", 'its', 'itself', 'they', 'them', 'their', 'theirs', 'themselves', 'what', 'which', 'who', 'whom', 'this', 'that', \"that'll\", 'these', 'those', 'am', 'is', 'are', 'was', 'were', 'be', 'been', 'being', 'have', 'has', 'had', 'having', 'do', 'does', 'did', 'doing', 'a', 'an', 'the', 'and', 'but', 'if', 'or', 'because', 'as', 'until', 'while', 'of', 'at', 'by', 'for', 'with', 'about', 'against', 'between', 'into', 'through', 'during', 'before', 'after', 'above', 'below', 'to', 'from', 'up', 'down', 'in', 'out', 'on', 'off', 'over', 'under', 'again', 'further', 'then', 'once', 'here', 'there', 'when', 'where', 'why', 'how', 'all', 'any', 'both', 'each', 'few', 'more', 'most', 'other', 'some', 'such', 'no', 'nor', 'not', 'only', 'own', 'same', 'so', 'than', 'too', 'very', 's', 't', 'can', 'will', 'just', 'don', \"don't\", 'should', \"should've\", 'now', 'd', 'll', 'm', 'o', 're', 've', 'y', 'ain', 'aren', \"aren't\", 'couldn', \"couldn't\", 'didn', \"didn't\", 'doesn', \"doesn't\", 'hadn', \"hadn't\", 'hasn', \"hasn't\", 'haven', \"haven't\", 'isn', \"isn't\", 'ma', 'mightn', \"mightn't\", 'mustn', \"mustn't\", 'needn', \"needn't\", 'shan', \"shan't\", 'shouldn', \"shouldn't\", 'wasn', \"wasn't\", 'weren', \"weren't\", 'won', \"won't\", 'wouldn', \"wouldn't\"]\n"
     ]
    }
   ],
   "source": [
    "print('불용어 개수 :', len(stopwords.words('english') ))\n",
    "print(stopwords.words('english'))"
   ]
  },
  {
   "cell_type": "code",
   "execution_count": 8,
   "id": "65aa2e0b",
   "metadata": {},
   "outputs": [
    {
     "name": "stdout",
     "output_type": "stream",
     "text": [
      "=3\n"
     ]
    }
   ],
   "source": [
    "# 데이터 전처리, 불용어 제거\n",
    "\n",
    "# 데이터 전처리 함수\n",
    "def preprocess_sentence(sentence, remove_stopwords=True):\n",
    "    sentence = sentence.lower() # 텍스트 소문자화\n",
    "    sentence = BeautifulSoup(sentence, \"lxml\").text # <br />, <a href = ...> 등의 html 태그 제거\n",
    "    sentence = re.sub(r'\\([^)]*\\)', '', sentence) # 괄호로 닫힌 문자열 (...) 제거 Ex) my husband (and myself!) for => my husband for\n",
    "    sentence = re.sub('\"','', sentence) # 쌍따옴표 \" 제거\n",
    "    sentence = ' '.join([contractions[t] if t in contractions else t for t in sentence.split(\" \")]) # 약어 정규화\n",
    "    sentence = re.sub(r\"'s\\b\",\"\", sentence) # 소유격 제거. Ex) roland's -> roland\n",
    "    sentence = re.sub(\"[^a-zA-Z]\", \" \", sentence) # 영어 외 문자(숫자, 특수문자 등) 공백으로 변환\n",
    "    sentence = re.sub('[m]{2,}', 'mm', sentence) # m이 3개 이상이면 2개로 변경. Ex) ummmmmmm yeah -> umm yeah\n",
    "    \n",
    "    # 불용어 제거 (Text)\n",
    "    if remove_stopwords:\n",
    "        tokens = ' '.join(word for word in sentence.split() if not word in stopwords.words('english') if len(word) > 1)\n",
    "    # 불용어 미제거 (Summary)\n",
    "    else:\n",
    "        tokens = ' '.join(word for word in sentence.split() if len(word) > 1)\n",
    "    return tokens\n",
    "print('=3')"
   ]
  },
  {
   "cell_type": "code",
   "execution_count": 9,
   "id": "ac0831b8",
   "metadata": {},
   "outputs": [],
   "source": [
    "# data['text'] 전처리\n",
    "clean_text = []\n",
    "\n",
    "for c in data['text']:\n",
    "    clean_text.append(preprocess_sentence(c, remove_stopwords=True))\n",
    "\n"
   ]
  },
  {
   "cell_type": "code",
   "execution_count": 10,
   "id": "eb6aacfd",
   "metadata": {},
   "outputs": [],
   "source": [
    "# data['headlines'] 전처리\n",
    "clean_summary = []\n",
    "\n",
    "for c in data['headlines']:\n",
    "    clean_summary.append(preprocess_sentence(c, remove_stopwords=True))\n"
   ]
  },
  {
   "cell_type": "code",
   "execution_count": 11,
   "id": "ce1bd25c",
   "metadata": {},
   "outputs": [],
   "source": [
    "# 데이터프레임에 반영\n",
    "data['text'] = clean_text\n",
    "data['headlines'] = clean_summary\n",
    "\n",
    "# 빈 값을 Null 값으로 변환\n",
    "data.replace('', np.nan, inplace=True)"
   ]
  },
  {
   "cell_type": "code",
   "execution_count": 12,
   "id": "69f0523e",
   "metadata": {},
   "outputs": [
    {
     "name": "stdout",
     "output_type": "stream",
     "text": [
      "Text 전처리 후 결과:  ['saurav kant alumnus upgrad iiit pg program machine learning artificial intelligence sr systems engineer infosys almost years work experience program upgrad degree career support helped transition data scientist tech mahindra salary hike upgrad online power learning powered lakh careers', 'kunal shah credit card bill payment platform cred gave users chance win free food swiggy one year pranav kaushik delhi techie bagged reward spending cred coins users get one cred coin per rupee bill paid used avail rewards brands like ixigo bookmyshow ubereats cult fit', 'new zealand defeated india wickets fourth odi hamilton thursday win first match five match odi series india lost international match rohit sharma captaincy consecutive victories dating back march match witnessed india getting seventh lowest total odi cricket history', 'aegon life iterm insurance plan customers enjoy tax benefits premiums paid save taxes plan provides life cover age years also customers options insure critical illnesses disability accidental death benefit rider life cover age years', 'speaking sexual harassment allegations rajkumar hirani sonam kapoor said known hirani many years true metoo movement get derailed metoo movement always believe woman case need reserve judgment added hirani accused assistant worked sanju']\n",
      "Summary 전처리 후 결과:  ['upgrad learner switches career ml al salary hike', 'delhi techie wins free food swiggy one year cred', 'new zealand end rohit sharma led india match winning streak', 'aegon life iterm insurance plan helps customers save tax', 'known hirani yrs metoo claims true sonam']\n",
      "결측치 확인: headlines    0\n",
      "text         0\n",
      "dtype: int64\n"
     ]
    }
   ],
   "source": [
    "# 전처리 결과 출력\n",
    "print(\"Text 전처리 후 결과: \", clean_text[:5])\n",
    "print(\"Summary 전처리 후 결과: \", clean_summary[:5])\n",
    "print(\"결측치 확인:\", data.isnull().sum())"
   ]
  },
  {
   "cell_type": "code",
   "execution_count": 13,
   "id": "553bf109",
   "metadata": {},
   "outputs": [
    {
     "name": "stdout",
     "output_type": "stream",
     "text": [
      "전체 샘플수 : 98360\n"
     ]
    }
   ],
   "source": [
    "data.dropna(axis=0, inplace=True)\n",
    "print('전체 샘플수 :', (len(data)))"
   ]
  },
  {
   "cell_type": "markdown",
   "id": "693bdca8",
   "metadata": {},
   "source": [
    "#### 샘플의 최대 길이 정하기\n"
   ]
  },
  {
   "cell_type": "code",
   "execution_count": 14,
   "id": "f24292b9",
   "metadata": {},
   "outputs": [
    {
     "name": "stdout",
     "output_type": "stream",
     "text": [
      "텍스트의 최소 길이 : 1\n",
      "텍스트의 최대 길이 : 60\n",
      "텍스트의 평균 길이 : 35.09968483123221\n",
      "요약의 최소 길이 : 1\n",
      "요약의 최대 길이 : 13\n",
      "요약의 평균 길이 : 7.136183407889386\n"
     ]
    },
    {
     "data": {
      "image/png": "[encoded data removed]",
      "text/plain": [
       "<Figure size 432x288 with 2 Axes>"
      ]
     },
     "metadata": {
      "needs_background": "light"
     },
     "output_type": "display_data"
    },
    {
     "data": {
      "image/png": "[encoded data removed]",
      "text/plain": [
       "<Figure size 432x288 with 1 Axes>"
      ]
     },
     "metadata": {
      "needs_background": "light"
     },
     "output_type": "display_data"
    },
    {
     "data": {
      "image/png": "[encoded data removed]",
      "text/plain": [
       "<Figure size 432x288 with 1 Axes>"
      ]
     },
     "metadata": {
      "needs_background": "light"
     },
     "output_type": "display_data"
    }
   ],
   "source": [
    "# 길이 분포 시각화\n",
    "import matplotlib.pyplot as plt\n",
    "\n",
    "text_len = [len(s.split()) for s in data['text']]\n",
    "summary_len = [len(s.split()) for s in data['headlines']]\n",
    "\n",
    "print('텍스트의 최소 길이 : {}'.format(np.min(text_len)))\n",
    "print('텍스트의 최대 길이 : {}'.format(np.max(text_len)))\n",
    "print('텍스트의 평균 길이 : {}'.format(np.mean(text_len)))\n",
    "print('요약의 최소 길이 : {}'.format(np.min(summary_len)))\n",
    "print('요약의 최대 길이 : {}'.format(np.max(summary_len)))\n",
    "print('요약의 평균 길이 : {}'.format(np.mean(summary_len)))\n",
    "\n",
    "plt.subplot(1,2,1)\n",
    "plt.boxplot(text_len)\n",
    "plt.title('Text')\n",
    "plt.subplot(1,2,2)\n",
    "plt.boxplot(summary_len)\n",
    "plt.title('Summary')\n",
    "plt.tight_layout()\n",
    "plt.show()\n",
    "\n",
    "plt.title('Text')\n",
    "plt.hist(text_len, bins = 40)\n",
    "plt.xlabel('length of samples')\n",
    "plt.ylabel('number of samples')\n",
    "plt.show()\n",
    "\n",
    "plt.title('Summary')\n",
    "plt.hist(summary_len, bins = 40)\n",
    "plt.xlabel('length of samples')\n",
    "plt.ylabel('number of samples')\n",
    "plt.show()"
   ]
  },
  {
   "cell_type": "code",
   "execution_count": 15,
   "id": "435dd448",
   "metadata": {},
   "outputs": [],
   "source": [
    "# text, summary의 적절한 최대길이 임의 설정\n",
    "text_max_len = 50\n",
    "summary_max_len = 10"
   ]
  },
  {
   "cell_type": "code",
   "execution_count": 16,
   "id": "56b2b3e3",
   "metadata": {},
   "outputs": [],
   "source": [
    "def below_threshold_len(max_len, nested_list):\n",
    "  cnt = 0\n",
    "  for s in nested_list:\n",
    "    if(len(s.split()) <= max_len):\n",
    "        cnt = cnt + 1\n",
    "  print('전체 샘플 중 길이가 %s 이하인 샘플의 비율: %s'%(max_len, (cnt / len(nested_list))))\n"
   ]
  },
  {
   "cell_type": "code",
   "execution_count": 17,
   "id": "0a9e2f23",
   "metadata": {},
   "outputs": [
    {
     "name": "stdout",
     "output_type": "stream",
     "text": [
      "전체 샘플 중 길이가 50 이하인 샘플의 비율: 0.9998576657177715\n",
      "전체 샘플 중 길이가 10 이하인 샘플의 비율: 0.9978344855632371\n"
     ]
    }
   ],
   "source": [
    "below_threshold_len(text_max_len, data['text'])\n",
    "below_threshold_len(summary_max_len,  data['headlines'])"
   ]
  },
  {
   "cell_type": "code",
   "execution_count": 18,
   "id": "c1e30ce8",
   "metadata": {},
   "outputs": [],
   "source": [
    "# 임의의 길이보다 큰 샘플 제외\n",
    "data = data[(data['text'].apply(lambda x: len(x.split())) <= text_max_len) & \n",
    "            (data['headlines'].apply(lambda x: len(x.split())) <= summary_max_len)]\n"
   ]
  },
  {
   "cell_type": "code",
   "execution_count": 19,
   "id": "0b978a27",
   "metadata": {},
   "outputs": [
    {
     "name": "stdout",
     "output_type": "stream",
     "text": [
      "전체 샘플수 : 98134\n"
     ]
    }
   ],
   "source": [
    "print('전체 샘플수 :', (len(data)))"
   ]
  },
  {
   "cell_type": "markdown",
   "id": "751fee7f",
   "metadata": {},
   "source": [
    "#### 시작토큰, 종료 토큰 추가\n"
   ]
  },
  {
   "cell_type": "code",
   "execution_count": 20,
   "id": "39250a5f",
   "metadata": {},
   "outputs": [
    {
     "data": {
      "text/html": [
       "<div>\n",
       "<style scoped>\n",
       "    .dataframe tbody tr th:only-of-type {\n",
       "        vertical-align: middle;\n",
       "    }\n",
       "\n",
       "    .dataframe tbody tr th {\n",
       "        vertical-align: top;\n",
       "    }\n",
       "\n",
       "    .dataframe thead th {\n",
       "        text-align: right;\n",
       "    }\n",
       "</style>\n",
       "<table border=\"1\" class=\"dataframe\">\n",
       "  <thead>\n",
       "    <tr style=\"text-align: right;\">\n",
       "      <th></th>\n",
       "      <th>headlines</th>\n",
       "      <th>text</th>\n",
       "      <th>decoder_input</th>\n",
       "      <th>decoder_target</th>\n",
       "    </tr>\n",
       "  </thead>\n",
       "  <tbody>\n",
       "    <tr>\n",
       "      <th>0</th>\n",
       "      <td>upgrad learner switches career ml al salary hike</td>\n",
       "      <td>saurav kant alumnus upgrad iiit pg program mac...</td>\n",
       "      <td>sostoken upgrad learner switches career ml al ...</td>\n",
       "      <td>upgrad learner switches career ml al salary hi...</td>\n",
       "    </tr>\n",
       "    <tr>\n",
       "      <th>1</th>\n",
       "      <td>delhi techie wins free food swiggy one year cred</td>\n",
       "      <td>kunal shah credit card bill payment platform c...</td>\n",
       "      <td>sostoken delhi techie wins free food swiggy on...</td>\n",
       "      <td>delhi techie wins free food swiggy one year cr...</td>\n",
       "    </tr>\n",
       "    <tr>\n",
       "      <th>2</th>\n",
       "      <td>new zealand end rohit sharma led india match w...</td>\n",
       "      <td>new zealand defeated india wickets fourth odi ...</td>\n",
       "      <td>sostoken new zealand end rohit sharma led indi...</td>\n",
       "      <td>new zealand end rohit sharma led india match w...</td>\n",
       "    </tr>\n",
       "    <tr>\n",
       "      <th>3</th>\n",
       "      <td>aegon life iterm insurance plan helps customer...</td>\n",
       "      <td>aegon life iterm insurance plan customers enjo...</td>\n",
       "      <td>sostoken aegon life iterm insurance plan helps...</td>\n",
       "      <td>aegon life iterm insurance plan helps customer...</td>\n",
       "    </tr>\n",
       "    <tr>\n",
       "      <th>4</th>\n",
       "      <td>known hirani yrs metoo claims true sonam</td>\n",
       "      <td>speaking sexual harassment allegations rajkuma...</td>\n",
       "      <td>sostoken known hirani yrs metoo claims true sonam</td>\n",
       "      <td>known hirani yrs metoo claims true sonam eostoken</td>\n",
       "    </tr>\n",
       "  </tbody>\n",
       "</table>\n",
       "</div>"
      ],
      "text/plain": [
       "                                           headlines  \\\n",
       "0   upgrad learner switches career ml al salary hike   \n",
       "1   delhi techie wins free food swiggy one year cred   \n",
       "2  new zealand end rohit sharma led india match w...   \n",
       "3  aegon life iterm insurance plan helps customer...   \n",
       "4           known hirani yrs metoo claims true sonam   \n",
       "\n",
       "                                                text  \\\n",
       "0  saurav kant alumnus upgrad iiit pg program mac...   \n",
       "1  kunal shah credit card bill payment platform c...   \n",
       "2  new zealand defeated india wickets fourth odi ...   \n",
       "3  aegon life iterm insurance plan customers enjo...   \n",
       "4  speaking sexual harassment allegations rajkuma...   \n",
       "\n",
       "                                       decoder_input  \\\n",
       "0  sostoken upgrad learner switches career ml al ...   \n",
       "1  sostoken delhi techie wins free food swiggy on...   \n",
       "2  sostoken new zealand end rohit sharma led indi...   \n",
       "3  sostoken aegon life iterm insurance plan helps...   \n",
       "4  sostoken known hirani yrs metoo claims true sonam   \n",
       "\n",
       "                                      decoder_target  \n",
       "0  upgrad learner switches career ml al salary hi...  \n",
       "1  delhi techie wins free food swiggy one year cr...  \n",
       "2  new zealand end rohit sharma led india match w...  \n",
       "3  aegon life iterm insurance plan helps customer...  \n",
       "4  known hirani yrs metoo claims true sonam eostoken  "
      ]
     },
     "execution_count": 20,
     "metadata": {},
     "output_type": "execute_result"
    }
   ],
   "source": [
    "data['decoder_input'] = data['headlines'].apply(lambda x : 'sostoken '+ x)\n",
    "data['decoder_target'] = data['headlines'].apply(lambda x : x + ' eostoken')\n",
    "data.head()"
   ]
  },
  {
   "cell_type": "code",
   "execution_count": 22,
   "id": "986652be",
   "metadata": {},
   "outputs": [
    {
     "name": "stdout",
     "output_type": "stream",
     "text": [
      "=3\n"
     ]
    }
   ],
   "source": [
    "# 인코더 디코더 입력을 numpy 타입으로 변경\n",
    "encoder_input = np.array(data['text']) # 인코더의 입력\n",
    "decoder_input = np.array(data['decoder_input']) # 디코더의 입력\n",
    "decoder_target = np.array(data['decoder_target']) # 디코더의 레이블\n",
    "print('=3')"
   ]
  },
  {
   "cell_type": "code",
   "execution_count": 28,
   "id": "fa80e2dc",
   "metadata": {},
   "outputs": [],
   "source": [
    "data.to_csv('complete_preprocessing.csv', index=False)"
   ]
  },
  {
   "cell_type": "markdown",
   "id": "eaaaa183",
   "metadata": {},
   "source": [
    "#### 훈련 데이터와 테스트 데이터 분리\n"
   ]
  },
  {
   "cell_type": "code",
   "execution_count": 23,
   "id": "f765ea73",
   "metadata": {},
   "outputs": [
    {
     "name": "stdout",
     "output_type": "stream",
     "text": [
      "[46398 56638 35440 ... 96712 19908 63849]\n"
     ]
    }
   ],
   "source": [
    "# 데이터 분리\n",
    "## 1. input과 크기 같은 정수 시퀸스 생성\n",
    "indices = np.arange(encoder_input.shape[0]) #input과 크기 같은 정수 시퀸스\n",
    "np.random.shuffle(indices) # 시퀸스 랜덤화\n",
    "print(indices)"
   ]
  },
  {
   "cell_type": "code",
   "execution_count": 24,
   "id": "3cdcebc5",
   "metadata": {},
   "outputs": [
    {
     "name": "stdout",
     "output_type": "stream",
     "text": [
      "=3\n"
     ]
    }
   ],
   "source": [
    "## 데이터 샘플 순서 정의\n",
    "encoder_input = encoder_input[indices]\n",
    "decoder_input = decoder_input[indices]\n",
    "decoder_target = decoder_target[indices]\n",
    "print('=3')"
   ]
  },
  {
   "cell_type": "code",
   "execution_count": 25,
   "id": "b09e02b6",
   "metadata": {},
   "outputs": [
    {
     "name": "stdout",
     "output_type": "stream",
     "text": [
      "테스트 데이터의 수 : 19626\n"
     ]
    }
   ],
   "source": [
    "# 훈련 데이터와 테스트 데이터 분리 크기 설정\n",
    "n_of_val = int(len(encoder_input)*0.2)\n",
    "print('테스트 데이터의 수 :', n_of_val)"
   ]
  },
  {
   "cell_type": "code",
   "execution_count": 26,
   "id": "8492e16b",
   "metadata": {},
   "outputs": [
    {
     "name": "stdout",
     "output_type": "stream",
     "text": [
      "훈련 데이터의 개수 : 78508\n",
      "훈련 레이블의 개수 : 78508\n",
      "테스트 데이터의 개수 : 19626\n",
      "테스트 레이블의 개수 : 19626\n"
     ]
    }
   ],
   "source": [
    "# 데이터 분할\n",
    "encoder_input_train = encoder_input[:-n_of_val]\n",
    "decoder_input_train = decoder_input[:-n_of_val]\n",
    "decoder_target_train = decoder_target[:-n_of_val]\n",
    "\n",
    "encoder_input_test = encoder_input[-n_of_val:]\n",
    "decoder_input_test = decoder_input[-n_of_val:]\n",
    "decoder_target_test = decoder_target[-n_of_val:]\n",
    "\n",
    "print('훈련 데이터의 개수 :', len(encoder_input_train))\n",
    "print('훈련 레이블의 개수 :', len(decoder_input_train))\n",
    "print('테스트 데이터의 개수 :', len(encoder_input_test))\n",
    "print('테스트 레이블의 개수 :', len(decoder_input_test))"
   ]
  },
  {
   "cell_type": "markdown",
   "id": "04e884a4",
   "metadata": {},
   "source": [
    "#### 훈련 데이터로 단어집합(vocabulary) 만들기\n",
    "\n",
    "- 모델 훈련을 위해 텍스트 데이터를 정수형태로 바꾸는 작업 필요\n",
    "- 각각의 단어에 고유한 정수를 맵핑해서 단어 집합 생성"
   ]
  },
  {
   "cell_type": "markdown",
   "id": "1296ee3a",
   "metadata": {},
   "source": [
    "#### text"
   ]
  },
  {
   "cell_type": "code",
   "execution_count": 29,
   "id": "a3a0f30c",
   "metadata": {},
   "outputs": [
    {
     "name": "stdout",
     "output_type": "stream",
     "text": [
      "=3\n"
     ]
    }
   ],
   "source": [
    "# 토크나이저: 텍스트 데이터를 토큰으로 분리\n",
    "src_tokenizer = Tokenizer() # 토크나이저 정의\n",
    "src_tokenizer.fit_on_texts(encoder_input_train) # 입력된 데이터로부터 단어 집합 생성\n",
    "print('=3')"
   ]
  },
  {
   "cell_type": "code",
   "execution_count": 30,
   "id": "c5508074",
   "metadata": {},
   "outputs": [
    {
     "name": "stdout",
     "output_type": "stream",
     "text": [
      "단어 집합(vocabulary)의 크기 : 69332\n",
      "등장 빈도가 6번 이하인 희귀 단어의 수: 47264\n",
      "단어 집합에서 희귀 단어를 제외시킬 경우의 단어 집합의 크기 22068\n",
      "단어 집합에서 희귀 단어의 비율 즉 빈도가 threshold 이하인 단어의 비율: 68.17054174118734\n",
      "전체 등장 빈도에서 희귀 단어 등장 빈도 비율: 3.4940137780026763\n"
     ]
    }
   ],
   "source": [
    "threshold = 7\n",
    "total_cnt = len(src_tokenizer.word_index) # src_tokenizer.word_index: 단어와 인덱스 쌍의 매핑 개수 출력\n",
    "rare_cnt = 0 # 등장 빈도수가 threshold보다 작은 단어의 개수를 카운트\n",
    "total_freq = 0 # 훈련 데이터의 전체 단어 빈도수 총 합\n",
    "rare_freq = 0 # 등장 빈도수가 threshold보다 작은 단어의 등장 빈도수의 총 합\n",
    "\n",
    "# 단어와 빈도수의 쌍(pair)을 key와 value로 받는다.\n",
    "for key, value in src_tokenizer.word_counts.items(): # 단어와 해당 단어의 등장 횟수 사이의 매핑 관계를 제공하는 딕셔너리\n",
    "    total_freq = total_freq + value\n",
    "\n",
    "    # 단어의 등장 빈도수가 threshold보다 작으면\n",
    "    if(value < threshold):\n",
    "        rare_cnt = rare_cnt + 1\n",
    "        rare_freq = rare_freq + value\n",
    "\n",
    "print('단어 집합(vocabulary)의 크기 :', total_cnt)\n",
    "print('등장 빈도가 %s번 이하인 희귀 단어의 수: %s'%(threshold - 1, rare_cnt))\n",
    "print('단어 집합에서 희귀 단어를 제외시킬 경우의 단어 집합의 크기 %s'%(total_cnt - rare_cnt))\n",
    "print(\"단어 집합에서 희귀 단어의 비율 즉 빈도가 threshold 이하인 단어의 비율:\", (rare_cnt / total_cnt)*100)\n",
    "print(\"전체 등장 빈도에서 희귀 단어 등장 빈도 비율:\", (rare_freq / total_freq)*100)"
   ]
  },
  {
   "cell_type": "markdown",
   "id": "0990a77a",
   "metadata": {},
   "source": [
    "전체 단어 집합에서 빈도가 threshold 이하인 단어들은 68% 그러나 이러한 단어들이 실제 훈련 데이터에서 등장 빈도로 차지하는 비중은 3.5%이다.\n",
    "따라서 등장 빈도가 threshold회 이하인 단어들은 정수 인코딩 과정에서 빼고 훈련 데이터에서 제거한다."
   ]
  },
  {
   "cell_type": "code",
   "execution_count": 31,
   "id": "33e06307",
   "metadata": {},
   "outputs": [
    {
     "name": "stdout",
     "output_type": "stream",
     "text": [
      "=3\n"
     ]
    }
   ],
   "source": [
    "src_vocab = 22000\n",
    "src_tokenizer = Tokenizer(num_words=src_vocab) # 단어 집합의 크기를 22,000으로 제한\n",
    "src_tokenizer.fit_on_texts(encoder_input_train) # 단어 집합 재생성\n",
    "print('=3')"
   ]
  },
  {
   "cell_type": "code",
   "execution_count": 32,
   "id": "85a10493",
   "metadata": {},
   "outputs": [
    {
     "name": "stdout",
     "output_type": "stream",
     "text": [
      "[[2, 42, 3556, 956, 4154, 6391, 1586, 557, 1, 2, 1067, 4204, 948, 1426, 522, 2, 492, 19405, 4204, 4154, 761, 104, 321, 15355, 726, 9119, 447, 1533, 956, 7, 895, 718, 1515, 58], [79, 2724, 5858, 1, 1460, 1479, 10476, 24, 4, 9120, 943, 136, 57, 1769, 926, 500, 2323, 283, 18374, 2724, 1, 210, 40, 6974, 1460], [2, 6715, 1563, 9816, 3769, 3587, 265, 7, 26, 512, 1903, 551, 11002, 18375, 3455, 285, 177, 4917, 235, 347, 1776, 87, 1156, 26, 177, 265, 1903, 551]]\n"
     ]
    }
   ],
   "source": [
    "# 텍스트 시퀀스를 정수 시퀀스로 변환\n",
    "encoder_input_train = src_tokenizer.texts_to_sequences(encoder_input_train) \n",
    "encoder_input_test = src_tokenizer.texts_to_sequences(encoder_input_test)\n",
    "\n",
    "# 잘 진행되었는지 샘플 출력\n",
    "print(encoder_input_train[:3])"
   ]
  },
  {
   "cell_type": "markdown",
   "id": "ae739d6c",
   "metadata": {},
   "source": [
    "#### headlines"
   ]
  },
  {
   "cell_type": "code",
   "execution_count": 33,
   "id": "966add5f",
   "metadata": {},
   "outputs": [
    {
     "name": "stdout",
     "output_type": "stream",
     "text": [
      "=3\n"
     ]
    }
   ],
   "source": [
    "# headlines 에 대해서도 동일한 작업 수행\n",
    "tar_tokenizer = Tokenizer()\n",
    "tar_tokenizer.fit_on_texts(decoder_input_train)\n",
    "print('=3')"
   ]
  },
  {
   "cell_type": "code",
   "execution_count": 34,
   "id": "d18a12d5",
   "metadata": {},
   "outputs": [
    {
     "name": "stdout",
     "output_type": "stream",
     "text": [
      "단어 집합(vocabulary)의 크기 : 29799\n",
      "등장 빈도가 5번 이하인 희귀 단어의 수: 19512\n",
      "단어 집합에서 희귀 단어를 제외시킬 경우의 단어 집합의 크기 10287\n",
      "단어 집합에서 희귀 단어의 비율: 65.47870733917246\n",
      "전체 등장 빈도에서 희귀 단어 등장 빈도 비율: 5.857357733767862\n"
     ]
    }
   ],
   "source": [
    "threshold = 6\n",
    "total_cnt = len(tar_tokenizer.word_index) # 단어의 수\n",
    "rare_cnt = 0 # 등장 빈도수가 threshold보다 작은 단어의 개수를 카운트\n",
    "total_freq = 0 # 훈련 데이터의 전체 단어 빈도수 총 합\n",
    "rare_freq = 0 # 등장 빈도수가 threshold보다 작은 단어의 등장 빈도수의 총 합\n",
    "\n",
    "# 단어와 빈도수의 쌍(pair)을 key와 value로 받는다.\n",
    "for key, value in tar_tokenizer.word_counts.items():\n",
    "    total_freq = total_freq + value\n",
    "\n",
    "    # 단어의 등장 빈도수가 threshold보다 작으면\n",
    "    if(value < threshold):\n",
    "        rare_cnt = rare_cnt + 1\n",
    "        rare_freq = rare_freq + value\n",
    "\n",
    "print('단어 집합(vocabulary)의 크기 :', total_cnt)\n",
    "print('등장 빈도가 %s번 이하인 희귀 단어의 수: %s'%(threshold - 1, rare_cnt))\n",
    "print('단어 집합에서 희귀 단어를 제외시킬 경우의 단어 집합의 크기 %s'%(total_cnt - rare_cnt))\n",
    "print(\"단어 집합에서 희귀 단어의 비율:\", (rare_cnt / total_cnt)*100)\n",
    "print(\"전체 등장 빈도에서 희귀 단어 등장 빈도 비율:\", (rare_freq / total_freq)*100)"
   ]
  },
  {
   "cell_type": "code",
   "execution_count": 35,
   "id": "bcdac7ad",
   "metadata": {},
   "outputs": [
    {
     "name": "stdout",
     "output_type": "stream",
     "text": [
      "input\n",
      "input  [[1, 3, 1219, 769, 8642, 5073, 2165, 2209], [1, 1824, 5074, 2428, 61, 53, 1991], [1, 3, 56, 979, 6337, 4873, 2339, 1716, 17, 27, 150], [1, 8049, 7035, 648, 385, 2524, 888], [1, 120, 86, 8050, 187, 125, 1969, 1802]]\n",
      "target\n",
      "decoder  [[3, 1219, 769, 8642, 5073, 2165, 2209, 2], [1824, 5074, 2428, 61, 53, 1991, 2], [3, 56, 979, 6337, 4873, 2339, 1716, 17, 27, 150, 2], [8049, 7035, 648, 385, 2524, 888, 2], [120, 86, 8050, 187, 125, 1969, 1802, 2]]\n"
     ]
    }
   ],
   "source": [
    "tar_vocab = 10000\n",
    "tar_tokenizer = Tokenizer(num_words=tar_vocab) \n",
    "tar_tokenizer.fit_on_texts(decoder_input_train)\n",
    "tar_tokenizer.fit_on_texts(decoder_target_train)\n",
    "\n",
    "# 텍스트 시퀀스를 정수 시퀀스로 변환\n",
    "decoder_input_train = tar_tokenizer.texts_to_sequences(decoder_input_train) \n",
    "decoder_target_train = tar_tokenizer.texts_to_sequences(decoder_target_train)\n",
    "decoder_input_test = tar_tokenizer.texts_to_sequences(decoder_input_test)\n",
    "decoder_target_test = tar_tokenizer.texts_to_sequences(decoder_target_test)\n",
    "\n",
    "# 잘 변환되었는지 확인\n",
    "print('input')\n",
    "print('input ',decoder_input_train[:5])\n",
    "print('target')\n",
    "print('decoder ',decoder_target_train[:5])"
   ]
  },
  {
   "cell_type": "markdown",
   "id": "b24ac6de",
   "metadata": {},
   "source": [
    "빈도수가 낮은 단어들을 제외하였으므로, 빈도수가 낮은 단어들만으로 구성되었던 샘플들이 빈 샌플이 되었을 수도 있다. 특히 healines가 더더욱 그렇다\n",
    "\n",
    "따라서 훈련 데이터와 테스트 데이터에 대해서 요약문의 길이가 1인 경우의 인덱스를 각각 drop_train과 drop_test에 라는 변수에 저장"
   ]
  },
  {
   "cell_type": "code",
   "execution_count": 36,
   "id": "59291a92",
   "metadata": {},
   "outputs": [
    {
     "name": "stdout",
     "output_type": "stream",
     "text": [
      "삭제할 훈련 데이터의 개수 : 1\n",
      "삭제할 테스트 데이터의 개수 : 3\n",
      "훈련 데이터의 개수 : 78507\n",
      "훈련 레이블의 개수 : 78507\n",
      "테스트 데이터의 개수 : 19623\n",
      "테스트 레이블의 개수 : 19623\n"
     ]
    }
   ],
   "source": [
    "# 훈련 데이터와 테스트 데이터에 대해서 요약문의 길이가 1인 경우의 인덱스를 각각 drop_train과 drop_test에 라는 변수에 저장\n",
    "drop_train = [index for index, sentence in enumerate(decoder_input_train) if len(sentence) == 1]\n",
    "drop_test = [index for index, sentence in enumerate(decoder_input_test) if len(sentence) == 1]\n",
    "\n",
    "print('삭제할 훈련 데이터의 개수 :', len(drop_train))\n",
    "print('삭제할 테스트 데이터의 개수 :', len(drop_test))\n",
    "\n",
    "encoder_input_train = [sentence for index, sentence in enumerate(encoder_input_train) if index not in drop_train]\n",
    "decoder_input_train = [sentence for index, sentence in enumerate(decoder_input_train) if index not in drop_train]\n",
    "decoder_target_train = [sentence for index, sentence in enumerate(decoder_target_train) if index not in drop_train]\n",
    "\n",
    "encoder_input_test = [sentence for index, sentence in enumerate(encoder_input_test) if index not in drop_test]\n",
    "decoder_input_test = [sentence for index, sentence in enumerate(decoder_input_test) if index not in drop_test]\n",
    "decoder_target_test = [sentence for index, sentence in enumerate(decoder_target_test) if index not in drop_test]\n",
    "\n",
    "print('훈련 데이터의 개수 :', len(encoder_input_train))\n",
    "print('훈련 레이블의 개수 :', len(decoder_input_train))\n",
    "print('테스트 데이터의 개수 :', len(encoder_input_test))\n",
    "print('테스트 레이블의 개수 :', len(decoder_input_test))"
   ]
  },
  {
   "cell_type": "markdown",
   "id": "86161ef0",
   "metadata": {},
   "source": [
    "#### 패딩"
   ]
  },
  {
   "cell_type": "code",
   "execution_count": 37,
   "id": "6877b30c",
   "metadata": {},
   "outputs": [
    {
     "name": "stdout",
     "output_type": "stream",
     "text": [
      "=3\n"
     ]
    }
   ],
   "source": [
    "# 서로 다른 길이의 샘플들을 병렬 처리하기 위해 같은 길이로 맞춰주는 패딩작업 수행\n",
    "## 아까 정해주었던 최대 길이로 패딩\n",
    "encoder_input_train = pad_sequences(encoder_input_train, maxlen=text_max_len, padding='post')\n",
    "encoder_input_test = pad_sequences(encoder_input_test, maxlen=text_max_len, padding='post')\n",
    "decoder_input_train = pad_sequences(decoder_input_train, maxlen=summary_max_len, padding='post')\n",
    "decoder_target_train = pad_sequences(decoder_target_train, maxlen=summary_max_len, padding='post')\n",
    "decoder_input_test = pad_sequences(decoder_input_test, maxlen=summary_max_len, padding='post')\n",
    "decoder_target_test = pad_sequences(decoder_target_test, maxlen=summary_max_len, padding='post')\n",
    "print('=3')"
   ]
  },
  {
   "cell_type": "markdown",
   "id": "974caa8a",
   "metadata": {},
   "source": [
    "### 2.2. 어텐션 메커니즘 사용한 모델 설계"
   ]
  },
  {
   "cell_type": "code",
   "execution_count": 39,
   "id": "35f3b670",
   "metadata": {},
   "outputs": [],
   "source": [
    "from tensorflow.keras.layers import Input, LSTM, Embedding, Dense, Concatenate, TimeDistributed\n",
    "from tensorflow.keras.models import Model\n",
    "from tensorflow.keras.callbacks import EarlyStopping, ModelCheckpoint\n",
    "\n",
    "# 인코더 설계 시작\n",
    "embedding_dim = 128\n",
    "hidden_size = 256\n",
    "\n",
    "# 인코더\n",
    "encoder_inputs = Input(shape=(text_max_len,))\n",
    "\n",
    "# 인코더의 임베딩 층\n",
    "enc_emb = Embedding(src_vocab, embedding_dim)(encoder_inputs)\n",
    "\n",
    "# 인코더의 LSTM 1\n",
    "encoder_lstm1 = LSTM(hidden_size, return_sequences=True, return_state=True, dropout=0.4)\n",
    "encoder_output1, state_h1, state_c1 = encoder_lstm1(enc_emb)\n",
    "\n",
    "# 인코더의 LSTM 2\n",
    "encoder_lstm2 = LSTM(hidden_size, return_sequences=True, return_state=True, dropout=0.4)\n",
    "encoder_output2, state_h2, state_c2 = encoder_lstm2(encoder_output1)\n",
    "\n",
    "# 인코더의 LSTM 3\n",
    "encoder_lstm3 = LSTM(hidden_size, return_sequences=True, return_state=True, dropout=0.4)\n",
    "encoder_outputs, state_h, state_c = encoder_lstm3(encoder_output2)\n"
   ]
  },
  {
   "cell_type": "code",
   "execution_count": 40,
   "id": "bac78bfa",
   "metadata": {},
   "outputs": [],
   "source": [
    "# 디코더 설계\n",
    "decoder_inputs = Input(shape=(None,))\n",
    "\n",
    "# 디코더의 임베딩 층\n",
    "dec_emb_layer = Embedding(tar_vocab, embedding_dim)\n",
    "dec_emb = dec_emb_layer(decoder_inputs)\n",
    "\n",
    "# 디코더의 LSTM\n",
    "# decoder_lstm = LSTM(hidden_size, return_sequences=True, return_state=True, dropout=0.4, recurrent_dropout=0.2)\n",
    "decoder_lstm = LSTM(hidden_size, return_sequences=True, return_state=True, dropout=0.4)\n",
    "decoder_outputs, _, _ = decoder_lstm(dec_emb, initial_state=[state_h, state_c])"
   ]
  },
  {
   "cell_type": "code",
   "execution_count": 41,
   "id": "99ce48f3",
   "metadata": {},
   "outputs": [
    {
     "name": "stdout",
     "output_type": "stream",
     "text": [
      "Model: \"model\"\n",
      "__________________________________________________________________________________________________\n",
      "Layer (type)                    Output Shape         Param #     Connected to                     \n",
      "==================================================================================================\n",
      "input_1 (InputLayer)            [(None, 50)]         0                                            \n",
      "__________________________________________________________________________________________________\n",
      "embedding (Embedding)           (None, 50, 128)      2816000     input_1[0][0]                    \n",
      "__________________________________________________________________________________________________\n",
      "lstm (LSTM)                     [(None, 50, 256), (N 394240      embedding[0][0]                  \n",
      "__________________________________________________________________________________________________\n",
      "input_2 (InputLayer)            [(None, None)]       0                                            \n",
      "__________________________________________________________________________________________________\n",
      "lstm_1 (LSTM)                   [(None, 50, 256), (N 525312      lstm[0][0]                       \n",
      "__________________________________________________________________________________________________\n",
      "embedding_1 (Embedding)         (None, None, 128)    1280000     input_2[0][0]                    \n",
      "__________________________________________________________________________________________________\n",
      "lstm_2 (LSTM)                   [(None, 50, 256), (N 525312      lstm_1[0][0]                     \n",
      "__________________________________________________________________________________________________\n",
      "lstm_3 (LSTM)                   [(None, None, 256),  394240      embedding_1[0][0]                \n",
      "                                                                 lstm_2[0][1]                     \n",
      "                                                                 lstm_2[0][2]                     \n",
      "__________________________________________________________________________________________________\n",
      "dense (Dense)                   (None, None, 10000)  2570000     lstm_3[0][0]                     \n",
      "==================================================================================================\n",
      "Total params: 8,505,104\n",
      "Trainable params: 8,505,104\n",
      "Non-trainable params: 0\n",
      "__________________________________________________________________________________________________\n"
     ]
    }
   ],
   "source": [
    "# 디코더의 출력층\n",
    "decoder_softmax_layer = Dense(tar_vocab, activation='softmax')\n",
    "decoder_softmax_outputs = decoder_softmax_layer(decoder_outputs) \n",
    "\n",
    "# 모델 정의\n",
    "model = Model([encoder_inputs, decoder_inputs], decoder_softmax_outputs)\n",
    "model.summary()"
   ]
  },
  {
   "cell_type": "code",
   "execution_count": 42,
   "id": "a7f9a767",
   "metadata": {},
   "outputs": [
    {
     "name": "stdout",
     "output_type": "stream",
     "text": [
      "Model: \"model_1\"\n",
      "__________________________________________________________________________________________________\n",
      "Layer (type)                    Output Shape         Param #     Connected to                     \n",
      "==================================================================================================\n",
      "input_1 (InputLayer)            [(None, 50)]         0                                            \n",
      "__________________________________________________________________________________________________\n",
      "embedding (Embedding)           (None, 50, 128)      2816000     input_1[0][0]                    \n",
      "__________________________________________________________________________________________________\n",
      "lstm (LSTM)                     [(None, 50, 256), (N 394240      embedding[0][0]                  \n",
      "__________________________________________________________________________________________________\n",
      "input_2 (InputLayer)            [(None, None)]       0                                            \n",
      "__________________________________________________________________________________________________\n",
      "lstm_1 (LSTM)                   [(None, 50, 256), (N 525312      lstm[0][0]                       \n",
      "__________________________________________________________________________________________________\n",
      "embedding_1 (Embedding)         (None, None, 128)    1280000     input_2[0][0]                    \n",
      "__________________________________________________________________________________________________\n",
      "lstm_2 (LSTM)                   [(None, 50, 256), (N 525312      lstm_1[0][0]                     \n",
      "__________________________________________________________________________________________________\n",
      "lstm_3 (LSTM)                   [(None, None, 256),  394240      embedding_1[0][0]                \n",
      "                                                                 lstm_2[0][1]                     \n",
      "                                                                 lstm_2[0][2]                     \n",
      "__________________________________________________________________________________________________\n",
      "attention_layer (AdditiveAttent (None, None, 256)    256         lstm_3[0][0]                     \n",
      "                                                                 lstm_2[0][0]                     \n",
      "__________________________________________________________________________________________________\n",
      "concat_layer (Concatenate)      (None, None, 512)    0           lstm_3[0][0]                     \n",
      "                                                                 attention_layer[0][0]            \n",
      "__________________________________________________________________________________________________\n",
      "dense_1 (Dense)                 (None, None, 10000)  5130000     concat_layer[0][0]               \n",
      "==================================================================================================\n",
      "Total params: 11,065,360\n",
      "Trainable params: 11,065,360\n",
      "Non-trainable params: 0\n",
      "__________________________________________________________________________________________________\n"
     ]
    }
   ],
   "source": [
    "from tensorflow.keras.layers import AdditiveAttention\n",
    "\n",
    "# 어텐션 층(어텐션 함수)\n",
    "attn_layer = AdditiveAttention(name='attention_layer')\n",
    "\n",
    "# 인코더와 디코더의 모든 time step의 hidden state를 어텐션 층에 전달하고 결과를 리턴\n",
    "attn_out = attn_layer([decoder_outputs, encoder_outputs])\n",
    "\n",
    "\n",
    "# 어텐션의 결과와 디코더의 hidden state들을 연결\n",
    "decoder_concat_input = Concatenate(axis=-1, name='concat_layer')([decoder_outputs, attn_out])\n",
    "\n",
    "# 디코더의 출력층\n",
    "decoder_softmax_layer = Dense(tar_vocab, activation='softmax')\n",
    "decoder_softmax_outputs = decoder_softmax_layer(decoder_concat_input)\n",
    "\n",
    "# 모델 정의\n",
    "model = Model([encoder_inputs, decoder_inputs], decoder_softmax_outputs)\n",
    "model.summary()"
   ]
  },
  {
   "cell_type": "code",
   "execution_count": 43,
   "id": "bfa2f001",
   "metadata": {},
   "outputs": [
    {
     "name": "stdout",
     "output_type": "stream",
     "text": [
      "Epoch 1/50\n",
      "307/307 [==============================] - 40s 106ms/step - loss: 5.5880 - val_loss: 5.1515\n",
      "Epoch 2/50\n",
      "307/307 [==============================] - 31s 100ms/step - loss: 5.0269 - val_loss: 4.7935\n",
      "Epoch 3/50\n",
      "307/307 [==============================] - 31s 100ms/step - loss: 4.7159 - val_loss: 4.5638\n",
      "Epoch 4/50\n",
      "307/307 [==============================] - 31s 100ms/step - loss: 4.4657 - val_loss: 4.3845\n",
      "Epoch 5/50\n",
      "307/307 [==============================] - 31s 100ms/step - loss: 4.2631 - val_loss: 4.2477\n",
      "Epoch 6/50\n",
      "307/307 [==============================] - 31s 100ms/step - loss: 4.0937 - val_loss: 4.1454\n",
      "Epoch 7/50\n",
      "307/307 [==============================] - 31s 100ms/step - loss: 3.9472 - val_loss: 4.0685\n",
      "Epoch 8/50\n",
      "307/307 [==============================] - 31s 100ms/step - loss: 3.8174 - val_loss: 4.0003\n",
      "Epoch 9/50\n",
      "307/307 [==============================] - 31s 100ms/step - loss: 3.7006 - val_loss: 3.9509\n",
      "Epoch 10/50\n",
      "307/307 [==============================] - 31s 100ms/step - loss: 3.5941 - val_loss: 3.9050\n",
      "Epoch 11/50\n",
      "307/307 [==============================] - 31s 100ms/step - loss: 3.4975 - val_loss: 3.8692\n",
      "Epoch 12/50\n",
      "307/307 [==============================] - 31s 100ms/step - loss: 3.4111 - val_loss: 3.8348\n",
      "Epoch 13/50\n",
      "307/307 [==============================] - 31s 100ms/step - loss: 3.3290 - val_loss: 3.8175\n",
      "Epoch 14/50\n",
      "307/307 [==============================] - 31s 100ms/step - loss: 3.2519 - val_loss: 3.7916\n",
      "Epoch 15/50\n",
      "307/307 [==============================] - 31s 100ms/step - loss: 3.1826 - val_loss: 3.7794\n",
      "Epoch 16/50\n",
      "307/307 [==============================] - 31s 100ms/step - loss: 3.1155 - val_loss: 3.7633\n",
      "Epoch 17/50\n",
      "307/307 [==============================] - 31s 100ms/step - loss: 3.0538 - val_loss: 3.7551\n",
      "Epoch 18/50\n",
      "307/307 [==============================] - 31s 100ms/step - loss: 2.9924 - val_loss: 3.7465\n",
      "Epoch 19/50\n",
      "307/307 [==============================] - 31s 100ms/step - loss: 2.9345 - val_loss: 3.7404\n",
      "Epoch 20/50\n",
      "307/307 [==============================] - 31s 100ms/step - loss: 2.8840 - val_loss: 3.7366\n",
      "Epoch 21/50\n",
      "307/307 [==============================] - 31s 100ms/step - loss: 2.8361 - val_loss: 3.7330\n",
      "Epoch 22/50\n",
      "307/307 [==============================] - 31s 100ms/step - loss: 2.7927 - val_loss: 3.7342\n",
      "Epoch 23/50\n",
      "307/307 [==============================] - 31s 100ms/step - loss: 2.7474 - val_loss: 3.7289\n",
      "Epoch 24/50\n",
      "307/307 [==============================] - 31s 100ms/step - loss: 2.7014 - val_loss: 3.7275\n",
      "Epoch 25/50\n",
      "307/307 [==============================] - 31s 100ms/step - loss: 2.6614 - val_loss: 3.7326\n",
      "Epoch 26/50\n",
      "307/307 [==============================] - 31s 100ms/step - loss: 2.6228 - val_loss: 3.7287\n",
      "Epoch 00026: early stopping\n"
     ]
    }
   ],
   "source": [
    "# 모델 훈련\n",
    "model.compile(optimizer='rmsprop', loss='sparse_categorical_crossentropy')\n",
    "es = EarlyStopping(monitor='val_loss', patience=2, verbose=1)\n",
    "history = model.fit(x=[encoder_input_train, decoder_input_train], y=decoder_target_train, \\\n",
    "          validation_data=([encoder_input_test, decoder_input_test], decoder_target_test), \\\n",
    "          batch_size=256, callbacks=[es], epochs=50)"
   ]
  },
  {
   "cell_type": "code",
   "execution_count": 44,
   "id": "c0363642",
   "metadata": {},
   "outputs": [
    {
     "data": {
      "image/png": "[encoded data removed]",
      "text/plain": [
       "<Figure size 432x288 with 1 Axes>"
      ]
     },
     "metadata": {
      "needs_background": "light"
     },
     "output_type": "display_data"
    }
   ],
   "source": [
    "# 시각화\n",
    "plt.plot(history.history['loss'], label='train')\n",
    "plt.plot(history.history['val_loss'], label='test')\n",
    "plt.legend()\n",
    "plt.show()"
   ]
  },
  {
   "cell_type": "markdown",
   "id": "861ca8bc",
   "metadata": {},
   "source": [
    "## 모델 테스트\n",
    "seq2seq 모델은 훈련할 때와 실제 동작할 때(인퍼런스 단계)의 방식이 다르므로 모델 설계를 별개로 진행해야 함\n"
   ]
  },
  {
   "cell_type": "code",
   "execution_count": 45,
   "id": "e9d59ab2",
   "metadata": {},
   "outputs": [
    {
     "name": "stdout",
     "output_type": "stream",
     "text": [
      "=3\n"
     ]
    }
   ],
   "source": [
    "# 3개 사전 미리 준비\n",
    "src_index_to_word = src_tokenizer.index_word # 원문 단어 집합에서 정수 -> 단어를 얻음\n",
    "tar_word_to_index = tar_tokenizer.word_index # 요약 단어 집합에서 단어 -> 정수를 얻음\n",
    "tar_index_to_word = tar_tokenizer.index_word # 요약 단어 집합에서 정수 -> 단어를 얻음\n",
    "\n",
    "print('=3')"
   ]
  },
  {
   "cell_type": "code",
   "execution_count": 46,
   "id": "d7cf4a99",
   "metadata": {},
   "outputs": [
    {
     "name": "stdout",
     "output_type": "stream",
     "text": [
      "=3\n"
     ]
    }
   ],
   "source": [
    "# 인코더 설계\n",
    "encoder_model = Model(inputs=encoder_inputs, outputs=[encoder_outputs, state_h, state_c])\n",
    "\n",
    "# 이전 시점의 상태들을 저장하는 텐서\n",
    "decoder_state_input_h = Input(shape=(hidden_size,))\n",
    "decoder_state_input_c = Input(shape=(hidden_size,))\n",
    "\n",
    "dec_emb2 = dec_emb_layer(decoder_inputs)\n",
    "\n",
    "# 문장의 다음 단어를 예측하기 위해서 초기 상태(initial_state)를 이전 시점의 상태로 사용. 이는 뒤의 함수 decode_sequence()에 구현\n",
    "# 훈련 과정에서와 달리 LSTM의 리턴하는 은닉 상태와 셀 상태인 state_h와 state_c를 버리지 않음.\n",
    "decoder_outputs2, state_h2, state_c2 = decoder_lstm(dec_emb2, initial_state=[decoder_state_input_h, decoder_state_input_c])\n",
    "\n",
    "print('=3')"
   ]
  },
  {
   "cell_type": "code",
   "execution_count": 47,
   "id": "446ad16a",
   "metadata": {},
   "outputs": [
    {
     "name": "stdout",
     "output_type": "stream",
     "text": [
      "=3\n"
     ]
    }
   ],
   "source": [
    "# 어텐션 메커니즘 사용하는 출력층 설계\n",
    "# 어텐션 함수\n",
    "decoder_hidden_state_input = Input(shape=(text_max_len, hidden_size))\n",
    "attn_out_inf = attn_layer([decoder_outputs2, decoder_hidden_state_input])\n",
    "decoder_inf_concat = Concatenate(axis=-1, name='concat')([decoder_outputs2, attn_out_inf])\n",
    "\n",
    "# 디코더의 출력층\n",
    "decoder_outputs2 = decoder_softmax_layer(decoder_inf_concat) \n",
    "\n",
    "# 최종 디코더 모델\n",
    "decoder_model = Model(\n",
    "    [decoder_inputs] + [decoder_hidden_state_input,decoder_state_input_h, decoder_state_input_c],\n",
    "    [decoder_outputs2] + [state_h2, state_c2])\n",
    "\n",
    "print('=3')"
   ]
  },
  {
   "cell_type": "code",
   "execution_count": 48,
   "id": "8b5eee86",
   "metadata": {},
   "outputs": [
    {
     "name": "stdout",
     "output_type": "stream",
     "text": [
      "=3\n"
     ]
    }
   ],
   "source": [
    "# 인퍼런스 단계에서 단어 시퀸스 완성하는 함수\n",
    "def decode_sequence(input_seq):\n",
    "    # 입력으로부터 인코더의 상태를 얻음\n",
    "    e_out, e_h, e_c = encoder_model.predict(input_seq)\n",
    "\n",
    "     # <SOS>에 해당하는 토큰 생성\n",
    "    target_seq = np.zeros((1,1))\n",
    "    target_seq[0, 0] = tar_word_to_index['sostoken']\n",
    "\n",
    "    stop_condition = False\n",
    "    decoded_sentence = ''\n",
    "    while not stop_condition: # stop_condition이 True가 될 때까지 루프 반복\n",
    "\n",
    "        output_tokens, h, c = decoder_model.predict([target_seq] + [e_out, e_h, e_c])\n",
    "        sampled_token_index = np.argmax(output_tokens[0, -1, :])\n",
    "        sampled_token = tar_index_to_word[sampled_token_index]\n",
    "\n",
    "        if (sampled_token!='eostoken'):\n",
    "            decoded_sentence += ' '+sampled_token\n",
    "\n",
    "        #  <eos>에 도달하거나 최대 길이를 넘으면 중단.\n",
    "        if (sampled_token == 'eostoken'  or len(decoded_sentence.split()) >= (summary_max_len-1)):\n",
    "            stop_condition = True\n",
    "\n",
    "        # 길이가 1인 타겟 시퀀스를 업데이트\n",
    "        target_seq = np.zeros((1,1))\n",
    "        target_seq[0, 0] = sampled_token_index\n",
    "\n",
    "        # 상태를 업데이트 합니다.\n",
    "        e_h, e_c = h, c\n",
    "\n",
    "    return decoded_sentence\n",
    "print('=3')"
   ]
  },
  {
   "cell_type": "code",
   "execution_count": 50,
   "id": "91b6c665",
   "metadata": {},
   "outputs": [],
   "source": [
    "# 원문의 정수 시퀀스를 텍스트 시퀀스로 변환\n",
    "def seq2text(input_seq):\n",
    "    temp=''\n",
    "    for i in input_seq:\n",
    "        if (i!=0):\n",
    "            temp = temp + src_index_to_word[i]+' '\n",
    "    return temp\n",
    "\n",
    "# 요약문의 정수 시퀀스를 텍스트 시퀀스로 변환\n",
    "def seq2summary(input_seq):\n",
    "    temp=''\n",
    "    for i in input_seq:\n",
    "        if ((i!=0 and i!=tar_word_to_index['sostoken']) and i!=tar_word_to_index['eostoken']):\n",
    "            temp = temp + tar_index_to_word[i] + ' '\n",
    "    return temp"
   ]
  },
  {
   "cell_type": "code",
   "execution_count": 51,
   "id": "6f47974f",
   "metadata": {},
   "outputs": [
    {
     "name": "stdout",
     "output_type": "stream",
     "text": [
      "원문 : former pakistani president pervez musharraf thursday said hoped pakistan tehreek insaf chairman imran khan govern pakistan better way imran khan problem areas honest man wants good good qualities added musharraf barred pakistan supreme court contesting elections \n",
      "실제 요약 : hope imran pakistan better way ex prez musharraf \n",
      "예측 요약 :  imran khan pak ties imran khan\n",
      "\n",
      "\n",
      "원문 : researchers discovered potato year old stone tool utah giving earliest evidence wild potato use north america researchers working mine dna genes resistant drought disease however potatoes eat today come single species south american years ago researchers said \n",
      "실제 요약 : oldest potato remains us found year old stone \n",
      "예측 요약 :  scientists discover human dna\n",
      "\n",
      "\n",
      "원문 : wicketkeeper batsman jos buttler shared video england cricket team celebrating country fifa world cup round shootout victory colombia tuesday players watched match old trafford dressing room lost first india heard singing coming home referring england world cup triumph \n",
      "실제 요약 : watch england cricketers celebrate nation wc shootout win \n",
      "예측 요약 :  world cup played despite england wc win\n",
      "\n",
      "\n",
      "원문 : local convenor hardik patel patidar anamat andolan samiti alleged offered crore join bjp congress vice president rahul gandhi said gujarat priceless gandhi tweet said never bought never bought never bought notably gujarat polls due december \n",
      "실제 요약 : gujarat cannot bought rahul bjp bribe \n",
      "예측 요약 :  bjp leader hardik patel offered cash hardik patel\n",
      "\n",
      "\n",
      "원문 : kamal haasan thriller featured animated fight sequence inspired hollywood filmmaker quentin tarantino make action sequence film kill bill haasan turned tuesday said endorsed filmmaker brilliance critics things attempt \n",
      "실제 요약 : haasan film inspired action scene tarantino kill bill \n",
      "예측 요약 :  anupam kher apologises film show\n",
      "\n",
      "\n",
      "원문 : filmmaker sajid khan said twenty years made career making fun people films songs acting wish would said half things said media added sajid said changed person become \n",
      "실제 요약 : yrs made career making fun others films sajid \n",
      "예측 요약 :  film industry star star akshay\n",
      "\n",
      "\n",
      "원문 : apple announced employees donated million help non profit organisations worldwide part giving programme per programme company matches funds every hour employee volunteer work every dollar donate eight year old programme raised million non profit organisations till date apple said \n",
      "실제 요약 : apple employees mn global \n",
      "예측 요약 :  apple employees million employees report\n",
      "\n",
      "\n",
      "원문 : idea cellular managing director himanshu said merged idea vodafone entity price sector continue focus profitability focus merged entity bring overall costs added said company losses also narrowed proposed merger \n",
      "실제 요약 : idea vodafone entity price md \n",
      "예측 요약 :  idea idea idea vodafone idea vodafone idea\n",
      "\n",
      "\n",
      "원문 : junior doctors five medical colleges madhya pradesh collectively resigned demands increase better equipment doctors attending classes also vacated hostel rooms state junior doctors association president saxena said comes talks administration failed reports said \n",
      "실제 요약 : junior doctors mp medical colleges resign \n",
      "예측 요약 :  luru doctors leave senior medical treatment\n",
      "\n",
      "\n",
      "원문 : stanford university researchers created material controls amount heat lost depending one wears carbon coated layer worn outside gives cooling effect copper coated layer kept outside helps keep heat providing thermal comfort range could developed temperature regulating clothing said researchers \n",
      "실제 요약 : material cool one side heat \n",
      "예측 요약 :  scientists print new ever\n",
      "\n",
      "\n",
      "원문 : technology giant apple revealed list popular apps ios includes app lets users create personal emoji social media apps including facebook snapchat instagram whatsapp also featured list cab hailing apps uber lyft also amongst popular apps ios \n",
      "실제 요약 : apple reveals list popular apps ios \n",
      "예측 요약 :  apple app store app store users report\n",
      "\n",
      "\n",
      "원문 : actor filmmaker pooja bhatt co author book bhattacharya battle pooja recently completed months quitting alcohol said easy difficult either talking book pooja added help others like deal problem talking journey \n",
      "실제 요약 : pooja bhatt co author book battle \n",
      "예측 요약 :  fired actors fired pooja\n",
      "\n",
      "\n",
      "원문 : msk prasad indian cricket team selection committee chief said ms dhoni automatic choice selection delivering look alternatives added prasad compared dhoni former tennis player andre saying real career started age \n",
      "실제 요약 : dhoni longer automatic choice team selectors \n",
      "예측 요약 :  dhoni said get dhoni\n",
      "\n",
      "\n",
      "원문 : cricketer sreesanth reportedly threatened quit bigg boss house almost hours start reality show episode set aired tuesday year old seen getting argument argument begins fail complete task subsequently called \n",
      "실제 요약 : sreesanth threatens quit bigg boss days show start \n",
      "예측 요약 :  bigg boss contestant accuses delhi house\n",
      "\n",
      "\n",
      "원문 : england pacer stuart broad posted video teammate james anderson hitting face golf ball broad tweet read jimmy perfectly fine year old seen trying hit golf ball lying outside regular grass course area obstruction hit face \n",
      "실제 요약 : broad posts video anderson getting hit golf ball \n",
      "예측 요약 :  ben stokes cricketer hits ball\n",
      "\n",
      "\n",
      "원문 : due changing health issues escalated become complex nature hdfc life provides variety health insurance plans offer financial security health related including cardiac conditions cancer health insurance helps complete financial planning cushion family finances unexpected medical expenses \n",
      "실제 요약 : secure family medical hdfc life \n",
      "예측 요약 :  hospitals get clean returns scheme\n",
      "\n",
      "\n",
      "원문 : bjp president amit shah today said kerala government treating sabarimala pilgrims like inmates reports resting places devotees spend nights next pig dustbin true calling state handling situation sabarimala disappointing tweeted let crush people faith \n",
      "실제 요약 : kerala treating sabarimala pilgrims like inmates shah \n",
      "예측 요약 :  bjp mla refuses return sabarimala case\n",
      "\n",
      "\n",
      "원문 : many naxals gunned two separate encounters took place two days maharashtra district naxals killed encounter sunday another six killed monday encounter first broken police team dispatched area fired upon \n",
      "실제 요약 : naxals two days maharashtra \n",
      "예측 요약 :  naxals killed encounter chhattisgarh\n",
      "\n",
      "\n",
      "원문 : turkish government extended state emergency country three months starting wednesday third extension since failed coup attempt group within military july aimed combating terror threats fethullah terrorist organisation accused staging coup attempt deputy prime minister said \n",
      "실제 요약 : turkey extends state emergency months \n",
      "예측 요약 :  turkey extends emergency months\n",
      "\n",
      "\n",
      "원문 : fan allegedly hacked facebook social media accounts indian pacer mohammed siraj sent love messages pacer friends following complaint siraj police tracked culprit found year old boy whose brother siraj friend later siraj took instagram thanked telangana police recovering accounts \n",
      "실제 요약 : fan hacks india pacer fb account sends love texts \n",
      "예측 요약 :  fake accounts youtube employee goes viral\n",
      "\n",
      "\n",
      "원문 : least people killed others injured tsunami hit indonesia hundreds homes buildings heavily damaged natural disaster struck saturday tsunami likely caused combination underwater landslides due volcanic eruption indonesia meteorological geological agency said \n",
      "실제 요약 : volcano triggered tsunami kills indonesia injures \n",
      "예측 요약 :  killed injured explosion collapses\n",
      "\n",
      "\n",
      "원문 : year old boy admitted fractured elbow hospital kollam battling life something went wrong giving surgery boy sustained fracture left elbow falling bicycle immediate surgery recommended doctors said severe fracture \n",
      "실제 요약 : boy elbow facing death error \n",
      "예측 요약 :  year old boy dies brain surgery\n",
      "\n",
      "\n",
      "원문 : table toppers manchester city thrashed southampton premier league sunday register fifth straight victory across competitions match witnessed sergio become second fastest player reach premier league goals ex striker alan elsewhere chelsea beat crystal palace continue unbeaten run league season \n",
      "실제 요약 : man city thrash register th straight victory \n",
      "예측 요약 :  man city win chelsea win th pl win\n",
      "\n",
      "\n",
      "원문 : ex cricketer vvs laxman revealed part india world cup squad year old added india highest scorer series prior world cup determined play tournament blame anybody though time thought leaving game added \n",
      "실제 요약 : thought quitting world cup snub vvs \n"
     ]
    },
    {
     "name": "stdout",
     "output_type": "stream",
     "text": [
      "예측 요약 :  india best world cup win yuvraj\n",
      "\n",
      "\n",
      "원문 : hrd minister prakash javadekar informed parliament new central universities functioning vacant posts whereas iits teacher vacancies respectively javadekar revealed government plans invite industry experts fill teaching vacancies aims fill least vacant posts end \n",
      "실제 요약 : posts vacant new central universities iits \n",
      "예측 요약 :  govt plans reduce varsity varsity varsity varsity\n",
      "\n",
      "\n",
      "원문 : windies world cup winning captain darren sammy become father baby boy rounder revealed twitter saturday sammy posted picture new born captioned reign sammy king born today mummy also well giving thanks high blessings \n",
      "실제 요약 : former windies captain becomes father baby boy \n",
      "예측 요약 :  world cup baby mom mom mom\n",
      "\n",
      "\n",
      "원문 : chhattisgarh cm raman singh friday asserted final battle maoists fought state anti naxal operations continue bastar state government rest till peaceful development bastar added notably naxal ambush crpf patrol party last week led martyrdom soldiers \n",
      "실제 요약 : final war maoists fought chhattisgarh cm \n",
      "예측 요약 :  chhattisgarh cm declares state state\n",
      "\n",
      "\n",
      "원문 : late television actress pratyusha banerjee ex boyfriend actor rahul raj singh booked allegedly cheating people lakhs rupees new year party actor promised guests singer ankit tiwari performing party guests reportedly vandalised hotel staff stopped serving food singer turn \n",
      "실제 요약 : fir tv actor rahul cheating people new year party \n",
      "예측 요약 :  ex pm actor actor star actor rahul\n",
      "\n",
      "\n",
      "원문 : peruvian fan put kg weight three months secure special access tickets obese watch team fifa world cup matches miguel decided buy special tickets normal tickets sold fifa approved miguel application increased body mass index required presented medical certificate \n",
      "실제 요약 : peru fan gains kg months guarantee world cup seat \n",
      "예측 요약 :  cup winner fined lakh stolen world cup\n",
      "\n",
      "\n",
      "원문 : amid padmavati row congress leader shashi tharoor clarified recent remarks saying never made communal comment life adding bjp supporters claiming attacked rajput honour tharoor said rajput valour part history never question \n",
      "실제 요약 : tharoor clarifies remark facing backlash \n",
      "예측 요약 :  tharoor calls bjp mla remark\n",
      "\n",
      "\n",
      "원문 : actor aamir khan posted video twitter wherein seen urging fans help victims gujarat assam floods also requested fellow indians contribute funds chief minister relief funds two states aamir added also donate funds flood victims \n",
      "실제 요약 : aamir khan urges fans help gujarat assam flood victims \n",
      "예측 요약 :  rajinikanth slams people donate flood relief\n",
      "\n",
      "\n",
      "원문 : decision review system used indian premier league first time tournament edition following bcci approval indian premier league become second major league adopt system pakistan super league ten indian umpires called session drs last year \n",
      "실제 요약 : ipl feature drs st time tournament history \n",
      "예측 요약 :  new zealand rules first ever odi history\n",
      "\n",
      "\n",
      "원문 : actor rajkummar rao asked marriage plans girlfriend said marriage happen sure know us want focus respective careers thinking right added rajkummar starred together film city lights \n",
      "실제 요약 : marriage happen sure rao girlfriend \n",
      "예측 요약 :  want marry kids marry says rajkummar\n",
      "\n",
      "\n",
      "원문 : supreme court fixed december final arguments petitions filed congress chief rahul gandhi mother sonia gandhi challenging delhi high court order hc refused give relief case opening tax since put appearance issuing formal notice sc said \n",
      "실제 요약 : sc hear pleas tax case rahul sonia dec \n",
      "예측 요약 :  sc rejects plea sonia gandhi plea sonia gandhi\n",
      "\n",
      "\n",
      "원문 : wishing sister asha bhosle th birthday saturday lata mangeshkar tweeted wo rahe aur rahe ye meri se main hun wrote thank songs tweeted shabana azmi wishing asha \n",
      "실제 요약 : asha lata wishes sister th day \n",
      "예측 요약 :  fans celebrate day day\n",
      "\n",
      "\n",
      "원문 : year old ghaziabad resident named shankar died year old cousin deepak injured motorcycle skidded hitting road divider delhi signature bridge saturday morning comes two medical students died falling feet newly inaugurated bridge friday also involved bike hitting divider \n",
      "실제 요약 : biker dies delhi signature bridge third death hours \n",
      "예측 요약 :  year old dies hit delhi road road\n",
      "\n",
      "\n",
      "원문 : indian batsman cheteshwar pujara moved second place icc test rankings following double ton ranchi test australia rating points pujara climbed four spots reach career best ranking virat kohli india second best batsman currently ranked fourth overall steve smith continues number one \n",
      "실제 요약 : pujara double ton helps become nd best test batsman \n",
      "예측 요약 :  pujara pujara number number test rankings\n",
      "\n",
      "\n",
      "원문 : english football club leeds united offered refund price season tickets next season fail qualify championship playoffs club says offer clear statement intent gain promotion determined rejoin english premier league \n",
      "실제 요약 : club offers ticket refund team reach playoffs \n",
      "예측 요약 :  football club fined lakh auction\n",
      "\n",
      "\n",
      "원문 : nearly four tonnes cocaine worth estimated crore seized international law enforcement officers atlantic drugs found portuguese island islands operation jointly conducted spanish customs police uk national crime agency \n",
      "실제 요약 : tonnes cocaine worth crore seized atlantic \n",
      "예측 요약 :  kg cocaine worth crore seized us\n",
      "\n",
      "\n",
      "원문 : origin word shampoo meaning liquid preparation washing hair traced hindi word means press muscles term shampoo believed first used mid century later used context washing hair \n",
      "실제 요약 : word comes hindi word \n",
      "예측 요약 :  scientists use skin skin skin\n",
      "\n",
      "\n",
      "원문 : april zimbabwe dismissed lowest ever odi total overs sri lanka many four zimbabwe batsmen got ducks top scored number conceded sri lankan bowlers sri lanka match wickets balls remaining \n",
      "실제 요약 : joint top scored odi cricket lowest ever total \n",
      "예측 요약 :  sl odis sri lanka odi series\n",
      "\n",
      "\n",
      "원문 : iceland cricket official twitter account trolled doha based news channel al jazeera sting operation match fixing practices mocking alleged match influence iceland cricket tweeted apparently also paid ravindra jadeja two hands two feet pope catholic grace still dead influence man \n",
      "실제 요약 : iceland cricket trolls al jazeera match fixing sting video \n",
      "예측 요약 :  icc captain goes trophy\n",
      "\n",
      "\n",
      "원문 : uttar pradesh bjp chief mahendra nath pandey said one movies naseeruddin shah played role pakistani agent think taking screen character seriously right comes actor said cow death significant policeman worries children india \n",
      "실제 요약 : naseeruddin taking role pak agent seriously bjp head \n",
      "예측 요약 :  bjp calls india film pak shatrughan\n",
      "\n",
      "\n",
      "원문 : delhi court thursday sent four accused connection staff selection commission exam paper leak police custody seven days accused arrested delhi gandhi nagar area accused used charge lakh help remote screen sharing app team viewer \n",
      "실제 요약 : ssc paper leak accused sent seven day police \n",
      "예측 요약 :  delhi police student case hc\n",
      "\n",
      "\n",
      "원문 : mumbai terror attack mastermind hafiz saeed candidate pakistan upcoming general elections terror organisation jamaat ud dawah contest seats jud contest elections platform akbar tehreek group political front milli muslim league yet registered pakistan election commission \n",
      "실제 요약 : hafiz saeed contest pak poll run seats \n",
      "예측 요약 :  mastermind hafiz saeed party polls pak\n",
      "\n",
      "\n",
      "원문 : bodies three men two women found rubble two collapsed buildings french city marseille authorities said wednesday buildings collapsed monday nearby buildings evacuated following collapse according reports government said investigation carried \n",
      "실제 요약 : bodies found buildings collapse france \n",
      "예측 요약 :  cases boat reported missing\n",
      "\n",
      "\n",
      "원문 : former heavyweight boxing world champion mike tyson reportedly opening cannabis resort comes california recent legislation recreational marijuana tyson bought acre property california city acres dedicated marijuana cultivation per reports tyson also plans open tyson cultivation school farmers grow cannabis \n",
      "실제 요약 : former boxing world champ mike tyson open cannabis resort \n",
      "예측 요약 :  world champion open open fire uk\n",
      "\n",
      "\n",
      "원문 : bombay high court rejected mumbai bomb blast convict abu salem plea day parole get married mumbai based woman salem reported married phone taken court hearing first marriage took place son \n",
      "실제 요약 : hc rejects abu salem plea day parole get married \n",
      "예측 요약 :  delhi court upholds life term convicts killed\n",
      "\n",
      "\n",
      "원문 : biggest fashion moments included indian representative manushi chhillar becoming miss world making india winner years law banning thin models came effect france may year meanwhile actress anushka sharma label faced controversy allegations many designs chinese commerce website \n",
      "실제 요약 : biggest fashion moments \n"
     ]
    },
    {
     "name": "stdout",
     "output_type": "stream",
     "text": [
      "예측 요약 :  miss world manushi manushi miss world manushi\n",
      "\n",
      "\n",
      "원문 : mit researchers developed shape shifting robots controlled via magnets make walk roll sail glide device carries actions wearing origami made sheets plastic fold specific shapes heated finishing task shed skin water \n",
      "실제 요약 : robot shifts skeleton walk roll sail \n",
      "예측 요약 :  mit develops robot robot drugs\n",
      "\n",
      "\n"
     ]
    }
   ],
   "source": [
    "for i in range(50, 100):\n",
    "    print(\"원문 :\", seq2text(encoder_input_test[i]))\n",
    "    print(\"실제 요약 :\", seq2summary(decoder_input_test[i]))\n",
    "    print(\"예측 요약 :\", decode_sequence(encoder_input_test[i].reshape(1, text_max_len)))\n",
    "    print(\"\\n\")"
   ]
  },
  {
   "cell_type": "markdown",
   "id": "a3d73839",
   "metadata": {},
   "source": [
    "## 3. Summa를 이용한 추출적 요약"
   ]
  },
  {
   "cell_type": "code",
   "execution_count": 52,
   "id": "d13507b9",
   "metadata": {},
   "outputs": [],
   "source": [
    "import requests\n",
    "from summa.summarizer import summarize"
   ]
  },
  {
   "cell_type": "code",
   "execution_count": 53,
   "id": "43446137",
   "metadata": {},
   "outputs": [],
   "source": [
    "text = requests.get('http://rare-technologies.com/the_matrix_synopsis.txt').text"
   ]
  },
  {
   "cell_type": "code",
   "execution_count": 54,
   "id": "34aa3bde",
   "metadata": {},
   "outputs": [
    {
     "name": "stdout",
     "output_type": "stream",
     "text": [
      "The screen is filled with green, cascading code which gives way to the title, The Matrix.\r\n",
      "\r\n",
      "A phone rings and text appears on the screen: \"Call trans opt: received. 2-19-98 13:24:18 REC: Log>\" As a conversation takes place between Trinity (Carrie-Anne Moss) and Cypher (Joe Pantoliano), two free humans, a table of random green numbers are being scanned and individual numbers selected, creating a series of digits not unlike an ordinary phone number, as if a code is being deciphered or a call is being traced.\r\n",
      "\r\n",
      "Trinity discusses some unknown person. Cypher taunts Trinity, suggesting she enjoys watching him. Trinity counters that \"Morpheus (Laurence Fishburne) says he may be 'the One',\" just as the sound of a number being selected alerts Trinity that someone may be tracing their call. She ends the call.\r\n",
      "\r\n",
      "Armed policemen move down a darkened, decrepit hallway in the Heart O' the City Hotel, their flashlight beam bouncing just ahead of them. They come to room 303, kick down the door and find a woman dressed in black, facing away from them. It's Trinity. She brings her hands up from the laptop she's working on at their command.\r\n",
      "\r\n",
      "Outside the hotel a car drives up and three agents appear in neatly pressed black suits. They are Agent Smith (Hugo Weaving), Agent Brown (Paul Goddard), and Agent Jones (Robert Taylor). Agent Smith and the presiding police lieutenant argue. Agent Smith admonishes the policeman that they were given specific orders to contact the agents first, for their\n"
     ]
    }
   ],
   "source": [
    "print(text[:1500])"
   ]
  },
  {
   "cell_type": "code",
   "execution_count": 55,
   "id": "f8a6390d",
   "metadata": {},
   "outputs": [
    {
     "name": "stdout",
     "output_type": "stream",
     "text": [
      "Summary:\n",
      "Morpheus, Trinity, Neo, Apoc, Switch, Mouse and Cypher are jacked into the Matrix.\n",
      "Trinity brings the helicopter down to the floor that Morpheus is on and Neo opens fire on the three Agents.\n"
     ]
    }
   ],
   "source": [
    "print('Summary:')\n",
    "print(summarize(text, ratio=0.005))"
   ]
  },
  {
   "cell_type": "code",
   "execution_count": 56,
   "id": "999feadb",
   "metadata": {
    "scrolled": true
   },
   "outputs": [
    {
     "name": "stdout",
     "output_type": "stream",
     "text": [
      "Summary:\n",
      "['Morpheus, Trinity, Neo, Apoc, Switch, Mouse and Cypher are jacked into the Matrix.', 'Trinity brings the helicopter down to the floor that Morpheus is on and Neo opens fire on the three Agents.']\n"
     ]
    }
   ],
   "source": [
    "print('Summary:')\n",
    "print(summarize(text, ratio=0.005, split=True))"
   ]
  },
  {
   "cell_type": "code",
   "execution_count": 57,
   "id": "a99bee44",
   "metadata": {},
   "outputs": [
    {
     "name": "stdout",
     "output_type": "stream",
     "text": [
      "Summary:\n",
      "Trinity takes Neo to Morpheus.\n",
      "Morpheus, Trinity, Neo, Apoc, Switch, Mouse and Cypher are jacked into the Matrix.\n",
      "Trinity brings the helicopter down to the floor that Morpheus is on and Neo opens fire on the three Agents.\n"
     ]
    }
   ],
   "source": [
    "print('Summary:')\n",
    "print(summarize(text, words=50))"
   ]
  },
  {
   "cell_type": "code",
   "execution_count": null,
   "id": "71548dce",
   "metadata": {},
   "outputs": [],
   "source": []
  }
 ],
 "metadata": {
  "kernelspec": {
   "display_name": "Python 3 (ipykernel)",
   "language": "python",
   "name": "python3"
  },
  "language_info": {
   "codemirror_mode": {
    "name": "ipython",
    "version": 3
   },
   "file_extension": ".py",
   "mimetype": "text/x-python",
   "name": "python",
   "nbconvert_exporter": "python",
   "pygments_lexer": "ipython3",
   "version": "3.9.7"
  }
 },
 "nbformat": 4,
 "nbformat_minor": 5
}
