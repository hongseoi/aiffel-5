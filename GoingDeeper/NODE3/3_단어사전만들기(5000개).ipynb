{
 "cells": [
  {
   "cell_type": "code",
   "execution_count": 1,
   "id": "ba4c88e7",
   "metadata": {},
   "outputs": [
    {
     "name": "stdout",
     "output_type": "stream",
     "text": [
      "2.6.0\n",
      "1.21.4\n",
      "0.5.2\n"
     ]
    }
   ],
   "source": [
    "import tensorflow as tf\n",
    "import numpy as np\n",
    "import matplotlib as plt\n",
    "import konlpy\n",
    "import pickle\n",
    "import pandas as pd\n",
    "import numpy as np\n",
    "import matplotlib.pyplot as plt\n",
    "import re\n",
    "import urllib.request\n",
    "from konlpy.tag import Okt\n",
    "from tqdm import tqdm\n",
    "from tensorflow.keras.preprocessing.text import Tokenizer\n",
    "from tensorflow.keras.preprocessing.sequence import pad_sequences\n",
    "\n",
    "print(tf.__version__)\n",
    "print(np.__version__)\n",
    "print(konlpy.__version__)"
   ]
  },
  {
   "cell_type": "markdown",
   "id": "554f3914",
   "metadata": {},
   "source": [
    "## 데이터 다운로드"
   ]
  },
  {
   "cell_type": "code",
   "execution_count": 2,
   "id": "3b2df262",
   "metadata": {},
   "outputs": [
    {
     "data": {
      "text/plain": [
       "('ratings_test.txt', <http.client.HTTPMessage at 0x7fd1646d28e0>)"
      ]
     },
     "execution_count": 2,
     "metadata": {},
     "output_type": "execute_result"
    }
   ],
   "source": [
    "urllib.request.urlretrieve(\"https://raw.githubusercontent.com/e9t/nsmc/master/ratings_train.txt\", filename=\"ratings_train.txt\")\n",
    "urllib.request.urlretrieve(\"https://raw.githubusercontent.com/e9t/nsmc/master/ratings_test.txt\", filename=\"ratings_test.txt\")"
   ]
  },
  {
   "cell_type": "code",
   "execution_count": 3,
   "id": "08a2427c",
   "metadata": {},
   "outputs": [],
   "source": [
    "train_data = pd.read_table('ratings_train.txt')\n",
    "test_data = pd.read_table('ratings_test.txt')\n"
   ]
  },
  {
   "cell_type": "code",
   "execution_count": 4,
   "id": "d1413611",
   "metadata": {},
   "outputs": [
    {
     "name": "stdout",
     "output_type": "stream",
     "text": [
      "훈련용 리뷰 개수 : 150000\n",
      "테스트용 리뷰 개수: 50000\n"
     ]
    }
   ],
   "source": [
    "print('훈련용 리뷰 개수 :',len(train_data))\n",
    "print('테스트용 리뷰 개수:', len(test_data))"
   ]
  },
  {
   "cell_type": "code",
   "execution_count": 5,
   "id": "992cd587",
   "metadata": {},
   "outputs": [
    {
     "data": {
      "text/html": [
       "<div>\n",
       "<style scoped>\n",
       "    .dataframe tbody tr th:only-of-type {\n",
       "        vertical-align: middle;\n",
       "    }\n",
       "\n",
       "    .dataframe tbody tr th {\n",
       "        vertical-align: top;\n",
       "    }\n",
       "\n",
       "    .dataframe thead th {\n",
       "        text-align: right;\n",
       "    }\n",
       "</style>\n",
       "<table border=\"1\" class=\"dataframe\">\n",
       "  <thead>\n",
       "    <tr style=\"text-align: right;\">\n",
       "      <th></th>\n",
       "      <th>id</th>\n",
       "      <th>document</th>\n",
       "      <th>label</th>\n",
       "    </tr>\n",
       "  </thead>\n",
       "  <tbody>\n",
       "    <tr>\n",
       "      <th>0</th>\n",
       "      <td>9976970</td>\n",
       "      <td>아 더빙.. 진짜 짜증나네요 목소리</td>\n",
       "      <td>0</td>\n",
       "    </tr>\n",
       "    <tr>\n",
       "      <th>1</th>\n",
       "      <td>3819312</td>\n",
       "      <td>흠...포스터보고 초딩영화줄....오버연기조차 가볍지 않구나</td>\n",
       "      <td>1</td>\n",
       "    </tr>\n",
       "    <tr>\n",
       "      <th>2</th>\n",
       "      <td>10265843</td>\n",
       "      <td>너무재밓었다그래서보는것을추천한다</td>\n",
       "      <td>0</td>\n",
       "    </tr>\n",
       "    <tr>\n",
       "      <th>3</th>\n",
       "      <td>9045019</td>\n",
       "      <td>교도소 이야기구먼 ..솔직히 재미는 없다..평점 조정</td>\n",
       "      <td>0</td>\n",
       "    </tr>\n",
       "    <tr>\n",
       "      <th>4</th>\n",
       "      <td>6483659</td>\n",
       "      <td>사이몬페그의 익살스런 연기가 돋보였던 영화!스파이더맨에서 늙어보이기만 했던 커스틴 ...</td>\n",
       "      <td>1</td>\n",
       "    </tr>\n",
       "    <tr>\n",
       "      <th>5</th>\n",
       "      <td>5403919</td>\n",
       "      <td>막 걸음마 뗀 3세부터 초등학교 1학년생인 8살용영화.ㅋㅋㅋ...별반개도 아까움.</td>\n",
       "      <td>0</td>\n",
       "    </tr>\n",
       "    <tr>\n",
       "      <th>6</th>\n",
       "      <td>7797314</td>\n",
       "      <td>원작의 긴장감을 제대로 살려내지못했다.</td>\n",
       "      <td>0</td>\n",
       "    </tr>\n",
       "    <tr>\n",
       "      <th>7</th>\n",
       "      <td>9443947</td>\n",
       "      <td>별 반개도 아깝다 욕나온다 이응경 길용우 연기생활이몇년인지..정말 발로해도 그것보단...</td>\n",
       "      <td>0</td>\n",
       "    </tr>\n",
       "    <tr>\n",
       "      <th>8</th>\n",
       "      <td>7156791</td>\n",
       "      <td>액션이 없는데도 재미 있는 몇안되는 영화</td>\n",
       "      <td>1</td>\n",
       "    </tr>\n",
       "    <tr>\n",
       "      <th>9</th>\n",
       "      <td>5912145</td>\n",
       "      <td>왜케 평점이 낮은건데? 꽤 볼만한데.. 헐리우드식 화려함에만 너무 길들여져 있나?</td>\n",
       "      <td>1</td>\n",
       "    </tr>\n",
       "  </tbody>\n",
       "</table>\n",
       "</div>"
      ],
      "text/plain": [
       "         id                                           document  label\n",
       "0   9976970                                아 더빙.. 진짜 짜증나네요 목소리      0\n",
       "1   3819312                  흠...포스터보고 초딩영화줄....오버연기조차 가볍지 않구나      1\n",
       "2  10265843                                  너무재밓었다그래서보는것을추천한다      0\n",
       "3   9045019                      교도소 이야기구먼 ..솔직히 재미는 없다..평점 조정      0\n",
       "4   6483659  사이몬페그의 익살스런 연기가 돋보였던 영화!스파이더맨에서 늙어보이기만 했던 커스틴 ...      1\n",
       "5   5403919      막 걸음마 뗀 3세부터 초등학교 1학년생인 8살용영화.ㅋㅋㅋ...별반개도 아까움.      0\n",
       "6   7797314                              원작의 긴장감을 제대로 살려내지못했다.      0\n",
       "7   9443947  별 반개도 아깝다 욕나온다 이응경 길용우 연기생활이몇년인지..정말 발로해도 그것보단...      0\n",
       "8   7156791                             액션이 없는데도 재미 있는 몇안되는 영화      1\n",
       "9   5912145      왜케 평점이 낮은건데? 꽤 볼만한데.. 헐리우드식 화려함에만 너무 길들여져 있나?      1"
      ]
     },
     "execution_count": 5,
     "metadata": {},
     "output_type": "execute_result"
    }
   ],
   "source": [
    "train_data[:10]"
   ]
  },
  {
   "cell_type": "markdown",
   "id": "2ba69905",
   "metadata": {},
   "source": [
    "시간이 오래 걸려서 일부 텍스트 데이터만 사용"
   ]
  },
  {
   "cell_type": "code",
   "execution_count": 19,
   "id": "4aa49c10",
   "metadata": {},
   "outputs": [],
   "source": [
    "train_data = train_data[:5000]"
   ]
  },
  {
   "cell_type": "markdown",
   "id": "272d60b6",
   "metadata": {},
   "source": [
    "## 데이터 전처리\n",
    "\n",
    "- 중복값, 결측치 제거\n",
    "- 한글만 남기기\n",
    "- 띄어쓰기 고치기\n",
    "- 형태소 분석\n",
    "- 한글자, 불용어 제거\n",
    "- 최소 횟수 이하 단어 제거"
   ]
  },
  {
   "cell_type": "code",
   "execution_count": 20,
   "id": "504b8ae2",
   "metadata": {
    "scrolled": true
   },
   "outputs": [
    {
     "data": {
      "text/plain": [
       "(4974, 2)"
      ]
     },
     "execution_count": 20,
     "metadata": {},
     "output_type": "execute_result"
    }
   ],
   "source": [
    "train_data['document'].nunique(), train_data['label'].nunique()"
   ]
  },
  {
   "cell_type": "markdown",
   "id": "813f8cd0",
   "metadata": {},
   "source": [
    "전체 50000개 데이터 중 중복 제거한 샘플 49120개, label은 긍부정 2종류"
   ]
  },
  {
   "cell_type": "code",
   "execution_count": 21,
   "id": "46828437",
   "metadata": {},
   "outputs": [
    {
     "name": "stdout",
     "output_type": "stream",
     "text": [
      "총 샘플의 수 : 4974\n"
     ]
    }
   ],
   "source": [
    "# 중복 샘플 제거\n",
    "train_data.drop_duplicates(subset=['document'], inplace=True)\n",
    "print('총 샘플의 수 :',len(train_data))\n"
   ]
  },
  {
   "cell_type": "code",
   "execution_count": 22,
   "id": "0e6e261a",
   "metadata": {},
   "outputs": [
    {
     "data": {
      "text/plain": [
       "id          0\n",
       "document    0\n",
       "label       0\n",
       "dtype: int64"
      ]
     },
     "execution_count": 22,
     "metadata": {},
     "output_type": "execute_result"
    }
   ],
   "source": [
    "# 결측치 확인\n",
    "train_data.isnull().sum()"
   ]
  },
  {
   "cell_type": "code",
   "execution_count": 23,
   "id": "abe49d62",
   "metadata": {},
   "outputs": [
    {
     "name": "stdout",
     "output_type": "stream",
     "text": [
      "id          0\n",
      "document    0\n",
      "label       0\n",
      "dtype: int64\n"
     ]
    }
   ],
   "source": [
    "train_data = train_data.dropna(how='any')\n",
    "print(train_data.isnull().sum())"
   ]
  },
  {
   "cell_type": "code",
   "execution_count": 24,
   "id": "e40d494d",
   "metadata": {},
   "outputs": [],
   "source": [
    "# 인덱스 재배치\n",
    "train_data = train_data.reset_index(drop=True)"
   ]
  },
  {
   "cell_type": "code",
   "execution_count": 25,
   "id": "cd4bf92d",
   "metadata": {},
   "outputs": [],
   "source": [
    "# 한글만 남기기\n",
    "import re\n",
    "def extract_word(text):\n",
    "    hangul = re.compile('[^가-힣]') \n",
    "    result = hangul.sub(' ', text) \n",
    "    return result"
   ]
  },
  {
   "cell_type": "code",
   "execution_count": 26,
   "id": "cadeacf7",
   "metadata": {},
   "outputs": [],
   "source": [
    "train_data['document'] = train_data['document'].apply(lambda x:extract_word(x))\n"
   ]
  },
  {
   "cell_type": "code",
   "execution_count": 27,
   "id": "0a9704dc",
   "metadata": {},
   "outputs": [
    {
     "name": "stdout",
     "output_type": "stream",
     "text": [
      "Collecting git+https://github.com/ssut/py-hanspell.git\n",
      "  Cloning https://github.com/ssut/py-hanspell.git to /tmp/pip-req-build-o5vkmz8r\n",
      "  Running command git clone --filter=blob:none -q https://github.com/ssut/py-hanspell.git /tmp/pip-req-build-o5vkmz8r\n",
      "  Resolved https://github.com/ssut/py-hanspell.git to commit fdc6ca50c19f1c85971437a072d89d4e5ce024b8\n",
      "  Preparing metadata (setup.py) ... \u001b[?25ldone\n",
      "\u001b[?25hRequirement already satisfied: requests in /opt/conda/lib/python3.9/site-packages (from py-hanspell==1.1) (2.26.0)\n",
      "Requirement already satisfied: charset-normalizer~=2.0.0 in /opt/conda/lib/python3.9/site-packages (from requests->py-hanspell==1.1) (2.0.8)\n",
      "Requirement already satisfied: idna<4,>=2.5 in /opt/conda/lib/python3.9/site-packages (from requests->py-hanspell==1.1) (2.10)\n",
      "Requirement already satisfied: urllib3<1.27,>=1.21.1 in /opt/conda/lib/python3.9/site-packages (from requests->py-hanspell==1.1) (1.26.7)\n",
      "Requirement already satisfied: certifi>=2017.4.17 in /opt/conda/lib/python3.9/site-packages (from requests->py-hanspell==1.1) (2021.10.8)\n",
      "\u001b[33mWARNING: Running pip as the 'root' user can result in broken permissions and conflicting behaviour with the system package manager. It is recommended to use a virtual environment instead: https://pip.pypa.io/warnings/venv\u001b[0m\n"
     ]
    }
   ],
   "source": [
    "! pip install git+https://github.com/ssut/py-hanspell.git\n"
   ]
  },
  {
   "cell_type": "code",
   "execution_count": 28,
   "id": "95f0d2c5",
   "metadata": {},
   "outputs": [
    {
     "name": "stdout",
     "output_type": "stream",
     "text": [
      "0번째 문장 완료!\n",
      "10번째 문장 완료!\n",
      "20번째 문장 완료!\n",
      "30번째 문장 완료!\n",
      "40번째 문장 완료!\n",
      "50번째 문장 완료!\n",
      "60번째 문장 완료!\n",
      "70번째 문장 완료!\n",
      "80번째 문장 완료!\n",
      "90번째 문장 완료!\n",
      "100번째 문장 완료!\n",
      "110번째 문장 완료!\n",
      "120번째 문장 완료!\n",
      "130번째 문장 완료!\n",
      "140번째 문장 완료!\n",
      "150번째 문장 완료!\n",
      "160번째 문장 완료!\n",
      "170번째 문장 완료!\n",
      "180번째 문장 완료!\n",
      "190번째 문장 완료!\n",
      "200번째 문장 완료!\n",
      "210번째 문장 완료!\n",
      "220번째 문장 완료!\n",
      "230번째 문장 완료!\n",
      "240번째 문장 완료!\n",
      "250번째 문장 완료!\n",
      "260번째 문장 완료!\n",
      "270번째 문장 완료!\n",
      "280번째 문장 완료!\n",
      "290번째 문장 완료!\n",
      "300번째 문장 완료!\n",
      "310번째 문장 완료!\n",
      "320번째 문장 완료!\n",
      "330번째 문장 완료!\n",
      "340번째 문장 완료!\n",
      "350번째 문장 완료!\n",
      "360번째 문장 완료!\n",
      "370번째 문장 완료!\n",
      "380번째 문장 완료!\n",
      "390번째 문장 완료!\n",
      "400번째 문장 완료!\n",
      "410번째 문장 완료!\n",
      "420번째 문장 완료!\n",
      "430번째 문장 완료!\n",
      "440번째 문장 완료!\n",
      "450번째 문장 완료!\n",
      "460번째 문장 완료!\n",
      "470번째 문장 완료!\n",
      "480번째 문장 완료!\n",
      "490번째 문장 완료!\n",
      "500번째 문장 완료!\n",
      "510번째 문장 완료!\n",
      "520번째 문장 완료!\n",
      "530번째 문장 완료!\n",
      "540번째 문장 완료!\n",
      "550번째 문장 완료!\n",
      "560번째 문장 완료!\n",
      "570번째 문장 완료!\n",
      "580번째 문장 완료!\n",
      "590번째 문장 완료!\n",
      "600번째 문장 완료!\n",
      "610번째 문장 완료!\n",
      "620번째 문장 완료!\n",
      "630번째 문장 완료!\n",
      "640번째 문장 완료!\n",
      "650번째 문장 완료!\n",
      "660번째 문장 완료!\n",
      "670번째 문장 완료!\n",
      "680번째 문장 완료!\n",
      "690번째 문장 완료!\n",
      "700번째 문장 완료!\n",
      "710번째 문장 완료!\n",
      "720번째 문장 완료!\n",
      "730번째 문장 완료!\n",
      "740번째 문장 완료!\n",
      "750번째 문장 완료!\n",
      "760번째 문장 완료!\n",
      "770번째 문장 완료!\n",
      "780번째 문장 완료!\n",
      "790번째 문장 완료!\n",
      "800번째 문장 완료!\n",
      "810번째 문장 완료!\n",
      "820번째 문장 완료!\n",
      "830번째 문장 완료!\n",
      "840번째 문장 완료!\n",
      "850번째 문장 완료!\n",
      "860번째 문장 완료!\n",
      "870번째 문장 완료!\n",
      "880번째 문장 완료!\n",
      "890번째 문장 완료!\n",
      "900번째 문장 완료!\n",
      "910번째 문장 완료!\n",
      "920번째 문장 완료!\n",
      "930번째 문장 완료!\n",
      "940번째 문장 완료!\n",
      "950번째 문장 완료!\n",
      "960번째 문장 완료!\n",
      "970번째 문장 완료!\n",
      "980번째 문장 완료!\n",
      "990번째 문장 완료!\n",
      "1000번째 문장 완료!\n",
      "1010번째 문장 완료!\n",
      "1020번째 문장 완료!\n",
      "1030번째 문장 완료!\n",
      "1040번째 문장 완료!\n",
      "1050번째 문장 완료!\n",
      "1060번째 문장 완료!\n",
      "1070번째 문장 완료!\n",
      "1080번째 문장 완료!\n",
      "1090번째 문장 완료!\n",
      "1100번째 문장 완료!\n",
      "1110번째 문장 완료!\n",
      "1120번째 문장 완료!\n",
      "1130번째 문장 완료!\n",
      "1140번째 문장 완료!\n",
      "1150번째 문장 완료!\n",
      "1160번째 문장 완료!\n",
      "1170번째 문장 완료!\n",
      "1180번째 문장 완료!\n",
      "1190번째 문장 완료!\n",
      "1200번째 문장 완료!\n",
      "1210번째 문장 완료!\n",
      "1220번째 문장 완료!\n",
      "1230번째 문장 완료!\n",
      "1240번째 문장 완료!\n",
      "1250번째 문장 완료!\n",
      "1260번째 문장 완료!\n",
      "1270번째 문장 완료!\n",
      "1280번째 문장 완료!\n",
      "1290번째 문장 완료!\n",
      "1300번째 문장 완료!\n",
      "1310번째 문장 완료!\n",
      "1320번째 문장 완료!\n",
      "1330번째 문장 완료!\n",
      "1340번째 문장 완료!\n",
      "1350번째 문장 완료!\n",
      "1360번째 문장 완료!\n",
      "1370번째 문장 완료!\n",
      "1380번째 문장 완료!\n",
      "1390번째 문장 완료!\n",
      "1400번째 문장 완료!\n",
      "1410번째 문장 완료!\n",
      "1420번째 문장 완료!\n",
      "1430번째 문장 완료!\n",
      "1440번째 문장 완료!\n",
      "1450번째 문장 완료!\n",
      "1460번째 문장 완료!\n",
      "1470번째 문장 완료!\n",
      "1480번째 문장 완료!\n",
      "1490번째 문장 완료!\n",
      "1500번째 문장 완료!\n",
      "1510번째 문장 완료!\n",
      "1520번째 문장 완료!\n",
      "1530번째 문장 완료!\n",
      "1540번째 문장 완료!\n",
      "1550번째 문장 완료!\n",
      "1560번째 문장 완료!\n",
      "1570번째 문장 완료!\n",
      "1580번째 문장 완료!\n",
      "1590번째 문장 완료!\n",
      "1600번째 문장 완료!\n",
      "1610번째 문장 완료!\n",
      "1620번째 문장 완료!\n",
      "1630번째 문장 완료!\n",
      "1640번째 문장 완료!\n",
      "1650번째 문장 완료!\n",
      "1660번째 문장 완료!\n",
      "1670번째 문장 완료!\n",
      "1680번째 문장 완료!\n",
      "1690번째 문장 완료!\n",
      "1700번째 문장 완료!\n",
      "1710번째 문장 완료!\n",
      "1720번째 문장 완료!\n",
      "1730번째 문장 완료!\n",
      "1740번째 문장 완료!\n",
      "1750번째 문장 완료!\n",
      "1760번째 문장 완료!\n",
      "1770번째 문장 완료!\n",
      "1780번째 문장 완료!\n",
      "1790번째 문장 완료!\n",
      "1800번째 문장 완료!\n",
      "1810번째 문장 완료!\n",
      "1820번째 문장 완료!\n",
      "1830번째 문장 완료!\n",
      "1840번째 문장 완료!\n",
      "1850번째 문장 완료!\n",
      "1860번째 문장 완료!\n",
      "1870번째 문장 완료!\n",
      "1880번째 문장 완료!\n",
      "1890번째 문장 완료!\n",
      "1900번째 문장 완료!\n",
      "1910번째 문장 완료!\n",
      "1920번째 문장 완료!\n",
      "1930번째 문장 완료!\n",
      "1940번째 문장 완료!\n",
      "1950번째 문장 완료!\n",
      "1960번째 문장 완료!\n",
      "1970번째 문장 완료!\n",
      "1980번째 문장 완료!\n",
      "1990번째 문장 완료!\n",
      "2000번째 문장 완료!\n",
      "2010번째 문장 완료!\n",
      "2020번째 문장 완료!\n",
      "2030번째 문장 완료!\n",
      "2040번째 문장 완료!\n",
      "2050번째 문장 완료!\n",
      "2060번째 문장 완료!\n",
      "2070번째 문장 완료!\n",
      "2080번째 문장 완료!\n",
      "2090번째 문장 완료!\n",
      "2100번째 문장 완료!\n",
      "2110번째 문장 완료!\n",
      "2120번째 문장 완료!\n",
      "2130번째 문장 완료!\n",
      "2140번째 문장 완료!\n",
      "2150번째 문장 완료!\n",
      "2160번째 문장 완료!\n",
      "2170번째 문장 완료!\n",
      "2180번째 문장 완료!\n",
      "2190번째 문장 완료!\n",
      "2200번째 문장 완료!\n",
      "2210번째 문장 완료!\n",
      "2220번째 문장 완료!\n",
      "2230번째 문장 완료!\n",
      "2240번째 문장 완료!\n",
      "2250번째 문장 완료!\n",
      "2260번째 문장 완료!\n",
      "2270번째 문장 완료!\n",
      "2280번째 문장 완료!\n",
      "2290번째 문장 완료!\n",
      "2300번째 문장 완료!\n",
      "2310번째 문장 완료!\n",
      "2320번째 문장 완료!\n",
      "2330번째 문장 완료!\n",
      "2340번째 문장 완료!\n",
      "2350번째 문장 완료!\n",
      "2360번째 문장 완료!\n",
      "2370번째 문장 완료!\n",
      "2380번째 문장 완료!\n",
      "2390번째 문장 완료!\n",
      "2400번째 문장 완료!\n",
      "2410번째 문장 완료!\n",
      "2420번째 문장 완료!\n",
      "2430번째 문장 완료!\n",
      "2440번째 문장 완료!\n",
      "2450번째 문장 완료!\n",
      "2460번째 문장 완료!\n",
      "2470번째 문장 완료!\n",
      "2480번째 문장 완료!\n",
      "2490번째 문장 완료!\n",
      "2500번째 문장 완료!\n",
      "2510번째 문장 완료!\n",
      "2520번째 문장 완료!\n",
      "2530번째 문장 완료!\n",
      "2540번째 문장 완료!\n",
      "2550번째 문장 완료!\n",
      "2560번째 문장 완료!\n",
      "2570번째 문장 완료!\n",
      "2580번째 문장 완료!\n",
      "2590번째 문장 완료!\n",
      "2600번째 문장 완료!\n",
      "2610번째 문장 완료!\n",
      "2620번째 문장 완료!\n",
      "2630번째 문장 완료!\n",
      "2640번째 문장 완료!\n",
      "2650번째 문장 완료!\n",
      "2660번째 문장 완료!\n",
      "2670번째 문장 완료!\n",
      "2680번째 문장 완료!\n",
      "2690번째 문장 완료!\n",
      "2700번째 문장 완료!\n",
      "2710번째 문장 완료!\n",
      "2720번째 문장 완료!\n",
      "2730번째 문장 완료!\n",
      "2740번째 문장 완료!\n",
      "2750번째 문장 완료!\n",
      "2760번째 문장 완료!\n",
      "2770번째 문장 완료!\n",
      "2780번째 문장 완료!\n",
      "2790번째 문장 완료!\n",
      "2800번째 문장 완료!\n",
      "2810번째 문장 완료!\n",
      "2820번째 문장 완료!\n",
      "2830번째 문장 완료!\n",
      "2840번째 문장 완료!\n",
      "2850번째 문장 완료!\n",
      "2860번째 문장 완료!\n",
      "2870번째 문장 완료!\n",
      "2880번째 문장 완료!\n",
      "2890번째 문장 완료!\n",
      "2900번째 문장 완료!\n",
      "2910번째 문장 완료!\n",
      "2920번째 문장 완료!\n",
      "2930번째 문장 완료!\n",
      "2940번째 문장 완료!\n",
      "2950번째 문장 완료!\n",
      "2960번째 문장 완료!\n",
      "2970번째 문장 완료!\n",
      "2980번째 문장 완료!\n",
      "2990번째 문장 완료!\n",
      "3000번째 문장 완료!\n",
      "3010번째 문장 완료!\n",
      "3020번째 문장 완료!\n",
      "3030번째 문장 완료!\n",
      "3040번째 문장 완료!\n",
      "3050번째 문장 완료!\n",
      "3060번째 문장 완료!\n",
      "3070번째 문장 완료!\n",
      "3080번째 문장 완료!\n",
      "3090번째 문장 완료!\n",
      "3100번째 문장 완료!\n",
      "3110번째 문장 완료!\n",
      "3120번째 문장 완료!\n",
      "3130번째 문장 완료!\n",
      "3140번째 문장 완료!\n",
      "3150번째 문장 완료!\n",
      "3160번째 문장 완료!\n",
      "3170번째 문장 완료!\n",
      "3180번째 문장 완료!\n",
      "3190번째 문장 완료!\n",
      "3200번째 문장 완료!\n",
      "3210번째 문장 완료!\n",
      "3220번째 문장 완료!\n",
      "3230번째 문장 완료!\n",
      "3240번째 문장 완료!\n",
      "3250번째 문장 완료!\n",
      "3260번째 문장 완료!\n",
      "3270번째 문장 완료!\n",
      "3280번째 문장 완료!\n",
      "3290번째 문장 완료!\n",
      "3300번째 문장 완료!\n",
      "3310번째 문장 완료!\n",
      "3320번째 문장 완료!\n",
      "3330번째 문장 완료!\n",
      "3340번째 문장 완료!\n",
      "3350번째 문장 완료!\n",
      "3360번째 문장 완료!\n",
      "3370번째 문장 완료!\n",
      "3380번째 문장 완료!\n",
      "3390번째 문장 완료!\n",
      "3400번째 문장 완료!\n",
      "3410번째 문장 완료!\n",
      "3420번째 문장 완료!\n",
      "3430번째 문장 완료!\n",
      "3440번째 문장 완료!\n",
      "3450번째 문장 완료!\n",
      "3460번째 문장 완료!\n",
      "3470번째 문장 완료!\n",
      "3480번째 문장 완료!\n",
      "3490번째 문장 완료!\n",
      "3500번째 문장 완료!\n",
      "3510번째 문장 완료!\n",
      "3520번째 문장 완료!\n",
      "3530번째 문장 완료!\n",
      "3540번째 문장 완료!\n",
      "3550번째 문장 완료!\n",
      "3560번째 문장 완료!\n",
      "3570번째 문장 완료!\n",
      "3580번째 문장 완료!\n",
      "3590번째 문장 완료!\n",
      "3600번째 문장 완료!\n",
      "3610번째 문장 완료!\n",
      "3620번째 문장 완료!\n",
      "3630번째 문장 완료!\n",
      "3640번째 문장 완료!\n",
      "3650번째 문장 완료!\n",
      "3660번째 문장 완료!\n",
      "3670번째 문장 완료!\n",
      "3680번째 문장 완료!\n",
      "3690번째 문장 완료!\n",
      "3700번째 문장 완료!\n",
      "3710번째 문장 완료!\n",
      "3720번째 문장 완료!\n",
      "3730번째 문장 완료!\n",
      "3740번째 문장 완료!\n",
      "3750번째 문장 완료!\n",
      "3760번째 문장 완료!\n",
      "3770번째 문장 완료!\n",
      "3780번째 문장 완료!\n",
      "3790번째 문장 완료!\n",
      "3800번째 문장 완료!\n",
      "3810번째 문장 완료!\n",
      "3820번째 문장 완료!\n",
      "3830번째 문장 완료!\n",
      "3840번째 문장 완료!\n",
      "3850번째 문장 완료!\n",
      "3860번째 문장 완료!\n",
      "3870번째 문장 완료!\n",
      "3880번째 문장 완료!\n",
      "3890번째 문장 완료!\n",
      "3900번째 문장 완료!\n",
      "3910번째 문장 완료!\n",
      "3920번째 문장 완료!\n",
      "3930번째 문장 완료!\n",
      "3940번째 문장 완료!\n",
      "3950번째 문장 완료!\n",
      "3960번째 문장 완료!\n",
      "3970번째 문장 완료!\n",
      "3980번째 문장 완료!\n",
      "3990번째 문장 완료!\n",
      "4000번째 문장 완료!\n",
      "4010번째 문장 완료!\n",
      "4020번째 문장 완료!\n",
      "4030번째 문장 완료!\n",
      "4040번째 문장 완료!\n",
      "4050번째 문장 완료!\n",
      "4060번째 문장 완료!\n",
      "4070번째 문장 완료!\n",
      "4080번째 문장 완료!\n",
      "4090번째 문장 완료!\n",
      "4100번째 문장 완료!\n",
      "4110번째 문장 완료!\n",
      "4120번째 문장 완료!\n",
      "4130번째 문장 완료!\n",
      "4140번째 문장 완료!\n",
      "4150번째 문장 완료!\n",
      "4160번째 문장 완료!\n",
      "4170번째 문장 완료!\n",
      "4180번째 문장 완료!\n",
      "4190번째 문장 완료!\n",
      "4200번째 문장 완료!\n",
      "4210번째 문장 완료!\n",
      "4220번째 문장 완료!\n",
      "4230번째 문장 완료!\n",
      "4240번째 문장 완료!\n",
      "4250번째 문장 완료!\n",
      "4260번째 문장 완료!\n",
      "4270번째 문장 완료!\n",
      "4280번째 문장 완료!\n",
      "4290번째 문장 완료!\n",
      "4300번째 문장 완료!\n",
      "4310번째 문장 완료!\n",
      "4320번째 문장 완료!\n",
      "4330번째 문장 완료!\n",
      "4340번째 문장 완료!\n",
      "4350번째 문장 완료!\n",
      "4360번째 문장 완료!\n",
      "4370번째 문장 완료!\n",
      "4380번째 문장 완료!\n",
      "4390번째 문장 완료!\n",
      "4400번째 문장 완료!\n",
      "4410번째 문장 완료!\n",
      "4420번째 문장 완료!\n",
      "4430번째 문장 완료!\n",
      "4440번째 문장 완료!\n",
      "4450번째 문장 완료!\n",
      "4460번째 문장 완료!\n",
      "4470번째 문장 완료!\n",
      "4480번째 문장 완료!\n",
      "4490번째 문장 완료!\n",
      "4500번째 문장 완료!\n",
      "4510번째 문장 완료!\n",
      "4520번째 문장 완료!\n",
      "4530번째 문장 완료!\n",
      "4540번째 문장 완료!\n",
      "4550번째 문장 완료!\n",
      "4560번째 문장 완료!\n",
      "4570번째 문장 완료!\n",
      "4580번째 문장 완료!\n",
      "4590번째 문장 완료!\n",
      "4600번째 문장 완료!\n",
      "4610번째 문장 완료!\n",
      "4620번째 문장 완료!\n",
      "4630번째 문장 완료!\n",
      "4640번째 문장 완료!\n",
      "4650번째 문장 완료!\n",
      "4660번째 문장 완료!\n",
      "4670번째 문장 완료!\n",
      "4680번째 문장 완료!\n",
      "4690번째 문장 완료!\n",
      "4700번째 문장 완료!\n",
      "4710번째 문장 완료!\n",
      "4720번째 문장 완료!\n",
      "4730번째 문장 완료!\n",
      "4740번째 문장 완료!\n",
      "4750번째 문장 완료!\n",
      "4760번째 문장 완료!\n",
      "4770번째 문장 완료!\n",
      "4780번째 문장 완료!\n",
      "4790번째 문장 완료!\n",
      "4800번째 문장 완료!\n",
      "4810번째 문장 완료!\n",
      "4820번째 문장 완료!\n",
      "4830번째 문장 완료!\n",
      "4840번째 문장 완료!\n",
      "4850번째 문장 완료!\n",
      "4860번째 문장 완료!\n",
      "4870번째 문장 완료!\n",
      "4880번째 문장 완료!\n",
      "4890번째 문장 완료!\n",
      "4900번째 문장 완료!\n",
      "4910번째 문장 완료!\n",
      "4920번째 문장 완료!\n",
      "4930번째 문장 완료!\n",
      "4940번째 문장 완료!\n",
      "4950번째 문장 완료!\n",
      "4960번째 문장 완료!\n",
      "4970번째 문장 완료!\n",
      "         id                                           document  label\n",
      "0   9976970                               아 더빙   진짜 짜증 나네요 목소리      0\n",
      "1   3819312             흠   포스터 보고 초등학생영화 줄    오버 연기조차 가볍지 않구나      1\n",
      "2  10265843                                  너무재밓었다그래서보는것을추천한다      0\n",
      "3   9045019                      교도소 이야기구먼   솔직히 재미는 없다  평점 조정      0\n",
      "4   6483659  사이먼 페그의 익살스러운 연기가 돋보였던 영화 스파이더맨에서 늙어 보이기만 했던 커...      1\n",
      "5   5403919   막 걸음마 뗀  세부터 초등학교  학년생인  살용 영화       별 반 개도 아까움       0\n",
      "6   7797314                             원작의 긴장감을 제대로 살려내지 못했다       0\n",
      "7   9443947  별 반 개도 아깝다 욕 나온다 이응경 길용우 연기생활이 몇 년인지  정말 발로해도 ...      0\n",
      "8   7156791                            액션이 없는데도 재미있는 몇 안 되는 영화      1\n",
      "9   5912145  왜 이렇게 평점이 낮은 건데  꽤 볼만한데   할리우드식 화려함에만 너무 길들여져 있나       1\n"
     ]
    }
   ],
   "source": [
    "from hanspell import spell_checker\n",
    "\n",
    "for i in range(len(train_data)):\n",
    "    spelled_sent = spell_checker.check(train_data['document'][i])\n",
    "    hanspell_sent = spelled_sent.checked\n",
    "    train_data.loc[i, 'document'] = hanspell_sent\n",
    "    \n",
    "    if i%10 == 0:\n",
    "        print(f'{i}번째 문장 완료!')\n",
    "\n",
    "print(train_data[:10])\n"
   ]
  },
  {
   "cell_type": "code",
   "execution_count": 109,
   "id": "0b24bd37",
   "metadata": {},
   "outputs": [],
   "source": [
    "train_data.to_csv('train_data.txt', sep='\\t', index=False)\n",
    "train_data.to_csv('total_data.csv', sep='\\t', index=False)"
   ]
  },
  {
   "cell_type": "code",
   "execution_count": 112,
   "id": "21ae4ebf",
   "metadata": {},
   "outputs": [
    {
     "data": {
      "text/html": [
       "<div>\n",
       "<style scoped>\n",
       "    .dataframe tbody tr th:only-of-type {\n",
       "        vertical-align: middle;\n",
       "    }\n",
       "\n",
       "    .dataframe tbody tr th {\n",
       "        vertical-align: top;\n",
       "    }\n",
       "\n",
       "    .dataframe thead th {\n",
       "        text-align: right;\n",
       "    }\n",
       "</style>\n",
       "<table border=\"1\" class=\"dataframe\">\n",
       "  <thead>\n",
       "    <tr style=\"text-align: right;\">\n",
       "      <th></th>\n",
       "      <th>id</th>\n",
       "      <th>document</th>\n",
       "      <th>label</th>\n",
       "    </tr>\n",
       "  </thead>\n",
       "  <tbody>\n",
       "    <tr>\n",
       "      <th>0</th>\n",
       "      <td>9976970</td>\n",
       "      <td>아 더빙   진짜 짜증 나네요 목소리</td>\n",
       "      <td>0</td>\n",
       "    </tr>\n",
       "    <tr>\n",
       "      <th>1</th>\n",
       "      <td>3819312</td>\n",
       "      <td>흠   포스터 보고 초등학생영화 줄    오버 연기조차 가볍지 않구나</td>\n",
       "      <td>1</td>\n",
       "    </tr>\n",
       "    <tr>\n",
       "      <th>2</th>\n",
       "      <td>10265843</td>\n",
       "      <td>너무재밓었다그래서보는것을추천한다</td>\n",
       "      <td>0</td>\n",
       "    </tr>\n",
       "    <tr>\n",
       "      <th>3</th>\n",
       "      <td>9045019</td>\n",
       "      <td>교도소 이야기구먼   솔직히 재미는 없다  평점 조정</td>\n",
       "      <td>0</td>\n",
       "    </tr>\n",
       "    <tr>\n",
       "      <th>4</th>\n",
       "      <td>6483659</td>\n",
       "      <td>사이먼 페그의 익살스러운 연기가 돋보였던 영화 스파이더맨에서 늙어 보이기만 했던 커...</td>\n",
       "      <td>1</td>\n",
       "    </tr>\n",
       "    <tr>\n",
       "      <th>...</th>\n",
       "      <td>...</td>\n",
       "      <td>...</td>\n",
       "      <td>...</td>\n",
       "    </tr>\n",
       "    <tr>\n",
       "      <th>4969</th>\n",
       "      <td>7476802</td>\n",
       "      <td>별  개도 주기 아깝다 여자애 한 명을 두고 남자 둘의 싸움 내용임 그냥 소설다운 ...</td>\n",
       "      <td>0</td>\n",
       "    </tr>\n",
       "    <tr>\n",
       "      <th>4970</th>\n",
       "      <td>778724</td>\n",
       "      <td>포스님의 귀여운 연기 잘 봤어요  사고 때문에 중단돼서 아쉽네요</td>\n",
       "      <td>1</td>\n",
       "    </tr>\n",
       "    <tr>\n",
       "      <th>4971</th>\n",
       "      <td>10080330</td>\n",
       "      <td>그냥    영화인 거 같다 참고로 끝까지 봄</td>\n",
       "      <td>0</td>\n",
       "    </tr>\n",
       "    <tr>\n",
       "      <th>4972</th>\n",
       "      <td>6684036</td>\n",
       "      <td>나중이라도 꼭 한번 보고 싶습니다</td>\n",
       "      <td>1</td>\n",
       "    </tr>\n",
       "    <tr>\n",
       "      <th>4973</th>\n",
       "      <td>2061606</td>\n",
       "      <td>뭐야 대중을 공감시켜야지 감독제 혼자만 공감하냐</td>\n",
       "      <td>0</td>\n",
       "    </tr>\n",
       "  </tbody>\n",
       "</table>\n",
       "<p>4974 rows × 3 columns</p>\n",
       "</div>"
      ],
      "text/plain": [
       "            id                                           document  label\n",
       "0      9976970                               아 더빙   진짜 짜증 나네요 목소리      0\n",
       "1      3819312             흠   포스터 보고 초등학생영화 줄    오버 연기조차 가볍지 않구나      1\n",
       "2     10265843                                  너무재밓었다그래서보는것을추천한다      0\n",
       "3      9045019                      교도소 이야기구먼   솔직히 재미는 없다  평점 조정      0\n",
       "4      6483659  사이먼 페그의 익살스러운 연기가 돋보였던 영화 스파이더맨에서 늙어 보이기만 했던 커...      1\n",
       "...        ...                                                ...    ...\n",
       "4969   7476802  별  개도 주기 아깝다 여자애 한 명을 두고 남자 둘의 싸움 내용임 그냥 소설다운 ...      0\n",
       "4970    778724                포스님의 귀여운 연기 잘 봤어요  사고 때문에 중단돼서 아쉽네요      1\n",
       "4971  10080330                           그냥    영화인 거 같다 참고로 끝까지 봄      0\n",
       "4972   6684036                               나중이라도 꼭 한번 보고 싶습니다        1\n",
       "4973   2061606                         뭐야 대중을 공감시켜야지 감독제 혼자만 공감하냐      0\n",
       "\n",
       "[4974 rows x 3 columns]"
      ]
     },
     "execution_count": 112,
     "metadata": {},
     "output_type": "execute_result"
    }
   ],
   "source": [
    "train_data = pd.read_csv('total_data.csv', sep='\\t')\n",
    "train_data"
   ]
  },
  {
   "cell_type": "markdown",
   "id": "038a505e",
   "metadata": {},
   "source": [
    "### 데이터 분포 확인"
   ]
  },
  {
   "cell_type": "code",
   "execution_count": 87,
   "id": "38b88492",
   "metadata": {
    "scrolled": true
   },
   "outputs": [
    {
     "name": "stdout",
     "output_type": "stream",
     "text": [
      "   label  count\n",
      "0      0   2493\n",
      "1      1   2481\n"
     ]
    },
    {
     "data": {
      "image/png": "[encoded data removed]",
      "text/plain": [
       "<Figure size 432x288 with 1 Axes>"
      ]
     },
     "metadata": {
      "needs_background": "light"
     },
     "output_type": "display_data"
    }
   ],
   "source": [
    "# 라벨 분포 확인\n",
    "train_data['label'].value_counts().plot(kind = 'bar')\n",
    "print(train_data.groupby('label').size().reset_index(name = 'count'))"
   ]
  },
  {
   "cell_type": "code",
   "execution_count": 88,
   "id": "e9c1f254",
   "metadata": {},
   "outputs": [
    {
     "name": "stdout",
     "output_type": "stream",
     "text": [
      "문장의 최단 길이: 1\n",
      "문장의 최장 길이: 171\n",
      "문장의 평균 길이: 37\n",
      "Data Size: 4974\n"
     ]
    },
    {
     "data": {
      "image/png": "[encoded data removed]",
      "text/plain": [
       "<Figure size 432x288 with 1 Axes>"
      ]
     },
     "metadata": {
      "needs_background": "light"
     },
     "output_type": "display_data"
    }
   ],
   "source": [
    "min_len = 999\n",
    "max_len = 0\n",
    "sum_len = 0\n",
    "\n",
    "for sen in train_data['document']:\n",
    "    length = len(sen)\n",
    "    if min_len > length: min_len = length\n",
    "    if max_len < length: max_len = length\n",
    "    sum_len += length\n",
    "\n",
    "print(\"문장의 최단 길이:\", min_len)\n",
    "print(\"문장의 최장 길이:\", max_len)\n",
    "print(\"문장의 평균 길이:\", sum_len // len(train_data))\n",
    "\n",
    "sentence_length = np.zeros((max_len), dtype=int)\n",
    "\n",
    "for sen in train_data['document']:\n",
    "    sentence_length[len(sen)-1] += 1\n",
    "\n",
    "    \n",
    "print(\"Data Size:\", len(train_data))\n",
    "plt.bar(range(max_len), sentence_length, width=1.0)\n",
    "plt.title(\"Sentence Length Distribution\")\n",
    "plt.show()"
   ]
  },
  {
   "cell_type": "code",
   "execution_count": 89,
   "id": "821fac99",
   "metadata": {},
   "outputs": [],
   "source": [
    "def check_sentence_with_length(raw, length):\n",
    "    count = 0\n",
    "    \n",
    "    for sen in raw:\n",
    "        if len(sen) == length:\n",
    "            print(sen)\n",
    "            count += 1\n",
    "            if count > 100: return\n"
   ]
  },
  {
   "cell_type": "code",
   "execution_count": 90,
   "id": "5c3522c9",
   "metadata": {},
   "outputs": [
    {
     "name": "stdout",
     "output_type": "stream",
     "text": [
      "소파에 죽치고 앉아 지켜볼 이유가 없는 작품 \n",
      "강수연의 나가있어  그리고 최정원의 신 음식 \n",
      "신나는 흑인음악과 아이스 큐브뿐 남는 게 없다\n",
      "   영화 뭘 전달하려는지 모르겠네 오글거리고\n",
      "네놈을 살려두기엔 쌀이 아까워  세기의 명대사\n",
      "이 영화는 최고다  그냥 최고야 그런 줄 알아\n",
      "진짜 어마어마한 여운을 주는 멜로 영화에요  \n",
      "정말 완벽했다 최고의 영화 중에 꼽히는 영화 \n",
      "후속 지금이라도 나와라 한국 애니 좀 살려보자\n",
      "누구나  낄 수  너 덕을 영화화함   굿  \n",
      "왠지 모를 색다른 감동을 주는 영화이다    \n",
      "솔직히 평점  점 이상은 돼야 되는 거 같다 \n",
      "배우들 연기력이 아깝다  별 한 개도 아깝다 \n",
      "너무 재미있게 보았는데요 다시 볼 수 없을까요\n",
      "폭력 영화  자극적이고 실험적이라고 예술인가 \n",
      "당신이 솔로가 아니면 이 영화를 보지 마세요 \n",
      "너무 구식으로 웃기려고 함  보는 내내 지겨움\n",
      "나 홀로 집에 와 더불어 나의 최고의 영화  \n",
      "의도는 좋지만 너무 몰입이 안 되는 걸 어떡해\n",
      "설리   년생인데 연도 영화에 어떻게 나오죠 \n",
      "영화는 안 보고 포스터만 봐도  점주기 아까움\n",
      "퀸틴 타란티노의 포럼을 어쭙잖게 패러디한 졸작\n",
      "물체가 움직이거나 어떤 일이 진행되는 빠르기 \n",
      "음악밖에 기억 안 나    띠 띠디 띠    \n",
      "내용 기대 없이 훈훈한 주인공 오빠 보기엔 굿\n",
      "모로 보나 도로 보나  접대는 돼야 하는 영화\n",
      "아 재밌다아 재밌다아 재밌다아 재밌다아 재밌다\n",
      "너무 지루하다  솔직히  점은 너무 과대평가 \n",
      "운지 운지 홍어 홍어 부릉부릉 땅크 나가신다 \n",
      "진짜 핵노잼   번째 스트라이커가 차라리 낫다\n",
      "독립영화의 진수를 보여주는 아주 감동적인 영화\n",
      "초등학생 조카랑 보러 갔는데 재밌게 봤어요  \n",
      "극장에서 봤어요 잔잔한 감동 좋았습니다    \n",
      " 류 영화 베드신 하나 믿고 봤는데 캐실 망 \n",
      "양조위랑 장첸은 뭔 상관이라는 거냐      \n",
      "자극적인 장면을 넣는데만 애썼다    지루하다\n",
      "참 저질스러운 영화 내 평가에 내가 놀란다  \n",
      "동성애에 대한 편견과 불쾌감을 심어주는 영화 \n",
      "쓰레기 중의 쓰레기 영화 모든 것이 쓰레기다 \n",
      "요란하기만 할 뿐 짜임새도 없고 액션도 약하다\n",
      "인생에 대해 한 번 더 돌아볼 수 있었던 시간\n",
      "캐스팅과 소재 시나리오 등은 좋은데 연출이 꽝\n",
      "재미있네요 커플들끼리 보면 좋을 거 같네요  \n",
      "그럭저럭하지만 지루한 부분이 분명 있다는   \n",
      "짱   그런데 마직막 부분에서는 슬프네요   \n",
      "   와 스토리  연기 모두 감동을 주는 영화\n",
      "시간 때 우려다가 전기세가 아까웠다 물어내라 \n",
      "다크나이트 라이즈와 블랙코미디와의 환상 드라마\n",
      "죨라 지루하네  맷 데이먼의 그린존급이네   \n",
      "시작부터 지루하다 드라마 야인시대가 백배 낮다\n",
      "제주도 한화콘도에서 공짜로 보았는데 재밌었다 \n",
      "저는 잔잔하고 감성 있는 게 좋게 봤는데요  \n",
      "최고란 말이 전혀 아깝지 않은 전무후무한 역작\n",
      "웃긴 것은 아니지만 재밌던데     볼만합니다\n",
      "줄거리에 다 써놨어        친    이버\n",
      "시간이 이렇게 지났는데도 생각나는 드라마   \n",
      "티라노의 발톱급 블록버스터  출연료로 뭐 했냐\n",
      "스트레스 풀려요  그리고 영화 속 음악 대박 \n",
      "평점 왜 이러지   이런 명작이 어딨다고   \n",
      "별 내용은 없고 여주 몸매는 좋으나 그게 다임\n",
      "막간을 꼭 보세요     열차 폭발 귀염 터져\n",
      "하  점도 아깝다 배우도 감독도 이해 안 됨 \n",
      "정말 최악의 영화 보는 순간 후회  망할만하네\n",
      "미워할 수 없는 사랑스러운 아빠  그리워집니다\n",
      "오달수 씨가 괴물 목소리로 출연        \n",
      "이민기   여진구의 조합  그리고 원작의 매력\n",
      "한편의 영화를 보는 것 같았네요 아 영화였나 \n",
      "정말 재미가 없군요 보다가 암 걸릴 뻔했습니다\n",
      "가레스 베일 관련된 영화 아님 이거 고로  점\n",
      "종교영화 같다   종교인만 보는 게 나을듯싶다\n",
      "재밌어요  근데 좀   가 부족한 것 같네요 \n",
      "사극의 아름다움을 다시 한번 느끼게 해준 작품\n",
      " 와 더블어 유년기 때 본 잊지 못할 드라마 \n",
      "집에 비디오가 있는데 봐도 질리지 않아요 최고\n",
      "어릴 때 케이블에서 봤는데 정말 감동적이었어요\n",
      "보면 볼수록 빠져드는 제니퍼 가너의 매력   \n",
      "만화 같은 그래픽 말고는 별로 볼만한 게 없다\n",
      "이정재의 자연스럽고 멋진 연기 참 보기 좋다 \n",
      "꼽아도 봐라 너희가 욕해도 시청률은 올라가야지\n",
      "어릴 땐 동양인이었는데 크니까 서양인이 됐네 \n",
      "대실 해밋의 피의 수확   서부극 셰인 하이눈\n",
      "가쓰 렉이 그 자체  벤 에플렉이 아깝다   \n",
      " 년 전에 봤다면   개 이상의 작품이나   \n",
      "제목만큼 단단한 뚝심을 끌어올리지 못한 아쉬움\n",
      "최진실은 완전 얼짱에 몸짱에 매력 짜증이었다 \n",
      "호주의 멋진 자연을 보여주는 게 재미의 전부 \n",
      "솔직히 별           만개 주고 싶네요\n",
      "이런 걸 한편도 안 빼고 본 나도 대단 하  \n",
      "재밌고 마지막 소름 이야기 짜임이 진짜 좋았다\n",
      "자막 땜에  점 뺀다 초등학생이 썼나 봐   \n",
      "이건   영화로 끝나야 할 악몽이    부활 \n",
      "마이클 무어 감독은 고발 영화 잘 만드는 듯 \n",
      "아주 쓰레기이다 레즈비언이 나왔는데 눈 배렸다\n"
     ]
    }
   ],
   "source": [
    "check_sentence_with_length(train_data['document'], 25)"
   ]
  },
  {
   "cell_type": "code",
   "execution_count": null,
   "id": "c3e74268",
   "metadata": {},
   "outputs": [],
   "source": [
    "def below_threshold_len(max_len, nested_list):\n",
    "  count = 0\n",
    "  for sentence in nested_list:\n",
    "    if(len(sentence) <= max_len):\n",
    "        count = count + 1\n",
    "  print('전체 샘플 중 길이가 %s 이하인 샘플의 비율: %s'%(max_len, (count / len(nested_list))*100))"
   ]
  },
  {
   "cell_type": "code",
   "execution_count": null,
   "id": "9a1f42dd",
   "metadata": {},
   "outputs": [],
   "source": [
    "max_len = 172\n",
    "below_threshold_len(max_len, train_data)"
   ]
  },
  {
   "cell_type": "markdown",
   "id": "5089c036",
   "metadata": {},
   "source": [
    "## sentencepiece 모델 학습"
   ]
  },
  {
   "cell_type": "code",
   "execution_count": 114,
   "id": "1e4fc388",
   "metadata": {},
   "outputs": [],
   "source": [
    "# sentence piece에 사용하기 위해 txt 파일로 저장\n",
    "\n",
    "file_path = './train_data.csv'\n",
    "\n",
    "with open('train_data.txt', 'w', encoding='utf8') as f:\n",
    "    f.write('\\n'.join(train_data['document']))\n",
    "    "
   ]
  },
  {
   "cell_type": "code",
   "execution_count": 116,
   "id": "08f11b9a",
   "metadata": {},
   "outputs": [],
   "source": [
    "spm.SentencePieceTrainer.Train('--input=train_data.txt --model_prefix=naver --vocab_size=5000 --model_type=bpe --max_sentence_length=9999')\n"
   ]
  },
  {
   "cell_type": "code",
   "execution_count": 117,
   "id": "40784f56",
   "metadata": {},
   "outputs": [
    {
     "data": {
      "text/html": [
       "<div>\n",
       "<style scoped>\n",
       "    .dataframe tbody tr th:only-of-type {\n",
       "        vertical-align: middle;\n",
       "    }\n",
       "\n",
       "    .dataframe tbody tr th {\n",
       "        vertical-align: top;\n",
       "    }\n",
       "\n",
       "    .dataframe thead th {\n",
       "        text-align: right;\n",
       "    }\n",
       "</style>\n",
       "<table border=\"1\" class=\"dataframe\">\n",
       "  <thead>\n",
       "    <tr style=\"text-align: right;\">\n",
       "      <th></th>\n",
       "      <th>0</th>\n",
       "      <th>1</th>\n",
       "    </tr>\n",
       "  </thead>\n",
       "  <tbody>\n",
       "    <tr>\n",
       "      <th>765</th>\n",
       "      <td>▁독</td>\n",
       "      <td>-762</td>\n",
       "    </tr>\n",
       "    <tr>\n",
       "      <th>223</th>\n",
       "      <td>▁들</td>\n",
       "      <td>-220</td>\n",
       "    </tr>\n",
       "    <tr>\n",
       "      <th>3482</th>\n",
       "      <td>▁발톱</td>\n",
       "      <td>-3479</td>\n",
       "    </tr>\n",
       "    <tr>\n",
       "      <th>4152</th>\n",
       "      <td>격</td>\n",
       "      <td>-4149</td>\n",
       "    </tr>\n",
       "    <tr>\n",
       "      <th>4491</th>\n",
       "      <td>웨</td>\n",
       "      <td>-4488</td>\n",
       "    </tr>\n",
       "    <tr>\n",
       "      <th>457</th>\n",
       "      <td>▁손</td>\n",
       "      <td>-454</td>\n",
       "    </tr>\n",
       "    <tr>\n",
       "      <th>4216</th>\n",
       "      <td>갑</td>\n",
       "      <td>-4213</td>\n",
       "    </tr>\n",
       "    <tr>\n",
       "      <th>3688</th>\n",
       "      <td>어주는</td>\n",
       "      <td>-3685</td>\n",
       "    </tr>\n",
       "    <tr>\n",
       "      <th>2726</th>\n",
       "      <td>▁젤</td>\n",
       "      <td>-2723</td>\n",
       "    </tr>\n",
       "    <tr>\n",
       "      <th>1253</th>\n",
       "      <td>▁멜</td>\n",
       "      <td>-1250</td>\n",
       "    </tr>\n",
       "  </tbody>\n",
       "</table>\n",
       "</div>"
      ],
      "text/plain": [
       "        0     1\n",
       "765    ▁독  -762\n",
       "223    ▁들  -220\n",
       "3482  ▁발톱 -3479\n",
       "4152    격 -4149\n",
       "4491    웨 -4488\n",
       "457    ▁손  -454\n",
       "4216    갑 -4213\n",
       "3688  어주는 -3685\n",
       "2726   ▁젤 -2723\n",
       "1253   ▁멜 -1250"
      ]
     },
     "execution_count": 117,
     "metadata": {},
     "output_type": "execute_result"
    }
   ],
   "source": [
    "import csv\n",
    "\n",
    "vocab_list = pd.read_csv('naver.vocab', sep='\\t', header=None, quoting=csv.QUOTE_NONE)\n",
    "vocab_list.sample(10)\n"
   ]
  },
  {
   "cell_type": "code",
   "execution_count": 118,
   "id": "f7df9112",
   "metadata": {},
   "outputs": [
    {
     "data": {
      "text/plain": [
       "5000"
      ]
     },
     "execution_count": 118,
     "metadata": {},
     "output_type": "execute_result"
    }
   ],
   "source": [
    "len(vocab_list)"
   ]
  },
  {
   "cell_type": "code",
   "execution_count": 126,
   "id": "2919f48b",
   "metadata": {},
   "outputs": [],
   "source": [
    "data = pd.read_csv('total_data.csv', sep='\\t')\n"
   ]
  },
  {
   "cell_type": "code",
   "execution_count": 127,
   "id": "68f8530c",
   "metadata": {},
   "outputs": [
    {
     "data": {
      "text/html": [
       "<div>\n",
       "<style scoped>\n",
       "    .dataframe tbody tr th:only-of-type {\n",
       "        vertical-align: middle;\n",
       "    }\n",
       "\n",
       "    .dataframe tbody tr th {\n",
       "        vertical-align: top;\n",
       "    }\n",
       "\n",
       "    .dataframe thead th {\n",
       "        text-align: right;\n",
       "    }\n",
       "</style>\n",
       "<table border=\"1\" class=\"dataframe\">\n",
       "  <thead>\n",
       "    <tr style=\"text-align: right;\">\n",
       "      <th></th>\n",
       "      <th>id</th>\n",
       "      <th>document</th>\n",
       "      <th>label</th>\n",
       "    </tr>\n",
       "  </thead>\n",
       "  <tbody>\n",
       "    <tr>\n",
       "      <th>0</th>\n",
       "      <td>9976970</td>\n",
       "      <td>아 더빙   진짜 짜증 나네요 목소리</td>\n",
       "      <td>0</td>\n",
       "    </tr>\n",
       "    <tr>\n",
       "      <th>1</th>\n",
       "      <td>3819312</td>\n",
       "      <td>흠   포스터 보고 초등학생영화 줄    오버 연기조차 가볍지 않구나</td>\n",
       "      <td>1</td>\n",
       "    </tr>\n",
       "    <tr>\n",
       "      <th>2</th>\n",
       "      <td>10265843</td>\n",
       "      <td>너무재밓었다그래서보는것을추천한다</td>\n",
       "      <td>0</td>\n",
       "    </tr>\n",
       "    <tr>\n",
       "      <th>3</th>\n",
       "      <td>9045019</td>\n",
       "      <td>교도소 이야기구먼   솔직히 재미는 없다  평점 조정</td>\n",
       "      <td>0</td>\n",
       "    </tr>\n",
       "    <tr>\n",
       "      <th>4</th>\n",
       "      <td>6483659</td>\n",
       "      <td>사이먼 페그의 익살스러운 연기가 돋보였던 영화 스파이더맨에서 늙어 보이기만 했던 커...</td>\n",
       "      <td>1</td>\n",
       "    </tr>\n",
       "    <tr>\n",
       "      <th>5</th>\n",
       "      <td>5403919</td>\n",
       "      <td>막 걸음마 뗀  세부터 초등학교  학년생인  살용 영화       별 반 개도 아까움</td>\n",
       "      <td>0</td>\n",
       "    </tr>\n",
       "    <tr>\n",
       "      <th>6</th>\n",
       "      <td>7797314</td>\n",
       "      <td>원작의 긴장감을 제대로 살려내지 못했다</td>\n",
       "      <td>0</td>\n",
       "    </tr>\n",
       "    <tr>\n",
       "      <th>7</th>\n",
       "      <td>9443947</td>\n",
       "      <td>별 반 개도 아깝다 욕 나온다 이응경 길용우 연기생활이 몇 년인지  정말 발로해도 ...</td>\n",
       "      <td>0</td>\n",
       "    </tr>\n",
       "    <tr>\n",
       "      <th>8</th>\n",
       "      <td>7156791</td>\n",
       "      <td>액션이 없는데도 재미있는 몇 안 되는 영화</td>\n",
       "      <td>1</td>\n",
       "    </tr>\n",
       "    <tr>\n",
       "      <th>9</th>\n",
       "      <td>5912145</td>\n",
       "      <td>왜 이렇게 평점이 낮은 건데  꽤 볼만한데   할리우드식 화려함에만 너무 길들여져 있나</td>\n",
       "      <td>1</td>\n",
       "    </tr>\n",
       "  </tbody>\n",
       "</table>\n",
       "</div>"
      ],
      "text/plain": [
       "         id                                           document  label\n",
       "0   9976970                               아 더빙   진짜 짜증 나네요 목소리      0\n",
       "1   3819312             흠   포스터 보고 초등학생영화 줄    오버 연기조차 가볍지 않구나      1\n",
       "2  10265843                                  너무재밓었다그래서보는것을추천한다      0\n",
       "3   9045019                      교도소 이야기구먼   솔직히 재미는 없다  평점 조정      0\n",
       "4   6483659  사이먼 페그의 익살스러운 연기가 돋보였던 영화 스파이더맨에서 늙어 보이기만 했던 커...      1\n",
       "5   5403919   막 걸음마 뗀  세부터 초등학교  학년생인  살용 영화       별 반 개도 아까움       0\n",
       "6   7797314                             원작의 긴장감을 제대로 살려내지 못했다       0\n",
       "7   9443947  별 반 개도 아깝다 욕 나온다 이응경 길용우 연기생활이 몇 년인지  정말 발로해도 ...      0\n",
       "8   7156791                            액션이 없는데도 재미있는 몇 안 되는 영화      1\n",
       "9   5912145  왜 이렇게 평점이 낮은 건데  꽤 볼만한데   할리우드식 화려함에만 너무 길들여져 있나       1"
      ]
     },
     "execution_count": 127,
     "metadata": {},
     "output_type": "execute_result"
    }
   ],
   "source": [
    "data[:10]"
   ]
  },
  {
   "cell_type": "markdown",
   "id": "5d980661",
   "metadata": {},
   "source": [
    "### 토큰화 수행\n",
    "- sentencepiece\n",
    "- mecab\n",
    "- kkma\n",
    "- okt"
   ]
  },
  {
   "cell_type": "code",
   "execution_count": 128,
   "id": "548a11fb",
   "metadata": {},
   "outputs": [],
   "source": [
    "from sklearn.model_selection import train_test_split\n",
    "from sklearn.metrics import accuracy_score\n",
    "from tensorflow.keras.preprocessing.sequence import pad_sequences\n",
    "from tensorflow.keras.models import Sequential\n",
    "from tensorflow.keras.layers import Embedding, LSTM, Dense"
   ]
  },
  {
   "cell_type": "code",
   "execution_count": 130,
   "id": "940122d3",
   "metadata": {},
   "outputs": [],
   "source": [
    "# sentencepiece\n",
    "spm_model = 'naver.model'\n",
    "tokenizer_spm = spm.SentencePieceProcessor()\n",
    "tokenizer_spm.Load(spm_model)\n",
    "data['spm_tokens'] = [tokenizer_spm.EncodeAsIds(sentence) for sentence in data['document']]\n"
   ]
  },
  {
   "cell_type": "code",
   "execution_count": 133,
   "id": "7f738649",
   "metadata": {},
   "outputs": [],
   "source": [
    "# konlp: mecab, kkma, okt\n",
    "from konlpy.tag import Mecab, Kkma, Okt\n",
    "\n",
    "#mecab\n",
    "tokenizer_mecab = Mecab()\n",
    "data['mecab_tokens'] = [tokenizer_mecab.morphs(sentence) for sentence in data['document']]\n",
    "\n",
    "#kkma\n",
    "#tokenizer_kkma = Kkma()\n",
    "#data['kkma_tokens'] = [tokenizer_kkma.morphs(sentence) for sentence in data['document']]\n",
    "\n",
    "#okt\n",
    "tokenizer_okt = Okt()\n",
    "data['okt_tokens'] = [tokenizer_okt.morphs(sentence) for sentence in data['document']]\n"
   ]
  },
  {
   "cell_type": "code",
   "execution_count": 134,
   "id": "44306efe",
   "metadata": {},
   "outputs": [],
   "source": [
    "labels = train_data['label'].values\n"
   ]
  },
  {
   "cell_type": "code",
   "execution_count": 135,
   "id": "70cf6f2c",
   "metadata": {},
   "outputs": [],
   "source": [
    "\n",
    "X_train, X_test, y_train, y_test = train_test_split(data[['spm_tokens', 'mecab_tokens', 'okt_tokens']], labels, test_size=0.2, random_state=42)\n"
   ]
  },
  {
   "cell_type": "code",
   "execution_count": 194,
   "id": "d7f1753a",
   "metadata": {},
   "outputs": [
    {
     "name": "stdout",
     "output_type": "stream",
     "text": [
      "X_TRAIN:3979\n",
      "X_test:995\n",
      "y_Train:3979\n",
      "y_Test:995\n"
     ]
    }
   ],
   "source": [
    "print(f'X_TRAIN:{len(X_train)}')\n",
    "print(f'X_test:{len(X_test)}')\n",
    "print(f'y_Train:{len(y_train)}')\n",
    "print(f'y_Test:{len(y_test)}')"
   ]
  },
  {
   "cell_type": "code",
   "execution_count": 195,
   "id": "b47dab43",
   "metadata": {
    "scrolled": true
   },
   "outputs": [
    {
     "data": {
      "text/html": [
       "<div>\n",
       "<style scoped>\n",
       "    .dataframe tbody tr th:only-of-type {\n",
       "        vertical-align: middle;\n",
       "    }\n",
       "\n",
       "    .dataframe tbody tr th {\n",
       "        vertical-align: top;\n",
       "    }\n",
       "\n",
       "    .dataframe thead th {\n",
       "        text-align: right;\n",
       "    }\n",
       "</style>\n",
       "<table border=\"1\" class=\"dataframe\">\n",
       "  <thead>\n",
       "    <tr style=\"text-align: right;\">\n",
       "      <th></th>\n",
       "      <th>spm_tokens</th>\n",
       "      <th>mecab_tokens</th>\n",
       "      <th>okt_tokens</th>\n",
       "    </tr>\n",
       "  </thead>\n",
       "  <tbody>\n",
       "    <tr>\n",
       "      <th>1558</th>\n",
       "      <td>[507, 96, 4341, 106, 511, 1331, 4, 2060, 575, ...</td>\n",
       "      <td>[뭔가, 미흡, 하, 다, 하, 지만, 프랑스, 영화, 다운로드, 은은, 한, 감동...</td>\n",
       "      <td>[뭔가, 미흡하다, 하지만, 프랑스, 영화, 다운로드, 은은한, 감동, 이, 묻어,...</td>\n",
       "    </tr>\n",
       "    <tr>\n",
       "      <th>3460</th>\n",
       "      <td>[2439, 1393, 30, 504, 759, 255, 116, 31, 132, ...</td>\n",
       "      <td>[꿈, 을, 통해, 만나, 는, 사람, 들, 이야기, 들, 이, 너무, 재미있, 었...</td>\n",
       "      <td>[꿈, 을, 통해, 만나는, 사람, 들, 이야기, 들, 이, 너무, 재미있었어요]</td>\n",
       "    </tr>\n",
       "    <tr>\n",
       "      <th>4716</th>\n",
       "      <td>[82, 1868, 4444, 3803, 3940, 496, 727, 1954, 7...</td>\n",
       "      <td>[이런, 핵폐기물, 막장, 시나리오, 쓰, 는, 놈, 은, 작가, 로서, 의, 자존...</td>\n",
       "      <td>[이런, 핵폐기물, 막장, 시나리오, 쓰는, 놈, 은, 작가, 로서, 의, 자존심,...</td>\n",
       "    </tr>\n",
       "    <tr>\n",
       "      <th>4173</th>\n",
       "      <td>[684, 3798, 3987, 2067, 133, 1263, 239]</td>\n",
       "      <td>[왕가위, 영화, 감독, 보, 는, 듯, 한, 느낌]</td>\n",
       "      <td>[왕가위, 영화감독, 보는듯, 한, 느낌]</td>\n",
       "    </tr>\n",
       "    <tr>\n",
       "      <th>422</th>\n",
       "      <td>[107, 766, 17, 2873]</td>\n",
       "      <td>[그냥, 둘, 다, 변태]</td>\n",
       "      <td>[그냥, 둘, 다, 변태]</td>\n",
       "    </tr>\n",
       "  </tbody>\n",
       "</table>\n",
       "</div>"
      ],
      "text/plain": [
       "                                             spm_tokens  \\\n",
       "1558  [507, 96, 4341, 106, 511, 1331, 4, 2060, 575, ...   \n",
       "3460  [2439, 1393, 30, 504, 759, 255, 116, 31, 132, ...   \n",
       "4716  [82, 1868, 4444, 3803, 3940, 496, 727, 1954, 7...   \n",
       "4173            [684, 3798, 3987, 2067, 133, 1263, 239]   \n",
       "422                                [107, 766, 17, 2873]   \n",
       "\n",
       "                                           mecab_tokens  \\\n",
       "1558  [뭔가, 미흡, 하, 다, 하, 지만, 프랑스, 영화, 다운로드, 은은, 한, 감동...   \n",
       "3460  [꿈, 을, 통해, 만나, 는, 사람, 들, 이야기, 들, 이, 너무, 재미있, 었...   \n",
       "4716  [이런, 핵폐기물, 막장, 시나리오, 쓰, 는, 놈, 은, 작가, 로서, 의, 자존...   \n",
       "4173                      [왕가위, 영화, 감독, 보, 는, 듯, 한, 느낌]   \n",
       "422                                      [그냥, 둘, 다, 변태]   \n",
       "\n",
       "                                             okt_tokens  \n",
       "1558  [뭔가, 미흡하다, 하지만, 프랑스, 영화, 다운로드, 은은한, 감동, 이, 묻어,...  \n",
       "3460      [꿈, 을, 통해, 만나는, 사람, 들, 이야기, 들, 이, 너무, 재미있었어요]  \n",
       "4716  [이런, 핵폐기물, 막장, 시나리오, 쓰는, 놈, 은, 작가, 로서, 의, 자존심,...  \n",
       "4173                            [왕가위, 영화감독, 보는듯, 한, 느낌]  \n",
       "422                                      [그냥, 둘, 다, 변태]  "
      ]
     },
     "execution_count": 195,
     "metadata": {},
     "output_type": "execute_result"
    }
   ],
   "source": [
    "X_train[:5]"
   ]
  },
  {
   "cell_type": "code",
   "execution_count": 196,
   "id": "e96f1349",
   "metadata": {},
   "outputs": [
    {
     "data": {
      "text/html": [
       "<div>\n",
       "<style scoped>\n",
       "    .dataframe tbody tr th:only-of-type {\n",
       "        vertical-align: middle;\n",
       "    }\n",
       "\n",
       "    .dataframe tbody tr th {\n",
       "        vertical-align: top;\n",
       "    }\n",
       "\n",
       "    .dataframe thead th {\n",
       "        text-align: right;\n",
       "    }\n",
       "</style>\n",
       "<table border=\"1\" class=\"dataframe\">\n",
       "  <thead>\n",
       "    <tr style=\"text-align: right;\">\n",
       "      <th></th>\n",
       "      <th>spm_tokens</th>\n",
       "      <th>mecab_tokens</th>\n",
       "      <th>okt_tokens</th>\n",
       "    </tr>\n",
       "  </thead>\n",
       "  <tbody>\n",
       "    <tr>\n",
       "      <th>721</th>\n",
       "      <td>[399, 3806, 789, 120, 1203, 1630, 3802, 968, 3...</td>\n",
       "      <td>[결말, 의, 의미, 공자, 가, 자연, 에, 숨, 어, 사, 는, 노자, 에게, ...</td>\n",
       "      <td>[결말, 의, 의미, 공자, 가, 자연, 에, 숨어, 사는, 노자, 에게, 말, 했...</td>\n",
       "    </tr>\n",
       "    <tr>\n",
       "      <th>144</th>\n",
       "      <td>[132, 248, 209, 4265, 3789, 4188, 3796, 818]</td>\n",
       "      <td>[재미있, 다고, 허풍, 떨, 지, 마세요]</td>\n",
       "      <td>[재미있다고, 허풍, 떨지, 마세요]</td>\n",
       "    </tr>\n",
       "    <tr>\n",
       "      <th>4542</th>\n",
       "      <td>[877, 216, 467, 216, 1833, 2279, 2463, 4173, 1...</td>\n",
       "      <td>[감동, 도, 없, 고, 재미, 도, 없, 고, 무엇, 보다, 여기, 서, 류승범,...</td>\n",
       "      <td>[감동, 도, 없고, 재미, 도, 없고, 무엇, 보다, 여기, 서, 류승범, 조진웅...</td>\n",
       "    </tr>\n",
       "    <tr>\n",
       "      <th>642</th>\n",
       "      <td>[50, 192, 990, 184, 4, 204, 191, 184, 2032, 20...</td>\n",
       "      <td>[진짜, 이건, 아님, 액션, 영화, 좋, 아, 해서, 액션, 영화, 만, 다운로드...</td>\n",
       "      <td>[진짜, 이건, 아님, 액션, 영화, 좋아해서, 액션, 영화, 만, 다운로드, 해서...</td>\n",
       "    </tr>\n",
       "    <tr>\n",
       "      <th>4808</th>\n",
       "      <td>[214, 166, 80, 416, 463]</td>\n",
       "      <td>[편, 보다, 더, 스릴, 있, 다]</td>\n",
       "      <td>[편, 보다, 더, 스릴, 있다]</td>\n",
       "    </tr>\n",
       "  </tbody>\n",
       "</table>\n",
       "</div>"
      ],
      "text/plain": [
       "                                             spm_tokens  \\\n",
       "721   [399, 3806, 789, 120, 1203, 1630, 3802, 968, 3...   \n",
       "144        [132, 248, 209, 4265, 3789, 4188, 3796, 818]   \n",
       "4542  [877, 216, 467, 216, 1833, 2279, 2463, 4173, 1...   \n",
       "642   [50, 192, 990, 184, 4, 204, 191, 184, 2032, 20...   \n",
       "4808                           [214, 166, 80, 416, 463]   \n",
       "\n",
       "                                           mecab_tokens  \\\n",
       "721   [결말, 의, 의미, 공자, 가, 자연, 에, 숨, 어, 사, 는, 노자, 에게, ...   \n",
       "144                            [재미있, 다고, 허풍, 떨, 지, 마세요]   \n",
       "4542  [감동, 도, 없, 고, 재미, 도, 없, 고, 무엇, 보다, 여기, 서, 류승범,...   \n",
       "642   [진짜, 이건, 아님, 액션, 영화, 좋, 아, 해서, 액션, 영화, 만, 다운로드...   \n",
       "4808                               [편, 보다, 더, 스릴, 있, 다]   \n",
       "\n",
       "                                             okt_tokens  \n",
       "721   [결말, 의, 의미, 공자, 가, 자연, 에, 숨어, 사는, 노자, 에게, 말, 했...  \n",
       "144                                [재미있다고, 허풍, 떨지, 마세요]  \n",
       "4542  [감동, 도, 없고, 재미, 도, 없고, 무엇, 보다, 여기, 서, 류승범, 조진웅...  \n",
       "642   [진짜, 이건, 아님, 액션, 영화, 좋아해서, 액션, 영화, 만, 다운로드, 해서...  \n",
       "4808                                 [편, 보다, 더, 스릴, 있다]  "
      ]
     },
     "execution_count": 196,
     "metadata": {},
     "output_type": "execute_result"
    }
   ],
   "source": [
    "X_test[:5]"
   ]
  },
  {
   "cell_type": "code",
   "execution_count": 197,
   "id": "a3397f3b",
   "metadata": {},
   "outputs": [],
   "source": [
    "from keras.preprocessing.text import Tokenizer\n",
    "from keras.preprocessing.sequence import pad_sequences\n",
    "\n",
    "# 정수인코딩 위한 토크나이저 생성\n",
    "tokenizer_spm = Tokenizer()\n",
    "tokenizer_mecab = Tokenizer()\n",
    "tokenizer_okt = Tokenizer()\n",
    "\n",
    "# 피처 데이터 학습\n",
    "tokenizer_mecab.fit_on_texts(X_train['mecab_tokens'])\n",
    "tokenizer_okt.fit_on_texts(X_train['okt_tokens'])\n",
    "\n",
    "# train_Data\n",
    "# 정수인코딩\n",
    "X_train_spm_indices = X_train['spm_tokens']\n",
    "X_train_mecab_indices = tokenizer_mecab.texts_to_sequences(X_train['mecab_tokens'])\n",
    "X_train_okt_indices = tokenizer_okt.texts_to_sequences(X_train['okt_tokens'])\n",
    "\n",
    "# 패딩\n",
    "max_seq_length = 172\n",
    "X_train_spm_pad = pad_sequences(X_train_spm_indices, maxlen=max_seq_length, padding='pre')\n",
    "X_train_mecab_pad = pad_sequences(X_train_mecab_indices, maxlen=max_seq_length, padding='pre')\n",
    "X_train_okt_pad = pad_sequences(X_train_okt_indices, maxlen=max_seq_length, padding='pre')\n",
    "\n",
    "# test_data\n",
    "# 정수인코딩\n",
    "X_test_spm_indices = X_test['spm_tokens']\n",
    "X_test_mecab_indices = tokenizer_mecab.texts_to_sequences(X_test['mecab_tokens'])\n",
    "X_test_okt_indices = tokenizer_okt.texts_to_sequences(X_test['okt_tokens'])\n",
    "\n",
    "# 패딩\n",
    "max_seq_length = 172\n",
    "X_test_spm_pad = pad_sequences(X_test_spm_indices, maxlen=max_seq_length, padding='pre')\n",
    "X_test_mecab_pad = pad_sequences(X_test_mecab_indices, maxlen=max_seq_length, padding='pre')\n",
    "X_test_okt_pad = pad_sequences(X_test_okt_indices, maxlen=max_seq_length, padding='pre')\n"
   ]
  },
  {
   "cell_type": "code",
   "execution_count": 198,
   "id": "a912bc6e",
   "metadata": {},
   "outputs": [
    {
     "data": {
      "text/plain": [
       "array([   0,    0,    0,    0,    0,    0,    0,    0,    0,    0,    0,\n",
       "          0,    0,    0,    0,    0,    0,    0,    0,    0,    0,    0,\n",
       "          0,    0,    0,    0,    0,    0,    0,    0,    0,    0,    0,\n",
       "          0,    0,    0,    0,    0,    0,    0,    0,    0,    0,    0,\n",
       "          0,    0,    0,    0,    0,    0,    0,    0,    0,    0,    0,\n",
       "          0,    0,    0,    0,    0,    0,    0,    0,    0,    0,    0,\n",
       "          0,    0,    0,    0,    0,    0,    0,    0,    0,    0,    0,\n",
       "          0,    0,    0,    0,    0,    0,    0,    0,    0,    0,    0,\n",
       "          0,    0,    0,    0,    0,    0,    0,    0,    0,    0,    0,\n",
       "          0,    0,    0,    0,    0,    0,    0,    0,    0,    0,    0,\n",
       "          0,    0,    0,    0,    0,    0,    0,    0,    0,    0,    0,\n",
       "          0,    0,    0,    0,    0,    0,    0,    0,    0,    0,    0,\n",
       "          0,    0,    0,    0,    0,    0,    0,    0,    0,    0,    0,\n",
       "          0,    0,    0,    0,    0,    0,    0,    0,    0,    0,    0,\n",
       "          0,    0,    0,    0,    0,    0,    0,  221, 4073,  207,  566,\n",
       "          2, 1058, 2535,   47,    1, 2536,  460], dtype=int32)"
      ]
     },
     "execution_count": 198,
     "metadata": {},
     "output_type": "execute_result"
    }
   ],
   "source": [
    "X_train_okt_pad[0]"
   ]
  },
  {
   "cell_type": "code",
   "execution_count": 199,
   "id": "cd42a5c8",
   "metadata": {},
   "outputs": [
    {
     "name": "stdout",
     "output_type": "stream",
     "text": [
      "train_spm:3979\n",
      "train_mecab:3979\n",
      "train:okt:3979\n",
      "---------------------------\n",
      "test_spm:995\n",
      "test_mecab:995\n",
      "test:okt:995\n",
      "-------------------------\n",
      "y_Train:3979\n",
      "y_Test:995\n"
     ]
    }
   ],
   "source": [
    "print(f'train_spm:{len(X_train_spm_pad)}')\n",
    "print(f'train_mecab:{len(X_train_mecab_pad)}')\n",
    "print(f'train:okt:{len(X_train_okt_pad)}')\n",
    "print(\"---------------------------\")\n",
    "print(f'test_spm:{len(X_test_spm_pad)}')\n",
    "print(f'test_mecab:{len(X_test_mecab_pad)}')\n",
    "print(f'test:okt:{len(X_test_okt_pad)}')\n",
    "print(\"-------------------------\")\n",
    "print(f'y_Train:{len(y_train)}')\n",
    "print(f'y_Test:{len(y_test)}')"
   ]
  },
  {
   "cell_type": "markdown",
   "id": "00ff7485",
   "metadata": {},
   "source": [
    "## 모델 생성 및 학습"
   ]
  },
  {
   "cell_type": "code",
   "execution_count": 254,
   "id": "ef1cbd3c",
   "metadata": {
    "scrolled": false
   },
   "outputs": [],
   "source": [
    "def build_model():\n",
    "    embedding_dim = 100\n",
    "    model = Sequential([\n",
    "        Embedding(input_dim=172, output_dim=embedding_dim, input_length=max_seq_length),\n",
    "        LSTM(units=128),\n",
    "        Dense(units=1, activation='sigmoid')\n",
    "    ])\n",
    "\n",
    "    model.compile(optimizer='rmsprop', loss='binary_crossentropy', metrics=['acc'])\n",
    "    model.summary()\n",
    "    return model\n"
   ]
  },
  {
   "cell_type": "code",
   "execution_count": 255,
   "id": "df167efe",
   "metadata": {},
   "outputs": [
    {
     "name": "stdout",
     "output_type": "stream",
     "text": [
      "Model: \"sequential_15\"\n",
      "_________________________________________________________________\n",
      "Layer (type)                 Output Shape              Param #   \n",
      "=================================================================\n",
      "embedding_15 (Embedding)     (None, 172, 100)          17200     \n",
      "_________________________________________________________________\n",
      "lstm_15 (LSTM)               (None, 128)               117248    \n",
      "_________________________________________________________________\n",
      "dense_15 (Dense)             (None, 1)                 129       \n",
      "=================================================================\n",
      "Total params: 134,577\n",
      "Trainable params: 134,577\n",
      "Non-trainable params: 0\n",
      "_________________________________________________________________\n",
      "Model: \"sequential_16\"\n",
      "_________________________________________________________________\n",
      "Layer (type)                 Output Shape              Param #   \n",
      "=================================================================\n",
      "embedding_16 (Embedding)     (None, 172, 100)          17200     \n",
      "_________________________________________________________________\n",
      "lstm_16 (LSTM)               (None, 128)               117248    \n",
      "_________________________________________________________________\n",
      "dense_16 (Dense)             (None, 1)                 129       \n",
      "=================================================================\n",
      "Total params: 134,577\n",
      "Trainable params: 134,577\n",
      "Non-trainable params: 0\n",
      "_________________________________________________________________\n",
      "Model: \"sequential_17\"\n",
      "_________________________________________________________________\n",
      "Layer (type)                 Output Shape              Param #   \n",
      "=================================================================\n",
      "embedding_17 (Embedding)     (None, 172, 100)          17200     \n",
      "_________________________________________________________________\n",
      "lstm_17 (LSTM)               (None, 128)               117248    \n",
      "_________________________________________________________________\n",
      "dense_17 (Dense)             (None, 1)                 129       \n",
      "=================================================================\n",
      "Total params: 134,577\n",
      "Trainable params: 134,577\n",
      "Non-trainable params: 0\n",
      "_________________________________________________________________\n"
     ]
    }
   ],
   "source": [
    "spm_model = build_model()\n",
    "mecab_model = build_model()\n",
    "okt_model = build_model()"
   ]
  },
  {
   "cell_type": "code",
   "execution_count": 251,
   "id": "0bfa8918",
   "metadata": {},
   "outputs": [
    {
     "data": {
      "text/plain": [
       "3979"
      ]
     },
     "execution_count": 251,
     "metadata": {},
     "output_type": "execute_result"
    }
   ],
   "source": [
    "len(X_train_spm_pad)"
   ]
  },
  {
   "cell_type": "code",
   "execution_count": 256,
   "id": "7a4010d3",
   "metadata": {},
   "outputs": [
    {
     "name": "stdout",
     "output_type": "stream",
     "text": [
      "Epoch 1/200\n",
      "50/50 [==============================] - 3s 20ms/step - loss: 0.6899 - acc: 0.5344 - val_loss: 0.6780 - val_acc: 0.5741\n",
      "Epoch 2/200\n",
      "50/50 [==============================] - 1s 11ms/step - loss: 0.7123 - acc: 0.6111 - val_loss: 0.6380 - val_acc: 0.6068\n",
      "Epoch 3/200\n",
      "50/50 [==============================] - 1s 11ms/step - loss: 0.6424 - acc: 0.6359 - val_loss: 0.6250 - val_acc: 0.6256\n",
      "Epoch 4/200\n",
      "50/50 [==============================] - 1s 11ms/step - loss: 0.6184 - acc: 0.6447 - val_loss: 0.6257 - val_acc: 0.6106\n",
      "Epoch 5/200\n",
      "50/50 [==============================] - 1s 11ms/step - loss: 0.6127 - acc: 0.6500 - val_loss: 0.6227 - val_acc: 0.6118\n",
      "Epoch 6/200\n",
      "50/50 [==============================] - 1s 12ms/step - loss: 0.6150 - acc: 0.6532 - val_loss: 0.6226 - val_acc: 0.6231\n",
      "Epoch 7/200\n",
      "50/50 [==============================] - 1s 11ms/step - loss: 0.6054 - acc: 0.6478 - val_loss: 0.6451 - val_acc: 0.6143\n",
      "Epoch 8/200\n",
      "50/50 [==============================] - 1s 11ms/step - loss: 0.6058 - acc: 0.6538 - val_loss: 0.6290 - val_acc: 0.6131\n",
      "Epoch 9/200\n",
      "50/50 [==============================] - 1s 11ms/step - loss: 0.6561 - acc: 0.6591 - val_loss: 0.7077 - val_acc: 0.5791\n",
      "Epoch 10/200\n",
      "50/50 [==============================] - 1s 11ms/step - loss: 0.6012 - acc: 0.6532 - val_loss: 0.6239 - val_acc: 0.6106\n",
      "Epoch 11/200\n",
      "50/50 [==============================] - 1s 11ms/step - loss: 0.5931 - acc: 0.6620 - val_loss: 0.6294 - val_acc: 0.6181\n"
     ]
    }
   ],
   "source": [
    "from keras.callbacks import EarlyStopping\n",
    "from keras.callbacks import ModelCheckpoint\n",
    "\n",
    "early_stopping = EarlyStopping(patience=5, monitor='val_loss', restore_best_weights=True)\n",
    "mc = ModelCheckpoint('best_spm.h5', monitor='val_acc', mode='max', verbose=1, save_best_only=True)\n",
    "\n",
    "history_spm = spm_model.fit(X_train_spm_pad, y_train, epochs=200, batch_size=64, validation_split=0.2, callbacks=[early_stopping,])\n"
   ]
  },
  {
   "cell_type": "code",
   "execution_count": 257,
   "id": "9bd974e4",
   "metadata": {
    "scrolled": true
   },
   "outputs": [
    {
     "name": "stdout",
     "output_type": "stream",
     "text": [
      "32/32 [==============================] - 0s 6ms/step - loss: 0.6528 - acc: 0.6080\n"
     ]
    },
    {
     "data": {
      "text/plain": [
       "[0.652755856513977, 0.6080402135848999]"
      ]
     },
     "execution_count": 257,
     "metadata": {},
     "output_type": "execute_result"
    }
   ],
   "source": [
    "spm_model.evaluate(X_test_spm_pad, y_test)"
   ]
  },
  {
   "cell_type": "code",
   "execution_count": 259,
   "id": "07184958",
   "metadata": {},
   "outputs": [
    {
     "name": "stdout",
     "output_type": "stream",
     "text": [
      "Epoch 1/200\n",
      "50/50 [==============================] - 3s 29ms/step - loss: 0.7104 - acc: 0.6287 - val_loss: 0.5853 - val_acc: 0.6935\n",
      "\n",
      "Epoch 00001: val_acc improved from -inf to 0.69347, saving model to best_spm.h5\n",
      "Epoch 2/200\n",
      "50/50 [==============================] - 1s 11ms/step - loss: 0.5672 - acc: 0.7103 - val_loss: 0.5410 - val_acc: 0.7261\n",
      "\n",
      "Epoch 00002: val_acc improved from 0.69347 to 0.72613, saving model to best_spm.h5\n",
      "Epoch 3/200\n",
      "50/50 [==============================] - 1s 11ms/step - loss: 0.5118 - acc: 0.7374 - val_loss: 0.5488 - val_acc: 0.6872\n",
      "\n",
      "Epoch 00003: val_acc did not improve from 0.72613\n",
      "Epoch 4/200\n",
      "50/50 [==============================] - 1s 11ms/step - loss: 0.4970 - acc: 0.7408 - val_loss: 0.5355 - val_acc: 0.6997\n",
      "\n",
      "Epoch 00004: val_acc did not improve from 0.72613\n",
      "Epoch 5/200\n",
      "50/50 [==============================] - 1s 11ms/step - loss: 0.4896 - acc: 0.7433 - val_loss: 0.5314 - val_acc: 0.7186\n",
      "\n",
      "Epoch 00005: val_acc did not improve from 0.72613\n",
      "Epoch 6/200\n",
      "50/50 [==============================] - 1s 12ms/step - loss: 0.4877 - acc: 0.7521 - val_loss: 0.5300 - val_acc: 0.7211\n",
      "\n",
      "Epoch 00006: val_acc did not improve from 0.72613\n",
      "Epoch 7/200\n",
      "50/50 [==============================] - 1s 11ms/step - loss: 0.4787 - acc: 0.7496 - val_loss: 0.5252 - val_acc: 0.7312\n",
      "\n",
      "Epoch 00007: val_acc improved from 0.72613 to 0.73116, saving model to best_spm.h5\n",
      "Epoch 8/200\n",
      "50/50 [==============================] - 1s 11ms/step - loss: 0.4767 - acc: 0.7540 - val_loss: 0.5271 - val_acc: 0.7161\n",
      "\n",
      "Epoch 00008: val_acc did not improve from 0.73116\n",
      "Epoch 9/200\n",
      "50/50 [==============================] - 1s 11ms/step - loss: 0.4701 - acc: 0.7549 - val_loss: 0.5274 - val_acc: 0.7261\n",
      "\n",
      "Epoch 00009: val_acc did not improve from 0.73116\n",
      "Epoch 10/200\n",
      "50/50 [==============================] - 1s 11ms/step - loss: 0.4684 - acc: 0.7600 - val_loss: 0.5290 - val_acc: 0.7186\n",
      "\n",
      "Epoch 00010: val_acc did not improve from 0.73116\n",
      "Epoch 11/200\n",
      "50/50 [==============================] - 1s 11ms/step - loss: 0.4592 - acc: 0.7641 - val_loss: 0.5732 - val_acc: 0.7173\n",
      "\n",
      "Epoch 00011: val_acc did not improve from 0.73116\n",
      "Epoch 12/200\n",
      "50/50 [==============================] - 1s 11ms/step - loss: 0.4510 - acc: 0.7688 - val_loss: 0.5423 - val_acc: 0.7161\n",
      "\n",
      "Epoch 00012: val_acc did not improve from 0.73116\n",
      "32/32 [==============================] - 0s 4ms/step - loss: 0.5087 - acc: 0.7407\n"
     ]
    },
    {
     "data": {
      "text/plain": [
       "[0.5087105631828308, 0.7407035231590271]"
      ]
     },
     "execution_count": 259,
     "metadata": {},
     "output_type": "execute_result"
    }
   ],
   "source": [
    "history_mecab = mecab_model.fit(X_train_mecab_pad, y_train, epochs=200, batch_size=64, validation_split=0.2, callbacks=[early_stopping, mc])\n",
    "mecab_model.evaluate(X_test_mecab_pad, y_test)\n"
   ]
  },
  {
   "cell_type": "code",
   "execution_count": 260,
   "id": "46399a06",
   "metadata": {},
   "outputs": [
    {
     "name": "stdout",
     "output_type": "stream",
     "text": [
      "Epoch 1/200\n",
      "50/50 [==============================] - 8s 79ms/step - loss: 0.6769 - acc: 0.5866 - val_loss: 0.6348 - val_acc: 0.6520\n",
      "\n",
      "Epoch 00001: val_acc did not improve from 0.73116\n",
      "Epoch 2/200\n",
      "50/50 [==============================] - 1s 13ms/step - loss: 0.6581 - acc: 0.6704 - val_loss: 0.5846 - val_acc: 0.6696\n",
      "\n",
      "Epoch 00002: val_acc did not improve from 0.73116\n",
      "Epoch 3/200\n",
      "50/50 [==============================] - 1s 11ms/step - loss: 0.5619 - acc: 0.6965 - val_loss: 0.5788 - val_acc: 0.6734\n",
      "\n",
      "Epoch 00003: val_acc did not improve from 0.73116\n",
      "Epoch 4/200\n",
      "50/50 [==============================] - 1s 11ms/step - loss: 0.5493 - acc: 0.6987 - val_loss: 0.5723 - val_acc: 0.6721\n",
      "\n",
      "Epoch 00004: val_acc did not improve from 0.73116\n",
      "Epoch 5/200\n",
      "50/50 [==============================] - 1s 11ms/step - loss: 0.5403 - acc: 0.7085 - val_loss: 0.5707 - val_acc: 0.6696\n",
      "\n",
      "Epoch 00005: val_acc did not improve from 0.73116\n",
      "Epoch 6/200\n",
      "50/50 [==============================] - 1s 11ms/step - loss: 0.5673 - acc: 0.7066 - val_loss: 0.5739 - val_acc: 0.6633\n",
      "\n",
      "Epoch 00006: val_acc did not improve from 0.73116\n",
      "Epoch 7/200\n",
      "50/50 [==============================] - 1s 11ms/step - loss: 0.5345 - acc: 0.7047 - val_loss: 0.5699 - val_acc: 0.6721\n",
      "\n",
      "Epoch 00007: val_acc did not improve from 0.73116\n",
      "Epoch 8/200\n",
      "50/50 [==============================] - 1s 11ms/step - loss: 0.5312 - acc: 0.7119 - val_loss: 0.5810 - val_acc: 0.6671\n",
      "\n",
      "Epoch 00008: val_acc did not improve from 0.73116\n",
      "Epoch 9/200\n",
      "50/50 [==============================] - 1s 11ms/step - loss: 0.5252 - acc: 0.7176 - val_loss: 0.5750 - val_acc: 0.6834\n",
      "\n",
      "Epoch 00009: val_acc did not improve from 0.73116\n",
      "Epoch 10/200\n",
      "50/50 [==============================] - 1s 11ms/step - loss: 0.5236 - acc: 0.7100 - val_loss: 0.5942 - val_acc: 0.6822\n",
      "\n",
      "Epoch 00010: val_acc did not improve from 0.73116\n",
      "Epoch 11/200\n",
      "50/50 [==============================] - 1s 11ms/step - loss: 0.5196 - acc: 0.7182 - val_loss: 0.5844 - val_acc: 0.6583\n",
      "\n",
      "Epoch 00011: val_acc did not improve from 0.73116\n",
      "Epoch 12/200\n",
      "50/50 [==============================] - 1s 11ms/step - loss: 0.5107 - acc: 0.7229 - val_loss: 0.5874 - val_acc: 0.6822\n",
      "\n",
      "Epoch 00012: val_acc did not improve from 0.73116\n",
      "32/32 [==============================] - 0s 4ms/step - loss: 0.5856 - acc: 0.6744\n"
     ]
    },
    {
     "data": {
      "text/plain": [
       "[0.5855572819709778, 0.6743718385696411]"
      ]
     },
     "execution_count": 260,
     "metadata": {},
     "output_type": "execute_result"
    }
   ],
   "source": [
    "history_okt = okt_model.fit(X_train_okt_pad, y_train, epochs=200, batch_size=64, validation_split=0.2, callbacks=[early_stopping, mc])\n",
    "okt_model.evaluate(X_test_okt_pad, y_test)\n"
   ]
  },
  {
   "cell_type": "code",
   "execution_count": 275,
   "id": "6eb19c7f",
   "metadata": {},
   "outputs": [],
   "source": [
    "def eval_model(model, name, X_test_pad):    \n",
    "    y_pred = model.predict(X_test_pad)\n",
    "    y_pred = [1 if val > 0.5 else 0 for val in y_pred]\n",
    "    accuracy = accuracy_score(y_test, y_pred)\n",
    "    print(f\"Accuracy of {name} : {accuracy:.4f}\")"
   ]
  },
  {
   "cell_type": "code",
   "execution_count": 277,
   "id": "e2e34a58",
   "metadata": {},
   "outputs": [
    {
     "name": "stdout",
     "output_type": "stream",
     "text": [
      "Accuracy of spm : 0.6080\n",
      "Accuracy of okt : 0.6744\n",
      "Accuracy of mecab : 0.7407\n"
     ]
    }
   ],
   "source": [
    "eval_model(spm_model, \"spm\", X_test_spm_pad)\n",
    "eval_model(okt_model, \"okt\", X_test_okt_pad)\n",
    "eval_model(mecab_model, \"mecab\", X_test_mecab_pad)"
   ]
  },
  {
   "cell_type": "markdown",
   "id": "fecf06cb",
   "metadata": {},
   "source": [
    "mecab이 0.7407로 testset기준 성능이 제일 높다"
   ]
  },
  {
   "cell_type": "code",
   "execution_count": 282,
   "id": "11e5bf5e",
   "metadata": {},
   "outputs": [
    {
     "data": {
      "text/plain": [
       "dict_keys(['loss', 'acc', 'val_loss', 'val_acc'])"
      ]
     },
     "execution_count": 282,
     "metadata": {},
     "output_type": "execute_result"
    }
   ],
   "source": [
    "history_mecab.history.keys()"
   ]
  },
  {
   "cell_type": "code",
   "execution_count": 290,
   "id": "a0cff0cc",
   "metadata": {},
   "outputs": [
    {
     "data": {
      "image/png": "[encoded data removed]",
      "text/plain": [
       "<Figure size 864x360 with 2 Axes>"
      ]
     },
     "metadata": {
      "needs_background": "light"
     },
     "output_type": "display_data"
    }
   ],
   "source": [
    "import matplotlib.pyplot as plt\n",
    "\n",
    "# 모델 히스토리에서 'val_loss'와 'val_accuracy' 값 추출\n",
    "model1_history = history_spm.history\n",
    "model2_history = history_mecab.history\n",
    "model3_history = history_okt.history\n",
    "\n",
    "# epoch 수 (x축) 생성\n",
    "epochs_model1 = range(1, len(model1_history['val_loss']) + 1)\n",
    "epochs_model2 = range(1, len(model2_history['val_loss']) + 1)\n",
    "epochs_model3 = range(1, len(model3_history['val_loss']) + 1)\n",
    "\n",
    "# 그래프 크기 설정\n",
    "plt.figure(figsize=(12, 5))\n",
    "\n",
    "# 첫 번째 subplot: Validation Loss\n",
    "plt.subplot(1, 2, 1)\n",
    "plt.plot(epochs_model1, model1_history['val_loss'], 'b', label='spm_loss')\n",
    "plt.plot(epochs_model2, model2_history['val_loss'], 'g', label='mecab_loss')\n",
    "plt.plot(epochs_model3, model3_history['val_loss'], 'r', label='okt_loss')\n",
    "plt.title('Validation Loss Comparison')\n",
    "plt.xlabel('Epochs')\n",
    "plt.ylabel('Validation Loss')\n",
    "plt.legend()\n",
    "\n",
    "# 두 번째 subplot: Validation Accuracy\n",
    "plt.subplot(1, 2, 2)\n",
    "plt.plot(epochs_model1, model1_history['val_acc'], 'b', label='spm_accuracy')\n",
    "plt.plot(epochs_model2, model2_history['val_acc'], 'g', label='mecab_accuracy')\n",
    "plt.plot(epochs_model3, model3_history['val_acc'], 'r', label='okt_accuracy')\n",
    "plt.title('Validation Accuracy Comparison')\n",
    "plt.xlabel('Epochs')\n",
    "plt.ylabel('Validation Accuracy')\n",
    "plt.legend()\n",
    "\n",
    "# 그래프 보여주기\n",
    "plt.tight_layout()\n",
    "plt.show()\n"
   ]
  },
  {
   "cell_type": "code",
   "execution_count": null,
   "id": "ca626825",
   "metadata": {},
   "outputs": [],
   "source": []
  }
 ],
 "metadata": {
  "kernelspec": {
   "display_name": "Python 3 (ipykernel)",
   "language": "python",
   "name": "python3"
  },
  "language_info": {
   "codemirror_mode": {
    "name": "ipython",
    "version": 3
   },
   "file_extension": ".py",
   "mimetype": "text/x-python",
   "name": "python",
   "nbconvert_exporter": "python",
   "pygments_lexer": "ipython3",
   "version": "3.9.7"
  }
 },
 "nbformat": 4,
 "nbformat_minor": 5
}
