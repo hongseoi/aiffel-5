{
 "cells": [
  {
   "cell_type": "code",
   "execution_count": 1,
   "id": "1194f379",
   "metadata": {},
   "outputs": [
    {
     "name": "stdout",
     "output_type": "stream",
     "text": [
      "2.6.0\n",
      "1.21.4\n",
      "0.5.2\n"
     ]
    }
   ],
   "source": [
    "import tensorflow as tf\n",
    "import numpy as np\n",
    "import matplotlib as plt\n",
    "import konlpy\n",
    "import pickle\n",
    "import pandas as pd\n",
    "import numpy as np\n",
    "import matplotlib.pyplot as plt\n",
    "import re\n",
    "import urllib.request\n",
    "from konlpy.tag import Okt\n",
    "from tqdm import tqdm\n",
    "from tensorflow.keras.preprocessing.text import Tokenizer\n",
    "from tensorflow.keras.preprocessing.sequence import pad_sequences\n",
    "\n",
    "print(tf.__version__)\n",
    "print(np.__version__)\n",
    "print(konlpy.__version__)"
   ]
  },
  {
   "cell_type": "markdown",
   "id": "d5f8364c",
   "metadata": {},
   "source": [
    "## 데이터 다운로드"
   ]
  },
  {
   "cell_type": "code",
   "execution_count": 15,
   "id": "f0d61bfa",
   "metadata": {},
   "outputs": [
    {
     "data": {
      "text/plain": [
       "('ratings_test.txt', <http.client.HTTPMessage at 0x7f6649eeeb50>)"
      ]
     },
     "execution_count": 15,
     "metadata": {},
     "output_type": "execute_result"
    }
   ],
   "source": [
    "urllib.request.urlretrieve(\"https://raw.githubusercontent.com/e9t/nsmc/master/ratings_train.txt\", filename=\"ratings_train.txt\")\n",
    "urllib.request.urlretrieve(\"https://raw.githubusercontent.com/e9t/nsmc/master/ratings_test.txt\", filename=\"ratings_test.txt\")"
   ]
  },
  {
   "cell_type": "code",
   "execution_count": 27,
   "id": "4e84979b",
   "metadata": {},
   "outputs": [],
   "source": [
    "train_data = pd.read_table('ratings_train.txt')\n",
    "test_data = pd.read_table('ratings_test.txt')\n"
   ]
  },
  {
   "cell_type": "code",
   "execution_count": 28,
   "id": "b5f7640f",
   "metadata": {},
   "outputs": [
    {
     "name": "stdout",
     "output_type": "stream",
     "text": [
      "훈련용 리뷰 개수 : 150000\n",
      "테스트용 리뷰 개수: 50000\n"
     ]
    }
   ],
   "source": [
    "print('훈련용 리뷰 개수 :',len(train_data))\n",
    "print('테스트용 리뷰 개수:', len(test_data))"
   ]
  },
  {
   "cell_type": "code",
   "execution_count": 29,
   "id": "e9bec717",
   "metadata": {},
   "outputs": [
    {
     "data": {
      "text/html": [
       "<div>\n",
       "<style scoped>\n",
       "    .dataframe tbody tr th:only-of-type {\n",
       "        vertical-align: middle;\n",
       "    }\n",
       "\n",
       "    .dataframe tbody tr th {\n",
       "        vertical-align: top;\n",
       "    }\n",
       "\n",
       "    .dataframe thead th {\n",
       "        text-align: right;\n",
       "    }\n",
       "</style>\n",
       "<table border=\"1\" class=\"dataframe\">\n",
       "  <thead>\n",
       "    <tr style=\"text-align: right;\">\n",
       "      <th></th>\n",
       "      <th>id</th>\n",
       "      <th>document</th>\n",
       "      <th>label</th>\n",
       "    </tr>\n",
       "  </thead>\n",
       "  <tbody>\n",
       "    <tr>\n",
       "      <th>0</th>\n",
       "      <td>9976970</td>\n",
       "      <td>아 더빙.. 진짜 짜증나네요 목소리</td>\n",
       "      <td>0</td>\n",
       "    </tr>\n",
       "    <tr>\n",
       "      <th>1</th>\n",
       "      <td>3819312</td>\n",
       "      <td>흠...포스터보고 초딩영화줄....오버연기조차 가볍지 않구나</td>\n",
       "      <td>1</td>\n",
       "    </tr>\n",
       "    <tr>\n",
       "      <th>2</th>\n",
       "      <td>10265843</td>\n",
       "      <td>너무재밓었다그래서보는것을추천한다</td>\n",
       "      <td>0</td>\n",
       "    </tr>\n",
       "    <tr>\n",
       "      <th>3</th>\n",
       "      <td>9045019</td>\n",
       "      <td>교도소 이야기구먼 ..솔직히 재미는 없다..평점 조정</td>\n",
       "      <td>0</td>\n",
       "    </tr>\n",
       "    <tr>\n",
       "      <th>4</th>\n",
       "      <td>6483659</td>\n",
       "      <td>사이몬페그의 익살스런 연기가 돋보였던 영화!스파이더맨에서 늙어보이기만 했던 커스틴 ...</td>\n",
       "      <td>1</td>\n",
       "    </tr>\n",
       "    <tr>\n",
       "      <th>5</th>\n",
       "      <td>5403919</td>\n",
       "      <td>막 걸음마 뗀 3세부터 초등학교 1학년생인 8살용영화.ㅋㅋㅋ...별반개도 아까움.</td>\n",
       "      <td>0</td>\n",
       "    </tr>\n",
       "    <tr>\n",
       "      <th>6</th>\n",
       "      <td>7797314</td>\n",
       "      <td>원작의 긴장감을 제대로 살려내지못했다.</td>\n",
       "      <td>0</td>\n",
       "    </tr>\n",
       "    <tr>\n",
       "      <th>7</th>\n",
       "      <td>9443947</td>\n",
       "      <td>별 반개도 아깝다 욕나온다 이응경 길용우 연기생활이몇년인지..정말 발로해도 그것보단...</td>\n",
       "      <td>0</td>\n",
       "    </tr>\n",
       "    <tr>\n",
       "      <th>8</th>\n",
       "      <td>7156791</td>\n",
       "      <td>액션이 없는데도 재미 있는 몇안되는 영화</td>\n",
       "      <td>1</td>\n",
       "    </tr>\n",
       "    <tr>\n",
       "      <th>9</th>\n",
       "      <td>5912145</td>\n",
       "      <td>왜케 평점이 낮은건데? 꽤 볼만한데.. 헐리우드식 화려함에만 너무 길들여져 있나?</td>\n",
       "      <td>1</td>\n",
       "    </tr>\n",
       "  </tbody>\n",
       "</table>\n",
       "</div>"
      ],
      "text/plain": [
       "         id                                           document  label\n",
       "0   9976970                                아 더빙.. 진짜 짜증나네요 목소리      0\n",
       "1   3819312                  흠...포스터보고 초딩영화줄....오버연기조차 가볍지 않구나      1\n",
       "2  10265843                                  너무재밓었다그래서보는것을추천한다      0\n",
       "3   9045019                      교도소 이야기구먼 ..솔직히 재미는 없다..평점 조정      0\n",
       "4   6483659  사이몬페그의 익살스런 연기가 돋보였던 영화!스파이더맨에서 늙어보이기만 했던 커스틴 ...      1\n",
       "5   5403919      막 걸음마 뗀 3세부터 초등학교 1학년생인 8살용영화.ㅋㅋㅋ...별반개도 아까움.      0\n",
       "6   7797314                              원작의 긴장감을 제대로 살려내지못했다.      0\n",
       "7   9443947  별 반개도 아깝다 욕나온다 이응경 길용우 연기생활이몇년인지..정말 발로해도 그것보단...      0\n",
       "8   7156791                             액션이 없는데도 재미 있는 몇안되는 영화      1\n",
       "9   5912145      왜케 평점이 낮은건데? 꽤 볼만한데.. 헐리우드식 화려함에만 너무 길들여져 있나?      1"
      ]
     },
     "execution_count": 29,
     "metadata": {},
     "output_type": "execute_result"
    }
   ],
   "source": [
    "train_data[:10]"
   ]
  },
  {
   "cell_type": "markdown",
   "id": "0fd9d209",
   "metadata": {},
   "source": [
    "시간이 오래 걸려서 일부 텍스트 데이터만 사용"
   ]
  },
  {
   "cell_type": "markdown",
   "id": "7e569423",
   "metadata": {},
   "source": [
    "## 데이터 전처리\n",
    "\n",
    "- 중복값, 결측치 제거\n",
    "- 한글만 남기기\n",
    "- 띄어쓰기 고치기\n",
    "- 형태소 분석\n",
    "- 한글자, 불용어 제거\n",
    "- 최소 횟수 이하 단어 제거"
   ]
  },
  {
   "cell_type": "code",
   "execution_count": 30,
   "id": "39b83023",
   "metadata": {
    "scrolled": true
   },
   "outputs": [
    {
     "data": {
      "text/plain": [
       "(146182, 2)"
      ]
     },
     "execution_count": 30,
     "metadata": {},
     "output_type": "execute_result"
    }
   ],
   "source": [
    "train_data['document'].nunique(), train_data['label'].nunique()"
   ]
  },
  {
   "cell_type": "markdown",
   "id": "4635bff6",
   "metadata": {},
   "source": [
    "전체 50000개 데이터 중 중복 제거한 샘플 49120개, label은 긍부정 2종류"
   ]
  },
  {
   "cell_type": "code",
   "execution_count": 31,
   "id": "4a23282d",
   "metadata": {},
   "outputs": [
    {
     "name": "stdout",
     "output_type": "stream",
     "text": [
      "총 샘플의 수 : 146183\n"
     ]
    }
   ],
   "source": [
    "# 중복 샘플 제거\n",
    "train_data.drop_duplicates(subset=['document'], inplace=True)\n",
    "print('총 샘플의 수 :',len(train_data))\n"
   ]
  },
  {
   "cell_type": "code",
   "execution_count": 32,
   "id": "eed9b25f",
   "metadata": {},
   "outputs": [
    {
     "data": {
      "text/plain": [
       "id          0\n",
       "document    1\n",
       "label       0\n",
       "dtype: int64"
      ]
     },
     "execution_count": 32,
     "metadata": {},
     "output_type": "execute_result"
    }
   ],
   "source": [
    "# 결측치 확인\n",
    "train_data.isnull().sum()"
   ]
  },
  {
   "cell_type": "code",
   "execution_count": 33,
   "id": "a7cd0997",
   "metadata": {},
   "outputs": [
    {
     "name": "stdout",
     "output_type": "stream",
     "text": [
      "id          0\n",
      "document    0\n",
      "label       0\n",
      "dtype: int64\n"
     ]
    }
   ],
   "source": [
    "train_data = train_data.dropna()\n",
    "print(train_data.isnull().sum())"
   ]
  },
  {
   "cell_type": "code",
   "execution_count": 34,
   "id": "23169951",
   "metadata": {},
   "outputs": [],
   "source": [
    "# 인덱스 재배치\n",
    "train_data = train_data.reset_index(drop=True)"
   ]
  },
  {
   "cell_type": "code",
   "execution_count": 35,
   "id": "c84744c4",
   "metadata": {},
   "outputs": [],
   "source": [
    "# 한글만 남기기\n",
    "import re\n",
    "def extract_word(text):\n",
    "    hangul = re.compile('[^가-힣]') \n",
    "    result = hangul.sub(' ', text) \n",
    "    return result"
   ]
  },
  {
   "cell_type": "code",
   "execution_count": 25,
   "id": "c99075c6",
   "metadata": {},
   "outputs": [
    {
     "data": {
      "text/html": [
       "<div>\n",
       "<style scoped>\n",
       "    .dataframe tbody tr th:only-of-type {\n",
       "        vertical-align: middle;\n",
       "    }\n",
       "\n",
       "    .dataframe tbody tr th {\n",
       "        vertical-align: top;\n",
       "    }\n",
       "\n",
       "    .dataframe thead th {\n",
       "        text-align: right;\n",
       "    }\n",
       "</style>\n",
       "<table border=\"1\" class=\"dataframe\">\n",
       "  <thead>\n",
       "    <tr style=\"text-align: right;\">\n",
       "      <th></th>\n",
       "      <th>id</th>\n",
       "      <th>document</th>\n",
       "      <th>label</th>\n",
       "    </tr>\n",
       "  </thead>\n",
       "  <tbody>\n",
       "  </tbody>\n",
       "</table>\n",
       "</div>"
      ],
      "text/plain": [
       "Empty DataFrame\n",
       "Columns: [id, document, label]\n",
       "Index: []"
      ]
     },
     "execution_count": 25,
     "metadata": {},
     "output_type": "execute_result"
    }
   ],
   "source": [
    "train_data[train_data['document']  == \"\"]"
   ]
  },
  {
   "cell_type": "code",
   "execution_count": 36,
   "id": "4bd3baf2",
   "metadata": {},
   "outputs": [],
   "source": [
    "train_data['document'] = train_data['document'].apply(lambda x:extract_word(x))\n"
   ]
  },
  {
   "cell_type": "code",
   "execution_count": 27,
   "id": "53a32164",
   "metadata": {},
   "outputs": [
    {
     "name": "stdout",
     "output_type": "stream",
     "text": [
      "Collecting git+https://github.com/ssut/py-hanspell.git\n",
      "  Cloning https://github.com/ssut/py-hanspell.git to /tmp/pip-req-build-o5vkmz8r\n",
      "  Running command git clone --filter=blob:none -q https://github.com/ssut/py-hanspell.git /tmp/pip-req-build-o5vkmz8r\n",
      "  Resolved https://github.com/ssut/py-hanspell.git to commit fdc6ca50c19f1c85971437a072d89d4e5ce024b8\n",
      "  Preparing metadata (setup.py) ... \u001b[?25ldone\n",
      "\u001b[?25hRequirement already satisfied: requests in /opt/conda/lib/python3.9/site-packages (from py-hanspell==1.1) (2.26.0)\n",
      "Requirement already satisfied: charset-normalizer~=2.0.0 in /opt/conda/lib/python3.9/site-packages (from requests->py-hanspell==1.1) (2.0.8)\n",
      "Requirement already satisfied: idna<4,>=2.5 in /opt/conda/lib/python3.9/site-packages (from requests->py-hanspell==1.1) (2.10)\n",
      "Requirement already satisfied: urllib3<1.27,>=1.21.1 in /opt/conda/lib/python3.9/site-packages (from requests->py-hanspell==1.1) (1.26.7)\n",
      "Requirement already satisfied: certifi>=2017.4.17 in /opt/conda/lib/python3.9/site-packages (from requests->py-hanspell==1.1) (2021.10.8)\n",
      "\u001b[33mWARNING: Running pip as the 'root' user can result in broken permissions and conflicting behaviour with the system package manager. It is recommended to use a virtual environment instead: https://pip.pypa.io/warnings/venv\u001b[0m\n"
     ]
    }
   ],
   "source": [
    "! pip install git+https://github.com/ssut/py-hanspell.git\n"
   ]
  },
  {
   "cell_type": "code",
   "execution_count": null,
   "id": "ba70121c",
   "metadata": {},
   "outputs": [],
   "source": [
    "\n",
    "# from hanspell import spell_checker\n",
    "\n",
    "# for i in range(len(train_data)):\n",
    "#     spelled_sent = spell_checker.check(train_data['document'][i])\n",
    "#     hanspell_sent = spelled_sent.checked\n",
    "#     train_data.loc[i, 'document'] = hanspell_sent\n",
    "    \n",
    "#     if i%100 == 0:\n",
    "#         print(f'{i}번째 문장 완료!')\n",
    "\n",
    "# print(train_data[:10])\n"
   ]
  },
  {
   "cell_type": "code",
   "execution_count": 40,
   "id": "1c7bbea4",
   "metadata": {},
   "outputs": [],
   "source": [
    "train_data.to_csv('all_data.txt', sep='\\t', index=False)\n",
    "train_data.to_csv('all_data.csv', sep='\\t', index=False)"
   ]
  },
  {
   "cell_type": "code",
   "execution_count": 41,
   "id": "2cee9b2f",
   "metadata": {},
   "outputs": [
    {
     "data": {
      "text/html": [
       "<div>\n",
       "<style scoped>\n",
       "    .dataframe tbody tr th:only-of-type {\n",
       "        vertical-align: middle;\n",
       "    }\n",
       "\n",
       "    .dataframe tbody tr th {\n",
       "        vertical-align: top;\n",
       "    }\n",
       "\n",
       "    .dataframe thead th {\n",
       "        text-align: right;\n",
       "    }\n",
       "</style>\n",
       "<table border=\"1\" class=\"dataframe\">\n",
       "  <thead>\n",
       "    <tr style=\"text-align: right;\">\n",
       "      <th></th>\n",
       "      <th>id</th>\n",
       "      <th>document</th>\n",
       "      <th>label</th>\n",
       "    </tr>\n",
       "  </thead>\n",
       "  <tbody>\n",
       "    <tr>\n",
       "      <th>0</th>\n",
       "      <td>9976970</td>\n",
       "      <td>아 더빙   진짜 짜증 나네요 목소리</td>\n",
       "      <td>0</td>\n",
       "    </tr>\n",
       "    <tr>\n",
       "      <th>1</th>\n",
       "      <td>3819312</td>\n",
       "      <td>흠   포스터 보고 초등학생영화 줄    오버 연기조차 가볍지 않구나</td>\n",
       "      <td>1</td>\n",
       "    </tr>\n",
       "    <tr>\n",
       "      <th>2</th>\n",
       "      <td>10265843</td>\n",
       "      <td>너무재밓었다그래서보는것을추천한다</td>\n",
       "      <td>0</td>\n",
       "    </tr>\n",
       "    <tr>\n",
       "      <th>3</th>\n",
       "      <td>9045019</td>\n",
       "      <td>교도소 이야기구먼   솔직히 재미는 없다  평점 조정</td>\n",
       "      <td>0</td>\n",
       "    </tr>\n",
       "    <tr>\n",
       "      <th>4</th>\n",
       "      <td>6483659</td>\n",
       "      <td>사이먼 페그의 익살스러운 연기가 돋보였던 영화 스파이더맨에서 늙어 보이기만 했던 커...</td>\n",
       "      <td>1</td>\n",
       "    </tr>\n",
       "    <tr>\n",
       "      <th>...</th>\n",
       "      <td>...</td>\n",
       "      <td>...</td>\n",
       "      <td>...</td>\n",
       "    </tr>\n",
       "    <tr>\n",
       "      <th>146177</th>\n",
       "      <td>6222902</td>\n",
       "      <td>인간이 문제지   소는 뭔죄인가</td>\n",
       "      <td>0</td>\n",
       "    </tr>\n",
       "    <tr>\n",
       "      <th>146178</th>\n",
       "      <td>8549745</td>\n",
       "      <td>평점이 너무 낮아서</td>\n",
       "      <td>1</td>\n",
       "    </tr>\n",
       "    <tr>\n",
       "      <th>146179</th>\n",
       "      <td>9311800</td>\n",
       "      <td>이게 뭐요  한국인은 거들먹거리고 필리핀 혼혈은 착하다</td>\n",
       "      <td>0</td>\n",
       "    </tr>\n",
       "    <tr>\n",
       "      <th>146180</th>\n",
       "      <td>2376369</td>\n",
       "      <td>청춘 영화의 최고봉 방황과 우울했던 날들의 자화상</td>\n",
       "      <td>1</td>\n",
       "    </tr>\n",
       "    <tr>\n",
       "      <th>146181</th>\n",
       "      <td>9619869</td>\n",
       "      <td>한국 영화 최초로 수간하는 내용이 담긴 영화</td>\n",
       "      <td>0</td>\n",
       "    </tr>\n",
       "  </tbody>\n",
       "</table>\n",
       "<p>146182 rows × 3 columns</p>\n",
       "</div>"
      ],
      "text/plain": [
       "              id                                           document  label\n",
       "0        9976970                               아 더빙   진짜 짜증 나네요 목소리      0\n",
       "1        3819312             흠   포스터 보고 초등학생영화 줄    오버 연기조차 가볍지 않구나      1\n",
       "2       10265843                                  너무재밓었다그래서보는것을추천한다      0\n",
       "3        9045019                      교도소 이야기구먼   솔직히 재미는 없다  평점 조정      0\n",
       "4        6483659  사이먼 페그의 익살스러운 연기가 돋보였던 영화 스파이더맨에서 늙어 보이기만 했던 커...      1\n",
       "...          ...                                                ...    ...\n",
       "146177   6222902                                인간이 문제지   소는 뭔죄인가        0\n",
       "146178   8549745                                      평점이 너무 낮아서         1\n",
       "146179   9311800                    이게 뭐요  한국인은 거들먹거리고 필리핀 혼혈은 착하다       0\n",
       "146180   2376369                        청춘 영화의 최고봉 방황과 우울했던 날들의 자화상      1\n",
       "146181   9619869                           한국 영화 최초로 수간하는 내용이 담긴 영화      0\n",
       "\n",
       "[146182 rows x 3 columns]"
      ]
     },
     "execution_count": 41,
     "metadata": {},
     "output_type": "execute_result"
    }
   ],
   "source": [
    "train_data = pd.read_csv('all_data.csv', sep='\\t')\n",
    "train_data"
   ]
  },
  {
   "cell_type": "markdown",
   "id": "e89b73aa",
   "metadata": {},
   "source": [
    "### 데이터 분포 확인"
   ]
  },
  {
   "cell_type": "code",
   "execution_count": 42,
   "id": "d44b40e1",
   "metadata": {
    "scrolled": true
   },
   "outputs": [
    {
     "name": "stdout",
     "output_type": "stream",
     "text": [
      "   label  count\n",
      "0      0  73342\n",
      "1      1  72840\n"
     ]
    },
    {
     "data": {
      "image/png": "[encoded data removed]",
      "text/plain": [
       "<Figure size 432x288 with 1 Axes>"
      ]
     },
     "metadata": {
      "needs_background": "light"
     },
     "output_type": "display_data"
    }
   ],
   "source": [
    "# 라벨 분포 확인\n",
    "train_data['label'].value_counts().plot(kind = 'bar')\n",
    "print(train_data.groupby('label').size().reset_index(name = 'count'))"
   ]
  },
  {
   "cell_type": "code",
   "execution_count": 43,
   "id": "5652c2e6",
   "metadata": {},
   "outputs": [
    {
     "name": "stdout",
     "output_type": "stream",
     "text": [
      "문장의 최단 길이: 1\n",
      "문장의 최장 길이: 146\n",
      "문장의 평균 길이: 35\n",
      "Data Size: 146182\n"
     ]
    },
    {
     "data": {
      "image/png": "[encoded data removed]",
      "text/plain": [
       "<Figure size 432x288 with 1 Axes>"
      ]
     },
     "metadata": {
      "needs_background": "light"
     },
     "output_type": "display_data"
    }
   ],
   "source": [
    "min_len = 999\n",
    "max_len = 0\n",
    "sum_len = 0\n",
    "\n",
    "for sen in train_data['document']:\n",
    "    length = len(sen)\n",
    "    if min_len > length: min_len = length\n",
    "    if max_len < length: max_len = length\n",
    "    sum_len += length\n",
    "\n",
    "print(\"문장의 최단 길이:\", min_len)\n",
    "print(\"문장의 최장 길이:\", max_len)\n",
    "print(\"문장의 평균 길이:\", sum_len // len(train_data))\n",
    "\n",
    "sentence_length = np.zeros((max_len), dtype=int)\n",
    "\n",
    "for sen in train_data['document']:\n",
    "    sentence_length[len(sen)-1] += 1\n",
    "\n",
    "    \n",
    "print(\"Data Size:\", len(train_data))\n",
    "plt.bar(range(max_len), sentence_length, width=1.0)\n",
    "plt.title(\"Sentence Length Distribution\")\n",
    "plt.show()"
   ]
  },
  {
   "cell_type": "code",
   "execution_count": 44,
   "id": "28708721",
   "metadata": {},
   "outputs": [],
   "source": [
    "def check_sentence_with_length(raw, length):\n",
    "    count = 0\n",
    "    \n",
    "    for sen in raw:\n",
    "        if len(sen) == length:\n",
    "            print(sen)\n",
    "            count += 1\n",
    "            if count > 100: return\n"
   ]
  },
  {
   "cell_type": "code",
   "execution_count": 45,
   "id": "d4e04781",
   "metadata": {},
   "outputs": [
    {
     "name": "stdout",
     "output_type": "stream",
     "text": [
      "어린나이에 봤음에도 꽤나 좋아했던 로맨틱코미디\n",
      "신나는 흑인음악과 아이스 큐브 뿐 남는게 없다\n",
      "네놈을 살려두기엔 쌀이 아까워  세기의 명대사\n",
      "지금 이거 티비로 돈내고 보고있는 내가한심하다\n",
      "잊을 수 없는 안개낀 워터루 다리와 마스코트 \n",
      "이 영화는 최고다  그냥 최고야 그런 줄 알아\n",
      "진짜 어마어마한 여운을 주는 멜로 영화에요  \n",
      "역시 효느    역시 재밌다    재탕중   \n",
      "평생 기억할만한 영화 정상적인 소재는 아니지만\n",
      "배우들 연기력이 아깝다  별 한 개도 아깝다 \n",
      "몸매 베드신 보기좋다고 한사람은 영화 안본사람\n",
      "엄청나게 기대를 하고 본게 아니라 괜찮았던듯 \n",
      "설득력없는 꼴통페미니즘  페미나치적인 마인드 \n",
      "힘알이 하나 없는 주인공들  맥이 다 빠진다 \n",
      "이게    영화냐    년도영화냐  쓰래기들아\n",
      "너무 구식으로 웃길려고 함  보는 내내 지겨움\n",
      "퀸틴 타란티노의 포룸을 어줍잖게 패러디한 졸작\n",
      "이영화정말별로다   니콜라스케이지연기만볼만함 \n",
      "그냥 여자들의 이중성일뿐   아이구 의미없다 \n",
      "제목부터 심상치 않은 영화 옥주현나오는줄알았다\n",
      "전 이평점에   느면 어케되는지 궁금해서 해봄\n",
      "물체가 움직이거나 어떤 일이 진행되는 빠르기 \n",
      "보고 감동의눈물을 흘렷다 이게 실화라니    \n",
      "외계남성이 지구남성으로 변하는 과정이 리얼하다\n",
      "전형적인 신데렐라 스토리라고 해야되나 볼만함 \n",
      "너무 지루하다  솔직히  점은 너무 과대평가 \n",
      "내용도 그렇고 별로 맘에들지않는다       \n",
      "운지 운지 홍어 홍어 부릉부릉 땅크 나가신다 \n",
      "시범에대한스토리만후딱전개되네    이영화뭐지 \n",
      "내 인생에서 극장가서 본 영화 중 최악의 영화\n",
      "독립영화의 진수를 보여주는 아주 감동적인 영화\n",
      "되게재밌게봤다  우디해럴슨의 연기가 인상깊다 \n",
      "양조위랑 장첸은 뭔 상관이라는 거냐      \n",
      "친구랑 보다 졸았어요  문제는 둘다 졸았어요 \n",
      "오프라인에 나오셨던분신의선물보고 이제야알았다 \n",
      "자극적인 장면을 넣는데만 애썼다    지루하다\n",
      "이런 영화는 설명 할 것도 없이 재미없음   \n",
      "   드라마로나 찍어오면   딱  인 영화  \n",
      " 점도 아까운    영화라고 말하는게 부끄러운\n",
      "이나영 넘 귀여워    귀여운 영화인거 같다 \n",
      "동성애에 대한 편견과 불쾌감을 심어주는 영화 \n",
      "            민세연 박영린 넘 이쁘다\n",
      "인생에 대해 한 번 더 돌아볼 수 있었던 시간\n",
      "한남자만 죽고        별로 무서운게 없음\n",
      "마지막에 나오는 시 한편이 가슴에 와닿습니다 \n",
      "케이블 채널에서   번도 더 나온거 같다   \n",
      "   와 스토리  연기 모두 감동을 주는 영화\n",
      "그시대그시절의 청춘상  아련하고 우습고 짠하다\n",
      "이 영화를 보면서 너무나 화가났다       \n",
      "잘봤어요   가슴이 답답해서 많이 울었네요  \n",
      "단순한 스토리지만 순순함의매력이 끌리는 영화다\n",
      "제주도 한화콘도에서 꽁짜로 보았는데 재밌었다 \n",
      "최고란 말이 전혀 아깝지 않은 전무후무한 역작\n",
      "진짜보지마세요 영화관가서돈주고보고후회   배 \n",
      "머리 비우고 보면  이만큼 재미있을수가 없다 \n",
      "시간이 이렇게 지났는데도 생각나는 드라마   \n",
      "천국을 나타낸 장면은 아름다우나 스토리가영  \n",
      "아    총체적 난국이다  뭐라 할말이 없다 \n",
      "영화관에서 봤었는데 보다가 졸았다 넘잼없어  \n",
      "스트레스 풀려요  그리고 영화 속 음악 대박 \n",
      "별 내용은 없고 여주 몸매는 좋으나 그게 다임\n",
      "꼭한번쯤은 봐야될그런영화다시봐도 감동일듯   \n",
      "캐스팅  연기  음악  배경    모든게 좋다\n",
      "애들영화 치고는 무서운듯   세이상관람과 하지\n",
      "톰아저씨 앞으로도 미션임파서블 계속 찍어주시길\n",
      "재밌었음 퍼시잭슨은 재밌는데 평점이 다 낮네요\n",
      "군대가 이렇기만하면 우리나라 남자들 진짜편할듯\n",
      "미워할 수 없는 사랑스러운 아빠  그리워집니다\n",
      "이민기   여진구의 조합  그리고 원작의 매력\n",
      "난널보고있지만 너날볼수가없어 짝사랑은 그런거야\n",
      "몇 번을 봐도 재밌다  여잔데도 계속 보게됨 \n",
      "사극의 아름다움을 다시 한번 느끼게 해준 작품\n",
      "하아    평점 왜이러니  미래의 아줌마들아 \n",
      "집에 비디오가 있는데 봐도 질리지 않아요 최고\n",
      "어릴 때 케이블에서 봤는데 정말 감동적이었어요\n",
      "아 짱나  점은 없는거냐 뭘 말하려고 하는건지\n",
      "보면 볼수록 빠져드는 제니퍼 가너의 매력   \n",
      "이정재의 자연스럽고 멋진 연기 참 보기 좋다 \n",
      "영화보면서 시간을 잊어버릴정도로 몰입도 최고다\n",
      "꼽아도 봐라 너거가 욕해도 시청률은 올라가야지\n",
      "진짜 영화가 어째이러냐 실망 실망 진짜 너무함\n",
      "최악   분보다가에잇하고끔돈    원아깝다정말\n",
      "제목만큼 단단한 뚝심을 끌어올리지 못한 아쉬움\n",
      "예전에 티비에서 영화나왔을때 재미있게본작품  \n",
      "신선한 소재로 이렇게밖에 전개가 안되낭    \n",
      "호주의 멋진 자연을 보여주는 게 재미의 전부 \n",
      "명량이  점대면 이영화는   점대가 나와야댈듯\n",
      "이건   영화로 끝나야 할 악몽이    부활 \n",
      "재미엄서    마지막장면이 쫌 멋있었긴했찌  \n",
      "너무너무 재밌는영화               \n",
      "아주 쓰레기이다 레즈비언이 나왔는데 눈 배렸다\n",
      "뭐야 대중을 공감시켜야지 감독지혼자만 공감하냐\n",
      "   편보단 조금 덜하지만  재미있는데    \n",
      "익숙한 느낌의 스릴러  밑천이 보인다 보여  \n",
      "어렵게 시작한 실존  상업적 강박증에 묶이다 \n",
      "영화관에서 본 영화중 가장 돈 아까웠던 영화 \n",
      "     하     뭐라 할말이 없네     \n",
      "극장에서 영화보다 중간에 나온 유일무이한 영화\n",
      " 지금 보고 있는데 순위놀이 그만하  삼   \n",
      "트라우마에서 풀어주긴 커녕 더 옥죄는 느낌이다\n",
      "잔잔한 웃음과 감동을 준 재미있었던 영화   \n"
     ]
    }
   ],
   "source": [
    "check_sentence_with_length(train_data['document'], 25)"
   ]
  },
  {
   "cell_type": "code",
   "execution_count": 48,
   "id": "d8f68920",
   "metadata": {},
   "outputs": [],
   "source": [
    "def below_threshold_len(max_len, nested_list):\n",
    "  count = 0\n",
    "  for sentence in nested_list:\n",
    "    if(len(sentence) <= max_len):\n",
    "        count = count + 1\n",
    "  print('전체 샘플 중 길이가 %s 이하인 샘플의 비율: %s'%(max_len, (count / len(nested_list))*100))"
   ]
  },
  {
   "cell_type": "code",
   "execution_count": 49,
   "id": "31076a85",
   "metadata": {},
   "outputs": [
    {
     "name": "stdout",
     "output_type": "stream",
     "text": [
      "전체 샘플 중 길이가 150 이하인 샘플의 비율: 0.0020522362534374956\n"
     ]
    }
   ],
   "source": [
    "max_len = 150\n",
    "below_threshold_len(max_len, train_data)"
   ]
  },
  {
   "cell_type": "markdown",
   "id": "b100500b",
   "metadata": {},
   "source": [
    "## sentencepiece 모델 학습"
   ]
  },
  {
   "cell_type": "code",
   "execution_count": 52,
   "id": "70af9b45",
   "metadata": {},
   "outputs": [],
   "source": [
    "# sentence piece에 사용하기 위해 txt 파일로 저장\n",
    "\n",
    "file_path = './all_data.csv'\n",
    "\n",
    "with open('all_data.txt', 'w', encoding='utf8') as f:\n",
    "    f.write('\\n'.join(train_data['document']))\n",
    "    "
   ]
  },
  {
   "cell_type": "code",
   "execution_count": 58,
   "id": "1a79fc31",
   "metadata": {},
   "outputs": [],
   "source": [
    "import sentencepiece as spm\n",
    "spm.SentencePieceTrainer.Train('--input=all_data.txt --model_prefix=naver_all --vocab_size=5000 --model_type=bpe --max_sentence_length=9999')\n"
   ]
  },
  {
   "cell_type": "code",
   "execution_count": 59,
   "id": "89fdb14d",
   "metadata": {},
   "outputs": [
    {
     "data": {
      "text/html": [
       "<div>\n",
       "<style scoped>\n",
       "    .dataframe tbody tr th:only-of-type {\n",
       "        vertical-align: middle;\n",
       "    }\n",
       "\n",
       "    .dataframe tbody tr th {\n",
       "        vertical-align: top;\n",
       "    }\n",
       "\n",
       "    .dataframe thead th {\n",
       "        text-align: right;\n",
       "    }\n",
       "</style>\n",
       "<table border=\"1\" class=\"dataframe\">\n",
       "  <thead>\n",
       "    <tr style=\"text-align: right;\">\n",
       "      <th></th>\n",
       "      <th>0</th>\n",
       "      <th>1</th>\n",
       "    </tr>\n",
       "  </thead>\n",
       "  <tbody>\n",
       "    <tr>\n",
       "      <th>3125</th>\n",
       "      <td>▁보고나면</td>\n",
       "      <td>-3122</td>\n",
       "    </tr>\n",
       "    <tr>\n",
       "      <th>81</th>\n",
       "      <td>▁같</td>\n",
       "      <td>-78</td>\n",
       "    </tr>\n",
       "    <tr>\n",
       "      <th>342</th>\n",
       "      <td>을까</td>\n",
       "      <td>-339</td>\n",
       "    </tr>\n",
       "    <tr>\n",
       "      <th>3088</th>\n",
       "      <td>한지</td>\n",
       "      <td>-3085</td>\n",
       "    </tr>\n",
       "    <tr>\n",
       "      <th>2438</th>\n",
       "      <td>▁밝</td>\n",
       "      <td>-2435</td>\n",
       "    </tr>\n",
       "    <tr>\n",
       "      <th>2291</th>\n",
       "      <td>▁느껴지는</td>\n",
       "      <td>-2288</td>\n",
       "    </tr>\n",
       "    <tr>\n",
       "      <th>932</th>\n",
       "      <td>구만</td>\n",
       "      <td>-929</td>\n",
       "    </tr>\n",
       "    <tr>\n",
       "      <th>1122</th>\n",
       "      <td>▁이쁘</td>\n",
       "      <td>-1119</td>\n",
       "    </tr>\n",
       "    <tr>\n",
       "      <th>1551</th>\n",
       "      <td>▁댓글</td>\n",
       "      <td>-1548</td>\n",
       "    </tr>\n",
       "    <tr>\n",
       "      <th>2246</th>\n",
       "      <td>순간</td>\n",
       "      <td>-2243</td>\n",
       "    </tr>\n",
       "  </tbody>\n",
       "</table>\n",
       "</div>"
      ],
      "text/plain": [
       "          0     1\n",
       "3125  ▁보고나면 -3122\n",
       "81       ▁같   -78\n",
       "342      을까  -339\n",
       "3088     한지 -3085\n",
       "2438     ▁밝 -2435\n",
       "2291  ▁느껴지는 -2288\n",
       "932      구만  -929\n",
       "1122    ▁이쁘 -1119\n",
       "1551    ▁댓글 -1548\n",
       "2246     순간 -2243"
      ]
     },
     "execution_count": 59,
     "metadata": {},
     "output_type": "execute_result"
    }
   ],
   "source": [
    "import csv\n",
    "\n",
    "vocab_list = pd.read_csv('naver_all.vocab', sep='\\t', header=None, quoting=csv.QUOTE_NONE)\n",
    "vocab_list.sample(10)\n"
   ]
  },
  {
   "cell_type": "code",
   "execution_count": 60,
   "id": "b431cd3f",
   "metadata": {},
   "outputs": [
    {
     "data": {
      "text/plain": [
       "5000"
      ]
     },
     "execution_count": 60,
     "metadata": {},
     "output_type": "execute_result"
    }
   ],
   "source": [
    "len(vocab_list)"
   ]
  },
  {
   "cell_type": "code",
   "execution_count": 67,
   "id": "0014eda2",
   "metadata": {},
   "outputs": [],
   "source": [
    "data = pd.read_csv('all_data.csv', sep='\\t')\n"
   ]
  },
  {
   "cell_type": "code",
   "execution_count": 68,
   "id": "91639e04",
   "metadata": {},
   "outputs": [
    {
     "data": {
      "text/html": [
       "<div>\n",
       "<style scoped>\n",
       "    .dataframe tbody tr th:only-of-type {\n",
       "        vertical-align: middle;\n",
       "    }\n",
       "\n",
       "    .dataframe tbody tr th {\n",
       "        vertical-align: top;\n",
       "    }\n",
       "\n",
       "    .dataframe thead th {\n",
       "        text-align: right;\n",
       "    }\n",
       "</style>\n",
       "<table border=\"1\" class=\"dataframe\">\n",
       "  <thead>\n",
       "    <tr style=\"text-align: right;\">\n",
       "      <th></th>\n",
       "      <th>id</th>\n",
       "      <th>document</th>\n",
       "      <th>label</th>\n",
       "    </tr>\n",
       "  </thead>\n",
       "  <tbody>\n",
       "    <tr>\n",
       "      <th>0</th>\n",
       "      <td>9976970</td>\n",
       "      <td>아 더빙   진짜 짜증 나네요 목소리</td>\n",
       "      <td>0</td>\n",
       "    </tr>\n",
       "    <tr>\n",
       "      <th>1</th>\n",
       "      <td>3819312</td>\n",
       "      <td>흠   포스터 보고 초등학생영화 줄    오버 연기조차 가볍지 않구나</td>\n",
       "      <td>1</td>\n",
       "    </tr>\n",
       "    <tr>\n",
       "      <th>2</th>\n",
       "      <td>10265843</td>\n",
       "      <td>너무재밓었다그래서보는것을추천한다</td>\n",
       "      <td>0</td>\n",
       "    </tr>\n",
       "    <tr>\n",
       "      <th>3</th>\n",
       "      <td>9045019</td>\n",
       "      <td>교도소 이야기구먼   솔직히 재미는 없다  평점 조정</td>\n",
       "      <td>0</td>\n",
       "    </tr>\n",
       "    <tr>\n",
       "      <th>4</th>\n",
       "      <td>6483659</td>\n",
       "      <td>사이먼 페그의 익살스러운 연기가 돋보였던 영화 스파이더맨에서 늙어 보이기만 했던 커...</td>\n",
       "      <td>1</td>\n",
       "    </tr>\n",
       "    <tr>\n",
       "      <th>5</th>\n",
       "      <td>5403919</td>\n",
       "      <td>막 걸음마 뗀  세부터 초등학교  학년생인  살용 영화       별 반 개도 아까움</td>\n",
       "      <td>0</td>\n",
       "    </tr>\n",
       "    <tr>\n",
       "      <th>6</th>\n",
       "      <td>7797314</td>\n",
       "      <td>원작의 긴장감을 제대로 살려내지 못했다</td>\n",
       "      <td>0</td>\n",
       "    </tr>\n",
       "    <tr>\n",
       "      <th>7</th>\n",
       "      <td>9443947</td>\n",
       "      <td>별 반 개도 아깝다 욕 나온다 이응경 길용우 연기생활이 몇 년인지  정말 발로해도 ...</td>\n",
       "      <td>0</td>\n",
       "    </tr>\n",
       "    <tr>\n",
       "      <th>8</th>\n",
       "      <td>7156791</td>\n",
       "      <td>액션이 없는데도 재미있는 몇 안 되는 영화</td>\n",
       "      <td>1</td>\n",
       "    </tr>\n",
       "    <tr>\n",
       "      <th>9</th>\n",
       "      <td>5912145</td>\n",
       "      <td>왜 이렇게 평점이 낮은 건데  꽤 볼만한데   할리우드식 화려함에만 너무 길들여져 있나</td>\n",
       "      <td>1</td>\n",
       "    </tr>\n",
       "  </tbody>\n",
       "</table>\n",
       "</div>"
      ],
      "text/plain": [
       "         id                                           document  label\n",
       "0   9976970                               아 더빙   진짜 짜증 나네요 목소리      0\n",
       "1   3819312             흠   포스터 보고 초등학생영화 줄    오버 연기조차 가볍지 않구나      1\n",
       "2  10265843                                  너무재밓었다그래서보는것을추천한다      0\n",
       "3   9045019                      교도소 이야기구먼   솔직히 재미는 없다  평점 조정      0\n",
       "4   6483659  사이먼 페그의 익살스러운 연기가 돋보였던 영화 스파이더맨에서 늙어 보이기만 했던 커...      1\n",
       "5   5403919   막 걸음마 뗀  세부터 초등학교  학년생인  살용 영화       별 반 개도 아까움       0\n",
       "6   7797314                             원작의 긴장감을 제대로 살려내지 못했다       0\n",
       "7   9443947  별 반 개도 아깝다 욕 나온다 이응경 길용우 연기생활이 몇 년인지  정말 발로해도 ...      0\n",
       "8   7156791                            액션이 없는데도 재미있는 몇 안 되는 영화      1\n",
       "9   5912145  왜 이렇게 평점이 낮은 건데  꽤 볼만한데   할리우드식 화려함에만 너무 길들여져 있나       1"
      ]
     },
     "execution_count": 68,
     "metadata": {},
     "output_type": "execute_result"
    }
   ],
   "source": [
    "data[:10]"
   ]
  },
  {
   "cell_type": "markdown",
   "id": "2260f627",
   "metadata": {},
   "source": [
    "### 토큰화 수행\n",
    "- sentencepiece\n",
    "- mecab\n",
    "- kkma\n",
    "- okt"
   ]
  },
  {
   "cell_type": "code",
   "execution_count": 69,
   "id": "f6103407",
   "metadata": {},
   "outputs": [],
   "source": [
    "from sklearn.model_selection import train_test_split\n",
    "from sklearn.metrics import accuracy_score\n",
    "from tensorflow.keras.preprocessing.sequence import pad_sequences\n",
    "from tensorflow.keras.models import Sequential\n",
    "from tensorflow.keras.layers import Embedding, LSTM, Dense"
   ]
  },
  {
   "cell_type": "code",
   "execution_count": 70,
   "id": "ceb3e379",
   "metadata": {},
   "outputs": [],
   "source": [
    "# sentencepiece\n",
    "spm_model = 'naver_all.model'\n",
    "tokenizer_spm = spm.SentencePieceProcessor()\n",
    "tokenizer_spm.Load(spm_model)\n",
    "data['spm_tokens'] = [tokenizer_spm.EncodeAsIds(sentence) for sentence in data['document']]\n"
   ]
  },
  {
   "cell_type": "code",
   "execution_count": 71,
   "id": "6138c1a5",
   "metadata": {},
   "outputs": [],
   "source": [
    "# konlp: mecab, kkma, okt\n",
    "from konlpy.tag import Mecab, Kkma, Okt\n",
    "\n",
    "#mecab\n",
    "tokenizer_mecab = Mecab()\n",
    "data['mecab_tokens'] = [tokenizer_mecab.morphs(sentence) for sentence in data['document']]\n",
    "\n",
    "#kkma\n",
    "#tokenizer_kkma = Kkma()\n",
    "#data['kkma_tokens'] = [tokenizer_kkma.morphs(sentence) for sentence in data['document']]\n",
    "\n",
    "#okt\n",
    "tokenizer_okt = Okt()\n",
    "data['okt_tokens'] = [tokenizer_okt.morphs(sentence) for sentence in data['document']]\n"
   ]
  },
  {
   "cell_type": "code",
   "execution_count": 73,
   "id": "cee6f271",
   "metadata": {},
   "outputs": [],
   "source": [
    "labels = train_data['label'].values\n"
   ]
  },
  {
   "cell_type": "code",
   "execution_count": 74,
   "id": "aca7569b",
   "metadata": {},
   "outputs": [],
   "source": [
    "\n",
    "X_train, X_test, y_train, y_test = train_test_split(data[['spm_tokens', 'mecab_tokens', 'okt_tokens']], labels, test_size=0.2, random_state=42)\n"
   ]
  },
  {
   "cell_type": "code",
   "execution_count": 75,
   "id": "4e6e65f2",
   "metadata": {},
   "outputs": [
    {
     "name": "stdout",
     "output_type": "stream",
     "text": [
      "X_TRAIN:116945\n",
      "X_test:29237\n",
      "y_Train:116945\n",
      "y_Test:29237\n"
     ]
    }
   ],
   "source": [
    "print(f'X_TRAIN:{len(X_train)}')\n",
    "print(f'X_test:{len(X_test)}')\n",
    "print(f'y_Train:{len(y_train)}')\n",
    "print(f'y_Test:{len(y_test)}')"
   ]
  },
  {
   "cell_type": "code",
   "execution_count": 76,
   "id": "57629cd8",
   "metadata": {
    "scrolled": true
   },
   "outputs": [
    {
     "data": {
      "text/html": [
       "<div>\n",
       "<style scoped>\n",
       "    .dataframe tbody tr th:only-of-type {\n",
       "        vertical-align: middle;\n",
       "    }\n",
       "\n",
       "    .dataframe tbody tr th {\n",
       "        vertical-align: top;\n",
       "    }\n",
       "\n",
       "    .dataframe thead th {\n",
       "        text-align: right;\n",
       "    }\n",
       "</style>\n",
       "<table border=\"1\" class=\"dataframe\">\n",
       "  <thead>\n",
       "    <tr style=\"text-align: right;\">\n",
       "      <th></th>\n",
       "      <th>spm_tokens</th>\n",
       "      <th>mecab_tokens</th>\n",
       "      <th>okt_tokens</th>\n",
       "    </tr>\n",
       "  </thead>\n",
       "  <tbody>\n",
       "    <tr>\n",
       "      <th>110413</th>\n",
       "      <td>[307, 118, 541, 3092, 1715, 1413, 2769, 3530]</td>\n",
       "      <td>[같, 은, 내용, 계속, 반복, 더럽, 게, 질질, 끄, 네]</td>\n",
       "      <td>[같은, 내용, 계속, 반복, 더럽게, 질질, 끄네]</td>\n",
       "    </tr>\n",
       "    <tr>\n",
       "      <th>47980</th>\n",
       "      <td>[447, 3704, 3483, 4296, 3550, 3514, 4194, 549,...</td>\n",
       "      <td>[돌프, 룬드그렌, 나온, 영화, 는, 이, 영화, 하, 고, 응징자, 퍼니셔, 만...</td>\n",
       "      <td>[돌프, 룬드, 그, 렌, 나온, 영화, 는, 이, 영화, 하고, 응징자, 퍼니셔,...</td>\n",
       "    </tr>\n",
       "    <tr>\n",
       "      <th>2510</th>\n",
       "      <td>[4, 154, 754, 705, 2166, 1781]</td>\n",
       "      <td>[이, 영화, 를, 보, 면서, 너무나, 화, 가, 났, 다]</td>\n",
       "      <td>[이, 영화, 를, 보면서, 너무나, 화가, 났다]</td>\n",
       "    </tr>\n",
       "    <tr>\n",
       "      <th>26772</th>\n",
       "      <td>[2646, 96, 55, 206, 1319, 150, 3686, 1758, 348...</td>\n",
       "      <td>[가볍, 게, 볼, 수, 있, 는, 그러나, 결코, 가볍, 지, 않, 은, 영화]</td>\n",
       "      <td>[가볍게, 볼, 수, 있는, 그러나, 결코, 가볍지, 않은, 영화]</td>\n",
       "    </tr>\n",
       "    <tr>\n",
       "      <th>125705</th>\n",
       "      <td>[1502, 360, 660, 177, 3549, 97, 3915, 3722, 21...</td>\n",
       "      <td>[재미있, 어요, 볼, 만, 해요, 편안, 하, 게, 즐길, 수, 있, 는, 영화]</td>\n",
       "      <td>[재미있어요, 볼, 만해, 요, 편안하게, 즐길수있는, 영화]</td>\n",
       "    </tr>\n",
       "  </tbody>\n",
       "</table>\n",
       "</div>"
      ],
      "text/plain": [
       "                                               spm_tokens  \\\n",
       "110413      [307, 118, 541, 3092, 1715, 1413, 2769, 3530]   \n",
       "47980   [447, 3704, 3483, 4296, 3550, 3514, 4194, 549,...   \n",
       "2510                       [4, 154, 754, 705, 2166, 1781]   \n",
       "26772   [2646, 96, 55, 206, 1319, 150, 3686, 1758, 348...   \n",
       "125705  [1502, 360, 660, 177, 3549, 97, 3915, 3722, 21...   \n",
       "\n",
       "                                             mecab_tokens  \\\n",
       "110413                [같, 은, 내용, 계속, 반복, 더럽, 게, 질질, 끄, 네]   \n",
       "47980   [돌프, 룬드그렌, 나온, 영화, 는, 이, 영화, 하, 고, 응징자, 퍼니셔, 만...   \n",
       "2510                   [이, 영화, 를, 보, 면서, 너무나, 화, 가, 났, 다]   \n",
       "26772       [가볍, 게, 볼, 수, 있, 는, 그러나, 결코, 가볍, 지, 않, 은, 영화]   \n",
       "125705     [재미있, 어요, 볼, 만, 해요, 편안, 하, 게, 즐길, 수, 있, 는, 영화]   \n",
       "\n",
       "                                               okt_tokens  \n",
       "110413                      [같은, 내용, 계속, 반복, 더럽게, 질질, 끄네]  \n",
       "47980   [돌프, 룬드, 그, 렌, 나온, 영화, 는, 이, 영화, 하고, 응징자, 퍼니셔,...  \n",
       "2510                         [이, 영화, 를, 보면서, 너무나, 화가, 났다]  \n",
       "26772               [가볍게, 볼, 수, 있는, 그러나, 결코, 가볍지, 않은, 영화]  \n",
       "125705                 [재미있어요, 볼, 만해, 요, 편안하게, 즐길수있는, 영화]  "
      ]
     },
     "execution_count": 76,
     "metadata": {},
     "output_type": "execute_result"
    }
   ],
   "source": [
    "X_train[:5]"
   ]
  },
  {
   "cell_type": "code",
   "execution_count": 77,
   "id": "1e4242f3",
   "metadata": {},
   "outputs": [
    {
     "data": {
      "text/html": [
       "<div>\n",
       "<style scoped>\n",
       "    .dataframe tbody tr th:only-of-type {\n",
       "        vertical-align: middle;\n",
       "    }\n",
       "\n",
       "    .dataframe tbody tr th {\n",
       "        vertical-align: top;\n",
       "    }\n",
       "\n",
       "    .dataframe thead th {\n",
       "        text-align: right;\n",
       "    }\n",
       "</style>\n",
       "<table border=\"1\" class=\"dataframe\">\n",
       "  <thead>\n",
       "    <tr style=\"text-align: right;\">\n",
       "      <th></th>\n",
       "      <th>spm_tokens</th>\n",
       "      <th>mecab_tokens</th>\n",
       "      <th>okt_tokens</th>\n",
       "    </tr>\n",
       "  </thead>\n",
       "  <tbody>\n",
       "    <tr>\n",
       "      <th>77550</th>\n",
       "      <td>[1452]</td>\n",
       "      <td>[재밌, 네요]</td>\n",
       "      <td>[재밌네요]</td>\n",
       "    </tr>\n",
       "    <tr>\n",
       "      <th>116669</th>\n",
       "      <td>[2409, 3361, 2409, 3361, 2409, 3361]</td>\n",
       "      <td>[사랑, 과, 영혼, 사랑, 과, 영혼, 사랑, 과, 영혼]</td>\n",
       "      <td>[사랑, 과, 영혼, 사랑, 과, 영혼, 사랑, 과, 영혼]</td>\n",
       "    </tr>\n",
       "    <tr>\n",
       "      <th>40271</th>\n",
       "      <td>[1944, 3500, 880, 2696, 1838, 446, 556, 2077, ...</td>\n",
       "      <td>[여성, 의, 입장, 에서, 바라보, 는, 잔잔, 하, 면서, 도, 기분, 이, 묘...</td>\n",
       "      <td>[여성, 의, 입장, 에서, 바라보는, 잔잔하면서도, 기분, 이, 묘, 해지는, 느낌]</td>\n",
       "    </tr>\n",
       "    <tr>\n",
       "      <th>57082</th>\n",
       "      <td>[1260, 1708, 2216, 349, 1976, 3, 2119, 998, 22...</td>\n",
       "      <td>[진정, 한, 사랑, 을, 알, 아, 가, 는, 성장, 영화, 다소, 충격, 적, ...</td>\n",
       "      <td>[진정한, 사랑, 을, 알아가는, 성장, 영화, 다소, 충격, 적, 이나, 두, 배...</td>\n",
       "    </tr>\n",
       "    <tr>\n",
       "      <th>74094</th>\n",
       "      <td>[292, 1300, 21, 3281]</td>\n",
       "      <td>[여자, 주인공, 너무, 멋있, 다]</td>\n",
       "      <td>[여자, 주인공, 너무, 멋있다]</td>\n",
       "    </tr>\n",
       "  </tbody>\n",
       "</table>\n",
       "</div>"
      ],
      "text/plain": [
       "                                               spm_tokens  \\\n",
       "77550                                              [1452]   \n",
       "116669               [2409, 3361, 2409, 3361, 2409, 3361]   \n",
       "40271   [1944, 3500, 880, 2696, 1838, 446, 556, 2077, ...   \n",
       "57082   [1260, 1708, 2216, 349, 1976, 3, 2119, 998, 22...   \n",
       "74094                               [292, 1300, 21, 3281]   \n",
       "\n",
       "                                             mecab_tokens  \\\n",
       "77550                                            [재밌, 네요]   \n",
       "116669                  [사랑, 과, 영혼, 사랑, 과, 영혼, 사랑, 과, 영혼]   \n",
       "40271   [여성, 의, 입장, 에서, 바라보, 는, 잔잔, 하, 면서, 도, 기분, 이, 묘...   \n",
       "57082   [진정, 한, 사랑, 을, 알, 아, 가, 는, 성장, 영화, 다소, 충격, 적, ...   \n",
       "74094                                [여자, 주인공, 너무, 멋있, 다]   \n",
       "\n",
       "                                               okt_tokens  \n",
       "77550                                              [재밌네요]  \n",
       "116669                  [사랑, 과, 영혼, 사랑, 과, 영혼, 사랑, 과, 영혼]  \n",
       "40271    [여성, 의, 입장, 에서, 바라보는, 잔잔하면서도, 기분, 이, 묘, 해지는, 느낌]  \n",
       "57082   [진정한, 사랑, 을, 알아가는, 성장, 영화, 다소, 충격, 적, 이나, 두, 배...  \n",
       "74094                                  [여자, 주인공, 너무, 멋있다]  "
      ]
     },
     "execution_count": 77,
     "metadata": {},
     "output_type": "execute_result"
    }
   ],
   "source": [
    "X_test[:5]"
   ]
  },
  {
   "cell_type": "code",
   "execution_count": 78,
   "id": "2a53ca21",
   "metadata": {},
   "outputs": [],
   "source": [
    "from keras.preprocessing.text import Tokenizer\n",
    "from keras.preprocessing.sequence import pad_sequences\n",
    "\n",
    "# 정수인코딩 위한 토크나이저 생성\n",
    "tokenizer_spm = Tokenizer()\n",
    "tokenizer_mecab = Tokenizer()\n",
    "tokenizer_okt = Tokenizer()\n",
    "\n",
    "# 피처 데이터 학습\n",
    "tokenizer_mecab.fit_on_texts(X_train['mecab_tokens'])\n",
    "tokenizer_okt.fit_on_texts(X_train['okt_tokens'])\n",
    "\n",
    "# train_Data\n",
    "# 정수인코딩\n",
    "X_train_spm_indices = X_train['spm_tokens']\n",
    "X_train_mecab_indices = tokenizer_mecab.texts_to_sequences(X_train['mecab_tokens'])\n",
    "X_train_okt_indices = tokenizer_okt.texts_to_sequences(X_train['okt_tokens'])\n",
    "\n",
    "# 패딩\n",
    "max_seq_length = 172\n",
    "X_train_spm_pad = pad_sequences(X_train_spm_indices, maxlen=max_seq_length, padding='pre')\n",
    "X_train_mecab_pad = pad_sequences(X_train_mecab_indices, maxlen=max_seq_length, padding='pre')\n",
    "X_train_okt_pad = pad_sequences(X_train_okt_indices, maxlen=max_seq_length, padding='pre')\n",
    "\n",
    "# test_data\n",
    "# 정수인코딩\n",
    "X_test_spm_indices = X_test['spm_tokens']\n",
    "X_test_mecab_indices = tokenizer_mecab.texts_to_sequences(X_test['mecab_tokens'])\n",
    "X_test_okt_indices = tokenizer_okt.texts_to_sequences(X_test['okt_tokens'])\n",
    "\n",
    "# 패딩\n",
    "max_seq_length = 172\n",
    "X_test_spm_pad = pad_sequences(X_test_spm_indices, maxlen=max_seq_length, padding='pre')\n",
    "X_test_mecab_pad = pad_sequences(X_test_mecab_indices, maxlen=max_seq_length, padding='pre')\n",
    "X_test_okt_pad = pad_sequences(X_test_okt_indices, maxlen=max_seq_length, padding='pre')\n"
   ]
  },
  {
   "cell_type": "code",
   "execution_count": 79,
   "id": "e75faada",
   "metadata": {},
   "outputs": [
    {
     "data": {
      "text/plain": [
       "array([    0,     0,     0,     0,     0,     0,     0,     0,     0,\n",
       "           0,     0,     0,     0,     0,     0,     0,     0,     0,\n",
       "           0,     0,     0,     0,     0,     0,     0,     0,     0,\n",
       "           0,     0,     0,     0,     0,     0,     0,     0,     0,\n",
       "           0,     0,     0,     0,     0,     0,     0,     0,     0,\n",
       "           0,     0,     0,     0,     0,     0,     0,     0,     0,\n",
       "           0,     0,     0,     0,     0,     0,     0,     0,     0,\n",
       "           0,     0,     0,     0,     0,     0,     0,     0,     0,\n",
       "           0,     0,     0,     0,     0,     0,     0,     0,     0,\n",
       "           0,     0,     0,     0,     0,     0,     0,     0,     0,\n",
       "           0,     0,     0,     0,     0,     0,     0,     0,     0,\n",
       "           0,     0,     0,     0,     0,     0,     0,     0,     0,\n",
       "           0,     0,     0,     0,     0,     0,     0,     0,     0,\n",
       "           0,     0,     0,     0,     0,     0,     0,     0,     0,\n",
       "           0,     0,     0,     0,     0,     0,     0,     0,     0,\n",
       "           0,     0,     0,     0,     0,     0,     0,     0,     0,\n",
       "           0,     0,     0,     0,     0,     0,     0,     0,     0,\n",
       "           0,     0,     0,     0,     0,     0,     0,     0,     0,\n",
       "           0,     0,     0,    88,    60,   245,  1470,   849,   650,\n",
       "       10217], dtype=int32)"
      ]
     },
     "execution_count": 79,
     "metadata": {},
     "output_type": "execute_result"
    }
   ],
   "source": [
    "X_train_okt_pad[0]"
   ]
  },
  {
   "cell_type": "code",
   "execution_count": 80,
   "id": "1728730c",
   "metadata": {},
   "outputs": [
    {
     "name": "stdout",
     "output_type": "stream",
     "text": [
      "train_spm:116945\n",
      "train_mecab:116945\n",
      "train:okt:116945\n",
      "---------------------------\n",
      "test_spm:29237\n",
      "test_mecab:29237\n",
      "test:okt:29237\n",
      "-------------------------\n",
      "y_Train:116945\n",
      "y_Test:29237\n"
     ]
    }
   ],
   "source": [
    "print(f'train_spm:{len(X_train_spm_pad)}')\n",
    "print(f'train_mecab:{len(X_train_mecab_pad)}')\n",
    "print(f'train:okt:{len(X_train_okt_pad)}')\n",
    "print(\"---------------------------\")\n",
    "print(f'test_spm:{len(X_test_spm_pad)}')\n",
    "print(f'test_mecab:{len(X_test_mecab_pad)}')\n",
    "print(f'test:okt:{len(X_test_okt_pad)}')\n",
    "print(\"-------------------------\")\n",
    "print(f'y_Train:{len(y_train)}')\n",
    "print(f'y_Test:{len(y_test)}')"
   ]
  },
  {
   "cell_type": "markdown",
   "id": "b39985bc",
   "metadata": {},
   "source": [
    "## 모델 생성 및 학습"
   ]
  },
  {
   "cell_type": "code",
   "execution_count": 101,
   "id": "e209b207",
   "metadata": {
    "scrolled": false
   },
   "outputs": [],
   "source": [
    "def build_model():\n",
    "    embedding_dim = 100\n",
    "    model = Sequential([\n",
    "        Embedding(input_dim=172, output_dim=embedding_dim, input_length=max_seq_length),\n",
    "        LSTM(units=128),\n",
    "        Dense(units=1, activation='sigmoid')\n",
    "    ])\n",
    "\n",
    "    model.compile(optimizer='rmsprop', loss='binary_crossentropy', metrics=['acc'])\n",
    "    model.summary()\n",
    "    return model\n"
   ]
  },
  {
   "cell_type": "code",
   "execution_count": 102,
   "id": "de1bb92a",
   "metadata": {},
   "outputs": [
    {
     "name": "stdout",
     "output_type": "stream",
     "text": [
      "Model: \"sequential_3\"\n",
      "_________________________________________________________________\n",
      "Layer (type)                 Output Shape              Param #   \n",
      "=================================================================\n",
      "embedding_3 (Embedding)      (None, 172, 100)          17200     \n",
      "_________________________________________________________________\n",
      "lstm_3 (LSTM)                (None, 128)               117248    \n",
      "_________________________________________________________________\n",
      "dense_3 (Dense)              (None, 1)                 129       \n",
      "=================================================================\n",
      "Total params: 134,577\n",
      "Trainable params: 134,577\n",
      "Non-trainable params: 0\n",
      "_________________________________________________________________\n",
      "Model: \"sequential_4\"\n",
      "_________________________________________________________________\n",
      "Layer (type)                 Output Shape              Param #   \n",
      "=================================================================\n",
      "embedding_4 (Embedding)      (None, 172, 100)          17200     \n",
      "_________________________________________________________________\n",
      "lstm_4 (LSTM)                (None, 128)               117248    \n",
      "_________________________________________________________________\n",
      "dense_4 (Dense)              (None, 1)                 129       \n",
      "=================================================================\n",
      "Total params: 134,577\n",
      "Trainable params: 134,577\n",
      "Non-trainable params: 0\n",
      "_________________________________________________________________\n",
      "Model: \"sequential_5\"\n",
      "_________________________________________________________________\n",
      "Layer (type)                 Output Shape              Param #   \n",
      "=================================================================\n",
      "embedding_5 (Embedding)      (None, 172, 100)          17200     \n",
      "_________________________________________________________________\n",
      "lstm_5 (LSTM)                (None, 128)               117248    \n",
      "_________________________________________________________________\n",
      "dense_5 (Dense)              (None, 1)                 129       \n",
      "=================================================================\n",
      "Total params: 134,577\n",
      "Trainable params: 134,577\n",
      "Non-trainable params: 0\n",
      "_________________________________________________________________\n"
     ]
    }
   ],
   "source": [
    "spm_model = build_model()\n",
    "mecab_model = build_model()\n",
    "okt_model = build_model()"
   ]
  },
  {
   "cell_type": "code",
   "execution_count": 103,
   "id": "976f2529",
   "metadata": {},
   "outputs": [
    {
     "data": {
      "text/plain": [
       "116945"
      ]
     },
     "execution_count": 103,
     "metadata": {},
     "output_type": "execute_result"
    }
   ],
   "source": [
    "len(X_train_spm_pad)"
   ]
  },
  {
   "cell_type": "code",
   "execution_count": 104,
   "id": "4375cfd3",
   "metadata": {},
   "outputs": [
    {
     "name": "stdout",
     "output_type": "stream",
     "text": [
      "Epoch 1/200\n",
      "1462/1462 [==============================] - 19s 11ms/step - loss: 0.6410 - acc: 0.6124 - val_loss: 0.6294 - val_acc: 0.6218\n",
      "Epoch 2/200\n",
      "1462/1462 [==============================] - 15s 10ms/step - loss: 0.6261 - acc: 0.6268 - val_loss: 0.6272 - val_acc: 0.6233\n",
      "Epoch 3/200\n",
      "1462/1462 [==============================] - 15s 10ms/step - loss: 0.6224 - acc: 0.6302 - val_loss: 0.6252 - val_acc: 0.6279\n",
      "Epoch 4/200\n",
      "1462/1462 [==============================] - 15s 10ms/step - loss: 0.6201 - acc: 0.6335 - val_loss: 0.6217 - val_acc: 0.6280\n",
      "Epoch 5/200\n",
      "1462/1462 [==============================] - 15s 10ms/step - loss: 0.6179 - acc: 0.6331 - val_loss: 0.6236 - val_acc: 0.6270\n",
      "Epoch 6/200\n",
      "1462/1462 [==============================] - 15s 10ms/step - loss: 0.6165 - acc: 0.6363 - val_loss: 0.6216 - val_acc: 0.6286\n",
      "Epoch 7/200\n",
      "1462/1462 [==============================] - 15s 10ms/step - loss: 0.6148 - acc: 0.6362 - val_loss: 0.6202 - val_acc: 0.6291\n",
      "Epoch 8/200\n",
      "1462/1462 [==============================] - 15s 10ms/step - loss: 0.6128 - acc: 0.6379 - val_loss: 0.6203 - val_acc: 0.6286\n",
      "Epoch 9/200\n",
      "1462/1462 [==============================] - 15s 10ms/step - loss: 0.6109 - acc: 0.6386 - val_loss: 0.6204 - val_acc: 0.6302\n",
      "Epoch 10/200\n",
      "1462/1462 [==============================] - 15s 10ms/step - loss: 0.6092 - acc: 0.6401 - val_loss: 0.6217 - val_acc: 0.6296\n"
     ]
    }
   ],
   "source": [
    "from keras.callbacks import EarlyStopping\n",
    "from keras.callbacks import ModelCheckpoint\n",
    "\n",
    "early_stopping = EarlyStopping(patience=3, monitor='val_loss', restore_best_weights=True)\n",
    "mc = ModelCheckpoint('best_spm.h5', monitor='val_acc', mode='max', verbose=1, save_best_only=True)\n",
    "\n",
    "history_spm = spm_model.fit(X_train_spm_pad, y_train, epochs=200, batch_size=64, validation_split=0.2, callbacks=[early_stopping,])\n"
   ]
  },
  {
   "cell_type": "code",
   "execution_count": 105,
   "id": "83b859b3",
   "metadata": {
    "scrolled": true
   },
   "outputs": [
    {
     "name": "stdout",
     "output_type": "stream",
     "text": [
      "914/914 [==============================] - 4s 4ms/step - loss: 0.6172 - acc: 0.6316\n"
     ]
    },
    {
     "data": {
      "text/plain": [
       "[0.6172171831130981, 0.6315627694129944]"
      ]
     },
     "execution_count": 105,
     "metadata": {},
     "output_type": "execute_result"
    }
   ],
   "source": [
    "spm_model.evaluate(X_test_spm_pad, y_test)"
   ]
  },
  {
   "cell_type": "code",
   "execution_count": 106,
   "id": "e5ad3e16",
   "metadata": {},
   "outputs": [
    {
     "name": "stdout",
     "output_type": "stream",
     "text": [
      "Epoch 1/200\n",
      "1462/1462 [==============================] - 18s 11ms/step - loss: 0.5265 - acc: 0.7228 - val_loss: 0.4952 - val_acc: 0.7374\n",
      "\n",
      "Epoch 00001: val_acc improved from -inf to 0.73740, saving model to best_spm.h5\n",
      "Epoch 2/200\n",
      "1462/1462 [==============================] - 15s 10ms/step - loss: 0.4871 - acc: 0.7442 - val_loss: 0.4831 - val_acc: 0.7461\n",
      "\n",
      "Epoch 00002: val_acc improved from 0.73740 to 0.74612, saving model to best_spm.h5\n",
      "Epoch 3/200\n",
      "1462/1462 [==============================] - 15s 10ms/step - loss: 0.4742 - acc: 0.7532 - val_loss: 0.4826 - val_acc: 0.7508\n",
      "\n",
      "Epoch 00003: val_acc improved from 0.74612 to 0.75082, saving model to best_spm.h5\n",
      "Epoch 4/200\n",
      "1462/1462 [==============================] - 15s 10ms/step - loss: 0.4662 - acc: 0.7591 - val_loss: 0.4819 - val_acc: 0.7493\n",
      "\n",
      "Epoch 00004: val_acc did not improve from 0.75082\n",
      "Epoch 5/200\n",
      "1462/1462 [==============================] - 15s 10ms/step - loss: 0.4583 - acc: 0.7650 - val_loss: 0.4687 - val_acc: 0.7581\n",
      "\n",
      "Epoch 00005: val_acc improved from 0.75082 to 0.75813, saving model to best_spm.h5\n",
      "Epoch 6/200\n",
      "1462/1462 [==============================] - 15s 10ms/step - loss: 0.4504 - acc: 0.7702 - val_loss: 0.4630 - val_acc: 0.7603\n",
      "\n",
      "Epoch 00006: val_acc improved from 0.75813 to 0.76027, saving model to best_spm.h5\n",
      "Epoch 7/200\n",
      "1462/1462 [==============================] - 15s 10ms/step - loss: 0.4423 - acc: 0.7742 - val_loss: 0.4528 - val_acc: 0.7671\n",
      "\n",
      "Epoch 00007: val_acc improved from 0.76027 to 0.76707, saving model to best_spm.h5\n",
      "Epoch 8/200\n",
      "1462/1462 [==============================] - 15s 10ms/step - loss: 0.4337 - acc: 0.7799 - val_loss: 0.4547 - val_acc: 0.7651\n",
      "\n",
      "Epoch 00008: val_acc did not improve from 0.76707\n",
      "Epoch 9/200\n",
      "1462/1462 [==============================] - 15s 10ms/step - loss: 0.4260 - acc: 0.7843 - val_loss: 0.4590 - val_acc: 0.7610\n",
      "\n",
      "Epoch 00009: val_acc did not improve from 0.76707\n",
      "Epoch 10/200\n",
      "1462/1462 [==============================] - 15s 10ms/step - loss: 0.4183 - acc: 0.7888 - val_loss: 0.4579 - val_acc: 0.7696\n",
      "\n",
      "Epoch 00010: val_acc improved from 0.76707 to 0.76959, saving model to best_spm.h5\n",
      "914/914 [==============================] - 4s 4ms/step - loss: 0.4531 - acc: 0.7671\n"
     ]
    },
    {
     "data": {
      "text/plain": [
       "[0.45314180850982666, 0.7671443819999695]"
      ]
     },
     "execution_count": 106,
     "metadata": {},
     "output_type": "execute_result"
    }
   ],
   "source": [
    "history_mecab = mecab_model.fit(X_train_mecab_pad, y_train, epochs=200, batch_size=64, validation_split=0.2, callbacks=[early_stopping, mc])\n",
    "mecab_model.evaluate(X_test_mecab_pad, y_test)\n"
   ]
  },
  {
   "cell_type": "code",
   "execution_count": 107,
   "id": "a7fd187c",
   "metadata": {},
   "outputs": [
    {
     "name": "stdout",
     "output_type": "stream",
     "text": [
      "Epoch 1/200\n",
      "1462/1462 [==============================] - 18s 11ms/step - loss: 0.5704 - acc: 0.6832 - val_loss: 0.5550 - val_acc: 0.6946\n",
      "\n",
      "Epoch 00001: val_acc did not improve from 0.76959\n",
      "Epoch 2/200\n",
      "1462/1462 [==============================] - 15s 10ms/step - loss: 0.5500 - acc: 0.6984 - val_loss: 0.5430 - val_acc: 0.7064\n",
      "\n",
      "Epoch 00002: val_acc did not improve from 0.76959\n",
      "Epoch 3/200\n",
      "1462/1462 [==============================] - 15s 10ms/step - loss: 0.5442 - acc: 0.7006 - val_loss: 0.5421 - val_acc: 0.7045\n",
      "\n",
      "Epoch 00003: val_acc did not improve from 0.76959\n",
      "Epoch 4/200\n",
      "1462/1462 [==============================] - 15s 10ms/step - loss: 0.5397 - acc: 0.7041 - val_loss: 0.5385 - val_acc: 0.7058\n",
      "\n",
      "Epoch 00004: val_acc did not improve from 0.76959\n",
      "Epoch 5/200\n",
      "1462/1462 [==============================] - 15s 10ms/step - loss: 0.5355 - acc: 0.7055 - val_loss: 0.5372 - val_acc: 0.7056\n",
      "\n",
      "Epoch 00005: val_acc did not improve from 0.76959\n",
      "Epoch 6/200\n",
      "1462/1462 [==============================] - 15s 10ms/step - loss: 0.5316 - acc: 0.7100 - val_loss: 0.5366 - val_acc: 0.7109\n",
      "\n",
      "Epoch 00006: val_acc did not improve from 0.76959\n",
      "Epoch 7/200\n",
      "1462/1462 [==============================] - 15s 10ms/step - loss: 0.5271 - acc: 0.7132 - val_loss: 0.5331 - val_acc: 0.7132\n",
      "\n",
      "Epoch 00007: val_acc did not improve from 0.76959\n",
      "Epoch 8/200\n",
      "1462/1462 [==============================] - 15s 10ms/step - loss: 0.5220 - acc: 0.7164 - val_loss: 0.5309 - val_acc: 0.7140\n",
      "\n",
      "Epoch 00008: val_acc did not improve from 0.76959\n",
      "Epoch 9/200\n",
      "1462/1462 [==============================] - 15s 10ms/step - loss: 0.5166 - acc: 0.7211 - val_loss: 0.5294 - val_acc: 0.7160\n",
      "\n",
      "Epoch 00009: val_acc did not improve from 0.76959\n",
      "Epoch 10/200\n",
      "1462/1462 [==============================] - 15s 10ms/step - loss: 0.5114 - acc: 0.7241 - val_loss: 0.5292 - val_acc: 0.7108\n",
      "\n",
      "Epoch 00010: val_acc did not improve from 0.76959\n",
      "Epoch 11/200\n",
      "1462/1462 [==============================] - 15s 10ms/step - loss: 0.5055 - acc: 0.7271 - val_loss: 0.5307 - val_acc: 0.7144\n",
      "\n",
      "Epoch 00011: val_acc did not improve from 0.76959\n",
      "Epoch 12/200\n",
      "1462/1462 [==============================] - 15s 10ms/step - loss: 0.4992 - acc: 0.7324 - val_loss: 0.5329 - val_acc: 0.7135\n",
      "\n",
      "Epoch 00012: val_acc did not improve from 0.76959\n",
      "Epoch 13/200\n",
      "1462/1462 [==============================] - 15s 10ms/step - loss: 0.4915 - acc: 0.7383 - val_loss: 0.5370 - val_acc: 0.7136\n",
      "\n",
      "Epoch 00013: val_acc did not improve from 0.76959\n",
      "914/914 [==============================] - 4s 4ms/step - loss: 0.5336 - acc: 0.7102\n"
     ]
    },
    {
     "data": {
      "text/plain": [
       "[0.5336432456970215, 0.7101959586143494]"
      ]
     },
     "execution_count": 107,
     "metadata": {},
     "output_type": "execute_result"
    }
   ],
   "source": [
    "history_okt = okt_model.fit(X_train_okt_pad, y_train, epochs=200, batch_size=64, validation_split=0.2, callbacks=[early_stopping, mc])\n",
    "okt_model.evaluate(X_test_okt_pad, y_test)\n"
   ]
  },
  {
   "cell_type": "code",
   "execution_count": 108,
   "id": "206bae9d",
   "metadata": {},
   "outputs": [],
   "source": [
    "def eval_model(model, name, X_test_pad):    \n",
    "    y_pred = model.predict(X_test_pad)\n",
    "    y_pred = [1 if val > 0.5 else 0 for val in y_pred]\n",
    "    accuracy = accuracy_score(y_test, y_pred)\n",
    "    print(f\"Accuracy of {name} : {accuracy:.4f}\")"
   ]
  },
  {
   "cell_type": "code",
   "execution_count": 109,
   "id": "25cebc5a",
   "metadata": {
    "scrolled": true
   },
   "outputs": [
    {
     "name": "stdout",
     "output_type": "stream",
     "text": [
      "Accuracy of spm : 0.6316\n",
      "Accuracy of okt : 0.7102\n",
      "Accuracy of mecab : 0.7671\n"
     ]
    }
   ],
   "source": [
    "eval_model(spm_model, \"spm\", X_test_spm_pad)\n",
    "eval_model(okt_model, \"okt\", X_test_okt_pad)\n",
    "eval_model(mecab_model, \"mecab\", X_test_mecab_pad)"
   ]
  },
  {
   "cell_type": "markdown",
   "id": "8561bfd3",
   "metadata": {},
   "source": [
    "mecab이 0.7407로 testset기준 성능이 제일 높다"
   ]
  },
  {
   "cell_type": "code",
   "execution_count": 110,
   "id": "73407770",
   "metadata": {},
   "outputs": [
    {
     "data": {
      "text/plain": [
       "dict_keys(['loss', 'acc', 'val_loss', 'val_acc'])"
      ]
     },
     "execution_count": 110,
     "metadata": {},
     "output_type": "execute_result"
    }
   ],
   "source": [
    "history_mecab.history.keys()"
   ]
  },
  {
   "cell_type": "code",
   "execution_count": 111,
   "id": "8b300d80",
   "metadata": {
    "scrolled": true
   },
   "outputs": [
    {
     "data": {
      "image/png": "[encoded data removed]",
      "text/plain": [
       "<Figure size 864x360 with 2 Axes>"
      ]
     },
     "metadata": {
      "needs_background": "light"
     },
     "output_type": "display_data"
    }
   ],
   "source": [
    "import matplotlib.pyplot as plt\n",
    "\n",
    "# 모델 히스토리에서 'val_loss'와 'val_accuracy' 값 추출\n",
    "model1_history = history_spm.history\n",
    "model2_history = history_mecab.history\n",
    "model3_history = history_okt.history\n",
    "\n",
    "# epoch 수 (x축) 생성\n",
    "epochs_model1 = range(1, len(model1_history['val_loss']) + 1)\n",
    "epochs_model2 = range(1, len(model2_history['val_loss']) + 1)\n",
    "epochs_model3 = range(1, len(model3_history['val_loss']) + 1)\n",
    "\n",
    "# 그래프 크기 설정\n",
    "plt.figure(figsize=(12, 5))\n",
    "\n",
    "# 첫 번째 subplot: Validation Loss\n",
    "plt.subplot(1, 2, 1)\n",
    "plt.plot(epochs_model1, model1_history['val_loss'], '--b', label='spm_val_loss')\n",
    "plt.plot(epochs_model2, model2_history['val_loss'], '--g', label='mecab_val_loss')\n",
    "plt.plot(epochs_model3, model3_history['val_loss'], '--r', label='okt_val_loss')\n",
    "plt.plot(epochs_model1, model1_history['loss'], 'b', label='spm_loss')\n",
    "plt.plot(epochs_model2, model2_history['loss'], 'g', label='mecab_loss')\n",
    "plt.plot(epochs_model3, model3_history['loss'], 'r', label='okt_loss')\n",
    "plt.title('Validation Loss Comparison')\n",
    "plt.xlabel('Epochs')\n",
    "plt.ylabel('Validation Loss')\n",
    "plt.legend()\n",
    "\n",
    "# 두 번째 subplot: Validation Accuracy\n",
    "plt.subplot(1, 2, 2)\n",
    "plt.plot(epochs_model1, model1_history['val_acc'], '--b', label='spm_val_accuracy')\n",
    "plt.plot(epochs_model2, model2_history['val_acc'], '--g', label='mecab_val_accuracy')\n",
    "plt.plot(epochs_model3, model3_history['val_acc'], '--r', label='okt_val_accuracy')\n",
    "plt.plot(epochs_model1, model1_history['acc'], 'b', label='spm_accuracy')\n",
    "plt.plot(epochs_model2, model2_history['acc'], 'g', label='mecab_accuracy')\n",
    "plt.plot(epochs_model3, model3_history['acc'], 'r', label='okt_accuracy')\n",
    "plt.title('Validation Accuracy Comparison')\n",
    "plt.xlabel('Epochs')\n",
    "plt.ylabel('Validation Accuracy')\n",
    "plt.legend()\n",
    "\n",
    "# 그래프 보여주기\n",
    "plt.tight_layout()\n",
    "plt.show()\n"
   ]
  },
  {
   "cell_type": "code",
   "execution_count": null,
   "id": "54fb5725",
   "metadata": {},
   "outputs": [],
   "source": []
  },
  {
   "cell_type": "code",
   "execution_count": null,
   "id": "f91bc221",
   "metadata": {},
   "outputs": [],
   "source": []
  }
 ],
 "metadata": {
  "kernelspec": {
   "display_name": "Python 3 (ipykernel)",
   "language": "python",
   "name": "python3"
  },
  "language_info": {
   "codemirror_mode": {
    "name": "ipython",
    "version": 3
   },
   "file_extension": ".py",
   "mimetype": "text/x-python",
   "name": "python",
   "nbconvert_exporter": "python",
   "pygments_lexer": "ipython3",
   "version": "3.9.7"
  }
 },
 "nbformat": 4,
 "nbformat_minor": 5
}
